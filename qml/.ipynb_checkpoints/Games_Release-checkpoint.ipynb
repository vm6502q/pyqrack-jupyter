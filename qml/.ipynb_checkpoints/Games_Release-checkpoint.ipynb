{
 "cells": [
  {
   "cell_type": "markdown",
   "id": "096b2843",
   "metadata": {},
   "source": [
    "# Games Release data set (with PyQrack quantum associative memory)"
   ]
  },
  {
   "cell_type": "markdown",
   "id": "caa3b338",
   "metadata": {},
   "source": [
    "\"PyQrack\" is a pure Python language standard wrapper for the (C++11) Qrack quantum computer simulator library. PyQrack exposes a \"quantum neuron\" called \"`QrackNeuron`.\" (Its API reference is [here](https://pyqrack.readthedocs.io/en/latest/autoapi/pyqrack/qrack_neuron/index.html).) We'd like to model a simple data set to achieve a proof-of-concept of using `QrackNeuron`."
   ]
  },
  {
   "cell_type": "markdown",
   "id": "09a3c85f",
   "metadata": {},
   "source": [
    "First, load the data set into a `pandas` dataframe."
   ]
  },
  {
   "cell_type": "code",
   "execution_count": 1,
   "id": "e0812661",
   "metadata": {},
   "outputs": [
    {
     "name": "stdout",
     "output_type": "stream",
     "text": [
      "   peak_players  positive_reviews  negative_reviews  rating\n",
      "0          4529             19807               227   96.39\n",
      "1        168191             61752              1616   95.75\n",
      "2         15543             12643               213   95.54\n",
      "3          1415             11717               209   95.39\n",
      "4          6132             14152               324   95.09\n",
      "Number of observations:  66427\n"
     ]
    }
   ],
   "source": [
    "import pandas as pd\n",
    "\n",
    "df = pd.read_csv('games-release/games-release-ALL.csv')\n",
    "df = df.loc[:, ~df.columns.str.contains('^Unnamed')]\n",
    "\n",
    "df = df.drop(['game', 'link', 'release', 'total_reviews'], axis=1)\n",
    "\n",
    "df['peak_players'] = df['peak_players'].str.replace(',', '').astype(int)\n",
    "df['positive_reviews'] = df['positive_reviews'].str.replace(',', '').astype(int)\n",
    "df['negative_reviews'] = df['negative_reviews'].str.replace(',', '').astype(int)\n",
    "df['rating'] = df['rating'].str.replace('%', '').astype(float)\n",
    "\n",
    "print(df.head())\n",
    "print(\"Number of observations: \", df.shape[0])"
   ]
  },
  {
   "cell_type": "markdown",
   "id": "1fb821bd",
   "metadata": {},
   "source": [
    "Separate the dependent and independent variables."
   ]
  },
  {
   "cell_type": "code",
   "execution_count": 2,
   "id": "0fadf4af",
   "metadata": {},
   "outputs": [],
   "source": [
    "keys = ['peak_players', 'positive_reviews', 'negative_reviews']\n",
    "dep_key = 'rating'\n",
    "\n",
    "X = df[keys]\n",
    "y = df[dep_key] "
   ]
  },
  {
   "cell_type": "markdown",
   "id": "7e209297",
   "metadata": {},
   "source": [
    "Ideally, we'd like to make an improvement on the goodness-of-fit of multiple linear regression, with PyQrack's `QrackNeuron`. At the very least, to show that `QrackNeuron` can be viable for modeling a data set, we'd like to show somehwat comparable performance to multiple linear regression."
   ]
  },
  {
   "cell_type": "markdown",
   "id": "d868bcf4",
   "metadata": {},
   "source": [
    "PyQrack's `QrackNeuron` can only work with discrete, binary data. To model this or any data set, we have to reduce it to a simple, discrete, binary form.\n",
    "\n",
    "We'll try to model the data set via \"(quantum) associative memory.\" There are several statistical considerations, to avoid overfit.\n",
    "\n",
    "Firstly, each possible discretized independent variable permutation input trains an independent parameter of a `QrackNeuron`. If a `QrackNeuron` has never seen a specific, exact permutation of input bits, it has no information about them at all, so its prediction defaults to \"maximal superposition,\" (i.e. a totally random guess). Therefore, we'd like to keep our number of possible distinct inputs significantly fewer in number than our observation rows, when we discretize our indepedent variables.\n",
    "\n",
    "Satisfying the first consideration, we secondly discretize our dependent variable to have exactly as many possible discrete values as possible distinct inputs. (We guess that this loses the least information about the dependent variable, while we still have enough observations to fully train our network.)\n",
    "\n",
    "Thirdly, our learning rate should should just barely \"saturate\" the learned parameters of our (quantum) associative memory. As a learning volatility parameter (\"`eta`\") of `1/2` \"fully trains\" one parameter of a `QrackNeuron` between input qubits and output qubit, on average, this implies that we might set `eta` to `1/2` times `2` to the power of input qubits (summed across all predictors) divided by the number of observations. "
   ]
  },
  {
   "cell_type": "markdown",
   "id": "ed4cb233",
   "metadata": {},
   "source": [
    "Start by splitting the data set into equal halves for training and validation."
   ]
  },
  {
   "cell_type": "code",
   "execution_count": 3,
   "id": "f5d250cf",
   "metadata": {},
   "outputs": [],
   "source": [
    "train=df.sample(frac = 1/2)\n",
    "test=df.drop(train.index)\n",
    "train = train.reset_index(drop=True)\n",
    "test = test.reset_index(drop=True)\n",
    "\n",
    "X = train[keys]\n",
    "y = train[dep_key]\n",
    "\n",
    "X_test = test[keys]\n",
    "y_test = test[dep_key]"
   ]
  },
  {
   "cell_type": "markdown",
   "id": "31f97bd6",
   "metadata": {},
   "source": [
    "At a baseline, our first choice to model this data set might be multiple linear regression."
   ]
  },
  {
   "cell_type": "code",
   "execution_count": 4,
   "id": "ae750490",
   "metadata": {},
   "outputs": [
    {
     "data": {
      "text/html": [
       "<div>\n",
       "<style scoped>\n",
       "    .dataframe tbody tr th:only-of-type {\n",
       "        vertical-align: middle;\n",
       "    }\n",
       "\n",
       "    .dataframe tbody tr th {\n",
       "        vertical-align: top;\n",
       "    }\n",
       "\n",
       "    .dataframe thead th {\n",
       "        text-align: right;\n",
       "    }\n",
       "</style>\n",
       "<table border=\"1\" class=\"dataframe\">\n",
       "  <thead>\n",
       "    <tr style=\"text-align: right;\">\n",
       "      <th></th>\n",
       "      <th>0</th>\n",
       "      <th>1</th>\n",
       "    </tr>\n",
       "  </thead>\n",
       "  <tbody>\n",
       "    <tr>\n",
       "      <th>0</th>\n",
       "      <td>peak_players</td>\n",
       "      <td>0.000061</td>\n",
       "    </tr>\n",
       "    <tr>\n",
       "      <th>1</th>\n",
       "      <td>positive_reviews</td>\n",
       "      <td>0.000045</td>\n",
       "    </tr>\n",
       "    <tr>\n",
       "      <th>2</th>\n",
       "      <td>negative_reviews</td>\n",
       "      <td>-0.000323</td>\n",
       "    </tr>\n",
       "  </tbody>\n",
       "</table>\n",
       "</div>"
      ],
      "text/plain": [
       "                  0         1\n",
       "0      peak_players  0.000061\n",
       "1  positive_reviews  0.000045\n",
       "2  negative_reviews -0.000323"
      ]
     },
     "execution_count": 4,
     "metadata": {},
     "output_type": "execute_result"
    }
   ],
   "source": [
    "from sklearn import linear_model\n",
    "\n",
    "regr = linear_model.LinearRegression()\n",
    "regr.fit(X, y)\n",
    "pd.DataFrame(zip(X.columns, regr.coef_))"
   ]
  },
  {
   "cell_type": "code",
   "execution_count": 5,
   "id": "6d7c5cf4",
   "metadata": {},
   "outputs": [
    {
     "name": "stdout",
     "output_type": "stream",
     "text": [
      "Multiple linear regression training R^2:  0.9557760123761988\n"
     ]
    }
   ],
   "source": [
    "y_pred = regr.predict(X)\n",
    "sst = 0\n",
    "ssr = 0\n",
    "for i in range(len(y_pred)):\n",
    "    sst += y[i] * y[i]\n",
    "    ssr += (y[i] - y_pred[i]) * (y[i] - y_pred[i])\n",
    "\n",
    "print(\"Multiple linear regression training R^2: \", 1 - ssr / sst)"
   ]
  },
  {
   "cell_type": "code",
   "execution_count": 6,
   "id": "f92d8c04",
   "metadata": {},
   "outputs": [
    {
     "name": "stdout",
     "output_type": "stream",
     "text": [
      "Multiple linear regression validation R^2:  0.9565691441192254\n"
     ]
    }
   ],
   "source": [
    "y_pred = regr.predict(X_test)\n",
    "sst = 0\n",
    "ssr = 0\n",
    "for i in range(len(y_pred)):\n",
    "    sst += y_test[i] * y_test[i]\n",
    "    ssr += (y_test[i] - y_pred[i]) * (y_test[i] - y_pred[i])\n",
    "\n",
    "print(\"Multiple linear regression validation R^2: \", 1 - ssr / sst)"
   ]
  },
  {
   "cell_type": "markdown",
   "id": "5bb66bf1",
   "metadata": {},
   "source": [
    "To discretize the data, we split it into as many quantiles as `2` to the power of our number of input qubits."
   ]
  },
  {
   "cell_type": "code",
   "execution_count": 7,
   "id": "59142c86",
   "metadata": {},
   "outputs": [],
   "source": [
    "import numpy as np\n",
    "\n",
    "in_qubit_count = 4\n",
    "\n",
    "in_key_count = len(keys)\n",
    "in_bin_count = 1 << in_qubit_count\n",
    "in_tot_count = in_key_count * in_qubit_count\n",
    "out_qubit_count = in_key_count * in_qubit_count\n",
    "out_bin_count = 1 << out_qubit_count\n",
    "\n",
    "x_bins = []\n",
    "for key in keys:\n",
    "    x_bins.append(np.percentile(X[key], np.arange(0, 100, 100 / in_bin_count)))\n",
    "y_bins = np.percentile(y, np.arange(0, 100, 100 / out_bin_count))"
   ]
  },
  {
   "cell_type": "code",
   "execution_count": 8,
   "id": "616777a1",
   "metadata": {},
   "outputs": [
    {
     "name": "stdout",
     "output_type": "stream",
     "text": [
      "[array([0.000e+00, 1.000e+00, 2.000e+00, 2.000e+00, 3.000e+00, 3.000e+00,\n",
      "       4.000e+00, 5.000e+00, 7.000e+00, 9.000e+00, 1.400e+01, 2.300e+01,\n",
      "       4.600e+01, 1.080e+02, 2.780e+02, 1.107e+03]), array([0.000e+00, 1.000e+00, 2.000e+00, 3.000e+00, 5.000e+00, 7.000e+00,\n",
      "       1.000e+01, 1.400e+01, 1.900e+01, 2.600e+01, 3.900e+01, 5.900e+01,\n",
      "       9.900e+01, 1.900e+02, 4.260e+02, 1.461e+03]), array([  0.   ,   0.   ,   0.   ,   1.   ,   1.   ,   2.   ,   3.   ,\n",
      "         4.   ,   6.   ,   8.   ,  12.   ,  18.   ,  29.   ,  50.   ,\n",
      "       103.375, 298.   ])]\n"
     ]
    }
   ],
   "source": [
    "print(x_bins)"
   ]
  },
  {
   "cell_type": "code",
   "execution_count": 9,
   "id": "a03348e2",
   "metadata": {},
   "outputs": [
    {
     "name": "stdout",
     "output_type": "stream",
     "text": [
      "[16.39       20.54108643 21.40125977 ... 95.34674072 95.74130859\n",
      " 96.09935791]\n"
     ]
    }
   ],
   "source": [
    "print(y_bins)"
   ]
  },
  {
   "cell_type": "markdown",
   "id": "6f9dc351",
   "metadata": {},
   "source": [
    "Once we have our quantiles, we bin our indepedent training and validation data."
   ]
  },
  {
   "cell_type": "code",
   "execution_count": 10,
   "id": "bd252b88",
   "metadata": {},
   "outputs": [],
   "source": [
    "def discretize_x(X):\n",
    "    xd = []\n",
    "    for i in X.index:\n",
    "        xd_row = []\n",
    "        for ki in range(len(keys)):\n",
    "            key = keys[ki]\n",
    "            bn = in_bin_count\n",
    "            offset = 0\n",
    "            while bn > 1:\n",
    "                bn =  bn // 2\n",
    "                b = bn + offset\n",
    "                if X[key][i] < x_bins[ki][b - 1]:\n",
    "                    xd_row.append(False)\n",
    "                else:\n",
    "                    xd_row.append(True)\n",
    "                    offset += bn\n",
    "        xd.append(xd_row)\n",
    "    return xd\n",
    "\n",
    "xd = discretize_x(X)\n",
    "xd_test = discretize_x(X_test)"
   ]
  },
  {
   "cell_type": "markdown",
   "id": "c0e0b219",
   "metadata": {},
   "source": [
    "We do the same for our dependent data."
   ]
  },
  {
   "cell_type": "code",
   "execution_count": 11,
   "id": "df115368",
   "metadata": {},
   "outputs": [],
   "source": [
    "def discretize_y(y):\n",
    "    yd = []\n",
    "    for i in y.index:\n",
    "        yd_row = []\n",
    "        bn = out_bin_count\n",
    "        offset = 0\n",
    "        while bn > 0:\n",
    "            bn =  bn // 2\n",
    "            b = bn + offset\n",
    "            if y[i] < y_bins[b - 1]:\n",
    "                yd_row.append(False)\n",
    "            else:\n",
    "                yd_row.append(True)\n",
    "                offset += bn\n",
    "        yd.append(yd_row)\n",
    "    return yd\n",
    "\n",
    "yd = discretize_y(y)\n",
    "yd_test = discretize_y(y_test)"
   ]
  },
  {
   "cell_type": "markdown",
   "id": "a3fe8979",
   "metadata": {},
   "source": [
    "We're ready to train our associative memory! (Note that it offers us no particular advantage, in this case, that our \"neurons\" are based on simulated quantum computational gates, though it is possible to predict in \"superposition\" of many rows at once.)"
   ]
  },
  {
   "cell_type": "code",
   "execution_count": 12,
   "id": "18c946eb",
   "metadata": {},
   "outputs": [
    {
     "name": "stdout",
     "output_type": "stream",
     "text": [
      "Epoch  33214  out of  33214\n"
     ]
    }
   ],
   "source": [
    "from IPython.display import clear_output\n",
    "from pyqrack import QrackSimulator, QrackNeuron\n",
    "\n",
    "eta = (1 / 2) * (out_bin_count / y.shape[0])\n",
    "\n",
    "input_power = 1 << in_tot_count\n",
    "input_indices = list(range(in_tot_count))\n",
    "qsim = QrackSimulator(in_tot_count + out_qubit_count)\n",
    "\n",
    "output_layer = []\n",
    "for i in range(out_qubit_count):\n",
    "    output_layer.append(QrackNeuron(qsim, input_indices, in_tot_count + i))\n",
    "\n",
    "# Train the network to associate powers of 2 with their log2()\n",
    "print(\"Learning...\")\n",
    "for i in range(len(xd)):\n",
    "    perm = xd[i]\n",
    "    res = yd[i]\n",
    "\n",
    "    if i > 0:\n",
    "        clear_output(wait=True)\n",
    "    print(\"Epoch \", (i + 1), \" out of \", len(xd))\n",
    "    for j in range(out_qubit_count):\n",
    "        qsim.reset_all()\n",
    "        for k in range(in_tot_count):\n",
    "            if perm[k]:\n",
    "                qsim.x(k)\n",
    "        for k in range(out_qubit_count):\n",
    "            if res[k]:\n",
    "                qsim.x(in_tot_count + k)\n",
    "        output_layer[j].learn_permutation(eta, res[j] == 1)"
   ]
  },
  {
   "cell_type": "markdown",
   "id": "df3b173a",
   "metadata": {},
   "source": [
    "Let's use our neural net, trained on half the data, to try to predict the left-out half of data!"
   ]
  },
  {
   "cell_type": "code",
   "execution_count": 13,
   "id": "09e77fd5",
   "metadata": {},
   "outputs": [
    {
     "name": "stdout",
     "output_type": "stream",
     "text": [
      "Predicting  33213  out of  33214\n"
     ]
    }
   ],
   "source": [
    "print(\"Should associate each input with its trained output...\")\n",
    "sum_sqr_tot = 0\n",
    "sum_sqr_res = 0\n",
    "for i in range(len(xd_test)):\n",
    "    perm = xd_test[i]\n",
    "\n",
    "    qsim.reset_all()\n",
    "    for j in range(in_tot_count):\n",
    "        if perm[j]:\n",
    "            qsim.x(j)\n",
    "    for j in range(out_qubit_count):\n",
    "        output_layer[j].predict()\n",
    "\n",
    "    bn = out_bin_count\n",
    "    offset = 0\n",
    "    for j in range(out_qubit_count):\n",
    "        bn = bn // 2\n",
    "        if qsim.m(in_tot_count + j):\n",
    "            offset += bn \n",
    "    pred = y_bins[offset]\n",
    "    \n",
    "    if i > 0:\n",
    "        clear_output(wait=True)\n",
    "    print(\"Predicting \", (i + 1), \" out of \", len(xd))\n",
    "\n",
    "    # print(\"Row: \", str(i))\n",
    "    # print(\"Input: \", str(perm))\n",
    "    # print(\"Prediction: \", str(pred))\n",
    "    # print(\"Observed: \", str(y_test[i]))\n",
    "    # print(\"Residual: \", str(y_test[i] - pred))\n",
    "    # print()\n",
    "\n",
    "    sum_sqr_tot += y_test[i] * y_test[i]\n",
    "    sum_sqr_res += (y_test[i] - pred) * (y_test[i] - pred)"
   ]
  },
  {
   "cell_type": "markdown",
   "id": "91ff89b4",
   "metadata": {},
   "source": [
    "How does this compare to the training R^2 of multiple linear regression?"
   ]
  },
  {
   "cell_type": "code",
   "execution_count": 14,
   "id": "83c89e33",
   "metadata": {},
   "outputs": [
    {
     "name": "stdout",
     "output_type": "stream",
     "text": [
      "QrackNeuron Validation R^2:  0.9855655982535823\n",
      "Multiple linear regression validation R^2:  0.9565691441192254\n",
      "QrackNeuron quantum associative memory outperfomed multiple linear regression.\n"
     ]
    }
   ],
   "source": [
    "print(\"QrackNeuron Validation R^2: \", 1 - sum_sqr_res / sum_sqr_tot)\n",
    "print(\"Multiple linear regression validation R^2: \", 1 - ssr / sst)\n",
    "if (1 - sum_sqr_res / sum_sqr_tot) > (1 - ssr / sst):\n",
    "    print(\"QrackNeuron quantum associative memory outperfomed multiple linear regression.\")\n",
    "else:\n",
    "    print(\"Multiple linear regression outperfomed QrackNeuron quantum associative memory.\")"
   ]
  }
 ],
 "metadata": {
  "kernelspec": {
   "display_name": "Python 3 (ipykernel)",
   "language": "python",
   "name": "python3"
  },
  "language_info": {
   "codemirror_mode": {
    "name": "ipython",
    "version": 3
   },
   "file_extension": ".py",
   "mimetype": "text/x-python",
   "name": "python",
   "nbconvert_exporter": "python",
   "pygments_lexer": "ipython3",
   "version": "3.10.6"
  }
 },
 "nbformat": 4,
 "nbformat_minor": 5
}
