{
 "cells": [
  {
   "cell_type": "markdown",
   "id": "11ba7ace",
   "metadata": {
    "papermill": {
     "duration": 0.00629,
     "end_time": "2023-05-06T14:15:33.724667",
     "exception": false,
     "start_time": "2023-05-06T14:15:33.718377",
     "status": "completed"
    },
    "tags": []
   },
   "source": [
    "# Weather time series data set (with PyQrack quantum associative memory)"
   ]
  },
  {
   "cell_type": "markdown",
   "id": "561327b8",
   "metadata": {
    "papermill": {
     "duration": 0.005581,
     "end_time": "2023-05-06T14:15:33.736199",
     "exception": false,
     "start_time": "2023-05-06T14:15:33.730618",
     "status": "completed"
    },
    "tags": []
   },
   "source": [
    "\"PyQrack\" is a pure Python language standard wrapper for the (C++11) Qrack quantum computer simulator library. PyQrack exposes a \"quantum neuron\" called \"`QrackNeuron`.\" (Its API reference is [here](https://pyqrack.readthedocs.io/en/latest/autoapi/pyqrack/qrack_neuron/index.html).) We'd like to model a simple data set to achieve a proof-of-concept of using `QrackNeuron`."
   ]
  },
  {
   "cell_type": "code",
   "execution_count": 1,
   "id": "2e3b16fd",
   "metadata": {
    "execution": {
     "iopub.execute_input": "2023-05-06T14:15:33.751736Z",
     "iopub.status.busy": "2023-05-06T14:15:33.750834Z",
     "iopub.status.idle": "2023-05-06T14:15:46.465965Z",
     "shell.execute_reply": "2023-05-06T14:15:46.464685Z"
    },
    "papermill": {
     "duration": 12.726889,
     "end_time": "2023-05-06T14:15:46.469062",
     "exception": false,
     "start_time": "2023-05-06T14:15:33.742173",
     "status": "completed"
    },
    "tags": []
   },
   "outputs": [],
   "source": [
    "#!pip install pyqrack"
   ]
  },
  {
   "cell_type": "markdown",
   "id": "abd865f4",
   "metadata": {
    "papermill": {
     "duration": 0.006696,
     "end_time": "2023-05-06T14:15:46.482688",
     "exception": false,
     "start_time": "2023-05-06T14:15:46.475992",
     "status": "completed"
    },
    "tags": []
   },
   "source": [
    "First, load the data set into a `pandas` dataframe."
   ]
  },
  {
   "cell_type": "code",
   "execution_count": 2,
   "id": "3eb6ebbc",
   "metadata": {
    "execution": {
     "iopub.execute_input": "2023-05-06T14:15:46.498796Z",
     "iopub.status.busy": "2023-05-06T14:15:46.497549Z",
     "iopub.status.idle": "2023-05-06T14:15:46.967618Z",
     "shell.execute_reply": "2023-05-06T14:15:46.966505Z"
    },
    "papermill": {
     "duration": 0.480497,
     "end_time": "2023-05-06T14:15:46.969853",
     "exception": false,
     "start_time": "2023-05-06T14:15:46.489356",
     "status": "completed"
    },
    "tags": []
   },
   "outputs": [
    {
     "name": "stdout",
     "output_type": "stream",
     "text": [
      "     date   meantemp   humidity  wind_speed  meanpressure\n",
      "0  734869  10.000000  84.500000    0.000000   1015.666667\n",
      "1  734870   7.400000  92.000000    2.980000   1017.800000\n",
      "2  734871   7.166667  87.000000    4.633333   1018.666667\n",
      "3  734872   8.666667  71.333333    1.233333   1017.166667\n",
      "4  734873   6.000000  86.833333    3.700000   1016.500000\n",
      "Number of observations:  1462\n"
     ]
    }
   ],
   "source": [
    "import math\n",
    "import random\n",
    "import numpy as np\n",
    "import pandas as pd\n",
    "\n",
    "train = pd.read_csv('weather/DailyDelhiClimateTrain.csv')\n",
    "train['date'] = pd.to_datetime(train['date'], format='%Y-%m-%d').apply(lambda x:x.toordinal())\n",
    "\n",
    "test = pd.read_csv('weather/DailyDelhiClimateTest.csv')\n",
    "test['date'] = pd.to_datetime(test['date'], format='%Y-%m-%d').apply(lambda x:x.toordinal())\n",
    "\n",
    "print(train.head())\n",
    "print(\"Number of observations: \", train.shape[0])"
   ]
  },
  {
   "cell_type": "markdown",
   "id": "632139d1",
   "metadata": {
    "papermill": {
     "duration": 0.006401,
     "end_time": "2023-05-06T14:15:46.983305",
     "exception": false,
     "start_time": "2023-05-06T14:15:46.976904",
     "status": "completed"
    },
    "tags": []
   },
   "source": [
    "Separate the dependent and independent variables."
   ]
  },
  {
   "cell_type": "code",
   "execution_count": 3,
   "id": "ef35d6f0",
   "metadata": {
    "execution": {
     "iopub.execute_input": "2023-05-06T14:15:46.999330Z",
     "iopub.status.busy": "2023-05-06T14:15:46.998548Z",
     "iopub.status.idle": "2023-05-06T14:15:47.009374Z",
     "shell.execute_reply": "2023-05-06T14:15:47.008361Z"
    },
    "papermill": {
     "duration": 0.021619,
     "end_time": "2023-05-06T14:15:47.011759",
     "exception": false,
     "start_time": "2023-05-06T14:15:46.990140",
     "status": "completed"
    },
    "tags": []
   },
   "outputs": [],
   "source": [
    "keys = ['date']\n",
    "dep_key = ['meantemp', 'humidity', 'wind_speed', 'meanpressure' ]\n",
    "\n",
    "X = train[keys]\n",
    "y = train[dep_key]\n",
    "\n",
    "X_test = test[keys]\n",
    "y_test = test[dep_key]"
   ]
  },
  {
   "cell_type": "markdown",
   "id": "c83efb4a",
   "metadata": {
    "papermill": {
     "duration": 0.006585,
     "end_time": "2023-05-06T14:15:47.025184",
     "exception": false,
     "start_time": "2023-05-06T14:15:47.018599",
     "status": "completed"
    },
    "tags": []
   },
   "source": [
    "Ideally, we'd like to make an improvement on the goodness-of-fit of multiple linear regression, with PyQrack's `QrackNeuron`. At the very least, to show that `QrackNeuron` can be viable for modeling a data set, we'd like to show somehwat comparable performance to multiple linear regression."
   ]
  },
  {
   "cell_type": "markdown",
   "id": "2afcd673",
   "metadata": {
    "papermill": {
     "duration": 0.006554,
     "end_time": "2023-05-06T14:15:47.038739",
     "exception": false,
     "start_time": "2023-05-06T14:15:47.032185",
     "status": "completed"
    },
    "tags": []
   },
   "source": [
    "PyQrack's `QrackNeuron` can only work with discrete, binary data. To model this or any data set, we have to reduce it to a simple, discrete, binary form.\n",
    "\n",
    "We'll try to model the data set via \"(quantum) associative memory.\" There are several statistical considerations, to avoid overfit.\n",
    "\n",
    "Firstly, each possible discretized independent variable permutation input trains an independent parameter of a `QrackNeuron`. If a `QrackNeuron` has never seen a specific, exact permutation of input bits, it has no information about them at all, so its prediction defaults to \"maximal superposition,\" (i.e. a totally random guess). Therefore, we'd like to keep our number of possible distinct inputs significantly fewer in number than our observation rows, when we discretize our indepedent variables.\n",
    "\n",
    "Satisfying the first consideration, we secondly discretize our dependent variable to have exactly as many possible discrete values as possible distinct inputs. (We guess that this loses the least information about the dependent variable, while we still have enough observations to fully train our network.)\n",
    "\n",
    "Thirdly, our learning rate should should just barely \"saturate\" the learned parameters of our (quantum) associative memory. As a learning volatility parameter (\"`eta`\") of `1/2` \"fully trains\" one parameter of a `QrackNeuron` between input qubits and output qubit, on average, this implies that we might set `eta` to `1/2` times `2` to the power of input qubits (summed across all predictors) divided by the number of observations. "
   ]
  },
  {
   "cell_type": "markdown",
   "id": "f102bacf",
   "metadata": {
    "papermill": {
     "duration": 0.006609,
     "end_time": "2023-05-06T14:15:47.098509",
     "exception": false,
     "start_time": "2023-05-06T14:15:47.091900",
     "status": "completed"
    },
    "tags": []
   },
   "source": [
    "At a baseline, our first choice to model this data set might be multiple linear regression."
   ]
  },
  {
   "cell_type": "code",
   "execution_count": 4,
   "id": "0fa5de66",
   "metadata": {
    "execution": {
     "iopub.execute_input": "2023-05-06T14:15:47.113458Z",
     "iopub.status.busy": "2023-05-06T14:15:47.113023Z",
     "iopub.status.idle": "2023-05-06T14:15:48.387109Z",
     "shell.execute_reply": "2023-05-06T14:15:48.385974Z"
    },
    "papermill": {
     "duration": 1.284383,
     "end_time": "2023-05-06T14:15:48.389469",
     "exception": false,
     "start_time": "2023-05-06T14:15:47.105086",
     "status": "completed"
    },
    "tags": []
   },
   "outputs": [],
   "source": [
    "from sklearn import linear_model\n",
    "\n",
    "regr = []\n",
    "for i in range(len(dep_key)):\n",
    "    regr.append(linear_model.LinearRegression())\n",
    "    regr[i].fit(X, y[dep_key[i]])\n",
    "    pd.DataFrame(zip(X.columns, regr[i].coef_))"
   ]
  },
  {
   "cell_type": "code",
   "execution_count": 5,
   "id": "1cbe7aa2",
   "metadata": {
    "execution": {
     "iopub.execute_input": "2023-05-06T14:15:48.406072Z",
     "iopub.status.busy": "2023-05-06T14:15:48.404996Z",
     "iopub.status.idle": "2023-05-06T14:15:48.978240Z",
     "shell.execute_reply": "2023-05-06T14:15:48.976910Z"
    },
    "papermill": {
     "duration": 0.583749,
     "end_time": "2023-05-06T14:15:48.980385",
     "exception": false,
     "start_time": "2023-05-06T14:15:48.396636",
     "status": "completed"
    },
    "tags": []
   },
   "outputs": [
    {
     "name": "stdout",
     "output_type": "stream",
     "text": [
      "Multiple linear regression validation R^2:  0.6980203077381697\n",
      "Multiple linear regression validation R^2:  0.933856389001777\n",
      "Multiple linear regression validation R^2:  0.24730546944605636\n",
      "Multiple linear regression validation R^2:  0.7057764776601964\n"
     ]
    }
   ],
   "source": [
    "y_pred = [r.predict(X_test) for r in regr]\n",
    "sst = [0 for _ in regr]\n",
    "ssr = [0 for _ in regr]\n",
    "for i in range(len(dep_key)):\n",
    "    for j in range(len(y_pred)):\n",
    "        sst[i] += y_test[dep_key[i]][j] * y_test[dep_key[i]][j]\n",
    "        ssr[i] += (y_test[dep_key[i]][j] - y_pred[i][j]) * (y_test[dep_key[i]][j] - y_pred[i][j])\n",
    "    print(\"Multiple linear regression validation R^2: \", 1 - ssr[i] / sst[i])"
   ]
  },
  {
   "cell_type": "markdown",
   "id": "72c272a0",
   "metadata": {
    "papermill": {
     "duration": 0.007069,
     "end_time": "2023-05-06T14:15:49.586757",
     "exception": false,
     "start_time": "2023-05-06T14:15:49.579688",
     "status": "completed"
    },
    "tags": []
   },
   "source": [
    "To discretize the data, we split it into as many quantiles as `2` to the power of our number of input qubits. For date or time data, we'll introduce a separate parameter to control choice of quantiles, and we'll transform to the frequency domain. Fitting to frequency rather than point in time, we potentially capture periodic correlations in weather, as opposed to non-periodic changes with monotonically increasing time."
   ]
  },
  {
   "cell_type": "code",
   "execution_count": 6,
   "id": "3fd70f98",
   "metadata": {
    "execution": {
     "iopub.execute_input": "2023-05-06T14:15:49.602786Z",
     "iopub.status.busy": "2023-05-06T14:15:49.602380Z",
     "iopub.status.idle": "2023-05-06T14:15:49.619031Z",
     "shell.execute_reply": "2023-05-06T14:15:49.618101Z"
    },
    "papermill": {
     "duration": 0.027775,
     "end_time": "2023-05-06T14:15:49.621572",
     "exception": false,
     "start_time": "2023-05-06T14:15:49.593797",
     "status": "completed"
    },
    "tags": []
   },
   "outputs": [],
   "source": [
    "time_qubit_count = 6\n",
    "in_qubit_count = 6\n",
    "out_qubit_count = 2\n",
    "\n",
    "time_bin_count = 1  << time_qubit_count\n",
    "in_key_count = len(keys)\n",
    "in_bin_count = 1 << in_qubit_count\n",
    "in_tot_count = time_qubit_count + (in_key_count - 1) * in_qubit_count\n",
    "out_key_count = len(dep_key)\n",
    "out_tot_count = out_key_count * out_qubit_count\n",
    "out_bin_count = 1 << out_tot_count\n",
    "\n",
    "x_bins = []\n",
    "x_bins.append(np.percentile(X[keys[0]], np.arange(0, 100, 100 / (2 * time_bin_count)))[1::2])\n",
    "for i in range(1, len(keys)):\n",
    "    key = keys[i]\n",
    "    x_bins.append(np.percentile(X[key], np.arange(0, 100, 100 / (2 * in_bin_count)))[1::2])\n",
    "y_bins = []\n",
    "for key in dep_key:\n",
    "    y_bins.append(np.percentile(y[key], np.arange(0, 100, 100 / (2 * out_bin_count)))[1::2])"
   ]
  },
  {
   "cell_type": "code",
   "execution_count": 7,
   "id": "d27cc8ba",
   "metadata": {
    "execution": {
     "iopub.execute_input": "2023-05-06T14:15:49.638071Z",
     "iopub.status.busy": "2023-05-06T14:15:49.637239Z",
     "iopub.status.idle": "2023-05-06T14:15:49.643878Z",
     "shell.execute_reply": "2023-05-06T14:15:49.642751Z"
    },
    "papermill": {
     "duration": 0.017263,
     "end_time": "2023-05-06T14:15:49.645974",
     "exception": false,
     "start_time": "2023-05-06T14:15:49.628711",
     "status": "completed"
    },
    "tags": []
   },
   "outputs": [
    {
     "name": "stdout",
     "output_type": "stream",
     "text": [
      "[array([734880.4140625, 734903.2421875, 734926.0703125, 734948.8984375,\n",
      "       734971.7265625, 734994.5546875, 735017.3828125, 735040.2109375,\n",
      "       735063.0390625, 735085.8671875, 735108.6953125, 735131.5234375,\n",
      "       735154.3515625, 735177.1796875, 735200.0078125, 735222.8359375,\n",
      "       735245.6640625, 735268.4921875, 735291.3203125, 735314.1484375,\n",
      "       735336.9765625, 735359.8046875, 735382.6328125, 735405.4609375,\n",
      "       735428.2890625, 735451.1171875, 735473.9453125, 735496.7734375,\n",
      "       735519.6015625, 735542.4296875, 735565.2578125, 735588.0859375,\n",
      "       735610.9140625, 735633.7421875, 735656.5703125, 735679.3984375,\n",
      "       735702.2265625, 735725.0546875, 735747.8828125, 735770.7109375,\n",
      "       735793.5390625, 735816.3671875, 735839.1953125, 735862.0234375,\n",
      "       735884.8515625, 735907.6796875, 735930.5078125, 735953.3359375,\n",
      "       735976.1640625, 735998.9921875, 736021.8203125, 736044.6484375,\n",
      "       736067.4765625, 736090.3046875, 736113.1328125, 736135.9609375,\n",
      "       736158.7890625, 736181.6171875, 736204.4453125, 736227.2734375,\n",
      "       736250.1015625, 736272.9296875, 736295.7578125, 736318.5859375])]\n"
     ]
    }
   ],
   "source": [
    "print(x_bins)"
   ]
  },
  {
   "cell_type": "code",
   "execution_count": 8,
   "id": "9af3915a",
   "metadata": {
    "execution": {
     "iopub.execute_input": "2023-05-06T14:15:49.662170Z",
     "iopub.status.busy": "2023-05-06T14:15:49.661794Z",
     "iopub.status.idle": "2023-05-06T14:15:49.666968Z",
     "shell.execute_reply": "2023-05-06T14:15:49.665971Z"
    },
    "papermill": {
     "duration": 0.015928,
     "end_time": "2023-05-06T14:15:49.669078",
     "exception": false,
     "start_time": "2023-05-06T14:15:49.653150",
     "status": "completed"
    },
    "tags": []
   },
   "outputs": [
    {
     "name": "stdout",
     "output_type": "stream",
     "text": [
      "[array([ 7.1422526 ,  9.32006836,  9.90844727, 10.62363979, 11.        ,\n",
      "       11.25      , 11.62898763, 11.75      , 12.        , 12.12887137,\n",
      "       12.28299386, 12.375     , 12.5       , 12.66666667, 12.85123698,\n",
      "       12.875     , 13.02075195, 13.25      , 13.375     , 13.60717773,\n",
      "       13.75      , 14.        , 14.        , 14.1394043 , 14.4888916 ,\n",
      "       14.625     , 14.75      , 14.875     , 15.09969932, 15.25      ,\n",
      "       15.25107422, 15.375     , 15.5       , 15.60463867, 15.7461635 ,\n",
      "       15.84102063, 16.        , 16.125     , 16.18404018, 16.375     ,\n",
      "       16.50962612, 16.625     , 16.75      , 16.875     , 17.        ,\n",
      "       17.125     , 17.14285714, 17.25      , 17.36629232, 17.46414621,\n",
      "       17.51708984, 17.625     , 17.68708147, 17.75      , 17.875     ,\n",
      "       18.        , 18.125     , 18.21979632, 18.25      , 18.40544782,\n",
      "       18.5       , 18.53778546, 18.63283469, 18.75      , 18.87758789,\n",
      "       19.11079102, 19.25      , 19.38435872, 19.55822754, 19.66491699,\n",
      "       19.86143731, 20.        , 20.        , 20.28889974, 20.625     ,\n",
      "       20.87287249, 21.        , 21.25      , 21.375     , 21.5       ,\n",
      "       21.61688911, 21.75      , 21.875     , 22.13459124, 22.375     ,\n",
      "       22.45327719, 22.5411377 , 22.75      , 22.80090332, 22.875     ,\n",
      "       23.        , 23.125     , 23.37212665, 23.42857143, 23.50582321,\n",
      "       23.62524414, 23.74477915, 23.86492048, 23.94641113, 24.        ,\n",
      "       24.15611049, 24.30606192, 24.5       , 24.59079241, 24.75      ,\n",
      "       24.83551897, 24.875     , 25.        , 25.07908529, 25.19733073,\n",
      "       25.25      , 25.5061849 , 25.625     , 25.75      , 25.86526925,\n",
      "       26.15009417, 26.25      , 26.40586635, 26.57952009, 26.7487793 ,\n",
      "       26.85714286, 27.        , 27.125     , 27.16666667, 27.35522461,\n",
      "       27.375     , 27.62208909, 27.66666667, 27.76767578, 28.        ,\n",
      "       28.12084961, 28.13785342, 28.20908203, 28.25      , 28.33333333,\n",
      "       28.375     , 28.5       , 28.5       , 28.5       , 28.6       ,\n",
      "       28.625     , 28.71428571, 28.83933222, 28.92383717, 29.        ,\n",
      "       29.0133231 , 29.125     , 29.16159784, 29.21744026, 29.25335286,\n",
      "       29.375     , 29.42857143, 29.5       , 29.56276158, 29.61676025,\n",
      "       29.625     , 29.67382812, 29.75      , 29.83333333, 29.875     ,\n",
      "       29.88859049, 30.        , 30.        , 30.        , 30.125     ,\n",
      "       30.125     , 30.16929408, 30.25      , 30.30271694, 30.375     ,\n",
      "       30.5       , 30.5       , 30.5       , 30.57142857, 30.625     ,\n",
      "       30.625     , 30.67272949, 30.73911911, 30.75      , 30.75      ,\n",
      "       30.83333333, 30.875     , 30.90820724, 31.        , 31.        ,\n",
      "       31.        , 31.1090332 , 31.125     , 31.12921408, 31.16666667,\n",
      "       31.25      , 31.25      , 31.375     , 31.39233941, 31.48      ,\n",
      "       31.5       , 31.5       , 31.53257166, 31.625     , 31.65601749,\n",
      "       31.71765929, 31.75      , 31.83384487, 31.875     , 31.87866211,\n",
      "       32.        , 32.        , 32.125     , 32.125     , 32.125     ,\n",
      "       32.18518519, 32.25      , 32.27657645, 32.34069824, 32.37895508,\n",
      "       32.5       , 32.51907552, 32.625     , 32.642613  , 32.80866699,\n",
      "       32.875     , 33.        , 33.        , 33.125     , 33.125     ,\n",
      "       33.18245701, 33.25      , 33.2675631 , 33.37641602, 33.5       ,\n",
      "       33.73109654, 33.85714286, 33.9855957 , 34.        , 34.125     ,\n",
      "       34.15404334, 34.27546038, 34.625     , 34.70936734, 34.87361654,\n",
      "       35.125     , 35.25      , 35.37312826, 35.45379464, 35.625     ,\n",
      "       35.75816127, 35.875     , 36.03063965, 36.16666667, 36.49401855,\n",
      "       36.78056641, 37.22565569, 37.37563477, 37.5625    , 37.77197266,\n",
      "       38.29555601]), array([18.921875  , 21.76077975, 22.18896484, 22.74365234, 23.31817336,\n",
      "       23.875     , 24.625     , 25.1505127 , 25.96936035, 26.90209961,\n",
      "       27.70748465, 28.09729004, 29.        , 29.25      , 29.5       ,\n",
      "       30.32669503, 31.125     , 31.57142857, 32.07250977, 32.6313333 ,\n",
      "       33.12426758, 33.375     , 34.        , 34.40380859, 35.3013916 ,\n",
      "       36.16469727, 37.        , 37.31431996, 38.26074219, 38.83935547,\n",
      "       39.25805664, 39.70857747, 39.875     , 40.12831334, 40.375     ,\n",
      "       41.22485352, 41.8       , 42.12602539, 42.71508789, 43.1784668 ,\n",
      "       43.53144531, 44.125     , 44.5       , 44.75      , 45.24536133,\n",
      "       45.5       , 45.75      , 46.02099609, 46.59904148, 46.80810547,\n",
      "       47.02563477, 47.28257533, 47.625     , 47.78494699, 48.        ,\n",
      "       48.25      , 48.5       , 48.75      , 49.        , 49.29736328,\n",
      "       49.70661789, 49.85525949, 49.98059082, 50.21228027, 50.5       ,\n",
      "       50.87161691, 51.14559565, 51.2930068 , 51.42819583, 51.59950206,\n",
      "       51.77880859, 52.125     , 52.22998047, 52.40000698, 52.75      ,\n",
      "       52.87287249, 53.        , 53.25      , 53.5000514 , 53.66931152,\n",
      "       54.        , 54.12719727, 54.25      , 54.42857143, 54.75      ,\n",
      "       54.998122  , 55.125     , 55.26095703, 55.63145229, 55.91490885,\n",
      "       56.125     , 56.25      , 56.49003906, 56.625     , 56.7866862 ,\n",
      "       57.06809896, 57.27601842, 57.40725911, 57.5       , 57.6887207 ,\n",
      "       57.8624442 , 58.        , 58.06179575, 58.24380258, 58.5       ,\n",
      "       58.625     , 58.73281751, 58.875     , 58.93901042, 59.19899902,\n",
      "       59.37327293, 59.5       , 59.56309157, 59.75      , 59.97820313,\n",
      "       60.22007533, 60.49496695, 60.72378305, 61.        , 61.14268276,\n",
      "       61.25      , 61.44042969, 61.71826172, 61.87175642, 62.        ,\n",
      "       62.14592285, 62.37348633, 62.58081055, 62.69484258, 62.875     ,\n",
      "       63.        , 63.16666667, 63.375     , 63.5       , 63.625     ,\n",
      "       63.83893953, 63.875     , 63.92373318, 64.09138997, 64.39135742,\n",
      "       64.625     , 64.83788029, 64.90649414, 65.        , 65.18381635,\n",
      "       65.34887695, 65.5       , 65.5       , 65.58554687, 65.63757324,\n",
      "       65.75      , 65.88910308, 66.        , 66.12836914, 66.25      ,\n",
      "       66.375     , 66.5       , 66.61814528, 66.91027832, 67.        ,\n",
      "       67.14247349, 67.36189779, 67.5       , 67.57142857, 67.625     ,\n",
      "       67.69112723, 67.80735677, 67.9909668 , 68.1363351 , 68.63924154,\n",
      "       68.88110352, 69.        , 69.15387835, 69.375     , 69.49121094,\n",
      "       69.625     , 69.75      , 69.875     , 70.        , 70.17908654,\n",
      "       70.29138765, 70.42857143, 70.56665039, 71.        , 71.120701  ,\n",
      "       71.25      , 71.375     , 71.62697191, 71.75      , 71.875     ,\n",
      "       72.        , 72.125     , 72.28571429, 72.375     , 72.625     ,\n",
      "       72.875     , 73.05395508, 73.14285714, 73.25      , 73.5       ,\n",
      "       73.63582357, 73.9979248 , 74.27406529, 74.375     , 74.75549316,\n",
      "       74.87133789, 75.03585379, 75.3043736 , 75.7430013 , 75.875     ,\n",
      "       76.04125977, 76.62654622, 76.86433919, 77.        , 77.25      ,\n",
      "       77.5       , 77.77043806, 78.        , 78.125     , 78.46933594,\n",
      "       78.68186257, 78.88842773, 79.125     , 79.5       , 79.7648112 ,\n",
      "       79.875     , 80.28120931, 80.48087086, 80.88916016, 81.36515299,\n",
      "       81.86554827, 82.26269531, 82.61882673, 83.        , 83.29482422,\n",
      "       83.83357747, 84.17468262, 84.5       , 84.89086914, 85.35424805,\n",
      "       85.75      , 86.25      , 86.625     , 87.        , 87.86373465,\n",
      "       88.25      , 88.85198103, 89.24755859, 89.6332194 , 90.11303711,\n",
      "       90.90283203, 92.        , 92.44452776, 93.7746582 , 94.49775391,\n",
      "       96.6590053 ]), array([ 0.        ,  0.        ,  0.        ,  0.        ,  0.31525879,\n",
      "        0.4625    ,  0.4625    ,  0.5992885 ,  0.7       ,  0.8       ,\n",
      "        0.925     ,  0.925     ,  0.925     ,  0.925     ,  1.05714286,\n",
      "        1.1625    ,  1.1625    ,  1.1625    ,  1.18425293,  1.23492839,\n",
      "        1.3875    ,  1.3875    ,  1.4       ,  1.48186148,  1.61801758,\n",
      "        1.625     ,  1.62909029,  1.76320638,  1.85      ,  1.85      ,\n",
      "        1.85      ,  1.8593471 ,  1.88898926,  2.0875    ,  2.0875    ,\n",
      "        2.0875    ,  2.13034784,  2.3125    ,  2.3125    ,  2.38571429,\n",
      "        2.46666667,  2.53999268,  2.55      ,  2.55      ,  2.55      ,\n",
      "        2.55837402,  2.71059195,  2.775     ,  2.77994385,  2.7875    ,\n",
      "        2.7982666 ,  2.91428571,  2.98430707,  3.0125    ,  3.0125    ,\n",
      "        3.025     ,  3.15811644,  3.18894717,  3.2369222 ,  3.2375    ,\n",
      "        3.25      ,  3.26228027,  3.44871373,  3.475     ,  3.475     ,\n",
      "        3.4875    ,  3.64532552,  3.7       ,  3.7       ,  3.7125    ,\n",
      "        3.7125    ,  3.85176143,  3.9375    ,  3.95636541,  3.97142857,\n",
      "        4.02400716,  4.14723918,  4.1625    ,  4.175     ,  4.175     ,\n",
      "        4.22857143,  4.24614349,  4.33106771,  4.39657118,  4.4       ,\n",
      "        4.4       ,  4.4125    ,  4.42984863,  4.58325195,  4.63333333,\n",
      "        4.6375    ,  4.65      ,  4.71500651,  4.77142857,  4.8625    ,\n",
      "        4.8625    ,  4.875     ,  4.93333333,  5.02857143,  5.0875    ,\n",
      "        5.1       ,  5.1       ,  5.18647135,  5.225     ,  5.30961914,\n",
      "        5.325     ,  5.325     ,  5.3375    ,  5.3375    ,  5.43571429,\n",
      "        5.55      ,  5.5523856 ,  5.55726004,  5.5625    ,  5.5625    ,\n",
      "        5.575     ,  5.78275129,  5.7875    ,  5.7875    ,  5.8       ,\n",
      "        5.81428571,  5.86666667,  5.92111572,  6.0125    ,  6.025     ,\n",
      "        6.03270264,  6.08571429,  6.16666667,  6.25      ,  6.25      ,\n",
      "        6.27306315,  6.36324498,  6.475     ,  6.48333333,  6.4875    ,\n",
      "        6.4875    ,  6.54666667,  6.61428571,  6.66125579,  6.7125    ,\n",
      "        6.7125    ,  6.7125    ,  6.725     ,  6.725     ,  6.76981492,\n",
      "        6.8       ,  6.88571429,  6.94077962,  6.95617676,  7.1       ,\n",
      "        7.14245364,  7.175     ,  7.175     ,  7.1875    ,  7.1875    ,\n",
      "        7.29351807,  7.4       ,  7.41173619,  7.4125    ,  7.41908936,\n",
      "        7.61798503,  7.6375    ,  7.65      ,  7.67301136,  7.7790332 ,\n",
      "        7.875     ,  7.87775879,  7.8875    ,  7.98918457,  8.02046441,\n",
      "        8.1       ,  8.10559896,  8.1125    ,  8.14169922,  8.23555592,\n",
      "        8.3375    ,  8.3375    ,  8.35      ,  8.44092548,  8.48571429,\n",
      "        8.5625    ,  8.575     ,  8.63333333,  8.69736677,  8.78732653,\n",
      "        8.8       ,  8.8125    ,  8.91898736,  8.99679129,  9.025     ,\n",
      "        9.0878418 ,  9.16185303,  9.25      ,  9.2625    ,  9.26885986,\n",
      "        9.38345378,  9.4875    ,  9.5017334 ,  9.5781901 ,  9.7125    ,\n",
      "        9.7375    ,  9.8       ,  9.86666667,  9.9625    , 10.00195313,\n",
      "       10.07923584, 10.1875    , 10.1875    , 10.31428571, 10.425     ,\n",
      "       10.48883464, 10.63765462, 10.74      , 10.85322266, 10.87598877,\n",
      "       10.8875    , 11.06437988, 11.11428571, 11.12497371, 11.3375    ,\n",
      "       11.35500488, 11.38648158, 11.51438802, 11.575     , 11.65163051,\n",
      "       11.85762019, 12.01042167, 12.11756348, 12.26320801, 12.5       ,\n",
      "       12.6502703 , 12.7375    , 12.95714286, 12.97354213, 13.2       ,\n",
      "       13.22877408, 13.4375    , 13.54974772, 13.87605794, 14.01800886,\n",
      "       14.38005642, 14.59060059, 14.8125    , 15.00793457, 15.18807843,\n",
      "       15.5125    , 15.74729004, 16.00049316, 16.88996582, 17.1375    ,\n",
      "       17.73754883, 18.33127441, 18.80080357, 19.9125    , 22.96425781,\n",
      "       31.0723284 ]), array([ 586.51779785,  993.19506836,  994.15844727,  994.87182617,\n",
      "        995.15340169,  995.34952799,  995.56848145,  995.89716797,\n",
      "        996.03186035,  996.12680664,  996.36819894,  996.45260417,\n",
      "        996.75      ,  996.875     ,  997.        ,  997.125     ,\n",
      "        997.16666667,  997.32728795,  997.41657366,  997.52050781,\n",
      "        997.68713379,  997.8125    ,  997.875     ,  998.        ,\n",
      "        998.        ,  998.13445173,  998.25      ,  998.375     ,\n",
      "        998.5       ,  998.625     ,  998.66973586,  998.75      ,\n",
      "        998.8706543 ,  998.88659668,  999.        ,  999.125     ,\n",
      "        999.1812686 ,  999.28571429,  999.37370696,  999.42857143,\n",
      "        999.57142857,  999.625     ,  999.68073918,  999.85714286,\n",
      "        999.89219448, 1000.        , 1000.        , 1000.14285714,\n",
      "       1000.23258464, 1000.33333333, 1000.44321987, 1000.62029157,\n",
      "       1000.72505079, 1000.8       , 1000.85773577, 1001.        ,\n",
      "       1001.03194754, 1001.125     , 1001.16666667, 1001.25      ,\n",
      "       1001.33873315, 1001.375     , 1001.42857143, 1001.52478027,\n",
      "       1001.625     , 1001.70526414, 1001.77587891, 1001.875     ,\n",
      "       1001.875     , 1002.        , 1002.08683268, 1002.16801883,\n",
      "       1002.25      , 1002.375     , 1002.43793457, 1002.55505371,\n",
      "       1002.64949544, 1002.83333333, 1002.875     , 1003.        ,\n",
      "       1003.08850098, 1003.14420931, 1003.25      , 1003.25      ,\n",
      "       1003.32775879, 1003.5       , 1003.54746727, 1003.625     ,\n",
      "       1003.63145229, 1003.75      , 1003.82263184, 1003.875     ,\n",
      "       1004.        , 1004.25      , 1004.31905111, 1004.5       ,\n",
      "       1004.625     , 1004.75      , 1004.8596889 , 1005.        ,\n",
      "       1005.19759115, 1005.25791016, 1005.3692853 , 1005.5       ,\n",
      "       1005.57142857, 1005.6307373 , 1005.75      , 1005.90450846,\n",
      "       1006.07580566, 1006.14772445, 1006.25      , 1006.4       ,\n",
      "       1006.59289641, 1006.67175293, 1006.75455078, 1006.94015067,\n",
      "       1007.        , 1007.        , 1007.125     , 1007.19987793,\n",
      "       1007.48990885, 1007.55179001, 1007.75      , 1008.        ,\n",
      "       1008.14689128, 1008.29678199, 1008.375     , 1008.5       ,\n",
      "       1008.6       , 1008.72864879, 1008.87084961, 1009.        ,\n",
      "       1009.125     , 1009.2       , 1009.29880666, 1009.43758138,\n",
      "       1009.625     , 1009.71459961, 1009.875     , 1009.89135742,\n",
      "       1010.        , 1010.25      , 1010.35342172, 1010.42637416,\n",
      "       1010.5       , 1010.59141323, 1010.62833659, 1010.875     ,\n",
      "       1011.        , 1011.14764695, 1011.25      , 1011.375     ,\n",
      "       1011.53556961, 1011.62552316, 1011.75      , 1011.79750279,\n",
      "       1011.89379883, 1012.        , 1012.09777832, 1012.36199079,\n",
      "       1012.40671115, 1012.5       , 1012.625     , 1012.66874186,\n",
      "       1012.75      , 1012.7931574 , 1012.875     , 1012.89331055,\n",
      "       1013.        , 1013.125     , 1013.19055176, 1013.29021345,\n",
      "       1013.375     , 1013.5       , 1013.5       , 1013.625     ,\n",
      "       1013.72467913, 1013.81468822, 1014.        , 1014.03296875,\n",
      "       1014.12996419, 1014.25      , 1014.25      , 1014.375     ,\n",
      "       1014.5       , 1014.5       , 1014.61538462, 1014.62531648,\n",
      "       1014.74625651, 1014.75      , 1014.875     , 1014.875     ,\n",
      "       1015.        , 1015.08030134, 1015.14305031, 1015.25      ,\n",
      "       1015.32425363, 1015.3784668 , 1015.5       , 1015.6223377 ,\n",
      "       1015.71428571, 1015.75      , 1015.875     , 1015.875     ,\n",
      "       1016.        , 1016.        , 1016.125     , 1016.125     ,\n",
      "       1016.16466704, 1016.22492188, 1016.25      , 1016.375     ,\n",
      "       1016.375     , 1016.5       , 1016.5       , 1016.625     ,\n",
      "       1016.73472377, 1016.8621303 , 1016.875     , 1017.        ,\n",
      "       1017.        , 1017.00488281, 1017.125     , 1017.14858774,\n",
      "       1017.25      , 1017.37231445, 1017.375     , 1017.5       ,\n",
      "       1017.5       , 1017.625     , 1017.75      , 1017.8122496 ,\n",
      "       1017.875     , 1018.        , 1018.125     , 1018.25073242,\n",
      "       1018.5       , 1018.625     , 1018.67271205, 1018.77316623,\n",
      "       1018.97131348, 1019.125     , 1019.25      , 1019.36092122,\n",
      "       1019.52636719, 1019.75      , 1019.75      , 1020.        ,\n",
      "       1020.25      , 1020.375     , 1020.5       , 1020.66479492,\n",
      "       1021.        , 1021.13807896, 1021.50317383, 1070.9437934 ])]\n"
     ]
    }
   ],
   "source": [
    "print(y_bins)"
   ]
  },
  {
   "cell_type": "markdown",
   "id": "a9c0a950",
   "metadata": {
    "papermill": {
     "duration": 0.007099,
     "end_time": "2023-05-06T14:15:49.683330",
     "exception": false,
     "start_time": "2023-05-06T14:15:49.676231",
     "status": "completed"
    },
    "tags": []
   },
   "source": [
    "Once we have our quantiles, we bin our indepedent training and validation data."
   ]
  },
  {
   "cell_type": "code",
   "execution_count": 9,
   "id": "c027aa33",
   "metadata": {
    "execution": {
     "iopub.execute_input": "2023-05-06T14:15:49.700029Z",
     "iopub.status.busy": "2023-05-06T14:15:49.698930Z",
     "iopub.status.idle": "2023-05-06T14:15:55.997481Z",
     "shell.execute_reply": "2023-05-06T14:15:55.996293Z"
    },
    "papermill": {
     "duration": 6.309712,
     "end_time": "2023-05-06T14:15:56.000126",
     "exception": false,
     "start_time": "2023-05-06T14:15:49.690414",
     "status": "completed"
    },
    "tags": []
   },
   "outputs": [],
   "source": [
    "def discretize_x(X):\n",
    "    xd = []\n",
    "    for i in X.index:\n",
    "        xd_row = []\n",
    "        \n",
    "        key = keys[0]\n",
    "        bn = time_bin_count\n",
    "        offset = 0\n",
    "        while bn > 1:\n",
    "            bn =  bn // 2\n",
    "            b = bn + offset\n",
    "            if X[keys[0]][i] < x_bins[0][b - 1]:\n",
    "                xd_row.append(False)\n",
    "            else:\n",
    "                xd_row.append(True)\n",
    "                offset += bn\n",
    "\n",
    "        for ki in range(1, len(keys)):\n",
    "            key = keys[ki]\n",
    "            bn = in_bin_count\n",
    "            offset = 0\n",
    "            while bn > 1:\n",
    "                bn =  bn // 2\n",
    "                b = bn + offset\n",
    "                if X[key][i] < x_bins[ki][b - 1]:\n",
    "                    xd_row.append(False)\n",
    "                else:\n",
    "                    xd_row.append(True)\n",
    "                    offset += bn\n",
    "\n",
    "        xd.append(xd_row)\n",
    "    return xd\n",
    "\n",
    "xd = discretize_x(X)\n",
    "xd_test = discretize_x(X_test)"
   ]
  },
  {
   "cell_type": "markdown",
   "id": "8bfbbfd0",
   "metadata": {
    "papermill": {
     "duration": 0.006897,
     "end_time": "2023-05-06T14:15:56.014547",
     "exception": false,
     "start_time": "2023-05-06T14:15:56.007650",
     "status": "completed"
    },
    "tags": []
   },
   "source": [
    "We do the same for our dependent data."
   ]
  },
  {
   "cell_type": "code",
   "execution_count": 10,
   "id": "59f01bad",
   "metadata": {
    "execution": {
     "iopub.execute_input": "2023-05-06T14:15:56.030586Z",
     "iopub.status.busy": "2023-05-06T14:15:56.030172Z",
     "iopub.status.idle": "2023-05-06T14:15:59.396360Z",
     "shell.execute_reply": "2023-05-06T14:15:59.395337Z"
    },
    "papermill": {
     "duration": 3.377207,
     "end_time": "2023-05-06T14:15:59.398804",
     "exception": false,
     "start_time": "2023-05-06T14:15:56.021597",
     "status": "completed"
    },
    "tags": []
   },
   "outputs": [],
   "source": [
    "def discretize_y(y):\n",
    "    xd = []\n",
    "    for i in y.index:\n",
    "        xd_row = []\n",
    "\n",
    "        for ki in range(len(dep_key)):\n",
    "            key = dep_key[ki]\n",
    "            bn = in_bin_count\n",
    "            offset = 0\n",
    "            while bn > 1:\n",
    "                bn =  bn // 2\n",
    "                b = bn + offset\n",
    "                if y[key][i] < y_bins[ki][b - 1]:\n",
    "                    xd_row.append(False)\n",
    "                else:\n",
    "                    xd_row.append(True)\n",
    "                    offset += bn\n",
    "\n",
    "        xd.append(xd_row)\n",
    "    return xd\n",
    "\n",
    "yd = discretize_y(y)\n",
    "yd_test = discretize_y(y_test)"
   ]
  },
  {
   "cell_type": "markdown",
   "id": "2b70e363",
   "metadata": {
    "papermill": {
     "duration": 0.006734,
     "end_time": "2023-05-06T14:15:59.412842",
     "exception": false,
     "start_time": "2023-05-06T14:15:59.406108",
     "status": "completed"
    },
    "tags": []
   },
   "source": [
    "We're ready to train our associative memory! (Note that it offers us no particular advantage, in this case, that our \"neurons\" are based on simulated quantum computational gates, though it is possible to predict in \"superposition\" of many rows at once.)"
   ]
  },
  {
   "cell_type": "code",
   "execution_count": 11,
   "id": "1433725d",
   "metadata": {
    "execution": {
     "iopub.execute_input": "2023-05-06T14:15:59.428515Z",
     "iopub.status.busy": "2023-05-06T14:15:59.427835Z",
     "iopub.status.idle": "2023-05-06T14:18:22.848306Z",
     "shell.execute_reply": "2023-05-06T14:18:22.846962Z"
    },
    "papermill": {
     "duration": 143.431003,
     "end_time": "2023-05-06T14:18:22.850737",
     "exception": false,
     "start_time": "2023-05-06T14:15:59.419734",
     "status": "completed"
    },
    "tags": []
   },
   "outputs": [
    {
     "name": "stdout",
     "output_type": "stream",
     "text": [
      "Epoch  1462  out of  1462\n"
     ]
    }
   ],
   "source": [
    "from IPython.display import clear_output\n",
    "from pyqrack import QrackSimulator, QrackNeuron\n",
    "\n",
    "eta = (1 / 2) * (out_bin_count / y.shape[0])\n",
    "input_indices = list(range(in_tot_count))\n",
    "qsim = QrackSimulator(in_tot_count + out_tot_count)\n",
    "\n",
    "qft_qubits = list(range(time_qubit_count))\n",
    "\n",
    "output_layer = []\n",
    "for i in range(out_tot_count):\n",
    "    output_layer.append(QrackNeuron(qsim, input_indices, in_tot_count + i))\n",
    "\n",
    "# Train the network to associate powers of 2 with their log2()\n",
    "print(\"Learning...\")\n",
    "for i in range(len(xd)):\n",
    "    clear_output(wait=True)\n",
    "    print(\"Epoch \", (i + 1), \" out of \", len(xd))\n",
    "    \n",
    "    perm = xd[i]\n",
    "    res = yd[i]\n",
    "\n",
    "    for j in range(out_tot_count):\n",
    "        qsim.reset_all()\n",
    "        for k in range(in_tot_count):\n",
    "            if perm[k]:\n",
    "                qsim.x(k)\n",
    "        # Transform time domain to Fourier basis\n",
    "        qsim.qft(qft_qubits)\n",
    "        output_layer[j].learn(eta, res[j] == 1)"
   ]
  },
  {
   "cell_type": "markdown",
   "id": "90852cbe",
   "metadata": {
    "papermill": {
     "duration": 0.006769,
     "end_time": "2023-05-06T14:18:22.865067",
     "exception": false,
     "start_time": "2023-05-06T14:18:22.858298",
     "status": "completed"
    },
    "tags": []
   },
   "source": [
    "Let's use our neural net, trained on half the data, to try to predict the left-out half of data!"
   ]
  },
  {
   "cell_type": "code",
   "execution_count": 12,
   "id": "6285fa1f",
   "metadata": {
    "execution": {
     "iopub.execute_input": "2023-05-06T14:18:22.881155Z",
     "iopub.status.busy": "2023-05-06T14:18:22.880399Z",
     "iopub.status.idle": "2023-05-06T14:18:49.325303Z",
     "shell.execute_reply": "2023-05-06T14:18:49.324060Z"
    },
    "papermill": {
     "duration": 26.455679,
     "end_time": "2023-05-06T14:18:49.327672",
     "exception": false,
     "start_time": "2023-05-06T14:18:22.871993",
     "status": "completed"
    },
    "tags": []
   },
   "outputs": [
    {
     "name": "stdout",
     "output_type": "stream",
     "text": [
      "Predicting  114  out of  114\n"
     ]
    }
   ],
   "source": [
    "print(\"Should associate each input with its trained output...\")\n",
    "sum_sqr_tot = [0 for _ in range(len(y_bins))]\n",
    "sum_sqr_res = [0 for _ in range(len(y_bins))]\n",
    "for i in range(len(xd_test)):\n",
    "    clear_output(wait=True)\n",
    "    print(\"Predicting \", (i + 1), \" out of \", len(xd_test))\n",
    "    \n",
    "    perm = xd_test[i]\n",
    "\n",
    "    qsim.reset_all()\n",
    "    for j in range(in_tot_count):\n",
    "        if perm[j]:\n",
    "            qsim.x(j)\n",
    "    # Transform time domain to Fourier basis\n",
    "    qsim.qft(qft_qubits)\n",
    "\n",
    "    for j in range(out_tot_count):\n",
    "        output_layer[j].predict()\n",
    "\n",
    "    for j in range(len(dep_key)):\n",
    "        bn = out_bin_count\n",
    "        offset = 0\n",
    "        for k in range(out_qubit_count):\n",
    "            bn = bn // 2\n",
    "            offset += bn * qsim.prob(in_tot_count + j)\n",
    "        pred = y_bins[j][round(offset)]\n",
    "\n",
    "        sum_sqr_tot[j] += y_test[dep_key[j]][i] * y_test[dep_key[j]][i]\n",
    "        sum_sqr_res[j] += (y_test[dep_key[j]][i] - pred) * (y_test[dep_key[j]][i] - pred)"
   ]
  },
  {
   "cell_type": "markdown",
   "id": "fabf6f94",
   "metadata": {
    "papermill": {
     "duration": 0.007161,
     "end_time": "2023-05-06T14:18:49.342548",
     "exception": false,
     "start_time": "2023-05-06T14:18:49.335387",
     "status": "completed"
    },
    "tags": []
   },
   "source": [
    "How does this compare to the validation R^2 of multiple linear regression?"
   ]
  },
  {
   "cell_type": "code",
   "execution_count": 13,
   "id": "17125ac6",
   "metadata": {
    "execution": {
     "iopub.execute_input": "2023-05-06T14:18:49.359740Z",
     "iopub.status.busy": "2023-05-06T14:18:49.358567Z",
     "iopub.status.idle": "2023-05-06T14:18:49.365319Z",
     "shell.execute_reply": "2023-05-06T14:18:49.364092Z"
    },
    "papermill": {
     "duration": 0.01765,
     "end_time": "2023-05-06T14:18:49.367480",
     "exception": false,
     "start_time": "2023-05-06T14:18:49.349830",
     "status": "completed"
    },
    "tags": []
   },
   "outputs": [
    {
     "name": "stdout",
     "output_type": "stream",
     "text": [
      "Variable:  meantemp\n",
      "Multiple linear regression training R^2:  0.6980203077381697\n",
      "QrackNeuron training R^2:  0.8315758062704895\n",
      "QrackNeuron validation MSR:  86.1579825950426\n",
      "QrackNeuron validation RMSE:  9.282132437917625\n",
      "Variable:  humidity\n",
      "Multiple linear regression training R^2:  0.933856389001777\n",
      "QrackNeuron training R^2:  0.8307722244670428\n",
      "QrackNeuron validation MSR:  596.5965574669742\n",
      "QrackNeuron validation RMSE:  24.42532614863053\n",
      "Variable:  wind_speed\n",
      "Multiple linear regression training R^2:  0.24730546944605636\n",
      "QrackNeuron training R^2:  0.8319958334291708\n",
      "QrackNeuron validation MSR:  13.286553615017482\n",
      "QrackNeuron validation RMSE:  3.645072511626824\n",
      "Variable:  meanpressure\n",
      "Multiple linear regression training R^2:  0.7057764776601964\n",
      "QrackNeuron training R^2:  0.9920792579800426\n",
      "QrackNeuron validation MSR:  8047.647801897021\n",
      "QrackNeuron validation RMSE:  89.70868297939181\n"
     ]
    }
   ],
   "source": [
    "for i in range(len(dep_key)):\n",
    "    print(\"Variable: \", dep_key[i])\n",
    "    print(\"Multiple linear regression training R^2: \", 1 - ssr[i] / sst[i])\n",
    "    print(\"QrackNeuron training R^2: \", 1 - sum_sqr_res[i] / sum_sqr_tot[i])\n",
    "    msr = sum_sqr_res[i] / y_test[dep_key[i]].shape[0]\n",
    "    print(\"QrackNeuron validation MSR: \", msr)\n",
    "    print(\"QrackNeuron validation RMSE: \", math.sqrt(msr))"
   ]
  }
 ],
 "metadata": {
  "kernelspec": {
   "display_name": "Python 3 (ipykernel)",
   "language": "python",
   "name": "python3"
  },
  "language_info": {
   "codemirror_mode": {
    "name": "ipython",
    "version": 3
   },
   "file_extension": ".py",
   "mimetype": "text/x-python",
   "name": "python",
   "nbconvert_exporter": "python",
   "pygments_lexer": "ipython3",
   "version": "3.10.6"
  },
  "papermill": {
   "default_parameters": {},
   "duration": 206.417493,
   "end_time": "2023-05-06T14:18:50.398278",
   "environment_variables": {},
   "exception": null,
   "input_path": "__notebook__.ipynb",
   "output_path": "__notebook__.ipynb",
   "parameters": {},
   "start_time": "2023-05-06T14:15:23.980785",
   "version": "2.4.0"
  }
 },
 "nbformat": 4,
 "nbformat_minor": 5
}
