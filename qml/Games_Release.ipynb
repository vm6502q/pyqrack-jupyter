{
 "cells": [
  {
   "cell_type": "markdown",
   "id": "11ba7ace",
   "metadata": {
    "papermill": {
     "duration": 0.00629,
     "end_time": "2023-05-06T14:15:33.724667",
     "exception": false,
     "start_time": "2023-05-06T14:15:33.718377",
     "status": "completed"
    },
    "tags": []
   },
   "source": [
    "# Games Release data set (with PyQrack quantum associative memory)"
   ]
  },
  {
   "cell_type": "markdown",
   "id": "561327b8",
   "metadata": {
    "papermill": {
     "duration": 0.005581,
     "end_time": "2023-05-06T14:15:33.736199",
     "exception": false,
     "start_time": "2023-05-06T14:15:33.730618",
     "status": "completed"
    },
    "tags": []
   },
   "source": [
    "\"PyQrack\" is a pure Python language standard wrapper for the (C++11) Qrack quantum computer simulator library. PyQrack exposes a \"quantum neuron\" called \"`QrackNeuron`.\" (Its API reference is [here](https://pyqrack.readthedocs.io/en/latest/autoapi/pyqrack/qrack_neuron/index.html).) We'd like to model a simple data set to achieve a proof-of-concept of using `QrackNeuron`."
   ]
  },
  {
   "cell_type": "code",
   "execution_count": 1,
   "id": "2e3b16fd",
   "metadata": {
    "execution": {
     "iopub.execute_input": "2023-05-06T14:15:33.751736Z",
     "iopub.status.busy": "2023-05-06T14:15:33.750834Z",
     "iopub.status.idle": "2023-05-06T14:15:46.465965Z",
     "shell.execute_reply": "2023-05-06T14:15:46.464685Z"
    },
    "papermill": {
     "duration": 12.726889,
     "end_time": "2023-05-06T14:15:46.469062",
     "exception": false,
     "start_time": "2023-05-06T14:15:33.742173",
     "status": "completed"
    },
    "tags": []
   },
   "outputs": [],
   "source": [
    "#!pip install pyqrack"
   ]
  },
  {
   "cell_type": "markdown",
   "id": "abd865f4",
   "metadata": {
    "papermill": {
     "duration": 0.006696,
     "end_time": "2023-05-06T14:15:46.482688",
     "exception": false,
     "start_time": "2023-05-06T14:15:46.475992",
     "status": "completed"
    },
    "tags": []
   },
   "source": [
    "First, load the data set into a `pandas` dataframe."
   ]
  },
  {
   "cell_type": "code",
   "execution_count": 2,
   "id": "3eb6ebbc",
   "metadata": {
    "execution": {
     "iopub.execute_input": "2023-05-06T14:15:46.498796Z",
     "iopub.status.busy": "2023-05-06T14:15:46.497549Z",
     "iopub.status.idle": "2023-05-06T14:15:46.967618Z",
     "shell.execute_reply": "2023-05-06T14:15:46.966505Z"
    },
    "papermill": {
     "duration": 0.480497,
     "end_time": "2023-05-06T14:15:46.969853",
     "exception": false,
     "start_time": "2023-05-06T14:15:46.489356",
     "status": "completed"
    },
    "tags": []
   },
   "outputs": [
    {
     "name": "stdout",
     "output_type": "stream",
     "text": [
      "   peak_players  positive_reviews  negative_reviews  rating  total_reviews  \\\n",
      "0          4529             19807               227  0.9639          20034   \n",
      "1        168191             61752              1616  0.9575          63368   \n",
      "2         15543             12643               213  0.9554          12856   \n",
      "3          1415             11717               209  0.9539          11926   \n",
      "4          6132             14152               324  0.9509          14476   \n",
      "\n",
      "   postive_fraction  \n",
      "0          0.988669  \n",
      "1          0.974498  \n",
      "2          0.983432  \n",
      "3          0.982475  \n",
      "4          0.977618  \n",
      "Number of observations:  66427\n"
     ]
    }
   ],
   "source": [
    "import pandas as pd\n",
    "\n",
    "df = pd.read_csv('games-release/games-release-ALL.csv')\n",
    "df = df.loc[:, ~df.columns.str.contains('^Unnamed')]\n",
    "\n",
    "df = df.drop(['game', 'link', 'release', 'total_reviews'], axis=1)\n",
    "\n",
    "df['peak_players'] = df['peak_players'].str.replace(',', '').astype(int)\n",
    "df['positive_reviews'] = df['positive_reviews'].str.replace(',', '').astype(int)\n",
    "df['negative_reviews'] = df['negative_reviews'].str.replace(',', '').astype(int)\n",
    "df['total_reviews'] = df['positive_reviews'] + df['negative_reviews']\n",
    "df['rating'] = df['rating'].str.replace('%', '').astype(float)\n",
    "\n",
    "df['postive_fraction'] = df['positive_reviews'] / df['total_reviews']\n",
    "df['rating'] = df['rating'] / 100\n",
    "\n",
    "df.drop(['positive_reviews', 'negative_reviews'], axis=1)\n",
    "\n",
    "print(df.head())\n",
    "print(\"Number of observations: \", df.shape[0])"
   ]
  },
  {
   "cell_type": "markdown",
   "id": "042c3e30",
   "metadata": {},
   "source": [
    "Is our dependent variable Gaussian-distributed?"
   ]
  },
  {
   "cell_type": "code",
   "execution_count": 3,
   "id": "831727ca",
   "metadata": {},
   "outputs": [
    {
     "data": {
      "text/plain": [
       "<AxesSubplot:>"
      ]
     },
     "execution_count": 3,
     "metadata": {},
     "output_type": "execute_result"
    },
    {
     "data": {
      "image/png": "[encoded data removed]",
      "text/plain": [
       "<Figure size 432x288 with 1 Axes>"
      ]
     },
     "metadata": {
      "needs_background": "light"
     },
     "output_type": "display_data"
    }
   ],
   "source": [
    "import math\n",
    "df['rating'].hist(bins=20)"
   ]
  },
  {
   "cell_type": "code",
   "execution_count": 4,
   "id": "d62d8102",
   "metadata": {},
   "outputs": [
    {
     "data": {
      "text/plain": [
       "<AxesSubplot:>"
      ]
     },
     "execution_count": 4,
     "metadata": {},
     "output_type": "execute_result"
    },
    {
     "data": {
      "image/png": "[encoded data removed]",
      "text/plain": [
       "<Figure size 432x288 with 1 Axes>"
      ]
     },
     "metadata": {
      "needs_background": "light"
     },
     "output_type": "display_data"
    }
   ],
   "source": [
    "df['rating'].apply(lambda x: math.log(x / (1 - x))).hist(bins=20)"
   ]
  },
  {
   "cell_type": "markdown",
   "id": "52a00fae",
   "metadata": {},
   "source": [
    "The logistic transformation looks best, which is fortunate, as the assumptions of linear regression are not strictly satisfied for predicting a dependent variable with ceiling and floor effects (at 0% and 100%). We're regressing against `positive_fraction`, which has the same ceiling and floor effects, so we can hypothesize that it is a direct estimator."
   ]
  },
  {
   "cell_type": "markdown",
   "id": "6bc4bcc0",
   "metadata": {},
   "source": [
    "How about the independent variables?"
   ]
  },
  {
   "cell_type": "code",
   "execution_count": 5,
   "id": "86d5eb50",
   "metadata": {},
   "outputs": [
    {
     "data": {
      "text/plain": [
       "<AxesSubplot:>"
      ]
     },
     "execution_count": 5,
     "metadata": {},
     "output_type": "execute_result"
    },
    {
     "data": {
      "image/png": "[encoded data removed]",
      "text/plain": [
       "<Figure size 432x288 with 1 Axes>"
      ]
     },
     "metadata": {
      "needs_background": "light"
     },
     "output_type": "display_data"
    }
   ],
   "source": [
    "df['postive_fraction'].hist(bins=20)"
   ]
  },
  {
   "cell_type": "markdown",
   "id": "f8774e52",
   "metadata": {},
   "source": [
    "Again, we hypothesize that `positive_fraction` is a direct estimator of `rating`. We'll see if the validation supports our hypothesis."
   ]
  },
  {
   "cell_type": "markdown",
   "id": "632139d1",
   "metadata": {
    "papermill": {
     "duration": 0.006401,
     "end_time": "2023-05-06T14:15:46.983305",
     "exception": false,
     "start_time": "2023-05-06T14:15:46.976904",
     "status": "completed"
    },
    "tags": []
   },
   "source": [
    "Separate the dependent and independent variables."
   ]
  },
  {
   "cell_type": "code",
   "execution_count": 6,
   "id": "ef35d6f0",
   "metadata": {
    "execution": {
     "iopub.execute_input": "2023-05-06T14:15:46.999330Z",
     "iopub.status.busy": "2023-05-06T14:15:46.998548Z",
     "iopub.status.idle": "2023-05-06T14:15:47.009374Z",
     "shell.execute_reply": "2023-05-06T14:15:47.008361Z"
    },
    "papermill": {
     "duration": 0.021619,
     "end_time": "2023-05-06T14:15:47.011759",
     "exception": false,
     "start_time": "2023-05-06T14:15:46.990140",
     "status": "completed"
    },
    "tags": []
   },
   "outputs": [],
   "source": [
    "keys = ['peak_players', 'total_reviews', 'postive_fraction']\n",
    "dep_key = 'rating'\n",
    "\n",
    "X = df[keys]\n",
    "y = df[dep_key] "
   ]
  },
  {
   "cell_type": "markdown",
   "id": "c83efb4a",
   "metadata": {
    "papermill": {
     "duration": 0.006585,
     "end_time": "2023-05-06T14:15:47.025184",
     "exception": false,
     "start_time": "2023-05-06T14:15:47.018599",
     "status": "completed"
    },
    "tags": []
   },
   "source": [
    "Ideally, we'd like to make an improvement on the goodness-of-fit of multiple linear regression, with PyQrack's `QrackNeuron`. At the very least, to show that `QrackNeuron` can be viable for modeling a data set, we'd like to show somehwat comparable performance to multiple linear regression."
   ]
  },
  {
   "cell_type": "markdown",
   "id": "2afcd673",
   "metadata": {
    "papermill": {
     "duration": 0.006554,
     "end_time": "2023-05-06T14:15:47.038739",
     "exception": false,
     "start_time": "2023-05-06T14:15:47.032185",
     "status": "completed"
    },
    "tags": []
   },
   "source": [
    "PyQrack's `QrackNeuron` can only work with discrete, binary data. To model this or any data set, we have to reduce it to a simple, discrete, binary form.\n",
    "\n",
    "We'll try to model the data set via \"(quantum) associative memory.\" There are several statistical considerations, to avoid overfit.\n",
    "\n",
    "Firstly, each possible discretized independent variable permutation input trains an independent parameter of a `QrackNeuron`. If a `QrackNeuron` has never seen a specific, exact permutation of input bits, it has no information about them at all, so its prediction defaults to \"maximal superposition,\" (i.e. a totally random guess). Therefore, we'd like to keep our number of possible distinct inputs significantly fewer in number than our observation rows, when we discretize our indepedent variables.\n",
    "\n",
    "Satisfying the first consideration, we secondly discretize our dependent variable to have exactly as many possible discrete values as possible distinct inputs. (We guess that this loses the least information about the dependent variable, while we still have enough observations to fully train our network.)\n",
    "\n",
    "Thirdly, our learning rate should should just barely \"saturate\" the learned parameters of our (quantum) associative memory. As a learning volatility parameter (\"`eta`\") of `1/2` \"fully trains\" one parameter of a `QrackNeuron` between input qubits and output qubit, on average, this implies that we might set `eta` to `1/2` times `2` to the power of input qubits (summed across all predictors) divided by the number of observations. "
   ]
  },
  {
   "cell_type": "markdown",
   "id": "6e060287",
   "metadata": {
    "papermill": {
     "duration": 0.006464,
     "end_time": "2023-05-06T14:15:47.051967",
     "exception": false,
     "start_time": "2023-05-06T14:15:47.045503",
     "status": "completed"
    },
    "tags": []
   },
   "source": [
    "Start by splitting the data set into equal halves for training and validation."
   ]
  },
  {
   "cell_type": "code",
   "execution_count": 7,
   "id": "faeb597d",
   "metadata": {
    "execution": {
     "iopub.execute_input": "2023-05-06T14:15:47.066890Z",
     "iopub.status.busy": "2023-05-06T14:15:47.066516Z",
     "iopub.status.idle": "2023-05-06T14:15:47.082602Z",
     "shell.execute_reply": "2023-05-06T14:15:47.081481Z"
    },
    "papermill": {
     "duration": 0.026583,
     "end_time": "2023-05-06T14:15:47.085223",
     "exception": false,
     "start_time": "2023-05-06T14:15:47.058640",
     "status": "completed"
    },
    "tags": []
   },
   "outputs": [],
   "source": [
    "train=df.sample(frac = 1/2)\n",
    "test=df.drop(train.index)\n",
    "train = train.reset_index(drop=True)\n",
    "test = test.reset_index(drop=True)\n",
    "\n",
    "X = train[keys]\n",
    "y = train[dep_key]\n",
    "\n",
    "X_test = test[keys]\n",
    "y_test = test[dep_key]"
   ]
  },
  {
   "cell_type": "markdown",
   "id": "f102bacf",
   "metadata": {
    "papermill": {
     "duration": 0.006609,
     "end_time": "2023-05-06T14:15:47.098509",
     "exception": false,
     "start_time": "2023-05-06T14:15:47.091900",
     "status": "completed"
    },
    "tags": []
   },
   "source": [
    "At a baseline, our first choice to model this data set might be multiple linear regression."
   ]
  },
  {
   "cell_type": "code",
   "execution_count": 8,
   "id": "0fa5de66",
   "metadata": {
    "execution": {
     "iopub.execute_input": "2023-05-06T14:15:47.113458Z",
     "iopub.status.busy": "2023-05-06T14:15:47.113023Z",
     "iopub.status.idle": "2023-05-06T14:15:48.387109Z",
     "shell.execute_reply": "2023-05-06T14:15:48.385974Z"
    },
    "papermill": {
     "duration": 1.284383,
     "end_time": "2023-05-06T14:15:48.389469",
     "exception": false,
     "start_time": "2023-05-06T14:15:47.105086",
     "status": "completed"
    },
    "tags": []
   },
   "outputs": [
    {
     "data": {
      "text/html": [
       "<div>\n",
       "<style scoped>\n",
       "    .dataframe tbody tr th:only-of-type {\n",
       "        vertical-align: middle;\n",
       "    }\n",
       "\n",
       "    .dataframe tbody tr th {\n",
       "        vertical-align: top;\n",
       "    }\n",
       "\n",
       "    .dataframe thead th {\n",
       "        text-align: right;\n",
       "    }\n",
       "</style>\n",
       "<table border=\"1\" class=\"dataframe\">\n",
       "  <thead>\n",
       "    <tr style=\"text-align: right;\">\n",
       "      <th></th>\n",
       "      <th>0</th>\n",
       "      <th>1</th>\n",
       "    </tr>\n",
       "  </thead>\n",
       "  <tbody>\n",
       "    <tr>\n",
       "      <th>0</th>\n",
       "      <td>peak_players</td>\n",
       "      <td>1.076366e-07</td>\n",
       "    </tr>\n",
       "    <tr>\n",
       "      <th>1</th>\n",
       "      <td>total_reviews</td>\n",
       "      <td>6.897245e-07</td>\n",
       "    </tr>\n",
       "    <tr>\n",
       "      <th>2</th>\n",
       "      <td>postive_fraction</td>\n",
       "      <td>5.027714e-01</td>\n",
       "    </tr>\n",
       "  </tbody>\n",
       "</table>\n",
       "</div>"
      ],
      "text/plain": [
       "                  0             1\n",
       "0      peak_players  1.076366e-07\n",
       "1     total_reviews  6.897245e-07\n",
       "2  postive_fraction  5.027714e-01"
      ]
     },
     "execution_count": 8,
     "metadata": {},
     "output_type": "execute_result"
    }
   ],
   "source": [
    "from sklearn import linear_model\n",
    "\n",
    "regr = linear_model.LinearRegression()\n",
    "regr.fit(X, y)\n",
    "pd.DataFrame(zip(X.columns, regr.coef_))"
   ]
  },
  {
   "cell_type": "code",
   "execution_count": 9,
   "id": "1cbe7aa2",
   "metadata": {
    "execution": {
     "iopub.execute_input": "2023-05-06T14:15:48.406072Z",
     "iopub.status.busy": "2023-05-06T14:15:48.404996Z",
     "iopub.status.idle": "2023-05-06T14:15:48.978240Z",
     "shell.execute_reply": "2023-05-06T14:15:48.976910Z"
    },
    "papermill": {
     "duration": 0.583749,
     "end_time": "2023-05-06T14:15:48.980385",
     "exception": false,
     "start_time": "2023-05-06T14:15:48.396636",
     "status": "completed"
    },
    "tags": []
   },
   "outputs": [
    {
     "name": "stdout",
     "output_type": "stream",
     "text": [
      "Multiple linear regression training R^2:  0.9884509895974009\n"
     ]
    }
   ],
   "source": [
    "y_pred = regr.predict(X)\n",
    "sst = 0\n",
    "ssr = 0\n",
    "for i in range(len(y_pred)):\n",
    "    sst += y[i] * y[i]\n",
    "    ssr += (y[i] - y_pred[i]) * (y[i] - y_pred[i])\n",
    "\n",
    "print(\"Multiple linear regression training R^2: \", 1 - ssr / sst)"
   ]
  },
  {
   "cell_type": "code",
   "execution_count": 10,
   "id": "ae8fa7bd",
   "metadata": {
    "execution": {
     "iopub.execute_input": "2023-05-06T14:15:48.996324Z",
     "iopub.status.busy": "2023-05-06T14:15:48.995938Z",
     "iopub.status.idle": "2023-05-06T14:15:49.570160Z",
     "shell.execute_reply": "2023-05-06T14:15:49.568808Z"
    },
    "papermill": {
     "duration": 0.585114,
     "end_time": "2023-05-06T14:15:49.572556",
     "exception": false,
     "start_time": "2023-05-06T14:15:48.987442",
     "status": "completed"
    },
    "tags": []
   },
   "outputs": [
    {
     "name": "stdout",
     "output_type": "stream",
     "text": [
      "Multiple linear regression validation R^2:  0.9863378114586118\n"
     ]
    }
   ],
   "source": [
    "y_pred = regr.predict(X_test)\n",
    "sst = 0\n",
    "ssr = 0\n",
    "for i in range(len(y_pred)):\n",
    "    sst += y_test[i] * y_test[i]\n",
    "    ssr += (y_test[i] - y_pred[i]) * (y_test[i] - y_pred[i])\n",
    "\n",
    "print(\"Multiple linear regression validation R^2: \", 1 - ssr / sst)"
   ]
  },
  {
   "cell_type": "markdown",
   "id": "72c272a0",
   "metadata": {
    "papermill": {
     "duration": 0.007069,
     "end_time": "2023-05-06T14:15:49.586757",
     "exception": false,
     "start_time": "2023-05-06T14:15:49.579688",
     "status": "completed"
    },
    "tags": []
   },
   "source": [
    "To discretize the data, we split it into as many quantiles as `2` to the power of our number of input qubits."
   ]
  },
  {
   "cell_type": "code",
   "execution_count": 11,
   "id": "3fd70f98",
   "metadata": {
    "execution": {
     "iopub.execute_input": "2023-05-06T14:15:49.602786Z",
     "iopub.status.busy": "2023-05-06T14:15:49.602380Z",
     "iopub.status.idle": "2023-05-06T14:15:49.619031Z",
     "shell.execute_reply": "2023-05-06T14:15:49.618101Z"
    },
    "papermill": {
     "duration": 0.027775,
     "end_time": "2023-05-06T14:15:49.621572",
     "exception": false,
     "start_time": "2023-05-06T14:15:49.593797",
     "status": "completed"
    },
    "tags": []
   },
   "outputs": [],
   "source": [
    "import numpy as np\n",
    "\n",
    "in_qubit_count = 4\n",
    "\n",
    "in_key_count = len(keys)\n",
    "in_bin_count = 1 << in_qubit_count\n",
    "in_tot_count = in_key_count * in_qubit_count\n",
    "out_qubit_count = in_key_count * in_qubit_count\n",
    "out_bin_count = 1 << out_qubit_count\n",
    "\n",
    "x_bins = []\n",
    "for key in keys:\n",
    "    x_bins.append(np.percentile(X[key], np.arange(0, 100, 100 / (2 * in_bin_count)))[1::2])\n",
    "y_bins = np.percentile(y, np.arange(0, 100, 100 / (2 * out_bin_count))[1::2])"
   ]
  },
  {
   "cell_type": "code",
   "execution_count": 12,
   "id": "d27cc8ba",
   "metadata": {
    "execution": {
     "iopub.execute_input": "2023-05-06T14:15:49.638071Z",
     "iopub.status.busy": "2023-05-06T14:15:49.637239Z",
     "iopub.status.idle": "2023-05-06T14:15:49.643878Z",
     "shell.execute_reply": "2023-05-06T14:15:49.642751Z"
    },
    "papermill": {
     "duration": 0.017263,
     "end_time": "2023-05-06T14:15:49.645974",
     "exception": false,
     "start_time": "2023-05-06T14:15:49.628711",
     "status": "completed"
    },
    "tags": []
   },
   "outputs": [
    {
     "name": "stdout",
     "output_type": "stream",
     "text": [
      "[array([1.00000000e+00, 2.00000000e+00, 2.00000000e+00, 3.00000000e+00,\n",
      "       3.00000000e+00, 4.00000000e+00, 4.00000000e+00, 6.00000000e+00,\n",
      "       8.00000000e+00, 1.10000000e+01, 1.80000000e+01, 3.20000000e+01,\n",
      "       6.90000000e+01, 1.64000000e+02, 5.19562500e+02, 2.83509375e+03]), array([1.0000000e+00, 3.0000000e+00, 4.0000000e+00, 6.0000000e+00,\n",
      "       9.0000000e+00, 1.2000000e+01, 1.7000000e+01, 2.3000000e+01,\n",
      "       3.1000000e+01, 4.4000000e+01, 6.5000000e+01, 1.0300000e+02,\n",
      "       1.7600000e+02, 3.5946875e+02, 8.9500000e+02, 5.1561875e+03]), array([0.14285714, 0.4       , 0.5       , 0.58181818, 0.64751449,\n",
      "       0.69337834, 0.74137931, 0.77777778, 0.8125    , 0.84615385,\n",
      "       0.87583131, 0.90909091, 0.93939394, 0.98062521, 1.        ,\n",
      "       1.        ])]\n"
     ]
    }
   ],
   "source": [
    "print(x_bins)"
   ]
  },
  {
   "cell_type": "code",
   "execution_count": 13,
   "id": "9af3915a",
   "metadata": {
    "execution": {
     "iopub.execute_input": "2023-05-06T14:15:49.662170Z",
     "iopub.status.busy": "2023-05-06T14:15:49.661794Z",
     "iopub.status.idle": "2023-05-06T14:15:49.666968Z",
     "shell.execute_reply": "2023-05-06T14:15:49.665971Z"
    },
    "papermill": {
     "duration": 0.015928,
     "end_time": "2023-05-06T14:15:49.669078",
     "exception": false,
     "start_time": "2023-05-06T14:15:49.653150",
     "status": "completed"
    },
    "tags": []
   },
   "outputs": [
    {
     "name": "stdout",
     "output_type": "stream",
     "text": [
      "[0.20464346 0.21704889 0.23186914 ... 0.95851852 0.96145111 0.96505654]\n"
     ]
    }
   ],
   "source": [
    "print(y_bins)"
   ]
  },
  {
   "cell_type": "markdown",
   "id": "a9c0a950",
   "metadata": {
    "papermill": {
     "duration": 0.007099,
     "end_time": "2023-05-06T14:15:49.683330",
     "exception": false,
     "start_time": "2023-05-06T14:15:49.676231",
     "status": "completed"
    },
    "tags": []
   },
   "source": [
    "Once we have our quantiles, we bin our indepedent training and validation data."
   ]
  },
  {
   "cell_type": "code",
   "execution_count": 14,
   "id": "c027aa33",
   "metadata": {
    "execution": {
     "iopub.execute_input": "2023-05-06T14:15:49.700029Z",
     "iopub.status.busy": "2023-05-06T14:15:49.698930Z",
     "iopub.status.idle": "2023-05-06T14:15:55.997481Z",
     "shell.execute_reply": "2023-05-06T14:15:55.996293Z"
    },
    "papermill": {
     "duration": 6.309712,
     "end_time": "2023-05-06T14:15:56.000126",
     "exception": false,
     "start_time": "2023-05-06T14:15:49.690414",
     "status": "completed"
    },
    "tags": []
   },
   "outputs": [],
   "source": [
    "def discretize_x(X):\n",
    "    xd = []\n",
    "    for i in X.index:\n",
    "        xd_row = []\n",
    "        for ki in range(len(keys)):\n",
    "            key = keys[ki]\n",
    "            bn = in_bin_count\n",
    "            offset = 0\n",
    "            while bn > 1:\n",
    "                bn =  bn // 2\n",
    "                b = bn + offset\n",
    "                if X[key][i] < x_bins[ki][b - 1]:\n",
    "                    xd_row.append(False)\n",
    "                else:\n",
    "                    xd_row.append(True)\n",
    "                    offset += bn\n",
    "        xd.append(xd_row)\n",
    "    return xd\n",
    "\n",
    "xd = discretize_x(X)\n",
    "xd_test = discretize_x(X_test)"
   ]
  },
  {
   "cell_type": "markdown",
   "id": "8bfbbfd0",
   "metadata": {
    "papermill": {
     "duration": 0.006897,
     "end_time": "2023-05-06T14:15:56.014547",
     "exception": false,
     "start_time": "2023-05-06T14:15:56.007650",
     "status": "completed"
    },
    "tags": []
   },
   "source": [
    "We do the same for our dependent data."
   ]
  },
  {
   "cell_type": "code",
   "execution_count": 15,
   "id": "59f01bad",
   "metadata": {
    "execution": {
     "iopub.execute_input": "2023-05-06T14:15:56.030586Z",
     "iopub.status.busy": "2023-05-06T14:15:56.030172Z",
     "iopub.status.idle": "2023-05-06T14:15:59.396360Z",
     "shell.execute_reply": "2023-05-06T14:15:59.395337Z"
    },
    "papermill": {
     "duration": 3.377207,
     "end_time": "2023-05-06T14:15:59.398804",
     "exception": false,
     "start_time": "2023-05-06T14:15:56.021597",
     "status": "completed"
    },
    "tags": []
   },
   "outputs": [],
   "source": [
    "def discretize_y(y):\n",
    "    yd = []\n",
    "    for i in y.index:\n",
    "        yd_row = []\n",
    "        bn = out_bin_count\n",
    "        offset = 0\n",
    "        while bn > 0:\n",
    "            bn =  bn // 2\n",
    "            b = bn + offset\n",
    "            if y[i] < y_bins[b - 1]:\n",
    "                yd_row.append(False)\n",
    "            else:\n",
    "                yd_row.append(True)\n",
    "                offset += bn\n",
    "        yd.append(yd_row)\n",
    "    return yd\n",
    "\n",
    "yd = discretize_y(y)\n",
    "yd_test = discretize_y(y_test)"
   ]
  },
  {
   "cell_type": "markdown",
   "id": "2b70e363",
   "metadata": {
    "papermill": {
     "duration": 0.006734,
     "end_time": "2023-05-06T14:15:59.412842",
     "exception": false,
     "start_time": "2023-05-06T14:15:59.406108",
     "status": "completed"
    },
    "tags": []
   },
   "source": [
    "We're ready to train our associative memory! (Note that it offers us no particular advantage, in this case, that our \"neurons\" are based on simulated quantum computational gates, though it is possible to predict in \"superposition\" of many rows at once.)"
   ]
  },
  {
   "cell_type": "code",
   "execution_count": 16,
   "id": "1433725d",
   "metadata": {
    "execution": {
     "iopub.execute_input": "2023-05-06T14:15:59.428515Z",
     "iopub.status.busy": "2023-05-06T14:15:59.427835Z",
     "iopub.status.idle": "2023-05-06T14:18:22.848306Z",
     "shell.execute_reply": "2023-05-06T14:18:22.846962Z"
    },
    "papermill": {
     "duration": 143.431003,
     "end_time": "2023-05-06T14:18:22.850737",
     "exception": false,
     "start_time": "2023-05-06T14:15:59.419734",
     "status": "completed"
    },
    "tags": []
   },
   "outputs": [
    {
     "name": "stdout",
     "output_type": "stream",
     "text": [
      "Epoch  33200  out of  33214\n"
     ]
    }
   ],
   "source": [
    "from IPython.display import clear_output\n",
    "from pyqrack import QrackSimulator, QrackNeuron\n",
    "\n",
    "eta = (1 / 2) * (out_bin_count / y.shape[0])\n",
    "\n",
    "input_power = 1 << in_tot_count\n",
    "input_indices = list(range(in_tot_count))\n",
    "qsim = QrackSimulator(in_tot_count + out_qubit_count)\n",
    "\n",
    "output_layer = []\n",
    "for i in range(out_qubit_count):\n",
    "    output_layer.append(QrackNeuron(qsim, input_indices, in_tot_count + i))\n",
    "\n",
    "# Train the network to associate powers of 2 with their log2()\n",
    "print(\"Learning...\")\n",
    "for i in range(len(xd)):\n",
    "    if ((i + 1) % 100) == 0:\n",
    "        if (i + 1) != 100:\n",
    "            clear_output(wait=True)\n",
    "        print(\"Epoch \", (i + 1), \" out of \", len(xd))\n",
    "\n",
    "    perm = xd[i]\n",
    "    res = yd[i]\n",
    "\n",
    "    for j in range(out_qubit_count):\n",
    "        qsim.reset_all()\n",
    "        for k in range(in_tot_count):\n",
    "            if perm[k]:\n",
    "                qsim.x(k)\n",
    "        output_layer[j].learn_permutation(eta, res[j] == 1)"
   ]
  },
  {
   "cell_type": "markdown",
   "id": "90852cbe",
   "metadata": {
    "papermill": {
     "duration": 0.006769,
     "end_time": "2023-05-06T14:18:22.865067",
     "exception": false,
     "start_time": "2023-05-06T14:18:22.858298",
     "status": "completed"
    },
    "tags": []
   },
   "source": [
    "Let's use our neural net, trained on half the data, to try to predict the left-out half of data!"
   ]
  },
  {
   "cell_type": "code",
   "execution_count": 17,
   "id": "6285fa1f",
   "metadata": {
    "execution": {
     "iopub.execute_input": "2023-05-06T14:18:22.881155Z",
     "iopub.status.busy": "2023-05-06T14:18:22.880399Z",
     "iopub.status.idle": "2023-05-06T14:18:49.325303Z",
     "shell.execute_reply": "2023-05-06T14:18:49.324060Z"
    },
    "papermill": {
     "duration": 26.455679,
     "end_time": "2023-05-06T14:18:49.327672",
     "exception": false,
     "start_time": "2023-05-06T14:18:22.871993",
     "status": "completed"
    },
    "tags": []
   },
   "outputs": [
    {
     "name": "stdout",
     "output_type": "stream",
     "text": [
      "Predicting  33200  out of  33213\n"
     ]
    }
   ],
   "source": [
    "print(\"Should associate each input with its trained output...\")\n",
    "sum_sqr_tot = 0\n",
    "sum_sqr_res = 0\n",
    "for i in range(len(xd_test)):\n",
    "    if ((i + 1) % 100) == 0:\n",
    "        if (i + 1) != 100:\n",
    "            clear_output(wait=True)\n",
    "        print(\"Predicting \", (i + 1), \" out of \", len(xd_test))\n",
    "\n",
    "    perm = xd_test[i]\n",
    "\n",
    "    qsim.reset_all()\n",
    "    for j in range(in_tot_count):\n",
    "        if perm[j]:\n",
    "            qsim.x(j)\n",
    "    for j in range(out_qubit_count):\n",
    "        output_layer[j].predict()\n",
    "\n",
    "    bn = out_bin_count\n",
    "    offset = 0\n",
    "    for j in range(out_qubit_count):\n",
    "        bn = bn // 2\n",
    "        offset += bn * qsim.prob(in_tot_count + j) \n",
    "    pred = y_bins[round(offset)]\n",
    "\n",
    "    sum_sqr_tot += y_test[i] * y_test[i]\n",
    "    sum_sqr_res += (y_test[i] - pred) * (y_test[i] - pred)"
   ]
  },
  {
   "cell_type": "markdown",
   "id": "fabf6f94",
   "metadata": {
    "papermill": {
     "duration": 0.007161,
     "end_time": "2023-05-06T14:18:49.342548",
     "exception": false,
     "start_time": "2023-05-06T14:18:49.335387",
     "status": "completed"
    },
    "tags": []
   },
   "source": [
    "How does this compare to the validation R^2 of multiple linear regression?"
   ]
  },
  {
   "cell_type": "code",
   "execution_count": 18,
   "id": "17125ac6",
   "metadata": {
    "execution": {
     "iopub.execute_input": "2023-05-06T14:18:49.359740Z",
     "iopub.status.busy": "2023-05-06T14:18:49.358567Z",
     "iopub.status.idle": "2023-05-06T14:18:49.365319Z",
     "shell.execute_reply": "2023-05-06T14:18:49.364092Z"
    },
    "papermill": {
     "duration": 0.01765,
     "end_time": "2023-05-06T14:18:49.367480",
     "exception": false,
     "start_time": "2023-05-06T14:18:49.349830",
     "status": "completed"
    },
    "tags": []
   },
   "outputs": [
    {
     "name": "stdout",
     "output_type": "stream",
     "text": [
      "QrackNeuron validation R^2:  0.9973246901724443\n",
      "Multiple linear regression validation R^2:  0.9863378114586118\n",
      "QrackNeuron quantum associative memory outperformed multiple linear regression.\n"
     ]
    }
   ],
   "source": [
    "print(\"QrackNeuron validation R^2: \", 1 - sum_sqr_res / sum_sqr_tot)\n",
    "print(\"Multiple linear regression validation R^2: \", 1 - ssr / sst)\n",
    "if (1 - sum_sqr_res / sum_sqr_tot) > (1 - ssr / sst):\n",
    "    print(\"QrackNeuron quantum associative memory outperformed multiple linear regression.\")\n",
    "else:\n",
    "    print(\"Multiple linear regression outperformed QrackNeuron quantum associative memory.\")"
   ]
  }
 ],
 "metadata": {
  "kernelspec": {
   "display_name": "Python 3 (ipykernel)",
   "language": "python",
   "name": "python3"
  },
  "language_info": {
   "codemirror_mode": {
    "name": "ipython",
    "version": 3
   },
   "file_extension": ".py",
   "mimetype": "text/x-python",
   "name": "python",
   "nbconvert_exporter": "python",
   "pygments_lexer": "ipython3",
   "version": "3.10.6"
  },
  "papermill": {
   "default_parameters": {},
   "duration": 206.417493,
   "end_time": "2023-05-06T14:18:50.398278",
   "environment_variables": {},
   "exception": null,
   "input_path": "__notebook__.ipynb",
   "output_path": "__notebook__.ipynb",
   "parameters": {},
   "start_time": "2023-05-06T14:15:23.980785",
   "version": "2.4.0"
  }
 },
 "nbformat": 4,
 "nbformat_minor": 5
}
