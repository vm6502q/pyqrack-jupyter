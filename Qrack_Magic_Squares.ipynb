{
 "cells": [
  {
   "cell_type": "markdown",
   "id": "tracked-cricket",
   "metadata": {},
   "source": [
    "# Qrack Magic Squares"
   ]
  },
  {
   "cell_type": "markdown",
   "id": "medium-express",
   "metadata": {},
   "source": [
    "You need the `pyqrack` package to run the notebooks in this repository. [`vm6502q/pyqrack`](https://github.com/vm6502q/pyqrack) is a pure Python wrapper on the [`vm6502q/qrack`](https://github.com/vm6502q/qrack) quantum computer simulation framework core library. The preferred method of installation is from source code, at those GitHub repositories, but a package with default build precompiled binaries is available on [pypi](https://pypi.org/project/pyqrack/0.2.0/)."
   ]
  },
  {
   "cell_type": "code",
   "execution_count": 1,
   "id": "stable-monthly",
   "metadata": {},
   "outputs": [],
   "source": [
    "# For example, if your Jupyter installation uses pip:\n",
    "# import sys\n",
    "# !{sys.executable} -m pip install pyqrack"
   ]
  },
  {
   "cell_type": "markdown",
   "id": "peaceful-vaccine",
   "metadata": {},
   "source": [
    "We're going to produce maximal superpositions of some \"magic square\" gameboards through elementary quantum gates. Whenever we quantum mechanically \"measure\" the board, it will collapse into a valid solution, at random."
   ]
  },
  {
   "cell_type": "markdown",
   "id": "502b538e-8de4-49d3-9c97-31d2c88ab625",
   "metadata": {},
   "source": [
    "Without prior knowledge or _ad hoc_ considerations, this can be done with Grover's search algorithm. (See [https://blog.theodo.com/2022/10/quantum-sudoku/](https://blog.theodo.com/2022/10/quantum-sudoku/).)"
   ]
  },
  {
   "cell_type": "markdown",
   "id": "b0280941-130e-4d95-8aa0-974854e46354",
   "metadata": {},
   "source": [
    "## 2x2 Magic Square"
   ]
  },
  {
   "cell_type": "code",
   "execution_count": 2,
   "id": "individual-generator",
   "metadata": {},
   "outputs": [
    {
     "name": "stdout",
     "output_type": "stream",
     "text": [
      "Device #0, Loaded binary from: /home/iamu/.qrack/qrack_ocl_dev_NVIDIA_GeForce_RTX_3080_Laptop_GPU.ir\n",
      "{9: 524, 6: 500}\n",
      "\n",
      "1 0\n",
      "0 1\n",
      "\n",
      "0 1\n",
      "1 0\n",
      "\n"
     ]
    }
   ],
   "source": [
    "from collections import Counter\n",
    "from pyqrack import QrackSimulator\n",
    "\n",
    "length = 2\n",
    "sqr = length * length\n",
    "sqr_x2 = sqr << 1\n",
    "\n",
    "qsim = QrackSimulator(sqr_x2)\n",
    "                      \n",
    "# Prepare an equal superposition of all game boards:\n",
    "for i in range(sqr):\n",
    "    qsim.h(i)\n",
    "\n",
    "# This is basically Grover's search oracle,\n",
    "# but done \"semi-classically\" for better simulation performance\n",
    "for i in range(length):\n",
    "    # Check both rows:\n",
    "    qsim.mcx([(i << 1)], sqr + i)\n",
    "    qsim.mcx([(i << 1) + 1], sqr + i)\n",
    "\n",
    "    # Check both columns:\n",
    "    qsim.mcx([i], sqr + i + length)\n",
    "    qsim.mcx([i + length], sqr + i + length)\n",
    "\n",
    "# These bits are all |1> exclusively only when the puzzle is a solution.\n",
    "for i in range(sqr, sqr_x2):\n",
    "    # If we collapse it now, we constrict the superposition to just valid solutions.\n",
    "    qsim.force_m(i, True)\n",
    "\n",
    "result_2x2 = dict(Counter(qsim.measure_shots(list(range(sqr)), 1024)))\n",
    "print(result_2x2)\n",
    "print()\n",
    "\n",
    "# For each result possibility...\n",
    "for key, _ in  result_2x2.items():\n",
    "    # For each row in the board...\n",
    "    for i in range(length):\n",
    "        # For each column in the board...\n",
    "        # Print the qubit truth values.\n",
    "        print((key >> (2 * i)) & 1, end = \" \")\n",
    "        print((key >> ((2 * i) + 1)) & 1)\n",
    "    print()"
   ]
  }
 ],
 "metadata": {
  "kernelspec": {
   "display_name": "Python 3 (ipykernel)",
   "language": "python",
   "name": "python3"
  },
  "language_info": {
   "codemirror_mode": {
    "name": "ipython",
    "version": 3
   },
   "file_extension": ".py",
   "mimetype": "text/x-python",
   "name": "python",
   "nbconvert_exporter": "python",
   "pygments_lexer": "ipython3",
   "version": "3.10.12"
  }
 },
 "nbformat": 4,
 "nbformat_minor": 5
}
