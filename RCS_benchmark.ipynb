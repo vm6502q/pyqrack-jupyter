{
 "cells": [
  {
   "cell_type": "markdown",
   "id": "5f57c8a3",
   "metadata": {},
   "source": [
    "# Quantum Fourier Transform Benchmark"
   ]
  },
  {
   "cell_type": "code",
   "execution_count": 1,
   "id": "90b257ae",
   "metadata": {},
   "outputs": [],
   "source": [
    "low = 8\n",
    "high = 64\n",
    "samples = 10"
   ]
  },
  {
   "cell_type": "code",
   "execution_count": 2,
   "id": "1f21a89b",
   "metadata": {},
   "outputs": [],
   "source": [
    "import time\n",
    "import random\n",
    "import math\n",
    "\n",
    "from pyqrack import QrackSimulator"
   ]
  },
  {
   "cell_type": "markdown",
   "id": "fb4ef620",
   "metadata": {},
   "source": [
    "## PyQrack"
   ]
  },
  {
   "cell_type": "code",
   "execution_count": 3,
   "id": "9e742f47",
   "metadata": {},
   "outputs": [
    {
     "name": "stdout",
     "output_type": "stream",
     "text": [
      "Device #0, Loaded binary from: /home/iamu/.qrack/qrack_ocl_dev_NVIDIA_GeForce_RTX_3080_Laptop_GPU.ir\n",
      "8 :  0.00025167620005959177  seconds\n",
      "9 :  0.00031617259955964985  seconds\n",
      "10 :  0.00043385910030337984  seconds\n",
      "11 :  0.0004521234004641883  seconds\n",
      "12 :  0.0005281858000671491  seconds\n",
      "13 :  0.0006256255004700506  seconds\n",
      "14 :  0.0007098271005816059  seconds\n",
      "15 :  0.0007807215006323531  seconds\n",
      "16 :  0.0008685215994773898  seconds\n",
      "17 :  0.0009965575001842808  seconds\n",
      "18 :  0.0011396573998354142  seconds\n",
      "19 :  0.0012694912002189085  seconds\n",
      "20 :  0.0014295133008999984  seconds\n",
      "21 :  0.0015742867995868436  seconds\n",
      "22 :  0.0017161945001134883  seconds\n",
      "23 :  0.001893810599722201  seconds\n",
      "24 :  0.0020371959999465616  seconds\n",
      "25 :  0.00217880439995497  seconds\n",
      "26 :  0.002387791299406672  seconds\n",
      "27 :  0.00255318220006302  seconds\n",
      "28 :  0.003321845600294182  seconds\n",
      "29 :  0.003533299599439488  seconds\n",
      "30 :  0.003826791099345428  seconds\n",
      "31 :  0.004028105599718401  seconds\n",
      "32 :  0.004322662199774641  seconds\n",
      "33 :  0.004540993999762577  seconds\n",
      "34 :  0.004778236998754437  seconds\n",
      "35 :  0.0051104940994264325  seconds\n",
      "36 :  0.005443979199844762  seconds\n",
      "37 :  0.005675604299540282  seconds\n",
      "38 :  0.006194018599489937  seconds\n",
      "39 :  0.006346837199453148  seconds\n",
      "40 :  0.0065385749003326055  seconds\n",
      "41 :  0.006904678000501008  seconds\n",
      "42 :  0.0073368856996239625  seconds\n",
      "43 :  0.007554345001335605  seconds\n",
      "44 :  0.007735025999863865  seconds\n",
      "45 :  0.008123336500648292  seconds\n",
      "46 :  0.00865560620004544  seconds\n",
      "47 :  0.00882636379901669  seconds\n",
      "48 :  0.009075275400391547  seconds\n",
      "49 :  0.009707847499885246  seconds\n",
      "50 :  0.00989642289969197  seconds\n",
      "51 :  0.010199061399907805  seconds\n",
      "52 :  0.010637803400459233  seconds\n",
      "53 :  0.010890157800895394  seconds\n",
      "54 :  0.011358373399707489  seconds\n",
      "55 :  0.011709957199855126  seconds\n",
      "56 :  0.012316926299899934  seconds\n",
      "57 :  0.01256310009957815  seconds\n",
      "58 :  0.013119182798982365  seconds\n",
      "59 :  0.013466558199797873  seconds\n",
      "60 :  0.01390526149989455  seconds\n",
      "61 :  0.014610057599202263  seconds\n",
      "62 :  0.015156124600252951  seconds\n",
      "63 :  0.015309690399590181  seconds\n",
      "64 :  0.015785690800476003  seconds\n"
     ]
    }
   ],
   "source": [
    "def bench_qrack(n):\n",
    "    # This is basically a \"quantum volume\" (random) circuit.\n",
    "    start = time.perf_counter()\n",
    "\n",
    "    sim = QrackSimulator(n)\n",
    "\n",
    "    lcv_range = range(n)\n",
    "    all_bits = [list(lcv_range)]\n",
    "\n",
    "    for d in lcv_range:\n",
    "        # Single-qubit gates\n",
    "        for i in lcv_range:\n",
    "            sim.u(i, random.uniform(0, 2 * math.pi), random.uniform(0, 2 * math.pi), random.uniform(0, 2 * math.pi))\n",
    "\n",
    "        # 2-qubit couplers\n",
    "        unused_bits = all_bits.copy()\n",
    "        random.shuffle(unused_bits)\n",
    "        while len(unused_bits) > 1:\n",
    "            sim.mcx([unused_bits.pop()], unused_bits.pop())\n",
    "\n",
    "    # Terminal measurement\n",
    "    sim.m_all()\n",
    "\n",
    "    return time.perf_counter() - start\n",
    "\n",
    "# Make sure the OpenCL environment is initialized before timing.\n",
    "# (You probably also want to precompile OpenCL kernels with the `qrack_cl_compile` utility, in general.)\n",
    "bench_qrack(1)\n",
    "\n",
    "qrack_results = {}\n",
    "for n in range(low, high + 1):\n",
    "    width_results = []\n",
    "        \n",
    "    # Run the benchmarks\n",
    "    for i in range(samples):\n",
    "        width_results.append(bench_qrack(n))\n",
    "\n",
    "    qrack_results[n] = sum(width_results) / samples\n",
    "    print(n, \": \", qrack_results[n], \" seconds\")"
   ]
  }
 ],
 "metadata": {
  "kernelspec": {
   "display_name": "Python 3 (ipykernel)",
   "language": "python",
   "name": "python3"
  },
  "language_info": {
   "codemirror_mode": {
    "name": "ipython",
    "version": 3
   },
   "file_extension": ".py",
   "mimetype": "text/x-python",
   "name": "python",
   "nbconvert_exporter": "python",
   "pygments_lexer": "ipython3",
   "version": "3.10.12"
  }
 },
 "nbformat": 4,
 "nbformat_minor": 5
}
