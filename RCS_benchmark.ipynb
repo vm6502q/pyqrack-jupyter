{
 "cells": [
  {
   "cell_type": "markdown",
   "id": "5f57c8a3",
   "metadata": {},
   "source": [
    "# RCS Benchmark"
   ]
  },
  {
   "cell_type": "code",
   "execution_count": 1,
   "id": "90b257ae",
   "metadata": {},
   "outputs": [],
   "source": [
    "low = 8\n",
    "high = 64\n",
    "samples = 10"
   ]
  },
  {
   "cell_type": "code",
   "execution_count": 2,
   "id": "1f21a89b",
   "metadata": {},
   "outputs": [],
   "source": [
    "import time\n",
    "import random\n",
    "import math\n",
    "\n",
    "from pyqrack import QrackSimulator"
   ]
  },
  {
   "cell_type": "markdown",
   "id": "fb4ef620",
   "metadata": {},
   "source": [
    "## PyQrack"
   ]
  },
  {
   "cell_type": "code",
   "execution_count": 3,
   "id": "9e742f47",
   "metadata": {},
   "outputs": [
    {
     "name": "stdout",
     "output_type": "stream",
     "text": [
      "Device #0, Loaded binary from: /home/iamu/.qrack/qrack_ocl_dev_NVIDIA_GeForce_RTX_3080_Laptop_GPU.ir\n",
      "8 :  0.0002663639003003482  seconds\n",
      "9 :  0.0003225471002224367  seconds\n",
      "10 :  0.00038207889956538567  seconds\n",
      "11 :  0.000450291701417882  seconds\n",
      "12 :  0.0005365994984458666  seconds\n",
      "13 :  0.0005974229999992531  seconds\n",
      "14 :  0.0006984417988860514  seconds\n",
      "15 :  0.0007879812008468434  seconds\n",
      "16 :  0.0008911625998734962  seconds\n",
      "17 :  0.0009917194976878819  seconds\n",
      "18 :  0.0011141800001496448  seconds\n",
      "19 :  0.0012114302007830702  seconds\n",
      "20 :  0.0014201400001184084  seconds\n",
      "21 :  0.0015007636990048922  seconds\n",
      "22 :  0.0015927180982544086  seconds\n",
      "23 :  0.0017340862999844831  seconds\n",
      "24 :  0.0018029551014478785  seconds\n",
      "25 :  0.001971206598682329  seconds\n",
      "26 :  0.002291568700456992  seconds\n",
      "27 :  0.0023964479005371686  seconds\n",
      "28 :  0.0030285485001513733  seconds\n",
      "29 :  0.0032426411991764324  seconds\n",
      "30 :  0.003566655299800914  seconds\n",
      "31 :  0.0036772728999494575  seconds\n",
      "32 :  0.0040167052007745955  seconds\n",
      "33 :  0.004243659299390856  seconds\n",
      "34 :  0.004407351599365938  seconds\n",
      "35 :  0.004688981299841544  seconds\n",
      "36 :  0.004932799500238616  seconds\n",
      "37 :  0.005328631700831465  seconds\n",
      "38 :  0.005407948398351436  seconds\n",
      "39 :  0.005734763000509702  seconds\n",
      "40 :  0.006060906800121302  seconds\n",
      "41 :  0.006653706101496936  seconds\n",
      "42 :  0.006970394499512622  seconds\n",
      "43 :  0.006936541399772978  seconds\n",
      "44 :  0.007212637300835922  seconds\n",
      "45 :  0.007647433700185502  seconds\n",
      "46 :  0.007850670901825651  seconds\n",
      "47 :  0.008289896100905025  seconds\n",
      "48 :  0.008776340800250183  seconds\n",
      "49 :  0.009010517200658796  seconds\n",
      "50 :  0.009324766801000806  seconds\n",
      "51 :  0.009370140899409306  seconds\n",
      "52 :  0.009952046201215125  seconds\n",
      "53 :  0.010662794199743076  seconds\n",
      "54 :  0.010772704200644512  seconds\n",
      "55 :  0.011155689600127517  seconds\n",
      "56 :  0.011363228200934827  seconds\n",
      "57 :  0.012244895600451855  seconds\n",
      "58 :  0.012696211799629964  seconds\n",
      "59 :  0.013253615599387559  seconds\n",
      "60 :  0.01337916740012588  seconds\n",
      "61 :  0.013811835800879635  seconds\n",
      "62 :  0.014146835399151314  seconds\n",
      "63 :  0.014694046300428453  seconds\n",
      "64 :  0.014895466800226131  seconds\n"
     ]
    }
   ],
   "source": [
    "def bench_qrack(n):\n",
    "    # This is basically a \"quantum volume\" (random) circuit.\n",
    "    start = time.perf_counter()\n",
    "\n",
    "    sim = QrackSimulator(n)\n",
    "\n",
    "    lcv_range = range(n)\n",
    "    all_bits = [list(lcv_range)]\n",
    "\n",
    "    for _ in lcv_range:\n",
    "        # Single-qubit gates\n",
    "        for i in lcv_range:\n",
    "            sim.u(i, random.uniform(0, 2 * math.pi), random.uniform(0, 2 * math.pi), random.uniform(0, 2 * math.pi))\n",
    "\n",
    "        # 2-qubit couplers\n",
    "        unused_bits = all_bits.copy()\n",
    "        random.shuffle(unused_bits)\n",
    "        while len(unused_bits) > 1:\n",
    "            sim.mcx([unused_bits.pop()], unused_bits.pop())\n",
    "\n",
    "    # Terminal measurement\n",
    "    # print(sim.m_all())\n",
    "    sim.m_all()\n",
    "\n",
    "    return time.perf_counter() - start\n",
    "\n",
    "# Make sure the OpenCL environment is initialized before timing.\n",
    "# (You probably also want to precompile OpenCL kernels with the `qrack_cl_compile` utility, in general.)\n",
    "bench_qrack(1)\n",
    "\n",
    "qrack_results = {}\n",
    "for n in range(low, high + 1):\n",
    "    width_results = []\n",
    "        \n",
    "    # Run the benchmarks\n",
    "    for i in range(samples):\n",
    "        width_results.append(bench_qrack(n))\n",
    "\n",
    "    qrack_results[n] = sum(width_results) / samples\n",
    "    print(n, \": \", qrack_results[n], \" seconds\")"
   ]
  }
 ],
 "metadata": {
  "kernelspec": {
   "display_name": "Python 3 (ipykernel)",
   "language": "python",
   "name": "python3"
  },
  "language_info": {
   "codemirror_mode": {
    "name": "ipython",
    "version": 3
   },
   "file_extension": ".py",
   "mimetype": "text/x-python",
   "name": "python",
   "nbconvert_exporter": "python",
   "pygments_lexer": "ipython3",
   "version": "3.10.12"
  }
 },
 "nbformat": 4,
 "nbformat_minor": 5
}
