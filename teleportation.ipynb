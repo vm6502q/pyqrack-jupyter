{
 "cells": [
  {
   "cell_type": "markdown",
   "id": "composed-midwest",
   "metadata": {},
   "source": [
    "# Quantum Teleporation"
   ]
  },
  {
   "cell_type": "markdown",
   "id": "social-scott",
   "metadata": {},
   "source": [
    "You need the `pyqrack` package to run this notebook. [`vm6502q/pyqrack`](https://github.com/vm6502q/pyqrack) is a pure Python wrapper on the [`vm6502q/qrack`](https://github.com/vm6502q/qrack) quantum computer simulation framework core library. The preferred method of installation is from source code, at those GitHub repositories, but a package with default build precompiled binaries is available on [pypi](https://pypi.org/project/pyqrack/0.2.0/)."
   ]
  },
  {
   "cell_type": "code",
   "execution_count": 1,
   "id": "cubic-thousand",
   "metadata": {},
   "outputs": [],
   "source": [
    "# For example, if your Jupyter installation uses pip:\n",
    "# import sys\n",
    "# !{sys.executable} -m pip install pyqrack"
   ]
  },
  {
   "cell_type": "code",
   "execution_count": 2,
   "id": "impossible-situation",
   "metadata": {},
   "outputs": [],
   "source": [
    "from pyqrack import QrackSimulator"
   ]
  },
  {
   "cell_type": "markdown",
   "id": "embedded-athletics",
   "metadata": {},
   "source": [
    "[`QrackSimulator`](https://github.com/vm6502q/pyqrack/blob/main/pyqrack/qrack_simulator.py) is the \"workhorse\" of the `pyqrack` package. It instantiates simulated \"registers\" of qubits that we can act basic quantum gates between, to form arbitrary universal quantum circuits."
   ]
  },
  {
   "cell_type": "code",
   "execution_count": 3,
   "id": "ranging-appraisal",
   "metadata": {},
   "outputs": [
    {
     "name": "stdout",
     "output_type": "stream",
     "text": [
      "Device #0, Loaded binary from: /home/iamu/.qrack/qrack_ocl_dev_Intel(R)_UHD_Graphics_[0x9bc4].ir\n",
      "Device #1, Loaded binary from: /home/iamu/.qrack/qrack_ocl_dev_NVIDIA_GeForce_RTX_3080_Laptop_GPU.ir\n"
     ]
    }
   ],
   "source": [
    "qsim = QrackSimulator(4)"
   ]
  },
  {
   "cell_type": "markdown",
   "id": "finnish-defensive",
   "metadata": {},
   "source": [
    "\"Alice\" wants to transmit an exact qubit to \"Bob.\" This would be a common and fundamental need in a \"quantum network\" or \"quantum internet.\" We can accomplish the transmission of an exact qubit via \"quantum teleportation,\" and the teleportation algorithm would be repeated an arbitrary number of times to send larger amounts of information.\n",
    "\n",
    "\"Eve\" prepares a \"Bell pair,\" of two particles with maximally entangled spins, and she sends one particle to \"Alice\" and one particle to \"Bob\""
   ]
  },
  {
   "cell_type": "code",
   "execution_count": 4,
   "id": "statutory-lewis",
   "metadata": {},
   "outputs": [],
   "source": [
    "qsim.h(1)\n",
    "qsim.mcx([1], 2)"
   ]
  },
  {
   "cell_type": "markdown",
   "id": "iraqi-objective",
   "metadata": {},
   "source": [
    "Alice prepares a single qubit \"message\" to send to Bob. (This is a fully randomized qubit, in our example, but notice that we entangle it with another fully randomized qubit, hypothetically still held by Alice.)"
   ]
  },
  {
   "cell_type": "code",
   "execution_count": 5,
   "id": "integrated-armor",
   "metadata": {},
   "outputs": [],
   "source": [
    "import random, math\n",
    "qsim.u(0, random.uniform(0, 4 * math.pi), random.uniform(0, 4 * math.pi), random.uniform(0, 4 * math.pi))\n",
    "qsim.u(3, random.uniform(0, 4 * math.pi), random.uniform(0, 4 * math.pi), random.uniform(0, 4 * math.pi))\n",
    "qsim.mcx([3], 0)"
   ]
  },
  {
   "cell_type": "code",
   "execution_count": 6,
   "id": "f76d1f02",
   "metadata": {},
   "outputs": [
    {
     "name": "stdout",
     "output_type": "stream",
     "text": [
      "Z basis probability: 0.5057677030563354\n",
      "X basis probability: 0.9838635325431824\n"
     ]
    }
   ],
   "source": [
    "print(\"Z basis probability: \" + str(qsim.prob(0)))\n",
    "qsim.h(0)\n",
    "print(\"X basis probability: \" + str(qsim.prob(0)))\n",
    "qsim.h(0)"
   ]
  },
  {
   "cell_type": "markdown",
   "id": "mexican-characteristic",
   "metadata": {},
   "source": [
    "Alice entangles her message with her half of the Bell pair."
   ]
  },
  {
   "cell_type": "code",
   "execution_count": 7,
   "id": "placed-chest",
   "metadata": {},
   "outputs": [],
   "source": [
    "qsim.mcx([0], 1)\n",
    "qsim.h(0)"
   ]
  },
  {
   "cell_type": "markdown",
   "id": "conscious-surge",
   "metadata": {},
   "source": [
    "Alice measures both of her bits."
   ]
  },
  {
   "cell_type": "code",
   "execution_count": 8,
   "id": "silver-dressing",
   "metadata": {},
   "outputs": [],
   "source": [
    "q0 = qsim.m(0)\n",
    "q1 = qsim.m(1)"
   ]
  },
  {
   "cell_type": "markdown",
   "id": "gross-schedule",
   "metadata": {},
   "source": [
    "Alice sends these measurement results to Bob. \"Bob\" receives this (\"classical\") message from Alice and prepares his half of the Bell pair to complete teleportation."
   ]
  },
  {
   "cell_type": "code",
   "execution_count": 9,
   "id": "illegal-disease",
   "metadata": {},
   "outputs": [],
   "source": [
    "if q0:\n",
    "    qsim.z(2)\n",
    "if q1:\n",
    "    qsim.x(2)"
   ]
  },
  {
   "cell_type": "markdown",
   "id": "remarkable-institute",
   "metadata": {},
   "source": [
    "Theoretically, according to canonical quantum mechanics, Bob's half of the \"Bell pair\" is now in the exact state of Alice's original \"message\" qubit, before she teleported it.\n",
    "\n",
    "Bob can actually physically only measure his qubit once, before destroying its original state, but `pyqrack` lets us \"sample\" his qubit nondestructively, to extract maximum information about its state.\n",
    "\n",
    "**(These numbers are random, based upon Alice's original random preparation, but you could change her \"message\" preparation, above.)**"
   ]
  },
  {
   "cell_type": "code",
   "execution_count": 10,
   "id": "large-lottery",
   "metadata": {},
   "outputs": [
    {
     "name": "stdout",
     "output_type": "stream",
     "text": [
      "Z basis probability: 0.505767822265625\n",
      "X basis probability: 0.9838636517524719\n"
     ]
    }
   ],
   "source": [
    "print(\"Z basis probability: \" + str(qsim.prob(2)))\n",
    "qsim.h(2)\n",
    "print(\"X basis probability: \" + str(qsim.prob(2)))"
   ]
  }
 ],
 "metadata": {
  "kernelspec": {
   "display_name": "Python 3 (ipykernel)",
   "language": "python",
   "name": "python3"
  },
  "language_info": {
   "codemirror_mode": {
    "name": "ipython",
    "version": 3
   },
   "file_extension": ".py",
   "mimetype": "text/x-python",
   "name": "python",
   "nbconvert_exporter": "python",
   "pygments_lexer": "ipython3",
   "version": "3.10.6"
  }
 },
 "nbformat": 4,
 "nbformat_minor": 5
}
