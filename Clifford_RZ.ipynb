{
 "cells": [
  {
   "cell_type": "markdown",
   "id": "composed-midwest",
   "metadata": {},
   "source": [
    "# Clifford+RZ"
   ]
  },
  {
   "cell_type": "markdown",
   "id": "social-scott",
   "metadata": {},
   "source": [
    "You need the `pyqrack` package to run this notebook. [`vm6502q/pyqrack`](https://github.com/vm6502q/pyqrack) is a pure Python wrapper on the [`vm6502q/qrack`](https://github.com/vm6502q/qrack) quantum computer simulation framework core library. The preferred method of installation is from source code, at those GitHub repositories, but a package with default build precompiled binaries is available on [pypi](https://pypi.org/project/pyqrack/0.2.0/)."
   ]
  },
  {
   "cell_type": "code",
   "execution_count": 1,
   "id": "26fb4200",
   "metadata": {},
   "outputs": [],
   "source": [
    "# For example, if your Jupyter installation uses pip:\n",
    "# import sys\n",
    "# !{sys.executable} -m pip install --platform=manylinux2014_x86_64 --only-binary=:all: pyqrack"
   ]
  },
  {
   "cell_type": "code",
   "execution_count": 2,
   "id": "9eda67a6",
   "metadata": {},
   "outputs": [
    {
     "name": "stderr",
     "output_type": "stream",
     "text": [
      "2024-02-21 09:11:18.986282: W tensorflow/compiler/tf2tensorrt/utils/py_utils.cc:38] TF-TRT Warning: Could not find TensorRT\n"
     ]
    }
   ],
   "source": [
    "import collections\n",
    "import copy\n",
    "import math\n",
    "import os\n",
    "import random\n",
    "# import warnings\n",
    "\n",
    "import numpy as np\n",
    "\n",
    "import tensorcircuit as tc\n",
    "import tensorcircuit.compiler.simple_compiler as tcsc\n",
    "\n",
    "from qiskit import QuantumCircuit\n",
    "from qiskit.compiler import transpile\n",
    "\n",
    "from pyqrack import QrackSimulator, QrackCircuit\n",
    "\n",
    "# If we disable OpenCL and set the max CPU qubits to max integer, we bypass qubit widths limits.\n",
    "os.environ[\"QRACK_MAX_CPU_QB\"]=\"-1\"\n",
    "os.environ[\"QRACK_QTENSORNETWORK_THRESHOLD_QB\"]=\"-1\""
   ]
  },
  {
   "cell_type": "code",
   "execution_count": 3,
   "id": "18b33e84-d479-4826-b2c1-696ab3c37c26",
   "metadata": {},
   "outputs": [],
   "source": [
    "def normalize_2x2_unitary(mtrx):\n",
    "    det = np.linalg.det(mtrx)\n",
    "    a = (mtrx[0][0] + np.conj(mtrx[1][1] / det)) / 2\n",
    "    b = (mtrx[0][1] + np.conj(-mtrx[1][0] / det)) / 2\n",
    "    return np.array([[a, b], [-det * np.conj(b), det * np.conj(a)]], dtype=np.complex128)"
   ]
  },
  {
   "cell_type": "code",
   "execution_count": 4,
   "id": "e342bcef",
   "metadata": {},
   "outputs": [],
   "source": [
    "width = 4\n",
    "max_magic = 4"
   ]
  },
  {
   "cell_type": "markdown",
   "id": "embedded-athletics",
   "metadata": {},
   "source": [
    "[`QrackSimulator`](https://github.com/vm6502q/pyqrack/blob/main/pyqrack/qrack_simulator.py) is the \"workhorse\" of the `pyqrack` package. It instantiates simulated \"registers\" of qubits that we can act basic quantum gates between, to form arbitrary universal quantum circuits."
   ]
  },
  {
   "cell_type": "markdown",
   "id": "db71c6b9",
   "metadata": {},
   "source": [
    "`QrackCircuit` is an optional class for optimizing compilation. With it, one can define a circuit in advance, which is optimized upon definition. Then, one can save the optimized result to a file and later load it into a new or existing `QrackCircuit` instance. Ultimately, the circuit is executed by calling `run()` on a `QrackCircuit`, with a parameter of `QrackSimulator` of appropriate size. (The necessary width of the `QrackSimulator` can be determined with `QrackCircuit.get_qubit_count()`.)"
   ]
  },
  {
   "cell_type": "code",
   "execution_count": 5,
   "id": "statutory-lewis",
   "metadata": {},
   "outputs": [],
   "source": [
    "def rand_1qb(sim, q):\n",
    "    ph = random.uniform(0, 4 * math.pi)\n",
    "    sim.u(0, ph, 0, q)\n",
    "\n",
    "def random_circuit(width, circ):\n",
    "    t_count = 0\n",
    "    single_bit_gates = circ.h, circ.x, circ.y, circ.sx, circ.sxdg\n",
    "    single_bit_gates_with_phase = circ.h, circ.x, circ.y, circ.z, circ.s, circ.sdg, circ.sx, circ.sxdg\n",
    "    two_bit_gates = circ.cx, circ.cy, circ.cz, circ.swap, circ.iswap\n",
    "\n",
    "    for n in range(3 * width):\n",
    "        # Single bit gates\n",
    "        for j in range(width):\n",
    "            if (t_count < max_magic) and ((width * width * random.random()) < max_magic):\n",
    "                random.choice(single_bit_gates)(j)\n",
    "                rand_1qb(circ, j)\n",
    "                t_count += 1\n",
    "            else:\n",
    "                random.choice(single_bit_gates_with_phase)(j)\n",
    "\n",
    "        # Multi bit gates\n",
    "        bit_set = [i for i in range(width)]\n",
    "        while len(bit_set) > 1:\n",
    "            b1 = random.choice(bit_set)\n",
    "            bit_set.remove(b1)\n",
    "            b2 = random.choice(bit_set)\n",
    "            bit_set.remove(b2)\n",
    "            random.choice(two_bit_gates)(b1, b2)\n",
    "\n",
    "    return circ"
   ]
  },
  {
   "cell_type": "markdown",
   "id": "da252c09",
   "metadata": {},
   "source": [
    "If we have Qiskit and numpy installed, we can convert to a Qiskit circuit. The gate count and qubit width might be higher, but the circuit is entirely Clifford group, except for a single terminal layer of non-Clifford gates, (followed by either post selection or a rudimentary error-correction routine)."
   ]
  },
  {
   "cell_type": "code",
   "execution_count": 6,
   "id": "126a1144",
   "metadata": {},
   "outputs": [
    {
     "name": "stdout",
     "output_type": "stream",
     "text": [
      "Raw (near-Clifford) gate count:  76\n",
      "Raw (near-Clifford) depth of critical path:  26\n",
      "Raw (near-Clifford) qubit width:  4\n"
     ]
    }
   ],
   "source": [
    "orig_circ = random_circuit(width, QuantumCircuit(width))\n",
    "qsim = QrackSimulator(width, isStabilizerHybrid=True, isTensorNetwork=False, isSchmidtDecomposeMulti=False, isSchmidtDecompose=False, isOpenCL=False)\n",
    "qsim.run_qiskit_circuit(orig_circ, 0)\n",
    "qsim.out_to_file(\"qrack_circuit.chp\")\n",
    "qsim.reset_all()\n",
    "qsim = None\n",
    "\n",
    "print(\"Raw (near-Clifford) gate count: \", sum(dict(orig_circ.count_ops()).values()))\n",
    "print(\"Raw (near-Clifford) depth of critical path: \", orig_circ.depth())\n",
    "print(\"Raw (near-Clifford) qubit width: \", orig_circ.width())"
   ]
  },
  {
   "cell_type": "markdown",
   "id": "fae4c99f-c395-4c75-b9cc-cc41c3471f55",
   "metadata": {},
   "source": [
    "**Iterate the end result of the notebook starting from here, to further optimize.**"
   ]
  },
  {
   "cell_type": "code",
   "execution_count": 47,
   "id": "912f3203",
   "metadata": {},
   "outputs": [
    {
     "name": "stdout",
     "output_type": "stream",
     "text": [
      "       ┌───────────────────┐  \n",
      "q_0: ──┤ U(π/2,2.9464,π/2) ├──\n",
      "      ┌┴───────────────────┴┐ \n",
      "q_1: ─┤ U(π/2,0.38189,-π/2) ├─\n",
      "     ┌┴─────────────────────┴┐\n",
      "q_2: ┤ U(π/2,0.63498,-2.342) ├\n",
      "     └─┬────────────────────┬┘\n",
      "q_3: ──┤ U(1.2803,3.1152,0) ├─\n",
      "       └────────────────────┘ \n",
      "(Near-Clifford) gate count:  4\n",
      "(Near-Clifford) depth of critical path:  1\n",
      "(Near-Clifford) qubit width:  4\n"
     ]
    }
   ],
   "source": [
    "circ = QrackSimulator.file_to_optimized_qiskit_circuit(\"qrack_circuit.chp\")\n",
    "\n",
    "if circ.width() <= 16:\n",
    "    print(circ)\n",
    "print(\"(Near-Clifford) gate count: \", sum(dict(circ.count_ops()).values()))\n",
    "print(\"(Near-Clifford) depth of critical path: \", circ.depth())\n",
    "print(\"(Near-Clifford) qubit width: \", circ.width())"
   ]
  },
  {
   "cell_type": "markdown",
   "id": "fb2961d7-4c0e-45f3-b521-62a0d97be030",
   "metadata": {},
   "source": [
    "`QrackSimulator` can run a Qiskit circuit. (After the file is saved and loaded, separable ancillae qubits will be removed.)"
   ]
  },
  {
   "cell_type": "code",
   "execution_count": 48,
   "id": "636dc5f8",
   "metadata": {},
   "outputs": [],
   "source": [
    "basis_gates=[\"rz\", \"h\", \"x\", \"y\", \"z\", \"s\", \"sdg\", \"sx\", \"sxdg\", \"sy\", \"sydg\", \"cx\", \"cy\", \"cz\", \"swap\", \"iswap\", \"iswap_dg\"]\n",
    "circ = transpile(circ, basis_gates=basis_gates)\n",
    "\n",
    "os.rename(\"qrack_circuit.chp\", \"qrack_circuit_original.chp\")\n",
    "\n",
    "qsim = QrackSimulator(circ.width(), isStabilizerHybrid=True, isTensorNetwork=False, isSchmidtDecompose=False, isOpenCL=False)\n",
    "qsim.run_qiskit_circuit(circ, 0)\n",
    "\n",
    "qsim.out_to_file(\"qrack_circuit.chp\")\n",
    "\n",
    "lines = []\n",
    "with open(\"qrack_circuit.chp\",\"r\",encoding=\"utf-8\") as file:\n",
    "    lines = file.readlines()\n",
    "lines[0] = str(width) + \"\\n\"\n",
    "with open(\"qrack_circuit.chp\", \"w\", encoding=\"utf-8\") as file:\n",
    "    file.writelines(lines)\n",
    "\n",
    "qsim = QrackSimulator.in_from_file(\"qrack_circuit.chp\")\n",
    "qsim.out_to_file(\"qrack_circuit.chp\")"
   ]
  },
  {
   "cell_type": "markdown",
   "id": "5809bdbc",
   "metadata": {},
   "source": [
    "We can also sample with Qrack, as opposed to tensor networks."
   ]
  },
  {
   "cell_type": "code",
   "execution_count": 49,
   "id": "6980c2a3",
   "metadata": {},
   "outputs": [],
   "source": [
    "lines = []\n",
    "with open(\"qrack_circuit.chp\",\"r\",encoding=\"utf-8\") as file:\n",
    "    lines = file.readlines()\n",
    "chp_qb_count = int(lines[1])\n",
    "is_clifford = True\n",
    "for i in range(2 + 2 * chp_qb_count, len(lines)):\n",
    "    if lines[i] != \"(1,0) (0,0) (0,0) (1,0)\\n\":\n",
    "        is_clifford = False\n",
    "        break\n",
    "\n",
    "samples = []\n",
    "if is_clifford:\n",
    "    qsim = QrackSimulator.in_from_file(\"qrack_circuit.chp\")\n",
    "\n",
    "    %time\n",
    "    print(qsim.measure_shots(list(range(width)), 256))"
   ]
  },
  {
   "cell_type": "code",
   "execution_count": 50,
   "id": "91ffa001-d6f1-46e6-b348-0d81968acee0",
   "metadata": {},
   "outputs": [
    {
     "name": "stdout",
     "output_type": "stream",
     "text": [
      "Hellinger fidelity:  1.0\n"
     ]
    }
   ],
   "source": [
    "def cross_entropy(measurement_list, qiskit_circuit):\n",
    "    perm_count = 1 << qiskit_circuit.width()\n",
    "    ideal_shots = perm_count << 12\n",
    "\n",
    "    sim = QrackSimulator(qubitCount = qiskit_circuit.width())\n",
    "    sim.run_qiskit_circuit(qiskit_circuit, 0)\n",
    "    ideal_result = sim.measure_shots(list(range(qiskit_circuit.width())), ideal_shots)\n",
    "    ideal_result = dict(collections.Counter(ideal_result))\n",
    "    for key, value in ideal_result.items():\n",
    "        ideal_result[key] = value / ideal_shots\n",
    "        \n",
    "    ideal_probs_sv = []\n",
    "    for i in range(perm_count):\n",
    "        ideal_probs_sv.append(ideal_result[i] if i in ideal_result else 0)\n",
    "    \n",
    "    ideal_probs = []\n",
    "    for bit_string in measurement_list:\n",
    "        ideal_probs.append(ideal_probs_sv[bit_string])\n",
    "                               \n",
    "    return (perm_count * np.mean(ideal_probs)) - 1\n",
    "\n",
    "\n",
    "def hellinger_fidelity(measurement_list, qiskit_circuit):\n",
    "    perm_count = 1 << qiskit_circuit.width()\n",
    "    ideal_shots = perm_count << 12\n",
    "\n",
    "    t_histogram = collections.Counter(measurement_list)\n",
    "    shot_count = sum(t_histogram.values())\n",
    "    t_histogram = dict(t_histogram)\n",
    "        \n",
    "    histogram = {}\n",
    "    for key, value in t_histogram.items():\n",
    "        histogram[key] = value / shot_count\n",
    "\n",
    "    sim = QrackSimulator(qubitCount = qiskit_circuit.width())\n",
    "    sim.run_qiskit_circuit(qiskit_circuit, 0)\n",
    "    ideal_result = sim.measure_shots(list(range(qiskit_circuit.width())), ideal_shots)\n",
    "    ideal_result = dict(collections.Counter(ideal_result))\n",
    "    for key, value in ideal_result.items():\n",
    "        ideal_result[key] = value / ideal_shots\n",
    "        \n",
    "    ideal_probs_sv = []\n",
    "    for i in range(perm_count):\n",
    "        ideal_probs_sv.append(ideal_result[i] if i in ideal_result else 0)\n",
    "\n",
    "    fidelity = 0\n",
    "    for qubit_permutation in histogram.keys():\n",
    "        ideal_prob = ideal_result[qubit_permutation] if qubit_permutation in ideal_result else 0\n",
    "        normalized_frequency = histogram[qubit_permutation]\n",
    "        fidelity += math.sqrt(ideal_prob * ideal_prob)\n",
    "    fidelity *= fidelity\n",
    "                               \n",
    "    return fidelity\n",
    "\n",
    "\n",
    "if width <= 16:\n",
    "    # The circuit has 0 ancillae, so we can generate samples with conventional simulation.\n",
    "    qsim = QrackSimulator(qubitCount = circ.width())\n",
    "    qsim.run_qiskit_circuit(circ, 0)\n",
    "    for i in range(width, circ.width()):\n",
    "        qsim.force_m(i, False)\n",
    "    shots = 1 << (width + 12)\n",
    "    samples = qsim.measure_shots(list(range(width)), shots)\n",
    "    # print(\"XEB fidelity: \", cross_entropy(samples, orig_circ))\n",
    "    print(\"Hellinger fidelity: \", hellinger_fidelity(samples, orig_circ))"
   ]
  }
 ],
 "metadata": {
  "kernelspec": {
   "display_name": "Python 3 (ipykernel)",
   "language": "python",
   "name": "python3"
  },
  "language_info": {
   "codemirror_mode": {
    "name": "ipython",
    "version": 3
   },
   "file_extension": ".py",
   "mimetype": "text/x-python",
   "name": "python",
   "nbconvert_exporter": "python",
   "pygments_lexer": "ipython3",
   "version": "3.8.10"
  }
 },
 "nbformat": 4,
 "nbformat_minor": 5
}
