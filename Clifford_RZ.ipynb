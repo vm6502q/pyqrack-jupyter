{
 "cells": [
  {
   "cell_type": "markdown",
   "id": "composed-midwest",
   "metadata": {},
   "source": [
    "# Clifford+RZ"
   ]
  },
  {
   "cell_type": "markdown",
   "id": "social-scott",
   "metadata": {},
   "source": [
    "You need the `pyqrack` package to run this notebook. [`vm6502q/pyqrack`](https://github.com/vm6502q/pyqrack) is a pure Python wrapper on the [`vm6502q/qrack`](https://github.com/vm6502q/qrack) quantum computer simulation framework core library. The preferred method of installation is from source code, at those GitHub repositories, but a package with default build precompiled binaries is available on [pypi](https://pypi.org/project/pyqrack/0.2.0/)."
   ]
  },
  {
   "cell_type": "code",
   "execution_count": 1,
   "id": "26fb4200",
   "metadata": {},
   "outputs": [],
   "source": [
    "# For example, if your Jupyter installation uses pip:\n",
    "# import sys\n",
    "# !{sys.executable} -m pip install --platform=manylinux2014_x86_64 --only-binary=:all: pyqrack"
   ]
  },
  {
   "cell_type": "code",
   "execution_count": 2,
   "id": "9eda67a6",
   "metadata": {},
   "outputs": [],
   "source": [
    "import collections\n",
    "import copy\n",
    "import math\n",
    "import os\n",
    "import random\n",
    "\n",
    "import numpy as np\n",
    "\n",
    "import tensorcircuit as tc\n",
    "import tensorcircuit.compiler.simple_compiler as tcsc\n",
    "\n",
    "from qiskit import QuantumCircuit\n",
    "from qiskit.compiler import transpile\n",
    "\n",
    "from pyqrack import QrackSimulator\n",
    "\n",
    "# If we disable OpenCL and set the max CPU qubits to max integer, we bypass qubit widths limits.\n",
    "os.environ[\"QRACK_MAX_CPU_QB\"]=\"-1\""
   ]
  },
  {
   "cell_type": "code",
   "execution_count": 3,
   "id": "e342bcef",
   "metadata": {},
   "outputs": [],
   "source": [
    "width = 4\n",
    "max_magic = 4"
   ]
  },
  {
   "cell_type": "markdown",
   "id": "embedded-athletics",
   "metadata": {},
   "source": [
    "[`QrackSimulator`](https://github.com/vm6502q/pyqrack/blob/main/pyqrack/qrack_simulator.py) is the \"workhorse\" of the `pyqrack` package. It instantiates simulated \"registers\" of qubits that we can act basic quantum gates between, to form arbitrary universal quantum circuits."
   ]
  },
  {
   "cell_type": "markdown",
   "id": "db71c6b9",
   "metadata": {},
   "source": [
    "`QrackCircuit` is an optional class for optimizing compilation. With it, one can define a circuit in advance, which is optimized upon definition. Then, one can save the optimized result to a file and later load it into a new or existing `QrackCircuit` instance. Ultimately, the circuit is executed by calling `run()` on a `QrackCircuit`, with a parameter of `QrackSimulator` of appropriate size. (The necessary width of the `QrackSimulator` can be determined with `QrackCircuit.get_qubit_count()`.)"
   ]
  },
  {
   "cell_type": "code",
   "execution_count": 4,
   "id": "statutory-lewis",
   "metadata": {},
   "outputs": [],
   "source": [
    "def rand_1qb(sim, q):\n",
    "    # th = random.uniform(0, 4 * math.pi)\n",
    "    ph = random.uniform(0, 4 * math.pi)\n",
    "    # lm = random.uniform(0, 4 * math.pi)\n",
    "    # sim.u(th, ph, lm, q)\n",
    "    sim.u(0, ph, 0, q)\n",
    "\n",
    "def random_circuit(width, circ):\n",
    "    t_count = 0\n",
    "    single_bit_gates = circ.h, circ.x, circ.y\n",
    "    two_bit_gates = circ.cx, circ.cy, circ.cz, circ.swap, circ.iswap\n",
    "\n",
    "    for n in range(3 * width):\n",
    "        # Single bit gates\n",
    "        for j in range(width):\n",
    "            random.choice(single_bit_gates)(j)\n",
    "            if (t_count < max_magic) and ((width * width * random.random() / max_magic) < 1):\n",
    "                rand_1qb(circ, j)\n",
    "                t_count += 1\n",
    "\n",
    "        # Multi bit gates\n",
    "        bit_set = [i for i in range(width)]\n",
    "        while len(bit_set) > 1:\n",
    "            b1 = random.choice(bit_set)\n",
    "            bit_set.remove(b1)\n",
    "            b2 = random.choice(bit_set)\n",
    "            bit_set.remove(b2)\n",
    "            random.choice(two_bit_gates)(b1, b2)\n",
    "\n",
    "    return circ"
   ]
  },
  {
   "cell_type": "markdown",
   "id": "da252c09",
   "metadata": {},
   "source": [
    "If we have Qiskit and numpy installed, we can convert to a Qiskit circuit. The gate count and qubit width might be higher, but the circuit is entirely Clifford group, except for a single terminal layer of non-Clifford gates, (followed by either post selection or a rudimentary error-correction routine)."
   ]
  },
  {
   "cell_type": "code",
   "execution_count": 5,
   "id": "126a1144",
   "metadata": {},
   "outputs": [],
   "source": [
    "orig_circ = random_circuit(width, QuantumCircuit(width))\n",
    "qsim = QrackSimulator(width, isSchmidtDecomposeMulti=False, isSchmidtDecompose=False, isOpenCL=False)\n",
    "qsim.run_qiskit_circuit(orig_circ, 0)\n",
    "qsim.out_to_file(\"qrack_circuit.chp\")\n",
    "qsim.reset_all()\n",
    "qsim = None"
   ]
  },
  {
   "cell_type": "code",
   "execution_count": 6,
   "id": "912f3203",
   "metadata": {},
   "outputs": [
    {
     "name": "stdout",
     "output_type": "stream",
     "text": [
      "     ┌───┐┌───┐   ┌───┐┌───┐┌───┐           ┌───┐          ┌───┐┌───┐»\n",
      "q_0: ┤ H ├┤ S ├─X─┤ S ├┤ H ├┤ S ├─────■─────┤ X ├──■───────┤ X ├┤ Z ├»\n",
      "     ├───┤└───┘ │ ├───┤├───┤└───┘     │     └─┬─┘┌─┴─┐┌───┐└─┬─┘└───┘»\n",
      "q_1: ┤ H ├──────┼─┤ X ├┤ S ├──────────┼───────┼──┤ X ├┤ H ├──■────■──»\n",
      "     ├───┤      │ └─┬─┘└───┘        ┌─┴─┐     │  └───┘└───┘     ┌─┴─┐»\n",
      "q_2: ┤ H ├──────┼───┼────■──────────┤ X ├─────┼─────────────────┤ X ├»\n",
      "     └───┘      │   │  ┌─┴─┐┌───┐┌──┴───┴──┐  │                 └───┘»\n",
      "q_3: ───────────X───■──┤ X ├┤ Z ├┤ Unitary ├──┼──────────────────────»\n",
      "     ┌───┐             └───┘└───┘└─────────┘  │  ┌───┐               »\n",
      "q_4: ┤ H ├────────────────────────────────────■──┤ H ├───────────────»\n",
      "     └───┘                                       └───┘               »\n",
      "«     ┌─────────┐                                \n",
      "«q_0: ┤ Unitary ├────────────────────────────────\n",
      "«     └─────────┘┌───┐┌───┐┌─────────┐           \n",
      "«q_1: ───────────┤ X ├┤ Y ├┤ Unitary ├───────────\n",
      "«        ┌───┐   └─┬─┘└───┘├─────────┤           \n",
      "«q_2: ───┤ H ├─────■────■──┤ Unitary ├───────────\n",
      "«        └───┘          │  └─────────┘           \n",
      "«q_3: ──────────────────┼────────────────────────\n",
      "«                     ┌─┴─┐   ┌───┐   ┌─────────┐\n",
      "«q_4: ────────────────┤ X ├───┤ X ├───┤ Unitary ├\n",
      "«                     └───┘   └───┘   └─────────┘\n",
      "(Near-Clifford) gate count:  31\n",
      "(Near-Clifford) depth of critical path:  17\n"
     ]
    }
   ],
   "source": [
    "circ = QrackSimulator.file_to_qiskit_circuit(\"qrack_circuit.chp\")\n",
    "\n",
    "if circ.width() <= 16:\n",
    "    print(circ)\n",
    "print(\"(Near-Clifford) gate count: \", sum(dict(circ.count_ops()).values()))\n",
    "print(\"(Near-Clifford) depth of critical path: \", circ.depth())"
   ]
  },
  {
   "cell_type": "markdown",
   "id": "5c0fe06c-3350-4431-b7b5-1179408994d6",
   "metadata": {},
   "source": [
    "We can further optimize by post-selecting with tensor network software."
   ]
  },
  {
   "cell_type": "code",
   "execution_count": 7,
   "id": "6b7ee675-01fe-4756-975d-cb84eaeae369",
   "metadata": {},
   "outputs": [],
   "source": [
    "tc.set_backend(\"tensorflow\")\n",
    "tc.set_contractor(\"auto\")\n",
    "tc.set_dtype(\"complex64\")\n",
    "\n",
    "net = tc.Circuit.from_qiskit(circ)\n",
    "for b in range(width, circ.width()):\n",
    "    net.post_select(b, keep=0)\n",
    "net = tcsc.simple_compile(net)[0]"
   ]
  },
  {
   "cell_type": "markdown",
   "id": "0bf23f16-6cf5-4eb6-a9da-c8baa806c9da",
   "metadata": {},
   "source": [
    "We can sample with tensorcircuit at this point, or we can try another round of optimization."
   ]
  },
  {
   "cell_type": "code",
   "execution_count": 8,
   "id": "b7f62138-2511-418f-82ee-77c0f292abb3",
   "metadata": {},
   "outputs": [],
   "source": [
    "# %%time\n",
    "# print(net.sample(allow_state=True, batch=1024, format=\"count_dict_bin\"))"
   ]
  },
  {
   "cell_type": "markdown",
   "id": "c6dbfa9c-4efc-48ec-be98-3c9611faeace",
   "metadata": {},
   "source": [
    "We can convert back to a Qiskit circuit."
   ]
  },
  {
   "cell_type": "code",
   "execution_count": 9,
   "id": "740ae306-5b4b-4f3b-a209-9853bf770ad1",
   "metadata": {},
   "outputs": [
    {
     "name": "stderr",
     "output_type": "stream",
     "text": [
      "omit non unitary gate in tensorcircuit when transforming to qiskit: any\n"
     ]
    },
    {
     "name": "stdout",
     "output_type": "stream",
     "text": [
      "     ┌───┐┌───┐   ┌───┐┌───┐┌───┐     ┌───┐          ┌───┐┌───┐               »\n",
      "q_0: ┤ H ├┤ S ├─X─┤ S ├┤ H ├┤ S ├──■──┤ X ├──■───────┤ X ├┤ Z ├───────────────»\n",
      "     ├───┤└───┘ │ ├───┤├───┤└───┘  │  └─┬─┘┌─┴─┐┌───┐└─┬─┘└───┘     ┌───┐┌───┐»\n",
      "q_1: ┤ H ├──────┼─┤ X ├┤ S ├───────┼────┼──┤ X ├┤ H ├──■────■───────┤ X ├┤ Y ├»\n",
      "     ├───┤      │ └─┬─┘└───┘     ┌─┴─┐  │  └───┘└───┘     ┌─┴─┐┌───┐└─┬─┘└───┘»\n",
      "q_2: ┤ H ├──────┼───┼────■───────┤ X ├──┼─────────────────┤ X ├┤ H ├──■────■──»\n",
      "     └───┘      │   │  ┌─┴─┐┌───┐└───┘  │                 └───┘└───┘       │  »\n",
      "q_3: ───────────X───■──┤ X ├┤ Z ├───────┼──────────────────────────────────┼──»\n",
      "     ┌───┐             └───┘└───┘       │  ┌───┐                         ┌─┴─┐»\n",
      "q_4: ┤ H ├──────────────────────────────■──┤ H ├─────────────────────────┤ X ├»\n",
      "     └───┘                                 └───┘                         └───┘»\n",
      "«                 \n",
      "«q_0: ────────────\n",
      "«                 \n",
      "«q_1: ────────────\n",
      "«                 \n",
      "«q_2: ────────────\n",
      "«                 \n",
      "«q_3: ────────────\n",
      "«     ┌───┐┌─────┐\n",
      "«q_4: ┤ X ├┤ any ├\n",
      "«     └───┘└─────┘\n",
      "(Near-Clifford) gate count:  27\n",
      "(Near-Clifford) depth of critical path:  17\n"
     ]
    }
   ],
   "source": [
    "circ = net.to_qiskit()\n",
    "if circ.width() <= 16:\n",
    "    print(circ)\n",
    "print(\"(Near-Clifford) gate count: \", sum(dict(circ.count_ops()).values()))\n",
    "print(\"(Near-Clifford) depth of critical path: \", circ.depth())"
   ]
  },
  {
   "cell_type": "markdown",
   "id": "e509b67c-28ad-4dbb-b95f-cc15bd68a71c",
   "metadata": {},
   "source": [
    "Some phase gates tend to occur at the beginning of the circuit: these can safely be ignored. In fact, we can trace out the evolution of separable single-qubit states from the beginning of the circuit until they become entangled, for more gate elimination. Deterministic control qubits can be eliminated, as well."
   ]
  },
  {
   "cell_type": "code",
   "execution_count": 10,
   "id": "281054a4-73b7-46d6-bbaf-766fa4a74ec9",
   "metadata": {},
   "outputs": [
    {
     "name": "stdout",
     "output_type": "stream",
     "text": [
      "     ┌───┐┌───┐   ┌───┐┌───┐     ┌───┐          ┌───┐┌───┐                    »\n",
      "q_0: ┤ H ├┤ S ├─X─┤ H ├┤ S ├──■──┤ X ├──■───────┤ X ├┤ Z ├────────────────────»\n",
      "     ├───┤└───┘ │ ├───┤├───┤  │  └─┬─┘┌─┴─┐┌───┐└─┬─┘└───┘     ┌───┐┌───┐     »\n",
      "q_1: ┤ H ├──────┼─┤ X ├┤ S ├──┼────┼──┤ X ├┤ H ├──■────■───────┤ X ├┤ Y ├─────»\n",
      "     ├───┤      │ └─┬─┘└───┘┌─┴─┐  │  └───┘└───┘     ┌─┴─┐┌───┐└─┬─┘└───┘     »\n",
      "q_2: ┤ H ├──────┼───┼────■──┤ X ├──┼─────────────────┤ X ├┤ H ├──■────■───────»\n",
      "     └───┘      │   │  ┌─┴─┐├───┤  │                 └───┘└───┘       │       »\n",
      "q_3: ───────────X───■──┤ X ├┤ Z ├──┼──────────────────────────────────┼───────»\n",
      "     ┌───┐             └───┘└───┘  │  ┌───┐                         ┌─┴─┐┌───┐»\n",
      "q_4: ┤ H ├─────────────────────────■──┤ H ├─────────────────────────┤ X ├┤ X ├»\n",
      "     └───┘                            └───┘                         └───┘└───┘»\n",
      "«            \n",
      "«q_0: ───────\n",
      "«            \n",
      "«q_1: ───────\n",
      "«            \n",
      "«q_2: ───────\n",
      "«            \n",
      "«q_3: ───────\n",
      "«     ┌─────┐\n",
      "«q_4: ┤ any ├\n",
      "«     └─────┘\n",
      "(Near-Clifford) gate count:  26\n",
      "(Near-Clifford) depth of critical path:  16\n"
     ]
    }
   ],
   "source": [
    "def qunit_step(i, circ, to_cut, state, basis, has_depth):\n",
    "    op = circ.data[i].operation\n",
    "    qubits = circ.data[i].qubits\n",
    "    first_qubit = circ.find_bit(qubits[0])[0]\n",
    "    if has_depth[first_qubit]:\n",
    "        for q in qubits[1:]:\n",
    "            has_depth[circ.find_bit(q)[0]] = True\n",
    "        return\n",
    "    if len(qubits) == 1:\n",
    "        if op.name == \"h\":\n",
    "            basis[first_qubit] = not basis[first_qubit]\n",
    "        elif ((not basis[first_qubit]) and ((op.name == \"z\") or (op.name == \"s\") or (op.name == \"sdg\"))) or (basis[first_qubit] and (op.name == \"x\")):\n",
    "            to_cut.append(i)\n",
    "        elif ((not basis[first_qubit]) and ((op.name == \"x\") or (op.name == \"y\"))) or (basis[first_qubit] and ((op.name == \"y\") or (op.name == \"z\"))):\n",
    "            state[first_qubit] = not state[first_qubit]\n",
    "        else:\n",
    "            has_depth[first_qubit] = True\n",
    "    elif op.name == \"swap\":\n",
    "        second_qubit = circ.find_bit(qubits[1])[0]\n",
    "        has_depth[first_qubit], has_depth[second_qubit] = has_depth[second_qubit], has_depth[first_qubit]\n",
    "        state[first_qubit], state[second_qubit] = state[second_qubit], state[first_qubit]\n",
    "        basis[first_qubit], basis[second_qubit] = basis[second_qubit], basis[first_qubit]\n",
    "        if (not has_depth[first_qubit]) and (not has_depth[second_qubit]) and (state[first_qubit] == state[second_qubit]) and (basis[first_qubit] == basis[second_qubit]):\n",
    "            to_cut.append(i)\n",
    "    elif not basis[first_qubit] and op.name == \"cx\":\n",
    "        if state[first_qubit]:\n",
    "            circ.data[i].operation.name = \"x\"\n",
    "            del circ.data[i].qubits[0]\n",
    "            i -= 1\n",
    "        else:\n",
    "            to_cut.append(i)\n",
    "    else:\n",
    "        qc = circ.find_bit(qubits[0])[0]\n",
    "        qt = circ.find_bit(qubits[1])[0]\n",
    "        has_depth[qc] = True\n",
    "        has_depth[qt] = True\n",
    "\n",
    "to_cut = []\n",
    "state = circ.width() * [False]\n",
    "basis = circ.width() * [False]\n",
    "has_depth = circ.width() * [False]\n",
    "for i in range(len(circ.data)):\n",
    "    qunit_step(i, circ, to_cut, state, basis, has_depth)\n",
    "to_cut.reverse()\n",
    "for i in to_cut:\n",
    "    del circ.data[i]\n",
    "\n",
    "to_cut = []\n",
    "state = circ.width() * [False]\n",
    "basis = circ.width() * [False]\n",
    "has_depth = (width * [True]) + ((circ.width() - width) * [False])\n",
    "for i in reversed(range(len(circ.data))):\n",
    "    qunit_step(i, circ, to_cut, state, basis, has_depth)\n",
    "for i in to_cut:\n",
    "   del circ.data[i]\n",
    "\n",
    "if circ.width() <= 16:\n",
    "    print(circ)\n",
    "print(\"(Near-Clifford) gate count: \", sum(dict(circ.count_ops()).values()))\n",
    "print(\"(Near-Clifford) depth of critical path: \", circ.depth())"
   ]
  },
  {
   "cell_type": "markdown",
   "id": "83004f30-70c3-438e-b3ac-8ec77aa592a7",
   "metadata": {},
   "source": [
    "If any ancilla qubit is nothing but an injection gadget, we can re-inject it."
   ]
  },
  {
   "cell_type": "code",
   "execution_count": 11,
   "id": "757c03c8-9dd7-41dc-87f9-a951eaee16f3",
   "metadata": {},
   "outputs": [
    {
     "name": "stdout",
     "output_type": "stream",
     "text": [
      "     ┌───┐┌───┐   ┌───┐┌───┐     ┌───┐                 ┌───┐ ┌───┐          \n",
      "q_0: ┤ H ├┤ S ├─X─┤ H ├┤ S ├──■──┤ X ├─────■───────────┤ X ├─┤ Z ├──────────\n",
      "     ├───┤└───┘ │ ├───┤├───┤  │  └─┬─┘   ┌─┴─┐   ┌───┐ └─┬─┘ └───┘     ┌───┐\n",
      "q_1: ┤ H ├──────┼─┤ X ├┤ S ├──┼────┼─────┤ X ├───┤ H ├───■─────■───────┤ X ├\n",
      "     ├───┤      │ └─┬─┘└───┘┌─┴─┐  │     └───┘   └───┘       ┌─┴─┐┌───┐└─┬─┘\n",
      "q_2: ┤ H ├──────┼───┼────■──┤ X ├──┼─────────────────────────┤ X ├┤ H ├──■──\n",
      "     └───┘      │   │  ┌─┴─┐├───┤  │                         └───┘└───┘     \n",
      "q_3: ───────────X───■──┤ X ├┤ Z ├──┼────────────────────────────────────────\n",
      "     ┌───┐             └───┘└───┘  │  ┌─────────┐┌───┐┌─────┐               \n",
      "q_4: ┤ H ├─────────────────────────■──┤ Unitary ├┤ H ├┤ any ├───────────────\n",
      "     └───┘                            └─────────┘└───┘└─────┘               \n",
      "(Near-Clifford) gate count:  24\n",
      "(Near-Clifford) depth of critical path:  13\n"
     ]
    }
   ],
   "source": [
    "sqrt1_2 = 1 / math.sqrt(2)\n",
    "passable_gates = [\"unitary\", \"h\", \"x\", \"y\", \"z\", \"s\", \"sdg\"]\n",
    "\n",
    "# is_injectable = False\n",
    "# for i in range(width, circ.width()):\n",
    "#     is_injectable = True\n",
    "#     for j in reversed(range(len(circ.data))):\n",
    "#         op = circ.data[j].operation\n",
    "#         qubits = circ.data[j].qubits\n",
    "\n",
    "#         id = circ.find_bit(qubits[0])[0]\n",
    "#         if len(qubits) == 1 and id == i and not (op.name in passable_gates):\n",
    "#             is_injectable = False\n",
    "#             break\n",
    "\n",
    "#         if len(qubits) < 2:\n",
    "#            continue\n",
    "\n",
    "#         if (id == i) or not (op.name == \"cx\"):\n",
    "#             is_injectable = False\n",
    "#            break\n",
    "\n",
    "if True:\n",
    "    for i in range(width, circ.width()):\n",
    "        non_clifford = np.array([[sqrt1_2, sqrt1_2], [sqrt1_2, -sqrt1_2]], np.complex128)\n",
    "        to_cut = []\n",
    "        for j in reversed(range(len(circ.data))):\n",
    "            op = circ.data[j].operation\n",
    "            qubits = circ.data[j].qubits\n",
    "\n",
    "            id = circ.find_bit(qubits[0])[0]\n",
    "            if (len(qubits) < 2) and (id == i):\n",
    "                to_cut.append(j)\n",
    "                if op.name == \"unitary\":\n",
    "                    non_clifford = np.matmul(non_clifford, op.params[0])\n",
    "                elif op.name == \"h\":\n",
    "                    non_clifford = np.matmul(non_clifford, np.array([[sqrt1_2, sqrt1_2], [sqrt1_2, -sqrt1_2]]))\n",
    "                elif op.name == \"x\":\n",
    "                    non_clifford = np.matmul(non_clifford, np.array([[0, 1], [1, 0]]))\n",
    "                elif op.name == \"y\":\n",
    "                    non_clifford = np.matmul(non_clifford, np.array([[0, -1j], [1j, 0]]))\n",
    "                elif op.name == \"z\":\n",
    "                    non_clifford = np.matmul(non_clifford, np.array([[1, 0], [0, -1]]))\n",
    "                elif op.name == \"s\":\n",
    "                    non_clifford = np.matmul(non_clifford, np.array([[1, 0], [0, 1j]]))\n",
    "                elif op.name == \"sdg\":\n",
    "                    non_clifford = np.matmul(non_clifford, np.array([[1, 0], [0, -1j]]))\n",
    "                else: \n",
    "                    print(\"Something went wrong!\")\n",
    "\n",
    "                continue\n",
    "\n",
    "            if len(qubits) < 2:\n",
    "                continue\n",
    "\n",
    "            if (id == i) or not (op.name == \"cx\"):\n",
    "                # non_clifford = np.matmul(non_clifford, np.array([[sqrt1_2, sqrt1_2], [sqrt1_2, -sqrt1_2]]))\n",
    "                c = QuantumCircuit(1)\n",
    "                c.unitary([[1, 0], [0, 1]], 0)\n",
    "                instr = c.data[0]\n",
    "                instr.qubits = (qubits[0],)\n",
    "                instr.operation.params=[non_clifford]\n",
    "                circ.data.insert(j + 1, copy.deepcopy(instr))\n",
    "                break\n",
    "\n",
    "            if (circ.find_bit(qubits[1])[0] == i) and (op.name == \"cx\"):\n",
    "                c = QuantumCircuit(1)\n",
    "                c.unitary([[1, 0], [0, 1]], 0)\n",
    "                instr = c.data[0]\n",
    "                instr.qubits = (qubits[0],)\n",
    "                instr.operation.params=[non_clifford]\n",
    "                circ.data[j] = copy.deepcopy(instr)\n",
    "        \n",
    "        for i in to_cut:\n",
    "            del circ.data[i]\n",
    "\n",
    "if circ.width() <= 16:\n",
    "    print(circ)\n",
    "print(\"(Near-Clifford) gate count: \", sum(dict(circ.count_ops()).values()))\n",
    "print(\"(Near-Clifford) depth of critical path: \", circ.depth())"
   ]
  },
  {
   "cell_type": "markdown",
   "id": "fb2961d7-4c0e-45f3-b521-62a0d97be030",
   "metadata": {},
   "source": [
    "`QrackSimulator` can run a Qiskit circuit. (After the file is saved and loaded, separable ancillae qubits will be removed.)"
   ]
  },
  {
   "cell_type": "code",
   "execution_count": 12,
   "id": "636dc5f8",
   "metadata": {},
   "outputs": [
    {
     "name": "stdout",
     "output_type": "stream",
     "text": [
      "Device #0, Loaded binary from: /home/iamu/.qrack/qrack_ocl_dev_Intel(R)_UHD_Graphics_[0x9bc4].ir\n",
      "Device #1, Loaded binary from: /home/iamu/.qrack/qrack_ocl_dev_NVIDIA_GeForce_RTX_3080_Laptop_GPU.ir\n"
     ]
    }
   ],
   "source": [
    "basis_gates=[\"rz\", \"h\", \"x\", \"y\", \"z\", \"sx\", \"sy\", \"s\", \"sdg\", \"cx\", \"cy\", \"cz\", \"swap\", \"iswap\"]\n",
    "circ = transpile(circ, basis_gates=basis_gates, optimization_level=3)\n",
    "\n",
    "os.rename(\"qrack_circuit.chp\", \"qrack_circuit_original.chp\")\n",
    "\n",
    "qsim = QrackSimulator(circ.width(), isSchmidtDecomposeMulti=False, isSchmidtDecompose=False, isOpenCL=False)\n",
    "qsim.run_qiskit_circuit(circ, 0)\n",
    "\n",
    "qsim.out_to_file(\"qrack_circuit.chp\")\n",
    "\n",
    "lines = []\n",
    "with open(\"qrack_circuit.chp\",\"r\",encoding=\"utf-8\") as file:\n",
    "    lines = file.readlines()\n",
    "lines[0] = str(width) + \"\\n\"\n",
    "with open(\"qrack_circuit.chp\", \"w\", encoding=\"utf-8\") as file:\n",
    "    file.writelines(lines)\n",
    "\n",
    "qsim = QrackSimulator.in_from_file(\"qrack_circuit.chp\")\n",
    "qsim.out_to_file(\"qrack_circuit.chp\")"
   ]
  },
  {
   "cell_type": "markdown",
   "id": "5809bdbc",
   "metadata": {},
   "source": [
    "We can also sample with Qrack, as opposed to tensor circuits."
   ]
  },
  {
   "cell_type": "code",
   "execution_count": 13,
   "id": "6980c2a3",
   "metadata": {},
   "outputs": [
    {
     "name": "stdout",
     "output_type": "stream",
     "text": [
      "CPU times: user 2 µs, sys: 1 µs, total: 3 µs\n",
      "Wall time: 7.15 µs\n",
      "[6, 6, 5, 5, 14, 8, 13, 9, 15, 10, 8, 1, 13, 13, 6, 1, 5, 6, 14, 11, 9, 8, 8, 13, 1, 6, 11, 7, 8, 0, 13, 3, 12, 14, 1, 14, 1, 8, 4, 6, 8, 14, 11, 10, 11, 0, 8, 2, 0, 11, 0, 15, 1, 10, 4, 0, 1, 7, 9, 13, 14, 0, 5, 7, 10, 11, 11, 6, 7, 4, 1, 2, 15, 3, 10, 8, 10, 12, 13, 10, 12, 2, 12, 3, 5, 0, 5, 1, 3, 4, 3, 4, 1, 5, 6, 5, 13, 0, 2, 2, 12, 12, 15, 8, 5, 13, 11, 7, 12, 0, 0, 6, 11, 7, 13, 7, 1, 7, 12, 4, 1, 8, 5, 7, 15, 9, 10, 12, 14, 1, 2, 4, 15, 13, 13, 9, 7, 4, 10, 8, 15, 1, 12, 7, 10, 15, 0, 0, 14, 4, 0, 12, 4, 12, 11, 6, 13, 6, 12, 14, 7, 4, 5, 5, 4, 5, 7, 7, 8, 9, 8, 7, 8, 1, 3, 3, 0, 10, 2, 1, 8, 11, 6, 1, 6, 10, 13, 14, 14, 1, 9, 12, 5, 12, 15, 14, 10, 7, 13, 8, 7, 1, 2, 15, 5, 14, 2, 13, 6, 10, 6, 2, 3, 13, 11, 1, 10, 5, 13, 13, 13, 7, 7, 9, 13, 0, 1, 7, 4, 14, 9, 6, 8, 3, 3, 7, 10, 8, 5, 5, 2, 6, 9, 10, 0, 10, 11, 2, 4, 12, 3, 8, 15, 6, 8, 3]\n"
     ]
    }
   ],
   "source": [
    "lines = []\n",
    "with open(\"qrack_circuit.chp\",\"r\",encoding=\"utf-8\") as file:\n",
    "    lines = file.readlines()\n",
    "chp_qb_count = int(lines[1])\n",
    "is_clifford = True\n",
    "for i in range(2 + 2 * chp_qb_count, len(lines)):\n",
    "    if lines[i] != \"(1,0) (0,0) (0,0) (1,0)\\n\":\n",
    "        is_clifford = False\n",
    "        break\n",
    "\n",
    "shot_count = 100000\n",
    "samples = []\n",
    "if is_clifford:\n",
    "    qsim = QrackSimulator.in_from_file(\"qrack_circuit.chp\")\n",
    "\n",
    "    %time\n",
    "    samples = qsim.measure_shots(list(range(width)), shot_count)\n",
    " \n",
    "    # print(samples)\n",
    "    print(qsim.measure_shots(list(range(width)), 256))"
   ]
  },
  {
   "cell_type": "code",
   "execution_count": 14,
   "id": "91ffa001-d6f1-46e6-b348-0d81968acee0",
   "metadata": {},
   "outputs": [
    {
     "name": "stdout",
     "output_type": "stream",
     "text": [
      "Fidelity:  0.9207486411508493\n"
     ]
    }
   ],
   "source": [
    "def fidelities_from_measurement_results(measurement_list, qiskit_circuit, register_width, ideal_shots = 1024):\n",
    "    \n",
    "    perm_count = 1 << register_width\n",
    "    \n",
    "    sim = QrackSimulator(qubitCount=register_width, qiskitCircuit = qiskit_circuit)\n",
    "    ideal_result = sim.measure_shots(list(range(register_width)), ideal_shots)\n",
    "    ideal_result = dict(collections.Counter(ideal_result))\n",
    "    for key, value in ideal_result.items():\n",
    "        ideal_result[key] = value / ideal_shots\n",
    "\n",
    "    # This is a logically-grouped batch of qubit measurement results, as a list of \"permutations.\"\n",
    "    t_histogram = collections.Counter(measurement_list)\n",
    "    shot_count = sum(t_histogram.values())\n",
    "    t_histogram = dict(t_histogram)\n",
    "\n",
    "    histogram = {}\n",
    "    for key, value in t_histogram.items():\n",
    "        histogram[key] = value / shot_count\n",
    "        \n",
    "    fidelity = 0\n",
    "    for qubit_permutation in histogram.keys():\n",
    "        ideal_normalized_frequency = ideal_result[qubit_permutation] if qubit_permutation in ideal_result else 0\n",
    "        normalized_frequency = histogram[qubit_permutation]\n",
    "        fidelity += math.sqrt(ideal_normalized_frequency * normalized_frequency)\n",
    "    fidelity *= fidelity\n",
    "                               \n",
    "    return fidelity\n",
    "\n",
    "if is_clifford and width <= 16:\n",
    "    print(\"Fidelity: \", fidelities_from_measurement_results(samples, orig_circ, width, shot_count))"
   ]
  }
 ],
 "metadata": {
  "kernelspec": {
   "display_name": "Python 3 (ipykernel)",
   "language": "python",
   "name": "python3"
  },
  "language_info": {
   "codemirror_mode": {
    "name": "ipython",
    "version": 3
   },
   "file_extension": ".py",
   "mimetype": "text/x-python",
   "name": "python",
   "nbconvert_exporter": "python",
   "pygments_lexer": "ipython3",
   "version": "3.10.6"
  }
 },
 "nbformat": 4,
 "nbformat_minor": 5
}
