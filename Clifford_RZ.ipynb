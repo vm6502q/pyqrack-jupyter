{
 "cells": [
  {
   "cell_type": "markdown",
   "id": "composed-midwest",
   "metadata": {},
   "source": [
    "# Clifford+RZ"
   ]
  },
  {
   "cell_type": "markdown",
   "id": "social-scott",
   "metadata": {},
   "source": [
    "You need the `pyqrack` package to run this notebook. [`vm6502q/pyqrack`](https://github.com/vm6502q/pyqrack) is a pure Python wrapper on the [`vm6502q/qrack`](https://github.com/vm6502q/qrack) quantum computer simulation framework core library. The preferred method of installation is from source code, at those GitHub repositories, but a package with default build precompiled binaries is available on [pypi](https://pypi.org/project/pyqrack/0.2.0/)."
   ]
  },
  {
   "cell_type": "code",
   "execution_count": 1,
   "id": "26fb4200",
   "metadata": {},
   "outputs": [],
   "source": [
    "# For example, if your Jupyter installation uses pip:\n",
    "# import sys\n",
    "# !{sys.executable} -m pip install --platform=manylinux2014_x86_64 --only-binary=:all: pyqrack"
   ]
  },
  {
   "cell_type": "code",
   "execution_count": 2,
   "id": "9eda67a6",
   "metadata": {},
   "outputs": [],
   "source": [
    "import math\n",
    "import os\n",
    "import random\n",
    "\n",
    "import numpy as np\n",
    "import tensorcircuit as tc\n",
    "import tensorcircuit.compiler.simple_compiler as tcsc\n",
    "from qiskit.compiler import transpile\n",
    "from pyqrack import QrackSimulator\n",
    "\n",
    "# If we disable OpenCL and set the max CPU qubits to max integer, we bypass qubit widths limits.\n",
    "os.environ[\"QRACK_MAX_CPU_QB\"]=\"-1\""
   ]
  },
  {
   "cell_type": "code",
   "execution_count": 3,
   "id": "e342bcef",
   "metadata": {},
   "outputs": [],
   "source": [
    "width = 32\n",
    "max_magic = 32"
   ]
  },
  {
   "cell_type": "markdown",
   "id": "embedded-athletics",
   "metadata": {},
   "source": [
    "[`QrackSimulator`](https://github.com/vm6502q/pyqrack/blob/main/pyqrack/qrack_simulator.py) is the \"workhorse\" of the `pyqrack` package. It instantiates simulated \"registers\" of qubits that we can act basic quantum gates between, to form arbitrary universal quantum circuits."
   ]
  },
  {
   "cell_type": "markdown",
   "id": "db71c6b9",
   "metadata": {},
   "source": [
    "`QrackCircuit` is an optional class for optimizing compilation. With it, one can define a circuit in advance, which is optimized upon definition. Then, one can save the optimized result to a file and later load it into a new or existing `QrackCircuit` instance. Ultimately, the circuit is executed by calling `run()` on a `QrackCircuit`, with a parameter of `QrackSimulator` of appropriate size. (The necessary width of the `QrackSimulator` can be determined with `QrackCircuit.get_qubit_count()`.)"
   ]
  },
  {
   "cell_type": "code",
   "execution_count": 4,
   "id": "statutory-lewis",
   "metadata": {},
   "outputs": [],
   "source": [
    "sqrt1_2 = 1 / math.sqrt(2)\n",
    "\n",
    "def x_to_y(circ, q):\n",
    "    circ.s(q)\n",
    "    return 1\n",
    "\n",
    "def x_to_z(circ, q):\n",
    "    circ.h(q)\n",
    "    return 1\n",
    "\n",
    "def y_to_z(circ, q):\n",
    "    circ.adjs(q)\n",
    "    circ.h(q)\n",
    "    return 2\n",
    "\n",
    "def y_to_x(circ, q):\n",
    "    circ.adjs(q)\n",
    "    return 1\n",
    "\n",
    "def z_to_x(circ, q):\n",
    "    circ.h(q)\n",
    "    return 1\n",
    "\n",
    "def z_to_y(circ, q):\n",
    "    circ.h(q)\n",
    "    circ.s(q)\n",
    "    return 2\n",
    "\n",
    "def cx(circ, q1, q2):\n",
    "    circ.mcx([q1], q2)\n",
    "    return 1\n",
    "\n",
    "def cy(circ, q1, q2):\n",
    "    circ.mcy([q1], q2)\n",
    "    return 1\n",
    "\n",
    "def cz(circ, q1, q2):\n",
    "    circ.mcz([q1], q2)\n",
    "    return 1\n",
    "\n",
    "def acx(circ, q1, q2):\n",
    "    circ.macx([q1], q2)\n",
    "    return 1\n",
    "\n",
    "def acy(circ, q1, q2):\n",
    "    circ.macy([q1], q2)\n",
    "    return 1\n",
    "\n",
    "def acz(circ, q1, q2):\n",
    "    circ.macz([q1], q2)\n",
    "    return 1\n",
    "\n",
    "def swap(circ, q1, q2):\n",
    "    circ.swap(q1, q2)\n",
    "    return 1\n",
    "\n",
    "def nswap(circ, q1, q2):\n",
    "    circ.mcz([q1], q2)\n",
    "    circ.swap(q1, q2)\n",
    "    circ.mcz([q1], q2)\n",
    "    return 3\n",
    "\n",
    "def pswap(circ, q1, q2):\n",
    "    circ.mcz([q1], q2)\n",
    "    circ.swap(q1, q2)\n",
    "    return 2\n",
    "\n",
    "def mswap(circ, q1, q2):\n",
    "    circ.swap(q1, q2)\n",
    "    circ.mcz([q1], q2)\n",
    "    return 2\n",
    "\n",
    "def iswap(circ, q1, q2):\n",
    "    circ.iswap(q1, q2)\n",
    "    return 1\n",
    "\n",
    "def iiswap(circ, q1, q2):\n",
    "    circ.adjiswap(q1, q2)\n",
    "    return 1\n",
    "\n",
    "def random_circuit(width, circ):\n",
    "    t_count = 0\n",
    "    gate_count = 0\n",
    "    bit_depths = width * [0]\n",
    "\n",
    "    single_bit_gates = { 0: (z_to_x, z_to_y), 1: (x_to_y, x_to_z), 2: (y_to_z, y_to_x) } \n",
    "    two_bit_gates = swap, pswap, mswap, nswap, iswap, iiswap, cx, cy, cz, acx, acy, acz\n",
    "\n",
    "    # Nearest-neighbor couplers:\n",
    "    gateSequence = [ 0, 3, 2, 1, 2, 1, 0, 3 ]\n",
    "    row_len = math.ceil(math.sqrt(width))\n",
    "\n",
    "    # Don\"t repeat bases:\n",
    "    bases = [0] * width\n",
    "    directions = [0] * width\n",
    "\n",
    "    for i in range(3 * width):\n",
    "        # Single bit gates\n",
    "        for j in range(width):\n",
    "            # Reset basis, every third layer\n",
    "            if i % 3 == 0:\n",
    "                bases[j] = random.randint(0, 2)\n",
    "                directions[j] = random.randint(0, 1)\n",
    "\n",
    "            # Sequential basis switch\n",
    "            gate = single_bit_gates[bases[j]][directions[j]]\n",
    "            g_count = gate(circ, j)\n",
    "            gate_count += g_count\n",
    "            bit_depths[j] += g_count\n",
    "\n",
    "            # Cycle through all 3 Pauli axes, every 3 layers\n",
    "            if directions[j]:\n",
    "                bases[j] -= 1\n",
    "                if bases[j] < 0:\n",
    "                    bases[j] += 3\n",
    "            else:\n",
    "                bases[j] += 1\n",
    "                if bases[j] > 2:\n",
    "                    bases[j] -= 3\n",
    "\n",
    "            # Rotate around local Z axis\n",
    "            rnd = random.randint(0, 3)\n",
    "            if rnd == 0:\n",
    "                circ.s(j)\n",
    "            elif rnd == 1:\n",
    "                circ.z(j)\n",
    "            elif rnd == 2:\n",
    "                circ.adjs(j)\n",
    "            # else - identity\n",
    "            if rnd < 3:\n",
    "                gate_count += 1\n",
    "                bit_depths[j] += 1\n",
    "\n",
    "            if (t_count < max_magic) and (width * width * random.random() / max_magic) < 1:\n",
    "                circ.u(j, 0, random.uniform(0, 4 * math.pi), 0)\n",
    "                gate_count += 1\n",
    "                bit_depths[j] += 1\n",
    "                t_count += 1\n",
    "\n",
    "        # Nearest-neighbor couplers:\n",
    "        ############################\n",
    "        # gate = gateSequence.pop(0)\n",
    "        # gateSequence.append(gate)\n",
    "        # for row in range(1, row_len, 2):\n",
    "        #     for col in range(row_len):\n",
    "        #         temp_row = row\n",
    "        #         temp_col = col\n",
    "        #         temp_row = temp_row + (1 if (gate & 2) else -1);\n",
    "        #         temp_col = temp_col + (1 if (gate & 1) else 0)\n",
    "\n",
    "        #         if (temp_row < 0) or (temp_col < 0) or (temp_row >= row_len) or (temp_col >= row_len):\n",
    "        #             continue\n",
    "\n",
    "        #         b1 = row * row_len + col\n",
    "        #         b2 = temp_row * row_len + temp_col\n",
    "\n",
    "        #         if (b1 >= width) or (b2 >= width):\n",
    "        #             continue\n",
    "\n",
    "        #         g = random.choice(two_bit_gates)\n",
    "        #         g_count = g(circ, b1, b2)\n",
    "        #         gate_count += g_count\n",
    "        #         bit_depths[b1] += g_count\n",
    "        #         bit_depths[b2] += g_count\n",
    "\n",
    "        # Fully-connected couplers:\n",
    "        ###########################\n",
    "        bit_set = [i for i in range(width)]\n",
    "        while len(bit_set) > 1:\n",
    "            b1 = random.choice(bit_set)\n",
    "            bit_set.remove(b1)\n",
    "            b2 = random.choice(bit_set)\n",
    "            bit_set.remove(b2)\n",
    "            g = random.choice(two_bit_gates)\n",
    "            g_count = g(circ, b1, b2)\n",
    "            gate_count += g_count\n",
    "            bit_depths[b1] += g_count\n",
    "            bit_depths[b2] += g_count\n",
    "\n",
    "    print(\"Gate count (before optimization): \", gate_count)\n",
    "\n",
    "    return circ"
   ]
  },
  {
   "cell_type": "markdown",
   "id": "da252c09",
   "metadata": {},
   "source": [
    "If we have Qiskit and numpy installed, we can convert to a Qiskit circuit. The gate count and qubit width might be higher, but the circuit is entirely Clifford group, except for a single terminal layer of non-Clifford gates, (followed by either post selection or a rudimentary error-correction routine)."
   ]
  },
  {
   "cell_type": "code",
   "execution_count": 5,
   "id": "126a1144",
   "metadata": {},
   "outputs": [
    {
     "name": "stdout",
     "output_type": "stream",
     "text": [
      "Gate count (before optimization):  8441\n"
     ]
    }
   ],
   "source": [
    "qsim = QrackSimulator(width, isSchmidtDecomposeMulti=False, isSchmidtDecompose=False, isOpenCL=False)\n",
    "random_circuit(width, qsim)\n",
    "qsim.out_to_file(\"qrack_circuit.chp\")\n",
    "qsim.reset_all()\n",
    "qsim = None"
   ]
  },
  {
   "cell_type": "code",
   "execution_count": 6,
   "id": "912f3203",
   "metadata": {},
   "outputs": [
    {
     "name": "stdout",
     "output_type": "stream",
     "text": [
      "(Near-Clifford) gate count:  2362\n",
      "(Near-Clifford) depth of critical path:  557\n"
     ]
    }
   ],
   "source": [
    "circ = QrackSimulator.file_to_qiskit_circuit(\"qrack_circuit.chp\")\n",
    "\n",
    "if width <= 8:\n",
    "    print(circ)\n",
    "print(\"(Near-Clifford) gate count: \", sum(dict(circ.count_ops()).values()))\n",
    "print(\"(Near-Clifford) depth of critical path: \", circ.depth())"
   ]
  },
  {
   "cell_type": "markdown",
   "id": "11e3caad",
   "metadata": {},
   "source": [
    "We can further optimize by post-selecting with tensor network software."
   ]
  },
  {
   "cell_type": "code",
   "execution_count": 7,
   "id": "6c4a3601",
   "metadata": {},
   "outputs": [],
   "source": [
    "tc.set_backend(\"tensorflow\")\n",
    "tc.set_contractor(\"auto\")\n",
    "tc.set_dtype(\"complex64\")\n",
    "\n",
    "net = tc.Circuit.from_qiskit(circ)\n",
    "for b in range(width, circ.width()):\n",
    "    net.post_select(b, keep=0)\n",
    "net = tcsc.simple_compile(net)[0]"
   ]
  },
  {
   "cell_type": "markdown",
   "id": "91f38d5f",
   "metadata": {},
   "source": [
    "We can sample with `tensorcircuit` at this point, or we can try another round of optimization."
   ]
  },
  {
   "cell_type": "code",
   "execution_count": 8,
   "id": "227c64e9",
   "metadata": {},
   "outputs": [],
   "source": [
    "# %%time\n",
    "# print(net.sample(allow_state=True, batch=1024, format=\"count_dict_bin\"))"
   ]
  },
  {
   "cell_type": "markdown",
   "id": "13fe34f6",
   "metadata": {},
   "source": [
    "We can convert back to a Qiskit circuit."
   ]
  },
  {
   "cell_type": "code",
   "execution_count": 9,
   "id": "caf4c8e6",
   "metadata": {},
   "outputs": [
    {
     "name": "stderr",
     "output_type": "stream",
     "text": [
      "omit non unitary gate in tensorcircuit when transforming to qiskit: any\n",
      "omit non unitary gate in tensorcircuit when transforming to qiskit: any\n",
      "omit non unitary gate in tensorcircuit when transforming to qiskit: any\n",
      "omit non unitary gate in tensorcircuit when transforming to qiskit: any\n",
      "omit non unitary gate in tensorcircuit when transforming to qiskit: any\n",
      "omit non unitary gate in tensorcircuit when transforming to qiskit: any\n",
      "omit non unitary gate in tensorcircuit when transforming to qiskit: any\n",
      "omit non unitary gate in tensorcircuit when transforming to qiskit: any\n",
      "omit non unitary gate in tensorcircuit when transforming to qiskit: any\n",
      "omit non unitary gate in tensorcircuit when transforming to qiskit: any\n",
      "omit non unitary gate in tensorcircuit when transforming to qiskit: any\n",
      "omit non unitary gate in tensorcircuit when transforming to qiskit: any\n",
      "omit non unitary gate in tensorcircuit when transforming to qiskit: any\n",
      "omit non unitary gate in tensorcircuit when transforming to qiskit: any\n",
      "omit non unitary gate in tensorcircuit when transforming to qiskit: any\n",
      "omit non unitary gate in tensorcircuit when transforming to qiskit: any\n",
      "omit non unitary gate in tensorcircuit when transforming to qiskit: any\n",
      "omit non unitary gate in tensorcircuit when transforming to qiskit: any\n",
      "omit non unitary gate in tensorcircuit when transforming to qiskit: any\n",
      "omit non unitary gate in tensorcircuit when transforming to qiskit: any\n",
      "omit non unitary gate in tensorcircuit when transforming to qiskit: any\n"
     ]
    },
    {
     "name": "stdout",
     "output_type": "stream",
     "text": [
      "(Near-Clifford) gate count:  2330\n",
      "(Near-Clifford) depth of critical path:  556\n"
     ]
    }
   ],
   "source": [
    "circ = net.to_qiskit()\n",
    "if width <= 8:\n",
    "    print(circ)\n",
    "print(\"(Near-Clifford) gate count: \", sum(dict(circ.count_ops()).values()))\n",
    "print(\"(Near-Clifford) depth of critical path: \", circ.depth())"
   ]
  },
  {
   "cell_type": "markdown",
   "id": "487abb03-dc6e-49f9-98de-8f1d01c961ee",
   "metadata": {},
   "source": [
    "Some phase gates tend to occur at the beginning of the circuit: these can safely be ignored. In fact, we can trace out the evolution of separable single-qubit states from the beginning of the circuit until they become entangled, for more gate elimination. Deterministic control qubits can be eliminated, as well."
   ]
  },
  {
   "cell_type": "code",
   "execution_count": 10,
   "id": "281054a4-73b7-46d6-bbaf-766fa4a74ec9",
   "metadata": {},
   "outputs": [
    {
     "name": "stdout",
     "output_type": "stream",
     "text": [
      "(Near-Clifford) gate count:  2293\n",
      "(Near-Clifford) depth of critical path:  553\n"
     ]
    }
   ],
   "source": [
    "to_cut = []\n",
    "state = circ.width() * [False]\n",
    "basis = circ.width() * [False]\n",
    "has_depth = circ.width() * [False]\n",
    "for i in range(len(circ.data)):\n",
    "    op = circ.data[i].operation\n",
    "    qubits = circ.data[i].qubits\n",
    "    first_qubit = circ.find_bit(qubits[0])[0]\n",
    "    if has_depth[first_qubit]:\n",
    "        continue\n",
    "    if len(qubits) == 1:\n",
    "        if op.name == \"h\":\n",
    "            basis[first_qubit] = not basis[first_qubit]\n",
    "        elif ((not basis[first_qubit]) and ((op.name == \"z\") or (op.name == \"s\") or (op.name == \"sdg\"))) or (basis[first_qubit] and (op.name == \"x\")):\n",
    "            to_cut.append(i)\n",
    "        elif ((not basis[first_qubit]) and ((op.name == \"x\") or (op.name == \"y\"))) or (basis[first_qubit] and ((op.name == \"y\") or (op.name == \"z\"))):\n",
    "            state[first_qubit] = not state[first_qubit]\n",
    "        else:\n",
    "            has_depth[first_qubit] = True\n",
    "    elif op.name == \"swap\":\n",
    "        second_qubit = circ.find_bit(qubits[1])[0]\n",
    "        has_depth[first_qubit], has_depth[second_qubit] = has_depth[second_qubit], has_depth[first_qubit]\n",
    "        state[first_qubit], state[second_qubit] = state[second_qubit], state[first_qubit]\n",
    "        basis[first_qubit], basis[second_qubit] = basis[second_qubit], basis[first_qubit]\n",
    "        if (not has_depth[first_qubit]) and (not has_depth[second_qubit]) and (state[first_qubit] == state[second_qubit]) and (basis[first_qubit] == basis[second_qubit]):\n",
    "            to_cut.append(i)\n",
    "    elif not basis[first_qubit] and op.name == \"cx\":\n",
    "        if state[first_qubit]:\n",
    "            circ.data[i].operation.name = \"x\"\n",
    "            del circ.data[i].qubits[0]\n",
    "            i -= 1\n",
    "        else:\n",
    "            to_cut.append(i)\n",
    "    else:\n",
    "        qc = circ.find_bit(qubits[0])[0]\n",
    "        qt = circ.find_bit(qubits[1])[0]\n",
    "        has_depth[qc] = True\n",
    "        has_depth[qt] = True\n",
    "\n",
    "to_cut.reverse()\n",
    "for i in to_cut:\n",
    "    del circ.data[i]\n",
    "    \n",
    "if width <= 8:\n",
    "    print(circ)\n",
    "print(\"(Near-Clifford) gate count: \", sum(dict(circ.count_ops()).values()))\n",
    "print(\"(Near-Clifford) depth of critical path: \", circ.depth())"
   ]
  },
  {
   "cell_type": "markdown",
   "id": "83004f30-70c3-438e-b3ac-8ec77aa592a7",
   "metadata": {},
   "source": [
    "If any ancilla qubit is nothing but an injection gadget, we can re-inject it."
   ]
  },
  {
   "cell_type": "code",
   "execution_count": 11,
   "id": "757c03c8-9dd7-41dc-87f9-a951eaee16f3",
   "metadata": {},
   "outputs": [
    {
     "name": "stdout",
     "output_type": "stream",
     "text": [
      "(Near-Clifford) gate count:  2280\n",
      "(Near-Clifford) depth of critical path:  553\n"
     ]
    }
   ],
   "source": [
    "sqrt1_2 = 1 / math.sqrt(2)\n",
    "passable_gates = [\"unitary\", \"x\", \"y\", \"z\", \"s\", \"sdg\"]\n",
    "\n",
    "unitary_stub = \"\"\n",
    "for inst in circ.data:\n",
    "    if inst.operation.name != \"unitary\":\n",
    "        continue\n",
    "    unitary_stub = inst\n",
    "    break\n",
    "\n",
    "if unitary_stub != \"\":\n",
    "    for i in range(width, circ.width()):\n",
    "        non_clifford = np.array([[sqrt1_2, sqrt1_2], [sqrt1_2, -sqrt1_2]])\n",
    "        to_cut = []\n",
    "        for j in reversed(range(len(circ.data))):\n",
    "            op = circ.data[j].operation\n",
    "            qubits = circ.data[j].qubits\n",
    "            id = circ.find_bit(qubits[0])[0]\n",
    "            if id == i:\n",
    "                unitary_stub.qubits = (qubits[0],)\n",
    "                break\n",
    "        for j in reversed(range(len(circ.data))):\n",
    "            op = circ.data[j].operation\n",
    "            qubits = circ.data[j].qubits\n",
    "\n",
    "            id = circ.find_bit(qubits[0])[0]\n",
    "            if (len(qubits) < 2) and (id == i):\n",
    "                to_cut.append(j)\n",
    "                if op.name == \"unitary\":\n",
    "                    non_clifford = np.matmul(non_clifford, op.params[0])\n",
    "                elif op.name == \"h\":\n",
    "                    non_clifford = np.matmul(non_clifford, np.array([[sqrt1_2, sqrt1_2], [sqrt1_2, -sqrt1_2]]))\n",
    "                elif op.name == \"x\":\n",
    "                    non_clifford = np.matmul(non_clifford, np.array([[0, 1], [1, 0]]))\n",
    "                elif op.name == \"y\":\n",
    "                    non_clifford = np.matmul(non_clifford, np.array([[0, -1j], [1j, 0]]))\n",
    "                elif op.name == \"z\":\n",
    "                    non_clifford = np.matmul(non_clifford, np.array([[1, 0], [0, -1]]))\n",
    "                elif op.name == \"s\":\n",
    "                    non_clifford = np.matmul(non_clifford, np.array([[1, 0], [0, 1j]]))\n",
    "                elif op.name == \"sdg\":\n",
    "                    non_clifford = np.matmul(non_clifford, np.array([[1, 0], [0, -1j]]))\n",
    "                else: \n",
    "                    print(\"Something went wrong!\")\n",
    "\n",
    "                continue\n",
    "\n",
    "            if len(qubits) < 2:\n",
    "                continue\n",
    "\n",
    "            if (id == i) or not (op.name == \"cx\"):\n",
    "                non_clifford = np.matmul(np.array([[sqrt1_2, sqrt1_2], [sqrt1_2, -sqrt1_2]]), non_clifford)\n",
    "                unitary_stub.operation.params = [np.asarray(non_clifford)]\n",
    "                circ.data.insert(j + 1, unitary_stub)\n",
    "                break\n",
    "\n",
    "            if (circ.find_bit(qubits[1])[0] == i) and (op.name == \"cx\"):\n",
    "                circ.data[j].operation.name = \"unitary\"\n",
    "                circ.data[j].operation.params.append(non_clifford)\n",
    "                circ.data[j].qubits = (qubits[0],)\n",
    "        \n",
    "        for i in to_cut:\n",
    "            del circ.data[i]\n",
    "\n",
    "if width <= 8:\n",
    "    print(circ)\n",
    "print(\"(Near-Clifford) gate count: \", sum(dict(circ.count_ops()).values()))\n",
    "print(\"(Near-Clifford) depth of critical path: \", circ.depth())"
   ]
  },
  {
   "cell_type": "markdown",
   "id": "fb2961d7-4c0e-45f3-b521-62a0d97be030",
   "metadata": {},
   "source": [
    "`QrackSimulator` can run a Qiskit circuit. (After the file is saved and loaded, separable ancillae qubits will be removed.)"
   ]
  },
  {
   "cell_type": "code",
   "execution_count": 12,
   "id": "636dc5f8",
   "metadata": {},
   "outputs": [],
   "source": [
    "# basis_gates=[\"rz\", \"h\", \"x\", \"y\", \"z\", \"sx\", \"sy\", \"s\", \"sdg\", \"cx\", \"cy\", \"cz\", \"swap\", \"iswap\"]\n",
    "# circ = transpile(circ, basis_gates=basis_gates, optimization_level=3)\n",
    "\n",
    "os.rename(\"qrack_circuit.chp\", \"qrack_circuit_original.chp\")\n",
    "\n",
    "qsim = QrackSimulator(circ.width(), isSchmidtDecomposeMulti=False, isSchmidtDecompose=False, isOpenCL=False)\n",
    "qsim.run_qiskit_circuit(circ, 0)\n",
    "\n",
    "qsim.out_to_file(\"qrack_circuit.chp\")\n",
    "\n",
    "lines = []\n",
    "with open(\"qrack_circuit.chp\",\"r\",encoding=\"utf-8\") as file:\n",
    "    lines = file.readlines()\n",
    "lines[0] = str(width) + \"\\n\"\n",
    "with open(\"qrack_circuit.chp\", \"w\", encoding=\"utf-8\") as file:\n",
    "    file.writelines(lines)"
   ]
  },
  {
   "cell_type": "markdown",
   "id": "5809bdbc",
   "metadata": {},
   "source": [
    "We can also sample with Qrack, as opposed to tensor circuits."
   ]
  },
  {
   "cell_type": "code",
   "execution_count": 13,
   "id": "6980c2a3",
   "metadata": {},
   "outputs": [
    {
     "name": "stdout",
     "output_type": "stream",
     "text": [
      "Device #0, Loaded binary from: /home/iamu/.qrack/qrack_ocl_dev_Intel(R)_UHD_Graphics_[0x9bc4].ir\n",
      "Device #1, Loaded binary from: /home/iamu/.qrack/qrack_ocl_dev_NVIDIA_GeForce_RTX_3080_Laptop_GPU.ir\n",
      "CPU times: user 19 µs, sys: 2 µs, total: 21 µs\n",
      "Wall time: 39.6 µs\n",
      "[2604832376, 4194396956, 509004668, 3120271446, 1303086843, 488257569, 814689013, 1907300967, 3932242745, 88504668, 3748630577, 834718043, 1639008987, 3110607074, 2869282025, 3767691619, 2852893196, 309219565, 830157376, 1300771833, 1247253163, 4093347972, 2672622326, 725766889, 3309922790, 2589987094, 2153201415, 37666615, 2560767567, 813228568, 1132554917, 2210214067, 2887017664, 3548922648, 560269049, 1273140827, 3985526592, 1267201217, 1645847816, 4251179763, 655704324, 535236525, 663614964, 1215442532, 839564982, 1499897025, 728212555, 1095007039, 2148802861, 2367097214, 1142387740, 508283550, 1165107861, 2505203904, 2699662281, 3017207461, 2680746141, 2152800680, 3242379515, 52020818, 2553010863, 1622048669, 3313639462, 461663909, 3068052328, 4062584317, 2763074340, 3224742130, 4046541570, 3548377420, 152655372, 1638994002, 4044854674, 2442563796, 2016124718, 103591144, 2066902189, 1270327985, 1965486958, 2851139446, 3673431300, 2274232310, 585417525, 764018495, 2327166401, 1074234208, 903537079, 95563545, 2202311174, 2792165184, 3466506232, 2494701064, 546571793, 603495406, 694577537, 1319991797, 2090533884, 3584729281, 2253200364, 218969968, 4164927471, 1954380803, 2657812777, 809950205, 1743745366, 138792346, 2807359299, 3740388035, 344978531, 3243356466, 2880004586, 3115558078, 642483920, 3883642532, 1367763365, 1815288302, 3117942392, 3310782231, 542808156, 3890878599, 3028685239, 1523106775, 2218457380, 1618056141, 3757935113, 4060978036, 2752945095, 283945622, 3632892024, 2264420188, 1067174348, 3067914739, 3272133481, 4073139019, 225777172, 2225058720, 2815549016, 2482986226, 1615621690, 2781243802, 413133719, 2844570026, 2993998004, 2331323966, 2136194742, 2605169922, 3506312981, 3859022842, 385380927, 1695471958, 11899551, 3035096922, 3886618771, 282233151, 3381115848, 2088421857, 4174118204, 382190576, 4187166396, 3478476568, 3438105613, 4201713696, 3662567154, 586272749, 50382925, 1228968816, 3676502594, 880050037, 3414214772, 357669701, 4161236297, 1763895491, 2569557093, 3930594189, 2343675997, 1737567292, 2551044356, 953546725, 2732718912, 716757758, 2454822907, 2285704184, 2777453899, 378047029, 3185747635, 276400072, 3849402312, 3010588301, 3094466348, 2884681166, 3538309115, 1636445664, 4205967458, 1418287377, 438567239, 3172467141, 2236812543, 2928986023, 2684051093, 1930885488, 926856118, 977764426, 351234257, 2871818076, 1743149347, 1430478524, 2084616757, 2014485720, 1030955875, 545206281, 2534706454, 3008317939, 1136958118, 3088833921, 603062875, 1058557013, 239631922, 21049771, 3435917966, 2499029574, 905542330, 1816145437, 2571429243, 2017226264, 4232285437, 90412354, 2973442529, 151454339, 3763436705, 3752101612, 3988753486, 2875724068, 90230644, 1875300817, 1836924453, 2240815964, 2251672826, 418884492, 167644410, 1848355978, 3468146793, 1692113717, 2506291476, 1859745287, 3147592595, 2682743906, 1035406806, 1407380152, 3246615651, 2530474455, 1703842530, 1538592180, 3575216013, 2892569528, 1988872006, 4267381598, 4017072458, 3968493232, 254298868, 572340106, 319082282, 4082600389, 863888743, 2342214851, 1967332283, 2274659302, 3460961011, 3842178644, 3410624879, 1735085514, 4287736884, 1289922097, 3980224889, 2405772093, 913481780, 587184081, 2049835897, 2725529102, 2018933136, 1232173820, 573780003, 168540314, 676589018, 3622109127, 3388940341, 3930238526, 3091591388, 3779977889, 34731010, 2600901563, 4105311333, 1316486934, 3899932245, 1932036060, 2002632937, 181877275, 1571785822, 2875888234, 3663065908, 3681701418, 3391623060, 1939633851, 1021383848, 2270348517, 3664191131, 3267653038, 399878007, 192709715, 1915661432, 1834281569, 575420767, 2343742016, 267078816, 2867452474, 496672929, 3251291685, 2256544092, 3222158049, 2801606200, 4190322190, 402389385, 3670395748, 4290207617, 2002857915, 3515762227, 3343691770, 4019262013, 555262349, 1461912038, 2143256699, 3456934873, 712824321, 2253609210, 1209885693, 2919403125, 405992730, 940085585, 4160483420, 4186477021, 2608800610, 2745925211, 3353147883, 3851080553, 3939392886, 587826448, 851886706, 2006718249, 1309334324, 3090084932, 3715173768, 2972696443, 1585795036, 1810262570, 1322129533, 168263289, 951950154, 23778343, 3833502365, 1069080368, 2473527400, 355470183, 1815136193, 2734029493, 3771999051, 4127237055, 432692247, 2276657850, 2658674935, 723141976, 389462920, 3008487777, 3711044749, 734849420, 870998546, 1322386863, 3513473079, 3769999862, 176760549, 2179680791, 1296484922, 2169218717, 460296747, 1883135104, 3867415848, 2273097436, 4114535354, 1618700717, 80520754, 815016856, 866392570, 3885177462, 3493605502, 3799679651, 206940393, 750369427, 90083435, 1984209980, 2452739344, 1253959625, 1761346310, 2743498737, 1110219789, 814634577, 1860856844, 1410077538, 1001250945, 3086749865, 3653756065, 476756958, 1231082260, 835358139, 3078138916, 2727471325, 366604737, 4202016942, 2163997150, 966072205, 2686117311, 3653422379, 3089615201, 2141982927, 3796701658, 2399536783, 1774934861, 4204467373, 566523760, 2029181334, 2374779841, 183074651, 1037605247, 856890635, 101769354, 4180020970, 4069127758, 346719680, 2422839921, 426720829, 1819557972, 3673073104, 1556680913, 370345644, 1093388337, 2090214538, 2001659401, 479228143, 2605417164, 1323516433, 1701122607, 560412714, 971450449, 4000570193, 2979462848, 3944384863, 962705678, 1759275018, 3471412993, 2140629480, 2260361202, 3584881984, 3630035717, 2817554013, 2817561337, 1838906431, 2510490310, 2612141143, 1993272963, 1118404721, 1323546564, 3633602761, 2489082524, 3494948030, 2564715673, 3121382818, 1877311355, 1113044660, 2351161183, 2150094443, 3549731598, 3178519428, 4280079582, 4051145566, 781362049, 4123129839, 538972622, 306168230, 1532687304, 3634304760, 469186469, 271064634, 1976183948, 1113574477, 437025996, 4106826001, 379037350, 2909924680, 2688240917, 3506914258, 3434948359, 1105126771, 3046156520, 608893060, 4170772856, 3806790372, 249665631, 3073652288, 4009992580, 1225091789, 4091571913, 1775380583, 828630968, 3418026665, 2865998290, 2276606269, 3060921375, 2427386208, 2204285006, 48546596, 2505022647, 1879342310, 1291662609, 3820168756, 1001275612, 1818752629, 3069176387, 1619833130, 2562177193, 1171461123, 1469793709, 2213738621, 3954979953, 3245134794, 3147380650, 1581472548, 922297683, 567033928, 424626284, 224212781, 3373913819, 3434640934, 2463854874, 3958253667, 2791845036, 3577077476, 3486412550, 3756142736, 3123481898, 2369131698, 3214421366, 232681770, 442336515, 3886180545, 3160983644, 3213287359, 3159147534, 2175094856, 2350987798, 1572496160, 1397602542, 3386465798, 3355291054, 4257744764, 2886873754, 2277618655, 95902491, 397585580, 730370023, 66123982, 565694683, 220821345, 1016993824, 4246923775, 2538110297, 1958197715, 307871873, 1927658253, 678723379, 137116276, 3894750292, 3723591585, 2537168334, 3399142982, 1223416496, 3403707748, 155851892, 64821028, 3794416009, 3414581629, 3728719226, 3371236554, 1345547333, 3715389670, 1125417778, 2149547868, 3473294620, 695941724, 2659697460, 4208423902, 228560787, 3860746182, 1803483581, 3780325523, 4151464301, 254403819, 469776581, 3801485042, 687921599, 2385846894, 3440569853, 2034756123, 2664121257, 3670953653, 1953816889, 1266296459, 4225128719, 82282601, 3450673009, 1793573400, 2057287937, 2044859330, 3854780458, 1281206465, 2448471053, 4173095049, 3953044007, 2667448972, 4293327455, 29055563, 417580833, 2228796768, 3094963692, 3862499152, 2052829830, 2287087479, 480159769, 1981709003, 2675138294, 2702670934, 1808877363, 2504201468, 2796559423, 600998184, 3901950853, 993969821, 4212758311, 294927187, 3228285930, 2487941585, 2116523127, 3382573910, 1464901785, 3301293155, 2972247814, 3385107814, 1231475725, 1775926714, 1528751636, 3913056172, 3372556944, 576588272, 1127609427, 3193928140, 44191163, 2179922562, 3393206377, 2681881410, 116387669, 2744089316, 1156969794, 3081382611, 103713132, 3600727668, 3696672765, 2997945592, 782141816, 1614607073, 3564168772, 4194738056, 2953389589, 3019401306, 144620710, 3418630343, 701622560, 594270000, 429042642, 1469723422, 3875960092, 1925183992, 2064256787, 4129036411, 2179056083, 3574773778, 3272733224, 841766903, 218119414, 1272030846, 1835284833, 1771458196, 193042697, 3638717813, 1755026661, 3218888884, 1658743375, 265678409, 3904173545, 2241887549, 578491402, 1542090090, 1411282059, 2849941432, 3904402542, 1967592378, 1648545796, 731109241, 1828476789, 2359299214, 2579139201, 1476115084, 3829449918, 1874368066, 931240524, 3565975504, 3623981576, 839093677, 506428766, 1596536167, 2201478876, 1974467876, 2912110274, 3067666264, 244460265, 4250568333, 1178436294, 1208845968, 1495350212, 2688994860, 379854551, 2195097847, 2335502488, 3717201691, 3798886827, 754889828, 3208896092, 3672139041, 1384530162, 2319233278, 4034745089, 2692920771, 344682855, 1365918530, 989009253, 1791568604, 2848151549, 1145357498, 2967648847, 1225406295, 498439565, 2524220343, 1608915887, 221618030, 738910097, 2738855203, 216536821, 13477145, 1267967843, 3875708176, 2218314341, 237954135, 105186731, 105041409, 3988185408, 4253944079, 591529039, 423475330, 1470762270, 4227536653, 3268138051, 1053474925, 3664232257, 295822355, 3612463597, 1958308931, 65678041, 1310523538, 527425541, 851736651, 2870639106, 23714921, 2807304794, 58044989, 1931978332, 286739251, 3487248828, 2947392089, 1981747864, 3998615755, 3334556248, 2158980430, 2489131780, 4166348053, 825556863, 1789052066, 492840897, 3320303761, 4038745809, 1143831592, 3824619654, 2572351525, 2020989210, 466258578, 1856771527, 3950654147, 330334855, 969642179, 3800022333, 1774620053, 1477388517, 1294529538, 2143758276, 651381886, 98722045, 1385698035, 2299474597, 1690360232, 884089962, 234989986, 335925790, 2831586620, 509012501, 2537140183, 467656474, 229990150, 3612853671, 1436901833, 2586288165, 3073733493, 431025133, 2584981474, 745986252, 3415835950, 3312930325, 425224165, 3045004123, 2781853560, 3992801744, 2209010736, 3091930324, 61968018, 1957240825, 1930318701, 2667373522, 2547514576, 2825993618, 2512018120, 1687670595, 3606419774, 2350786729, 3522166124, 455024843, 107337597, 663494164, 3617885910, 1672027561, 129315581, 3208238937, 1634530927, 3305385229, 1758219040, 1362666289, 3906218137, 4248696803, 4256134297, 3426686120, 2676578730, 3503551900, 1203591857, 1864963982, 1640605695, 3633871654, 3706989145, 2713618803, 2785811557, 3713327238, 3659558501, 3294395909, 3120114549, 2439919458, 4238416582, 3922623626, 1610662938, 1384747445, 360584450, 1687803013, 1419871976, 2927405863, 4107638597, 4066287885, 1705379438, 3050503814, 4281641633, 3898949492, 4009042606, 119711085, 2773709539, 94789964, 3450136903, 1499663134, 1313090748, 2210729723, 1024154551, 1614124889, 2734826015, 3000285920, 3936576305, 3455928867, 814660210, 730950921, 144771752, 321114729, 1598676235, 2080669566, 3141431593, 1058349413, 3120132633, 2358157885, 3940339316, 880193663, 2841128169, 516076641, 2941547549, 3320165533, 887753135, 3702024212, 2609707636, 2500466487, 620202413, 2137008000, 1150194395, 652060734, 3793068045, 3840161646, 1386651432, 1151652532, 1853359488, 2854781222, 345835621, 1115267756, 1887260045, 2973315643, 710609558, 3549798030, 1900226615, 3751500570, 1400041232, 1435575256, 398014227, 2855356469, 4116221641, 2569106724, 1562002974, 2390439428, 2704126816, 2264874671, 1022921119, 3956331434, 62407411, 2124688180, 4035305816, 3780037556, 53438736, 3472581735, 3536899184, 3099350008, 1717351624, 3618544216, 3617057512, 1770403969, 1701354710, 2854140805, 1165400633, 2012919701, 1269508159, 2870325320, 1597193930, 2863483179, 605921701, 1638196925, 2397786724, 2393871863, 2875580738, 1358348081, 1627780732, 985728599, 1707829781, 2240848345, 1117778599, 2816143867, 3883719947, 2377342496, 1116371262, 1558092307, 2958227509, 2274281562, 1705698239, 2061585786, 3401109678, 1331564680, 1112702395, 557810770, 887994277, 375189005, 3826514856, 38420347, 1984125556, 3366710801, 1413885023, 550553878, 1436693847, 2040671182, 3989680892, 1985574852, 2330754381, 1161560193, 1241209563, 3177164553]\n"
     ]
    }
   ],
   "source": [
    "lines = []\n",
    "with open(\"qrack_circuit.chp\",\"r\",encoding=\"utf-8\") as file:\n",
    "    lines = file.readlines()\n",
    "chp_qb_count = int(lines[1])\n",
    "is_clifford = True\n",
    "for i in range(2 + 2 * chp_qb_count, len(lines)):\n",
    "    if lines[i] != \"(1,0) (0,0) (0,0) (1,0)\\n\":\n",
    "        is_clifford = False\n",
    "        break\n",
    "\n",
    "if is_clifford:\n",
    "    qsim = QrackSimulator.in_from_file(\"qrack_circuit.chp\")\n",
    "    %time\n",
    "    print(qsim.measure_shots(list(range(width)), 1024))"
   ]
  },
  {
   "cell_type": "code",
   "execution_count": null,
   "id": "a451607e-718d-41c0-b0d7-96d06b994921",
   "metadata": {},
   "outputs": [],
   "source": []
  }
 ],
 "metadata": {
  "kernelspec": {
   "display_name": "Python 3 (ipykernel)",
   "language": "python",
   "name": "python3"
  },
  "language_info": {
   "codemirror_mode": {
    "name": "ipython",
    "version": 3
   },
   "file_extension": ".py",
   "mimetype": "text/x-python",
   "name": "python",
   "nbconvert_exporter": "python",
   "pygments_lexer": "ipython3",
   "version": "3.10.6"
  }
 },
 "nbformat": 4,
 "nbformat_minor": 5
}
