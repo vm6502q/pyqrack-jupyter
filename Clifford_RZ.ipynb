{
 "cells": [
  {
   "cell_type": "markdown",
   "id": "composed-midwest",
   "metadata": {},
   "source": [
    "# Clifford+RZ"
   ]
  },
  {
   "cell_type": "markdown",
   "id": "social-scott",
   "metadata": {},
   "source": [
    "You need the `pyqrack` package to run this notebook. [`vm6502q/pyqrack`](https://github.com/vm6502q/pyqrack) is a pure Python wrapper on the [`vm6502q/qrack`](https://github.com/vm6502q/qrack) quantum computer simulation framework core library. The preferred method of installation is from source code, at those GitHub repositories, but a package with default build precompiled binaries is available on [pypi](https://pypi.org/project/pyqrack/0.2.0/)."
   ]
  },
  {
   "cell_type": "code",
   "execution_count": 1,
   "id": "26fb4200",
   "metadata": {},
   "outputs": [],
   "source": [
    "# For example, if your Jupyter installation uses pip:\n",
    "# import sys\n",
    "# !{sys.executable} -m pip install --platform=manylinux2014_x86_64 --only-binary=:all: pyqrack"
   ]
  },
  {
   "cell_type": "code",
   "execution_count": 2,
   "id": "9eda67a6",
   "metadata": {},
   "outputs": [],
   "source": [
    "import collections\n",
    "import copy\n",
    "import math\n",
    "import os\n",
    "import random\n",
    "# import warnings\n",
    "\n",
    "import numpy as np\n",
    "\n",
    "import tensorcircuit as tc\n",
    "import tensorcircuit.compiler.simple_compiler as tcsc\n",
    "\n",
    "from qiskit import QuantumCircuit\n",
    "from qiskit.compiler import transpile\n",
    "\n",
    "from pyqrack import QrackSimulator, QrackCircuit\n",
    "\n",
    "# If we disable OpenCL and set the max CPU qubits to max integer, we bypass qubit widths limits.\n",
    "os.environ[\"QRACK_MAX_CPU_QB\"]=\"-1\""
   ]
  },
  {
   "cell_type": "code",
   "execution_count": 3,
   "id": "18b33e84-d479-4826-b2c1-696ab3c37c26",
   "metadata": {},
   "outputs": [],
   "source": [
    "def normalize_2x2_unitary(mtrx):\n",
    "    det = np.linalg.det(mtrx)\n",
    "    a = (mtrx[0][0] + np.conj(mtrx[1][1] / det)) / 2\n",
    "    b = (mtrx[0][1] + np.conj(-mtrx[1][0] / det)) / 2\n",
    "    return np.array([[a, b], [-det * np.conj(b), det * np.conj(a)]], dtype=np.complex128)"
   ]
  },
  {
   "cell_type": "code",
   "execution_count": 4,
   "id": "e342bcef",
   "metadata": {},
   "outputs": [],
   "source": [
    "width = 6\n",
    "max_magic = 6"
   ]
  },
  {
   "cell_type": "markdown",
   "id": "embedded-athletics",
   "metadata": {},
   "source": [
    "[`QrackSimulator`](https://github.com/vm6502q/pyqrack/blob/main/pyqrack/qrack_simulator.py) is the \"workhorse\" of the `pyqrack` package. It instantiates simulated \"registers\" of qubits that we can act basic quantum gates between, to form arbitrary universal quantum circuits."
   ]
  },
  {
   "cell_type": "markdown",
   "id": "db71c6b9",
   "metadata": {},
   "source": [
    "`QrackCircuit` is an optional class for optimizing compilation. With it, one can define a circuit in advance, which is optimized upon definition. Then, one can save the optimized result to a file and later load it into a new or existing `QrackCircuit` instance. Ultimately, the circuit is executed by calling `run()` on a `QrackCircuit`, with a parameter of `QrackSimulator` of appropriate size. (The necessary width of the `QrackSimulator` can be determined with `QrackCircuit.get_qubit_count()`.)"
   ]
  },
  {
   "cell_type": "code",
   "execution_count": 5,
   "id": "statutory-lewis",
   "metadata": {},
   "outputs": [],
   "source": [
    "def rand_1qb(sim, q):\n",
    "    # th = random.uniform(0, 4 * math.pi)\n",
    "    ph = random.uniform(0, 4 * math.pi)\n",
    "    # lm = random.uniform(0, 4 * math.pi)\n",
    "    # sim.u(th, ph, lm, q)\n",
    "    sim.u(0, ph, 0, q)\n",
    "\n",
    "def random_circuit(width, circ):\n",
    "    t_count = 0\n",
    "    single_bit_gates = circ.h, circ.x, circ.y\n",
    "    two_bit_gates = circ.cx, circ.cy, circ.cz, circ.swap, circ.iswap\n",
    "\n",
    "    for n in range(3 * width):\n",
    "        # Single bit gates\n",
    "        for j in range(width):\n",
    "            random.choice(single_bit_gates)(j)\n",
    "            if (t_count < max_magic) and ((width * width * random.random() / max_magic) < 1):\n",
    "                rand_1qb(circ, j)\n",
    "                t_count += 1\n",
    "\n",
    "        # Multi bit gates\n",
    "        bit_set = [i for i in range(width)]\n",
    "        while len(bit_set) > 1:\n",
    "            b1 = random.choice(bit_set)\n",
    "            bit_set.remove(b1)\n",
    "            b2 = random.choice(bit_set)\n",
    "            bit_set.remove(b2)\n",
    "            random.choice(two_bit_gates)(b1, b2)\n",
    "\n",
    "    return circ"
   ]
  },
  {
   "cell_type": "markdown",
   "id": "da252c09",
   "metadata": {},
   "source": [
    "If we have Qiskit and numpy installed, we can convert to a Qiskit circuit. The gate count and qubit width might be higher, but the circuit is entirely Clifford group, except for a single terminal layer of non-Clifford gates, (followed by either post selection or a rudimentary error-correction routine)."
   ]
  },
  {
   "cell_type": "code",
   "execution_count": 6,
   "id": "126a1144",
   "metadata": {},
   "outputs": [
    {
     "name": "stdout",
     "output_type": "stream",
     "text": [
      "Raw (near-Clifford) gate count:  168\n",
      "Raw (near-Clifford) depth of critical path:  40\n",
      "Raw (near-Clifford) qubit width:  6\n"
     ]
    }
   ],
   "source": [
    "orig_circ = random_circuit(width, QuantumCircuit(width))\n",
    "qsim = QrackSimulator(width, isSchmidtDecomposeMulti=False, isSchmidtDecompose=False, isOpenCL=False)\n",
    "qsim.run_qiskit_circuit(orig_circ, 0)\n",
    "qsim.out_to_file(\"qrack_circuit.chp\")\n",
    "qsim.reset_all()\n",
    "qsim = None\n",
    "\n",
    "print(\"Raw (near-Clifford) gate count: \", sum(dict(orig_circ.count_ops()).values()))\n",
    "print(\"Raw (near-Clifford) depth of critical path: \", orig_circ.depth())\n",
    "print(\"Raw (near-Clifford) qubit width: \", orig_circ.width())"
   ]
  },
  {
   "cell_type": "code",
   "execution_count": 7,
   "id": "912f3203",
   "metadata": {},
   "outputs": [
    {
     "name": "stdout",
     "output_type": "stream",
     "text": [
      "     ┌────────────┐                    ┌─────────────────┐                   »\n",
      "q_0: ┤ U(π/2,0,π) ├───────────■────────┤ U(π/2,π/2,-π/2) ├───────────────────»\n",
      "     └────────────┘           │        └─────────────────┘                   »\n",
      "q_1: ─────────────────────────┼──────────────────────────────────────────────»\n",
      "                            ┌─┴─┐                                       ┌───┐»\n",
      "q_2: ───────────────X───────┤ X ├───────────────■───────────────────────┤ X ├»\n",
      "                    │       └───┘             ┌─┴─┐       ┌────────────┐└─┬─┘»\n",
      "q_3: ───────────────┼─────────────────────────┤ X ├───────┤ U(π/2,0,π) ├──■──»\n",
      "     ┌────────────┐ │ ┌───────────────┐       └───┘       └────────────┘     »\n",
      "q_4: ┤ U(π/2,0,π) ├─X─┤ U(π/2,π/2,-π) ├──────────────────────────────────────»\n",
      "     └────────────┘   └───────────────┘                                      »\n",
      "q_5: ────────────────────────────────────────────────────────────────────────»\n",
      "                                                                             »\n",
      "«                                                          ┌───┐┌────────────┐»\n",
      "«q_0: ───────────────────X─────────────────────────────────┤ X ├┤ U(π/2,0,π) ├»\n",
      "«                        │                                 └─┬─┘└────────────┘»\n",
      "«q_1: ───────────────────┼───────────────────────────────────┼────────────────»\n",
      "«     ┌────────────────┐ │                                   │                »\n",
      "«q_2: ┤ U(0,-π/2,-π/2) ├─┼───────────────────────────────────┼────────────────»\n",
      "«     └────────────────┘ │ ┌──────────────────────────────┐  │      ┌───┐     »\n",
      "«q_3: ───────────────────X─┤ U(3.0789,-1.5708,1.6523e-06) ├──■──────┤ X ├─────»\n",
      "«                          └──────────────────────────────┘         └─┬─┘     »\n",
      "«q_4: ────────────────────────────────────────────────────────────────■───────»\n",
      "«                                                                             »\n",
      "«q_5: ────────────────────────────────────────────────────────────────────────»\n",
      "«                                                                             »\n",
      "«                                                                 »\n",
      "«q_0: ──────────────────────────────X──────────────────────────■──»\n",
      "«                                   │                          │  »\n",
      "«q_1: ──────────────────────────────┼──────────────────────────┼──»\n",
      "«                                   │                          │  »\n",
      "«q_2: ──────────────────────────────┼──────────────────────────┼──»\n",
      "«                                   │        ┌──────────────┐  │  »\n",
      "«q_3: ───────────────────■──────────┼────────┤ U(π,π/2,π/2) ├──┼──»\n",
      "«     ┌───────────────┐  │          │        └──────────────┘┌─┴─┐»\n",
      "«q_4: ┤ U(π/2,0,-π/2) ├──┼──────────X────────────────────────┤ X ├»\n",
      "«     └───────────────┘┌─┴─┐┌───────────────┐                └───┘»\n",
      "«q_5: ─────────────────┤ X ├┤ U(π/2,0,-π/2) ├─────────────────────»\n",
      "«                      └───┘└───────────────┘                     »\n",
      "«     ┌───────────────────────┐                               ┌───┐            »\n",
      "«q_0: ┤ U(1.5708,0,-0.062643) ├───────────────────────────────┤ X ├────────────»\n",
      "«     └─────────┬───┬─────────┘     ┌────────────┐            └─┬─┘            »\n",
      "«q_1: ──────────┤ X ├────────────■──┤ U(π/2,0,π) ├──────────────■──────────────»\n",
      "«               └─┬─┘            │  └────────────┘                             »\n",
      "«q_2: ────────────┼──────────────┼─────────────────────────────────────────────»\n",
      "«                 │              │                                             »\n",
      "«q_3: ────────────┼──────────────┼─────────────────────────────────────────────»\n",
      "«                 │            ┌─┴─┐                     ┌──────────────┐      »\n",
      "«q_4: ────────────┼────────────┤ X ├──────■──────────────┤ U(π,π/2,π/2) ├──────»\n",
      "«                 │            └───┘    ┌─┴─┐     ┌──────┴──────────────┴─────┐»\n",
      "«q_5: ────────────■─────────────────────┤ X ├─────┤ U(2.5199,-1.4631,-3.0539) ├»\n",
      "«                                       └───┘     └───────────────────────────┘»\n",
      "«                                           ┌───┐┌──────────────┐»\n",
      "«q_0: ─────────────────────■────────────────┤ X ├┤ U(π,π/2,π/2) ├»\n",
      "«     ┌─────────────────┐  │                └─┬─┘└──────────────┘»\n",
      "«q_1: ┤ U(π/2,π/2,-π/2) ├──┼──────────────────┼─────────X────────»\n",
      "«     └─────────────────┘  │                  │         │        »\n",
      "«q_2: ─────────────────────┼──────────────────┼─────────┼────────»\n",
      "«                          │                  │         │        »\n",
      "«q_3: ─────────────────────┼──────────────────┼─────────┼────────»\n",
      "«                          │                  │         │        »\n",
      "«q_4: ─────────────────────┼──────────────────┼─────────┼────────»\n",
      "«                        ┌─┴─┐┌────────────┐  │         │        »\n",
      "«q_5: ───────────────────┤ X ├┤ U(π/2,0,π) ├──■─────────X────────»\n",
      "«                        └───┘└────────────┘                     »\n",
      "«                                                                  \n",
      "«q_0: ─────────────────────────────────────────────────────────────\n",
      "«                                      ┌──────────────────────────┐\n",
      "«q_1: ──────────────────────────────■──┤ U(0.95326,0.1072,1.5566) ├\n",
      "«                                   │  └──────────────────────────┘\n",
      "«q_2: ──────────────────────────────┼──────────────────────────────\n",
      "«                                   │                              \n",
      "«q_3: ──────────────────────────────┼──────────────────────────────\n",
      "«                                   │                              \n",
      "«q_4: ──────────────────────────────┼──────────────────────────────\n",
      "«     ┌──────────────────────────┐┌─┴─┐                            \n",
      "«q_5: ┤ U(0.61893,1.5708,1.5708) ├┤ X ├────────────────────────────\n",
      "«     └──────────────────────────┘└───┘                            \n",
      "(Near-Clifford) gate count:  38\n",
      "(Near-Clifford) depth of critical path:  23\n",
      "(Near-Clifford) qubit width:  6\n"
     ]
    }
   ],
   "source": [
    "circ = QrackSimulator.file_to_optimized_qiskit_circuit(\"qrack_circuit.chp\")\n",
    "\n",
    "if circ.width() <= 16:\n",
    "    print(circ)\n",
    "print(\"(Near-Clifford) gate count: \", sum(dict(circ.count_ops()).values()))\n",
    "print(\"(Near-Clifford) depth of critical path: \", circ.depth())\n",
    "print(\"(Near-Clifford) qubit width: \", circ.width())"
   ]
  },
  {
   "cell_type": "markdown",
   "id": "81a91858-dafa-4b57-8c7f-222a23db691a",
   "metadata": {},
   "source": [
    "`QrackCircuit` might reduce the gate count and depth further, but it's probably an unrealistic gate set for most gate-based quantum hardware. However, if we're using conventional Qrack simulation, rather than near-Clifford, this format is advantageous for native Qrack."
   ]
  },
  {
   "cell_type": "code",
   "execution_count": 8,
   "id": "0a06b022-3683-4f7d-a0ea-d86415ae8489",
   "metadata": {},
   "outputs": [
    {
     "name": "stdout",
     "output_type": "stream",
     "text": [
      "                     ┌─────────────┐                                »\n",
      "q_0: ────────────────┤ Multiplexer ├────────────────────────────────»\n",
      "                     └─────────────┘                                »\n",
      "q_1: ───────────────────────────────────────────────────────────────»\n",
      "     ┌──────────────┐               ┌──────────────┐┌──────────────┐»\n",
      "q_2: ┤1             ├───────────────┤0             ├┤1             ├»\n",
      "     │              │┌─────────────┐│              ││              │»\n",
      "q_3: ┤  Multiplexer ├┤ Multiplexer ├┤  Multiplexer ├┤  Multiplexer ├»\n",
      "     │              │└─────────────┘│              ││              │»\n",
      "q_4: ┤0             ├───────────────┤1             ├┤0             ├»\n",
      "     └──────────────┘               └──────────────┘└──────────────┘»\n",
      "q_5: ───────────────────────────────────────────────────────────────»\n",
      "                                                                    »\n",
      "«     ┌──────────────┐┌─────────────┐                ┌──────────────┐»\n",
      "«q_0: ┤1             ├┤ Multiplexer ├────────────────┤1             ├»\n",
      "«     │              │└─────────────┘                │              │»\n",
      "«q_1: ┤  Multiplexer ├───────────────────────────────┤              ├»\n",
      "«     │              │┌──────────────┐┌─────────────┐│  Multiplexer │»\n",
      "«q_2: ┤0             ├┤1             ├┤ Multiplexer ├┤              ├»\n",
      "«     └──────────────┘│  Multiplexer │└─────────────┘│              │»\n",
      "«q_3: ────────────────┤0             ├───────────────┤0             ├»\n",
      "«                     └──────────────┘               └──────────────┘»\n",
      "«q_4: ───────────────────────────────────────────────────────────────»\n",
      "«                                                                    »\n",
      "«q_5: ───────────────────────────────────────────────────────────────»\n",
      "«                                                                    »\n",
      "«     ┌─────────────┐┌──────────────┐┌─────────────┐                 »\n",
      "«q_0: ┤ Multiplexer ├┤1             ├┤ Multiplexer ├─────────────────»\n",
      "«     └─────────────┘│              │└─────────────┘                 »\n",
      "«q_1: ───────────────┤              ├────────────────────────────────»\n",
      "«                    │  Multiplexer │                                »\n",
      "«q_2: ───────────────┤              ├────────────────────────────────»\n",
      "«                    │              │┌──────────────┐┌──────────────┐»\n",
      "«q_3: ───────────────┤0             ├┤0             ├┤1             ├»\n",
      "«                    └──────────────┘│  Multiplexer ││              │»\n",
      "«q_4: ───────────────────────────────┤1             ├┤  Multiplexer ├»\n",
      "«                                    └──────────────┘│              │»\n",
      "«q_5: ───────────────────────────────────────────────┤0             ├»\n",
      "«                                                    └──────────────┘»\n",
      "«                                    ┌──────────────┐┌─────────────┐»\n",
      "«q_0: ───────────────────────────────┤1             ├┤ Multiplexer ├»\n",
      "«                    ┌──────────────┐│              │└─────────────┘»\n",
      "«q_1: ───────────────┤0             ├┤              ├───────────────»\n",
      "«                    │              ││              │               »\n",
      "«q_2: ───────────────┤              ├┤  Multiplexer ├───────────────»\n",
      "«     ┌─────────────┐│              ││              │               »\n",
      "«q_3: ┤ Multiplexer ├┤  Multiplexer ├┤              ├───────────────»\n",
      "«     ├─────────────┤│              ││              │               »\n",
      "«q_4: ┤ Multiplexer ├┤              ├┤0             ├───────────────»\n",
      "«     └─────────────┘│              │└──────────────┘               »\n",
      "«q_5: ───────────────┤1             ├───────────────────────────────»\n",
      "«                    └──────────────┘                               »\n",
      "«     ┌──────────────┐                                ┌──────────────┐»\n",
      "«q_0: ┤1             ├────────────────────────────────┤0             ├»\n",
      "«     │              │┌──────────────┐┌─────────────┐ │  Multiplexer │»\n",
      "«q_1: ┤              ├┤1             ├┤ Multiplexer ├─┤1             ├»\n",
      "«     │              ││              │└─────────────┘ └──────────────┘»\n",
      "«q_2: ┤  Multiplexer ├┤              ├────────────────────────────────»\n",
      "«     │              ││  Multiplexer │                                »\n",
      "«q_3: ┤              ├┤              ├────────────────────────────────»\n",
      "«     │              ││              │┌──────────────┐┌─────────────┐ »\n",
      "«q_4: ┤0             ├┤0             ├┤1             ├┤ Multiplexer ├─»\n",
      "«     └──────────────┘└──────────────┘│  Multiplexer │└─────────────┘ »\n",
      "«q_5: ────────────────────────────────┤0             ├────────────────»\n",
      "«                                     └──────────────┘                »\n",
      "«     ┌──────────────┐┌─────────────┐                               »\n",
      "«q_0: ┤1             ├┤ Multiplexer ├───────────────────────────────»\n",
      "«     │              │├─────────────┤┌──────────────┐┌─────────────┐»\n",
      "«q_1: ┤              ├┤ Multiplexer ├┤1             ├┤ Multiplexer ├»\n",
      "«     │              │└─────────────┘│              │└─────────────┘»\n",
      "«q_2: ┤              ├───────────────┤              ├───────────────»\n",
      "«     │  Multiplexer │               │              │               »\n",
      "«q_3: ┤              ├───────────────┤  Multiplexer ├───────────────»\n",
      "«     │              │               │              │               »\n",
      "«q_4: ┤              ├───────────────┤              ├───────────────»\n",
      "«     │              │               │              │               »\n",
      "«q_5: ┤0             ├───────────────┤0             ├───────────────»\n",
      "«     └──────────────┘               └──────────────┘               »\n",
      "«                                    \n",
      "«q_0: ───────────────────────────────\n",
      "«     ┌──────────────┐┌─────────────┐\n",
      "«q_1: ┤1             ├┤ Multiplexer ├\n",
      "«     │              │└─────────────┘\n",
      "«q_2: ┤              ├───────────────\n",
      "«     │              │               \n",
      "«q_3: ┤  Multiplexer ├───────────────\n",
      "«     │              │               \n",
      "«q_4: ┤              ├───────────────\n",
      "«     │              │               \n",
      "«q_5: ┤0             ├───────────────\n",
      "«     └──────────────┘               \n",
      "(Near-Clifford) gate count:  33\n",
      "(Near-Clifford) depth of critical path:  21\n",
      "(Near-Clifford) qubit width:  6\n"
     ]
    }
   ],
   "source": [
    "qcircuit = QrackCircuit.in_from_qiskit_circuit(circ)\n",
    "qcircuit.out_to_file(\"qrack_circuit.qc\")\n",
    "qrack_circ = QrackCircuit.file_to_qiskit_circuit(\"qrack_circuit.qc\")\n",
    "\n",
    "if qrack_circ.width() <= 16:\n",
    "    print(qrack_circ)\n",
    "print(\"(Near-Clifford) gate count: \", sum(dict(qrack_circ.count_ops()).values()))\n",
    "print(\"(Near-Clifford) depth of critical path: \", qrack_circ.depth())\n",
    "print(\"(Near-Clifford) qubit width: \", qrack_circ.width())"
   ]
  },
  {
   "cell_type": "markdown",
   "id": "56f7feef-c238-4453-a2b2-edca2158c1fd",
   "metadata": {},
   "source": [
    "We can further optimize by post-selecting with tensor network software."
   ]
  },
  {
   "cell_type": "code",
   "execution_count": 9,
   "id": "6b7ee675-01fe-4756-975d-cb84eaeae369",
   "metadata": {},
   "outputs": [],
   "source": [
    "tc.set_backend(\"tensorflow\")\n",
    "tc.set_contractor(\"auto\")\n",
    "tc.set_dtype(\"complex64\")\n",
    "\n",
    "net = tc.Circuit.from_qiskit(circ)\n",
    "for b in range(width, circ.width()):\n",
    "    net.post_select(b, keep=0)\n",
    "net = tcsc.simple_compile(net)[0]"
   ]
  },
  {
   "cell_type": "markdown",
   "id": "f325bda8-4173-484f-b9c4-f79bbaeec929",
   "metadata": {},
   "source": [
    "We can sample with tensorcircuit at this point, or we can try another round of optimization."
   ]
  },
  {
   "cell_type": "code",
   "execution_count": 10,
   "id": "bad380fa-9c2a-45b6-a256-aff02c86365a",
   "metadata": {},
   "outputs": [],
   "source": [
    "# %%time\n",
    "# shots = 1 << (width + 12)\n",
    "# print(net.sample(allow_state=True, batch=shots, format=\"count_dict_bin\"))"
   ]
  },
  {
   "cell_type": "code",
   "execution_count": 11,
   "id": "91ffa001-d6f1-46e6-b348-0d81968acee0",
   "metadata": {},
   "outputs": [
    {
     "name": "stdout",
     "output_type": "stream",
     "text": [
      "Device #0, Loaded binary from: /home/iamu/.qrack/qrack_ocl_dev_Intel(R)_UHD_Graphics_[0x9bc4].ir\n",
      "Device #1, Loaded binary from: /home/iamu/.qrack/qrack_ocl_dev_NVIDIA_GeForce_RTX_3080_Laptop_GPU.ir\n",
      "Hellinger fidelity:  1.0\n"
     ]
    }
   ],
   "source": [
    "def cross_entropy(measurement_list, qiskit_circuit):\n",
    "    perm_count = 1 << qiskit_circuit.width()\n",
    "    ideal_shots = perm_count << 12\n",
    "\n",
    "    sim = QrackSimulator(qubitCount = qiskit_circuit.width(), isStabilizerHybrid=False)\n",
    "    sim.run_qiskit_circuit(qiskit_circuit, 0)\n",
    "    ideal_result = sim.measure_shots(list(range(qiskit_circuit.width())), ideal_shots)\n",
    "    ideal_result = dict(collections.Counter(ideal_result))\n",
    "    for key, value in ideal_result.items():\n",
    "        ideal_result[key] = value / ideal_shots\n",
    "        \n",
    "    ideal_probs_sv = []\n",
    "    for i in range(perm_count):\n",
    "        ideal_probs_sv.append(ideal_result[i] if i in ideal_result else 0)\n",
    "    \n",
    "    ideal_probs = []\n",
    "    for bit_string in measurement_list:\n",
    "        ideal_probs.append(ideal_probs_sv[bit_string])\n",
    "                               \n",
    "    return (perm_count * np.mean(ideal_probs)) - 1\n",
    "\n",
    "\n",
    "def hellinger_fidelity(measurement_list, qiskit_circuit):\n",
    "    perm_count = 1 << qiskit_circuit.width()\n",
    "    ideal_shots = perm_count << 12\n",
    "\n",
    "    t_histogram = collections.Counter(measurement_list)\n",
    "    shot_count = sum(t_histogram.values())\n",
    "    t_histogram = dict(t_histogram)\n",
    "        \n",
    "    histogram = {}\n",
    "    for key, value in t_histogram.items():\n",
    "        histogram[key] = value / shot_count\n",
    "\n",
    "    sim = QrackSimulator(qubitCount = qiskit_circuit.width(), isStabilizerHybrid=False)\n",
    "    sim.run_qiskit_circuit(qiskit_circuit, 0)\n",
    "    ideal_result = sim.measure_shots(list(range(qiskit_circuit.width())), ideal_shots)\n",
    "    ideal_result = dict(collections.Counter(ideal_result))\n",
    "    for key, value in ideal_result.items():\n",
    "        ideal_result[key] = value / ideal_shots\n",
    "        \n",
    "    ideal_probs_sv = []\n",
    "    for i in range(perm_count):\n",
    "        ideal_probs_sv.append(ideal_result[i] if i in ideal_result else 0)\n",
    "\n",
    "    fidelity = 0\n",
    "    for qubit_permutation in histogram.keys():\n",
    "        ideal_prob = ideal_result[qubit_permutation] if qubit_permutation in ideal_result else 0\n",
    "        normalized_frequency = histogram[qubit_permutation]\n",
    "        fidelity += math.sqrt(ideal_prob * ideal_prob)\n",
    "    fidelity *= fidelity\n",
    "                               \n",
    "    return fidelity\n",
    "\n",
    "\n",
    "if width <= 16:\n",
    "    # The circuit has 0 ancillae, so we can generate samples with conventional simulation.\n",
    "    qsim = QrackSimulator()\n",
    "    qcircuit.run(qsim)\n",
    "    for i in range(width, qcircuit.get_qubit_count()):\n",
    "        qsim.force_m(i, False)\n",
    "    shots = 1 << (width + 12)\n",
    "    samples = qsim.measure_shots(list(range(width)), shots)\n",
    "    # print(\"XEB fidelity: \", cross_entropy(samples, orig_circ))\n",
    "    print(\"Hellinger fidelity: \", hellinger_fidelity(samples, orig_circ))"
   ]
  }
 ],
 "metadata": {
  "kernelspec": {
   "display_name": "Python 3 (ipykernel)",
   "language": "python",
   "name": "python3"
  },
  "language_info": {
   "codemirror_mode": {
    "name": "ipython",
    "version": 3
   },
   "file_extension": ".py",
   "mimetype": "text/x-python",
   "name": "python",
   "nbconvert_exporter": "python",
   "pygments_lexer": "ipython3",
   "version": "3.10.6"
  }
 },
 "nbformat": 4,
 "nbformat_minor": 5
}
