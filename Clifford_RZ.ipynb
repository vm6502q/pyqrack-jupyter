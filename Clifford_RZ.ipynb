{
 "cells": [
  {
   "cell_type": "markdown",
   "id": "composed-midwest",
   "metadata": {},
   "source": [
    "# Clifford+RZ"
   ]
  },
  {
   "cell_type": "markdown",
   "id": "social-scott",
   "metadata": {},
   "source": [
    "You need the `pyqrack` package to run this notebook. [`vm6502q/pyqrack`](https://github.com/vm6502q/pyqrack) is a pure Python wrapper on the [`vm6502q/qrack`](https://github.com/vm6502q/qrack) quantum computer simulation framework core library. The preferred method of installation is from source code, at those GitHub repositories, but a package with default build precompiled binaries is available on [pypi](https://pypi.org/project/pyqrack/0.2.0/)."
   ]
  },
  {
   "cell_type": "code",
   "execution_count": 1,
   "id": "26fb4200",
   "metadata": {},
   "outputs": [],
   "source": [
    "# For example, if your Jupyter installation uses pip:\n",
    "# import sys\n",
    "# !{sys.executable} -m pip install --platform=manylinux2014_x86_64 --only-binary=:all: pyqrack"
   ]
  },
  {
   "cell_type": "code",
   "execution_count": 2,
   "id": "9eda67a6",
   "metadata": {},
   "outputs": [],
   "source": [
    "import collections\n",
    "import math\n",
    "import os\n",
    "import random\n",
    "\n",
    "import numpy as np\n",
    "\n",
    "import tensorcircuit as tc\n",
    "import tensorcircuit.compiler.simple_compiler as tcsc\n",
    "\n",
    "from qiskit import QuantumCircuit\n",
    "from qiskit.compiler import transpile\n",
    "\n",
    "from pyqrack import QrackSimulator\n",
    "\n",
    "# If we disable OpenCL and set the max CPU qubits to max integer, we bypass qubit widths limits.\n",
    "os.environ[\"QRACK_MAX_CPU_QB\"]=\"-1\""
   ]
  },
  {
   "cell_type": "code",
   "execution_count": 3,
   "id": "e342bcef",
   "metadata": {},
   "outputs": [],
   "source": [
    "width = 4\n",
    "max_magic = 4"
   ]
  },
  {
   "cell_type": "markdown",
   "id": "embedded-athletics",
   "metadata": {},
   "source": [
    "[`QrackSimulator`](https://github.com/vm6502q/pyqrack/blob/main/pyqrack/qrack_simulator.py) is the \"workhorse\" of the `pyqrack` package. It instantiates simulated \"registers\" of qubits that we can act basic quantum gates between, to form arbitrary universal quantum circuits."
   ]
  },
  {
   "cell_type": "markdown",
   "id": "db71c6b9",
   "metadata": {},
   "source": [
    "`QrackCircuit` is an optional class for optimizing compilation. With it, one can define a circuit in advance, which is optimized upon definition. Then, one can save the optimized result to a file and later load it into a new or existing `QrackCircuit` instance. Ultimately, the circuit is executed by calling `run()` on a `QrackCircuit`, with a parameter of `QrackSimulator` of appropriate size. (The necessary width of the `QrackSimulator` can be determined with `QrackCircuit.get_qubit_count()`.)"
   ]
  },
  {
   "cell_type": "code",
   "execution_count": 4,
   "id": "statutory-lewis",
   "metadata": {},
   "outputs": [],
   "source": [
    "def rand_1qb(sim, q):\n",
    "    # th = random.uniform(0, 4 * math.pi)\n",
    "    ph = random.uniform(0, 4 * math.pi)\n",
    "    # lm = random.uniform(0, 4 * math.pi)\n",
    "    # sim.u(th, ph, lm, q)\n",
    "    sim.u(0, ph, 0, q)\n",
    "\n",
    "def random_circuit(width, circ):\n",
    "    t_count = 0\n",
    "    single_bit_gates = circ.h, circ.x, circ.y\n",
    "    two_bit_gates = circ.cx, circ.cy, circ.cz, circ.swap, circ.iswap\n",
    "\n",
    "    for n in range(3 * width):\n",
    "        # Single bit gates\n",
    "        for j in range(width):\n",
    "            random.choice(single_bit_gates)(j)\n",
    "            if (t_count < max_magic) and ((width * width * random.random() / max_magic) < 1):\n",
    "                rand_1qb(circ, j)\n",
    "                t_count += 1\n",
    "\n",
    "        # Multi bit gates\n",
    "        bit_set = [i for i in range(width)]\n",
    "        while len(bit_set) > 1:\n",
    "            b1 = random.choice(bit_set)\n",
    "            bit_set.remove(b1)\n",
    "            b2 = random.choice(bit_set)\n",
    "            bit_set.remove(b2)\n",
    "            random.choice(two_bit_gates)(b1, b2)\n",
    "\n",
    "    return circ"
   ]
  },
  {
   "cell_type": "markdown",
   "id": "da252c09",
   "metadata": {},
   "source": [
    "If we have Qiskit and numpy installed, we can convert to a Qiskit circuit. The gate count and qubit width might be higher, but the circuit is entirely Clifford group, except for a single terminal layer of non-Clifford gates, (followed by either post selection or a rudimentary error-correction routine)."
   ]
  },
  {
   "cell_type": "code",
   "execution_count": 5,
   "id": "126a1144",
   "metadata": {},
   "outputs": [],
   "source": [
    "orig_circ = random_circuit(width, QuantumCircuit(width))\n",
    "qsim = QrackSimulator(width, isSchmidtDecomposeMulti=False, isSchmidtDecompose=False, isOpenCL=False)\n",
    "qsim.run_qiskit_circuit(orig_circ, 0)\n",
    "qsim.out_to_file(\"qrack_circuit.chp\")\n",
    "qsim.reset_all()\n",
    "qsim = None"
   ]
  },
  {
   "cell_type": "code",
   "execution_count": 14,
   "id": "912f3203",
   "metadata": {},
   "outputs": [
    {
     "name": "stdout",
     "output_type": "stream",
     "text": [
      "        ┌───┐   ┌───┐┌───┐                    ┌───┐┌───┐   ┌───┐        ┌───┐»\n",
      "q_0: ───┤ H ├───┤ S ├┤ X ├─────────────────■──┤ S ├┤ H ├───┤ S ├────────┤ X ├»\n",
      "        ├───┤   ├───┤└─┬─┘          ┌───┐┌─┴─┐└───┘├───┤┌──┴───┴──┐     └─┬─┘»\n",
      "q_1: ───┤ S ├───┤ H ├──┼────■───────┤ X ├┤ X ├──■──┤ Y ├┤ Unitary ├───────┼──»\n",
      "        ├───┤   ├───┤  │    │       └─┬─┘└───┘┌─┴─┐├───┤└──┬───┬──┘┌───┐  │  »\n",
      "q_2: ───┤ S ├───┤ H ├──■────┼─────────┼───────┤ X ├┤ S ├───┤ H ├───┤ X ├──┼──»\n",
      "        ├───┤   └───┘     ┌─┴─┐┌───┐  │  ┌───┐└───┘└───┘   └───┘   └─┬─┘  │  »\n",
      "q_3: ───┤ S ├─────────────┤ X ├┤ S ├──┼──┤ H ├───────────────────────■────┼──»\n",
      "        ├───┤             └───┘└───┘  │  └───┘                            │  »\n",
      "q_4: ───┤ H ├─────────────────────────┼───────────────────────────────────┼──»\n",
      "     ┌──┴───┴──┐                      │                                   │  »\n",
      "q_5: ┤ Unitary ├──────────────────────┼───────────────────────────────────┼──»\n",
      "     └──┬───┬──┘                      │                                   │  »\n",
      "q_6: ───┤ H ├─────────────────────────■───────────────────────────────────■──»\n",
      "        └───┘                                                                »\n",
      "«     ┌───┐     ┌───┐┌─────────┐                                              »\n",
      "«q_0: ┤ X ├──■──┤ Y ├┤ Unitary ├──────────────────────────────────────────────»\n",
      "«     └─┬─┘  │  └───┘└─────────┘                                              »\n",
      "«q_1: ──┼────┼────────────────────────────────────────────────────────────────»\n",
      "«       │    │  ┌───┐           ┌───┐     ┌───┐               ┌───┐┌─────────┐»\n",
      "«q_2: ──■────┼──┤ H ├───────────┤ X ├─────┤ X ├───────■───────┤ X ├┤ Unitary ├»\n",
      "«          ┌─┴─┐├───┤   ┌───┐   └─┬─┘┌───┐└─┬─┘┌───┐  │       └─┬─┘└──┬───┬──┘»\n",
      "«q_3: ─────┤ X ├┤ S ├───┤ H ├─────■──┤ S ├──┼──┤ X ├──┼─────────┼─────┤ X ├───»\n",
      "«          └───┘└───┘   └───┘        └───┘  │  └─┬─┘  │         │     └─┬─┘   »\n",
      "«q_4: ──────────────────────────────────────■────■────┼─────────┼───────┼─────»\n",
      "«                                                     │         │       │     »\n",
      "«q_5: ────────────────────────────────────────────────┼─────────┼───────┼─────»\n",
      "«     ┌───┐                                         ┌─┴─┐┌───┐  │       │     »\n",
      "«q_6: ┤ H ├─────────────────────────────────────────┤ X ├┤ H ├──■───────■─────»\n",
      "«     └───┘                                         └───┘└───┘                »\n",
      "«                                           \n",
      "«q_0: ──────────────────────────────────────\n",
      "«                                           \n",
      "«q_1: ──────────────────────────────────────\n",
      "«                                           \n",
      "«q_2: ──────────────────────────────────────\n",
      "«     ┌───┐┌─────────┐                      \n",
      "«q_3: ┤ Z ├┤ Unitary ├──────────────────────\n",
      "«     └───┘└─────────┘┌─────────┐           \n",
      "«q_4: ──────────■─────┤ Unitary ├───────────\n",
      "«               │     └─────────┘           \n",
      "«q_5: ──────────┼───────────────────────────\n",
      "«     ┌───┐   ┌─┴─┐      ┌───┐   ┌─────────┐\n",
      "«q_6: ┤ H ├───┤ X ├──────┤ X ├───┤ Unitary ├\n",
      "«     └───┘   └───┘      └───┘   └─────────┘\n",
      "(Near-Clifford) gate count:  50\n",
      "(Near-Clifford) depth of critical path:  23\n"
     ]
    }
   ],
   "source": [
    "circ = QrackSimulator.file_to_qiskit_circuit(\"qrack_circuit.chp\")\n",
    "\n",
    "if width <= 8:\n",
    "    print(circ)\n",
    "print(\"(Near-Clifford) gate count: \", sum(dict(circ.count_ops()).values()))\n",
    "print(\"(Near-Clifford) depth of critical path: \", circ.depth())"
   ]
  },
  {
   "cell_type": "markdown",
   "id": "11e3caad",
   "metadata": {},
   "source": [
    "We can further optimize by post-selecting with tensor network software."
   ]
  },
  {
   "cell_type": "code",
   "execution_count": 15,
   "id": "6c4a3601",
   "metadata": {},
   "outputs": [],
   "source": [
    "tc.set_backend(\"tensorflow\")\n",
    "tc.set_contractor(\"auto\")\n",
    "tc.set_dtype(\"complex64\")\n",
    "\n",
    "net = tc.Circuit.from_qiskit(circ)\n",
    "for b in range(width, circ.width()):\n",
    "    net.post_select(b, keep=0)\n",
    "net = tcsc.simple_compile(net)[0]"
   ]
  },
  {
   "cell_type": "markdown",
   "id": "91f38d5f",
   "metadata": {},
   "source": [
    "We can sample with `tensorcircuit` at this point, or we can try another round of optimization."
   ]
  },
  {
   "cell_type": "code",
   "execution_count": 16,
   "id": "227c64e9",
   "metadata": {},
   "outputs": [],
   "source": [
    "# %%time\n",
    "# print(net.sample(allow_state=True, batch=1024, format=\"count_dict_bin\"))"
   ]
  },
  {
   "cell_type": "markdown",
   "id": "13fe34f6",
   "metadata": {},
   "source": [
    "We can convert back to a Qiskit circuit."
   ]
  },
  {
   "cell_type": "code",
   "execution_count": 17,
   "id": "caf4c8e6",
   "metadata": {},
   "outputs": [
    {
     "name": "stderr",
     "output_type": "stream",
     "text": [
      "omit non unitary gate in tensorcircuit when transforming to qiskit: any\n",
      "omit non unitary gate in tensorcircuit when transforming to qiskit: any\n"
     ]
    },
    {
     "name": "stdout",
     "output_type": "stream",
     "text": [
      "     ┌───┐┌───┐┌───┐                    ┌───┐┌───┐┌───┐     ┌───┐┌───┐     »\n",
      "q_0: ┤ H ├┤ S ├┤ X ├─────────────────■──┤ S ├┤ H ├┤ S ├─────┤ X ├┤ X ├──■──»\n",
      "     ├───┤├───┤└─┬─┘          ┌───┐┌─┴─┐└───┘├───┤└───┘     └─┬─┘└─┬─┘  │  »\n",
      "q_1: ┤ S ├┤ H ├──┼────■───────┤ X ├┤ X ├──■──┤ Y ├────────────┼────┼────┼──»\n",
      "     ├───┤├───┤  │    │       └─┬─┘└───┘┌─┴─┐├───┤┌───┐┌───┐  │    │    │  »\n",
      "q_2: ┤ S ├┤ H ├──■────┼─────────┼───────┤ X ├┤ S ├┤ H ├┤ X ├──┼────■────┼──»\n",
      "     ├───┤└───┘     ┌─┴─┐┌───┐  │  ┌───┐└───┘└───┘└───┘└─┬─┘  │       ┌─┴─┐»\n",
      "q_3: ┤ S ├──────────┤ X ├┤ S ├──┼──┤ H ├─────────────────■────┼───────┤ X ├»\n",
      "     ├───┤          └───┘└───┘  │  └───┘                      │       └───┘»\n",
      "q_4: ┤ H ├──────────────────────┼─────────────────────────────┼────────────»\n",
      "     └───┘                      │                             │            »\n",
      "q_5: ───────────────────────────┼─────────────────────────────┼────────────»\n",
      "     ┌───┐                      │                             │  ┌───┐     »\n",
      "q_6: ┤ H ├──────────────────────■─────────────────────────────■──┤ H ├─────»\n",
      "     └───┘                                                       └───┘     »\n",
      "«     ┌───┐                                                              »\n",
      "«q_0: ┤ Y ├──────────────────────────────────────────────────────────────»\n",
      "«     └───┘                                                              »\n",
      "«q_1: ───────────────────────────────────────────────────────────────────»\n",
      "«     ┌───┐     ┌───┐     ┌───┐               ┌───┐                      »\n",
      "«q_2: ┤ H ├─────┤ X ├─────┤ X ├───────■───────┤ X ├──────────────────────»\n",
      "«     ├───┤┌───┐└─┬─┘┌───┐└─┬─┘┌───┐  │       └─┬─┘┌───┐┌───┐            »\n",
      "«q_3: ┤ S ├┤ H ├──■──┤ S ├──┼──┤ X ├──┼─────────┼──┤ X ├┤ Z ├────────────»\n",
      "«     └───┘└───┘     └───┘  │  └─┬─┘  │         │  └─┬─┘└───┘     ┌─────┐»\n",
      "«q_4: ──────────────────────■────■────┼─────────┼────┼─────────■──┤ any ├»\n",
      "«                                     │         │    │         │  └─────┘»\n",
      "«q_5: ────────────────────────────────┼─────────┼────┼─────────┼─────────»\n",
      "«                                   ┌─┴─┐┌───┐  │    │  ┌───┐┌─┴─┐ ┌───┐ »\n",
      "«q_6: ──────────────────────────────┤ X ├┤ H ├──■────■──┤ H ├┤ X ├─┤ X ├─»\n",
      "«                                   └───┘└───┘          └───┘└───┘ └───┘ »\n",
      "«            \n",
      "«q_0: ───────\n",
      "«            \n",
      "«q_1: ───────\n",
      "«            \n",
      "«q_2: ───────\n",
      "«            \n",
      "«q_3: ───────\n",
      "«            \n",
      "«q_4: ───────\n",
      "«            \n",
      "«q_5: ───────\n",
      "«     ┌─────┐\n",
      "«q_6: ┤ any ├\n",
      "«     └─────┘\n",
      "(Near-Clifford) gate count:  45\n",
      "(Near-Clifford) depth of critical path:  23\n"
     ]
    }
   ],
   "source": [
    "circ = net.to_qiskit()\n",
    "if width <= 8:\n",
    "    print(circ)\n",
    "print(\"(Near-Clifford) gate count: \", sum(dict(circ.count_ops()).values()))\n",
    "print(\"(Near-Clifford) depth of critical path: \", circ.depth())"
   ]
  },
  {
   "cell_type": "markdown",
   "id": "487abb03-dc6e-49f9-98de-8f1d01c961ee",
   "metadata": {},
   "source": [
    "Some phase gates tend to occur at the beginning of the circuit: these can safely be ignored. In fact, we can trace out the evolution of separable single-qubit states from the beginning of the circuit until they become entangled, for more gate elimination. Deterministic control qubits can be eliminated, as well."
   ]
  },
  {
   "cell_type": "code",
   "execution_count": 18,
   "id": "281054a4-73b7-46d6-bbaf-766fa4a74ec9",
   "metadata": {},
   "outputs": [
    {
     "name": "stdout",
     "output_type": "stream",
     "text": [
      "     ┌───┐┌───┐┌───┐          ┌───┐┌───┐┌───┐     ┌───┐┌───┐     ┌───┐     »\n",
      "q_0: ┤ H ├┤ S ├┤ X ├───────■──┤ S ├┤ H ├┤ S ├─────┤ X ├┤ X ├──■──┤ Y ├─────»\n",
      "     ├───┤└───┘└─┬─┘┌───┐┌─┴─┐└───┘├───┤└───┘     └─┬─┘└─┬─┘  │  └───┘     »\n",
      "q_1: ┤ H ├──■────┼──┤ X ├┤ X ├──■──┤ Y ├────────────┼────┼────┼────────────»\n",
      "     ├───┤  │    │  └─┬─┘└───┘┌─┴─┐├───┤┌───┐┌───┐  │    │    │  ┌───┐     »\n",
      "q_2: ┤ H ├──┼────■────┼───────┤ X ├┤ S ├┤ H ├┤ X ├──┼────■────┼──┤ H ├─────»\n",
      "     └───┘┌─┴─┐┌───┐  │  ┌───┐└───┘└───┘└───┘└─┬─┘  │       ┌─┴─┐├───┤┌───┐»\n",
      "q_3: ─────┤ X ├┤ S ├──┼──┤ H ├─────────────────■────┼───────┤ X ├┤ S ├┤ H ├»\n",
      "     ┌───┐└───┘└───┘  │  └───┘                      │       └───┘└───┘└───┘»\n",
      "q_4: ┤ H ├────────────┼─────────────────────────────┼──────────────────────»\n",
      "     └───┘            │                             │                      »\n",
      "q_5: ─────────────────┼─────────────────────────────┼──────────────────────»\n",
      "     ┌───┐            │                             │  ┌───┐               »\n",
      "q_6: ┤ H ├────────────■─────────────────────────────■──┤ H ├───────────────»\n",
      "     └───┘                                             └───┘               »\n",
      "«                                                                     \n",
      "«q_0: ────────────────────────────────────────────────────────────────\n",
      "«                                                                     \n",
      "«q_1: ────────────────────────────────────────────────────────────────\n",
      "«     ┌───┐     ┌───┐               ┌───┐                             \n",
      "«q_2: ┤ X ├─────┤ X ├───────■───────┤ X ├─────────────────────────────\n",
      "«     └─┬─┘┌───┐└─┬─┘┌───┐  │       └─┬─┘┌───┐┌───┐                   \n",
      "«q_3: ──■──┤ S ├──┼──┤ X ├──┼─────────┼──┤ X ├┤ Z ├───────────────────\n",
      "«          └───┘  │  └─┬─┘  │         │  └─┬─┘└───┘     ┌─────┐       \n",
      "«q_4: ────────────■────■────┼─────────┼────┼─────────■──┤ any ├───────\n",
      "«                           │         │    │         │  └─────┘       \n",
      "«q_5: ──────────────────────┼─────────┼────┼─────────┼────────────────\n",
      "«                         ┌─┴─┐┌───┐  │    │  ┌───┐┌─┴─┐ ┌───┐ ┌─────┐\n",
      "«q_6: ────────────────────┤ X ├┤ H ├──■────■──┤ H ├┤ X ├─┤ X ├─┤ any ├\n",
      "«                         └───┘└───┘          └───┘└───┘ └───┘ └─────┘\n",
      "(Near-Clifford) gate count:  42\n",
      "(Near-Clifford) depth of critical path:  22\n"
     ]
    }
   ],
   "source": [
    "to_cut = []\n",
    "state = circ.width() * [False]\n",
    "basis = circ.width() * [False]\n",
    "has_depth = circ.width() * [False]\n",
    "for i in range(len(circ.data)):\n",
    "    op = circ.data[i].operation\n",
    "    qubits = circ.data[i].qubits\n",
    "    first_qubit = circ.find_bit(qubits[0])[0]\n",
    "    if has_depth[first_qubit]:\n",
    "        continue\n",
    "    if len(qubits) == 1:\n",
    "        if op.name == \"h\":\n",
    "            basis[first_qubit] = not basis[first_qubit]\n",
    "        elif ((not basis[first_qubit]) and ((op.name == \"z\") or (op.name == \"s\") or (op.name == \"sdg\"))) or (basis[first_qubit] and (op.name == \"x\")):\n",
    "            to_cut.append(i)\n",
    "        elif ((not basis[first_qubit]) and ((op.name == \"x\") or (op.name == \"y\"))) or (basis[first_qubit] and ((op.name == \"y\") or (op.name == \"z\"))):\n",
    "            state[first_qubit] = not state[first_qubit]\n",
    "        else:\n",
    "            has_depth[first_qubit] = True\n",
    "    elif op.name == \"swap\":\n",
    "        second_qubit = circ.find_bit(qubits[1])[0]\n",
    "        has_depth[first_qubit], has_depth[second_qubit] = has_depth[second_qubit], has_depth[first_qubit]\n",
    "        state[first_qubit], state[second_qubit] = state[second_qubit], state[first_qubit]\n",
    "        basis[first_qubit], basis[second_qubit] = basis[second_qubit], basis[first_qubit]\n",
    "        if (not has_depth[first_qubit]) and (not has_depth[second_qubit]) and (state[first_qubit] == state[second_qubit]) and (basis[first_qubit] == basis[second_qubit]):\n",
    "            to_cut.append(i)\n",
    "    elif not basis[first_qubit] and op.name == \"cx\":\n",
    "        if state[first_qubit]:\n",
    "            circ.data[i].operation.name = \"x\"\n",
    "            del circ.data[i].qubits[0]\n",
    "            i -= 1\n",
    "        else:\n",
    "            to_cut.append(i)\n",
    "    else:\n",
    "        qc = circ.find_bit(qubits[0])[0]\n",
    "        qt = circ.find_bit(qubits[1])[0]\n",
    "        has_depth[qc] = True\n",
    "        has_depth[qt] = True\n",
    "\n",
    "to_cut.reverse()\n",
    "for i in to_cut:\n",
    "    del circ.data[i]\n",
    "    \n",
    "if width <= 8:\n",
    "    print(circ)\n",
    "print(\"(Near-Clifford) gate count: \", sum(dict(circ.count_ops()).values()))\n",
    "print(\"(Near-Clifford) depth of critical path: \", circ.depth())"
   ]
  },
  {
   "cell_type": "markdown",
   "id": "83004f30-70c3-438e-b3ac-8ec77aa592a7",
   "metadata": {},
   "source": [
    "If any ancilla qubit is nothing but an injection gadget, we can re-inject it."
   ]
  },
  {
   "cell_type": "code",
   "execution_count": 19,
   "id": "757c03c8-9dd7-41dc-87f9-a951eaee16f3",
   "metadata": {},
   "outputs": [
    {
     "name": "stdout",
     "output_type": "stream",
     "text": [
      "     ┌───┐┌───┐┌───┐          ┌───┐┌───┐┌───┐     ┌───┐┌───┐     ┌───┐     »\n",
      "q_0: ┤ H ├┤ S ├┤ X ├───────■──┤ S ├┤ H ├┤ S ├─────┤ X ├┤ X ├──■──┤ Y ├─────»\n",
      "     ├───┤└───┘└─┬─┘┌───┐┌─┴─┐└───┘├───┤└───┘     └─┬─┘└─┬─┘  │  └───┘     »\n",
      "q_1: ┤ H ├──■────┼──┤ X ├┤ X ├──■──┤ Y ├────────────┼────┼────┼────────────»\n",
      "     ├───┤  │    │  └─┬─┘└───┘┌─┴─┐├───┤┌───┐┌───┐  │    │    │  ┌───┐     »\n",
      "q_2: ┤ H ├──┼────■────┼───────┤ X ├┤ S ├┤ H ├┤ X ├──┼────■────┼──┤ H ├─────»\n",
      "     └───┘┌─┴─┐┌───┐  │  ┌───┐└───┘└───┘└───┘└─┬─┘  │       ┌─┴─┐├───┤┌───┐»\n",
      "q_3: ─────┤ X ├┤ S ├──┼──┤ H ├─────────────────■────┼───────┤ X ├┤ S ├┤ H ├»\n",
      "     ┌───┐└───┘└───┘  │  └───┘                      │       └───┘└───┘└───┘»\n",
      "q_4: ┤ H ├────────────┼─────────────────────────────┼──────────────────────»\n",
      "     └───┘            │                             │                      »\n",
      "q_5: ─────────────────┼─────────────────────────────┼──────────────────────»\n",
      "     ┌───┐            │                             │  ┌───┐               »\n",
      "q_6: ┤ H ├────────────■─────────────────────────────■──┤ H ├───────────────»\n",
      "     └───┘                                             └───┘               »\n",
      "«                                                                \n",
      "«q_0: ───────────────────────────────────────────────────────────\n",
      "«                                                                \n",
      "«q_1: ───────────────────────────────────────────────────────────\n",
      "«     ┌───┐     ┌───┐               ┌───┐                        \n",
      "«q_2: ┤ X ├─────┤ X ├───────■───────┤ X ├────────────────────────\n",
      "«     └─┬─┘┌───┐└─┬─┘┌───┐  │       └─┬─┘┌───┐                   \n",
      "«q_3: ──■──┤ S ├──┼──┤ X ├──┼─────────┼──┤ X ├───────────────────\n",
      "«          └───┘  │  └─┬─┘  │  ┌───┐  │  └─┬─┘                   \n",
      "«q_4: ────────────■────■────┼──┤ X ├──┼────┼─────────────────────\n",
      "«                           │  └───┘  │    │                     \n",
      "«q_5: ──────────────────────┼─────────┼────┼─────────────────────\n",
      "«                         ┌─┴─┐┌───┐  │    │  ┌─────┐┌───┐┌─────┐\n",
      "«q_6: ────────────────────┤ X ├┤ H ├──■────■──┤ any ├┤ H ├┤ any ├\n",
      "«                         └───┘└───┘          └─────┘└───┘└─────┘\n",
      "(Near-Clifford) gate count:  40\n",
      "(Near-Clifford) depth of critical path:  21\n"
     ]
    }
   ],
   "source": [
    "sqrt1_2 = 1 / math.sqrt(2)\n",
    "passable_gates = [\"unitary\", \"x\", \"y\", \"z\", \"s\", \"sdg\"]\n",
    "\n",
    "unitary_stub = \"\"\n",
    "for inst in circ.data:\n",
    "    if inst.operation.name != \"unitary\":\n",
    "        continue\n",
    "    unitary_stub = inst\n",
    "    break\n",
    "\n",
    "if unitary_stub != \"\":\n",
    "    for i in range(width, circ.width()):\n",
    "        non_clifford = np.array([[sqrt1_2, sqrt1_2], [sqrt1_2, -sqrt1_2]])\n",
    "        to_cut = []\n",
    "        for j in reversed(range(len(circ.data))):\n",
    "            op = circ.data[j].operation\n",
    "            qubits = circ.data[j].qubits\n",
    "            id = circ.find_bit(qubits[0])[0]\n",
    "            if id == i:\n",
    "                unitary_stub.qubits = (qubits[0],)\n",
    "                break\n",
    "        for j in reversed(range(len(circ.data))):\n",
    "            op = circ.data[j].operation\n",
    "            qubits = circ.data[j].qubits\n",
    "\n",
    "            id = circ.find_bit(qubits[0])[0]\n",
    "            if (len(qubits) < 2) and (id == i):\n",
    "                to_cut.append(j)\n",
    "                if op.name == \"unitary\":\n",
    "                    non_clifford = np.matmul(non_clifford, op.params[0])\n",
    "                elif op.name == \"h\":\n",
    "                    non_clifford = np.matmul(non_clifford, np.array([[sqrt1_2, sqrt1_2], [sqrt1_2, -sqrt1_2]]))\n",
    "                elif op.name == \"x\":\n",
    "                    non_clifford = np.matmul(non_clifford, np.array([[0, 1], [1, 0]]))\n",
    "                elif op.name == \"y\":\n",
    "                    non_clifford = np.matmul(non_clifford, np.array([[0, -1j], [1j, 0]]))\n",
    "                elif op.name == \"z\":\n",
    "                    non_clifford = np.matmul(non_clifford, np.array([[1, 0], [0, -1]]))\n",
    "                elif op.name == \"s\":\n",
    "                    non_clifford = np.matmul(non_clifford, np.array([[1, 0], [0, 1j]]))\n",
    "                elif op.name == \"sdg\":\n",
    "                    non_clifford = np.matmul(non_clifford, np.array([[1, 0], [0, -1j]]))\n",
    "                else: \n",
    "                    print(\"Something went wrong!\")\n",
    "\n",
    "                continue\n",
    "\n",
    "            if len(qubits) < 2:\n",
    "                continue\n",
    "\n",
    "            if (id == i) or not (op.name == \"cx\"):\n",
    "                # non_clifford = np.matmul(np.array([[sqrt1_2, sqrt1_2], [sqrt1_2, -sqrt1_2]]), non_clifford)\n",
    "                unitary_stub.operation.params = [np.asarray(non_clifford)]\n",
    "                circ.data.insert(j + 1, unitary_stub)\n",
    "                break\n",
    "\n",
    "            if (circ.find_bit(qubits[1])[0] == i) and (op.name == \"cx\"):\n",
    "                circ.data[j].operation.name = \"unitary\"\n",
    "                circ.data[j].operation.params.append(non_clifford)\n",
    "                circ.data[j].qubits = (qubits[0],)\n",
    "        \n",
    "        for i in to_cut:\n",
    "            del circ.data[i]\n",
    "\n",
    "if width <= 8:\n",
    "    print(circ)\n",
    "print(\"(Near-Clifford) gate count: \", sum(dict(circ.count_ops()).values()))\n",
    "print(\"(Near-Clifford) depth of critical path: \", circ.depth())"
   ]
  },
  {
   "cell_type": "markdown",
   "id": "fb2961d7-4c0e-45f3-b521-62a0d97be030",
   "metadata": {},
   "source": [
    "`QrackSimulator` can run a Qiskit circuit. (After the file is saved and loaded, separable ancillae qubits will be removed.)"
   ]
  },
  {
   "cell_type": "code",
   "execution_count": 20,
   "id": "636dc5f8",
   "metadata": {},
   "outputs": [],
   "source": [
    "# basis_gates=[\"rz\", \"h\", \"x\", \"y\", \"z\", \"sx\", \"sy\", \"s\", \"sdg\", \"cx\", \"cy\", \"cz\", \"swap\", \"iswap\"]\n",
    "# circ = transpile(circ, basis_gates=basis_gates, optimization_level=3)\n",
    "\n",
    "os.rename(\"qrack_circuit.chp\", \"qrack_circuit_original.chp\")\n",
    "\n",
    "qsim = QrackSimulator(circ.width(), isSchmidtDecomposeMulti=False, isSchmidtDecompose=False, isOpenCL=False)\n",
    "qsim.run_qiskit_circuit(circ, 0)\n",
    "\n",
    "qsim.out_to_file(\"qrack_circuit.chp\")\n",
    "\n",
    "lines = []\n",
    "with open(\"qrack_circuit.chp\",\"r\",encoding=\"utf-8\") as file:\n",
    "    lines = file.readlines()\n",
    "lines[0] = str(width) + \"\\n\"\n",
    "with open(\"qrack_circuit.chp\", \"w\", encoding=\"utf-8\") as file:\n",
    "    file.writelines(lines)"
   ]
  },
  {
   "cell_type": "markdown",
   "id": "5809bdbc",
   "metadata": {},
   "source": [
    "We can also sample with Qrack, as opposed to tensor circuits."
   ]
  },
  {
   "cell_type": "code",
   "execution_count": 21,
   "id": "6980c2a3",
   "metadata": {},
   "outputs": [
    {
     "name": "stdout",
     "output_type": "stream",
     "text": [
      "Device #0, Loaded binary from: /home/iamu/.qrack/qrack_ocl_dev_Intel(R)_UHD_Graphics_[0x9bc4].ir\n",
      "Device #1, Loaded binary from: /home/iamu/.qrack/qrack_ocl_dev_NVIDIA_GeForce_RTX_3080_Laptop_GPU.ir\n",
      "CPU times: user 3 µs, sys: 1 µs, total: 4 µs\n",
      "Wall time: 7.15 µs\n",
      "[11, 11, 5, 12, 0, 14, 14, 7, 3, 15, 14, 8, 6, 5, 8, 12, 6, 12, 5, 11, 2, 1, 1, 9, 13, 9, 8, 0, 10, 9, 8, 1, 1, 11, 4, 5, 1, 9, 13, 5, 5, 5, 12, 3, 3, 6, 2, 6, 3, 15, 7, 5, 5, 5, 5, 1, 6, 1, 14, 6, 1, 6, 6, 6, 6, 5, 6, 12, 6, 11, 14, 9, 6, 6, 5, 10, 0, 14, 3, 11, 9, 14, 6, 13, 8, 11, 12, 7, 0, 4, 7, 4, 13, 5, 4, 3, 5, 1, 13, 1, 0, 8, 5, 13, 5, 7, 9, 10, 15, 8, 9, 11, 13, 0, 12, 1, 14, 8, 4, 10, 5, 6, 13, 8, 8, 15, 15, 10, 12, 11, 1, 8, 4, 10, 5, 6, 6, 13, 12, 7, 5, 2, 13, 9, 15, 13, 14, 12, 7, 14, 10, 6, 5, 1, 9, 11, 5, 1, 0, 3, 0, 3, 0, 0, 8, 1, 8, 0, 12, 9, 10, 15, 7, 9, 3, 12, 6, 8, 2, 6, 14, 6, 13, 12, 8, 4, 11, 15, 4, 0, 3, 1, 7, 14, 1, 11, 7, 8, 0, 3, 13, 5, 4, 11, 2, 4, 2, 3, 13, 14, 7, 2, 6, 8, 4, 9, 10, 3, 15, 9, 0, 13, 7, 0, 9, 14, 11, 13, 7, 13, 8, 10, 13, 8, 10, 4, 11, 2, 12, 5, 9, 3, 0, 6, 8, 13, 5, 3, 12, 7, 4, 0, 1, 11, 7, 6, 6, 0, 15, 15, 12, 8, 13, 7, 2, 4, 9, 12, 9, 8, 9, 3, 7, 2, 13, 13, 15, 0, 6, 2, 12, 15, 5, 13, 2, 11, 5, 2, 4, 4, 7, 8, 10, 11, 15, 14, 0, 15, 0, 14, 4, 14, 3, 6, 15, 8, 14, 3, 6, 12, 3, 15, 8, 10, 3, 0, 0, 9, 0, 5, 15, 15, 12, 15, 0, 6, 2, 2, 13, 6, 1, 14, 7, 4, 12, 9, 10, 10, 15, 12, 9, 9, 14, 11, 3, 3, 1, 2, 15, 2, 5, 14, 8, 0, 4, 8, 10, 14, 5, 12, 11, 6, 13, 6, 12, 2, 7, 13, 4, 3, 14, 7, 6, 0, 8, 1, 4, 13, 12, 14, 1, 11, 8, 3, 15, 15, 1, 9, 3, 9, 11, 1, 3, 8, 15, 6, 4, 10, 8, 3, 9, 15, 11, 5, 4, 2, 10, 8, 1, 7, 0, 4, 5, 15, 4, 0, 10, 5, 4, 3, 11, 7, 13, 3, 12, 4, 8, 14, 11, 5, 9, 7, 3, 3, 5, 11, 12, 2, 15, 0, 4, 14, 3, 5, 14, 13, 12, 2, 15, 9, 6, 13, 11, 7, 7, 1, 4, 7, 7, 14, 7, 7, 8, 1, 8, 9, 0, 6, 11, 12, 6, 2, 4, 0, 15, 6, 13, 4, 7, 12, 15, 10, 7, 10, 14, 4, 15, 9, 3, 7, 14, 13, 10, 6, 10, 9, 8, 0, 15, 12, 5, 14, 9, 11, 12, 3, 1, 2, 13, 6, 8, 15, 1, 6, 12, 3, 11, 13, 10, 7, 6, 9, 14, 9, 5, 6, 12, 7, 11, 9, 12, 14, 2, 2, 5, 1, 14, 3, 14, 6, 11, 4, 10, 13, 6, 2, 11, 1, 10, 11, 10, 0, 15, 15, 11, 10, 11, 5, 7, 6, 14, 7, 4, 5, 4, 2, 13, 0, 12, 4, 7, 11, 14, 2, 4, 1, 9, 14, 8, 11, 15, 2, 5, 9, 3, 1, 13, 9, 15, 11, 4, 13, 10, 5, 12, 11, 5, 0, 13, 2, 1, 4, 14, 14, 6, 13, 11, 0, 12, 1, 0, 9, 13, 3, 2, 9, 15, 11, 14, 13, 12, 11, 3, 5, 0, 2, 6, 11, 15, 1, 10, 15, 1, 9, 4, 13, 5, 12, 2, 9, 11, 9, 10, 5, 12, 4, 2, 12, 5, 5, 9, 9, 1, 14, 4, 2, 8, 15, 3, 2, 0, 9, 1, 4, 11, 4, 15, 12, 7, 13, 3, 4, 3, 3, 5, 7, 14, 1, 4, 1, 3, 1, 15, 15, 3, 12, 9, 10, 12, 6, 11, 15, 4, 3, 6, 2, 10, 6, 10, 10, 7, 7, 10, 5, 12, 6, 12, 10, 14, 0, 13, 11, 4, 12, 8, 9, 7, 1, 2, 0, 11, 8, 1, 7, 5, 0, 2, 11, 2, 4, 6, 8, 13, 0, 11, 4, 15, 5, 3, 6, 7, 9, 9, 0, 10, 7, 12, 15, 6, 3, 2, 15, 14, 6, 2, 13, 11, 2, 14, 0, 8, 0, 1, 0, 10, 6, 14, 1, 0, 8, 12, 2, 1, 8, 5, 13, 2, 4, 14, 13, 0, 2, 0, 11, 4, 4, 12, 4, 3, 12, 13, 6, 8, 2, 12, 10, 15, 7, 8, 8, 1, 14, 2, 9, 0, 0, 1, 1, 10, 14, 8, 0, 11, 4, 12, 10, 14, 12, 0, 14, 8, 15, 13, 1, 3, 2, 6, 3, 5, 10, 15, 11, 15, 14, 8, 3, 5, 3, 2, 3, 12, 0, 3, 15, 15, 11, 4, 6, 12, 5, 4, 6, 9, 7, 14, 12, 3, 14, 4, 8, 13, 12, 9, 5, 8, 10, 3, 13, 3, 0, 1, 4, 10, 4, 7, 0, 14, 1, 2, 0, 8, 1, 3, 3, 10, 1, 11, 6, 13, 4, 9, 4, 10, 4, 8, 3, 4, 4, 2, 2, 8, 3, 12, 11, 0, 10, 15, 11, 14, 7, 8, 6, 14, 1, 8, 3, 6, 6, 11, 14, 6, 8, 9, 12, 9, 12, 9, 11, 11, 1, 12, 7, 13, 12, 5, 7, 1, 15, 15, 11, 0, 4, 0, 0, 0, 10, 5, 3, 1, 3, 10, 7, 15, 4, 13, 4, 1, 1, 5, 13, 2, 4, 5, 13, 9, 10, 7, 0, 6, 2, 3, 1, 13, 14, 9, 5, 0, 2, 9, 10, 3, 15, 7, 11, 8, 2, 1, 10, 11, 13, 5, 15, 13, 11, 11, 2, 6, 9, 2, 2, 12, 6, 11, 11, 13, 13, 2, 3, 7, 7, 4, 10, 1, 14, 14, 5, 9, 10, 3, 0, 5, 1, 2, 3]\n"
     ]
    }
   ],
   "source": [
    "lines = []\n",
    "with open(\"qrack_circuit.chp\",\"r\",encoding=\"utf-8\") as file:\n",
    "    lines = file.readlines()\n",
    "chp_qb_count = int(lines[1])\n",
    "is_clifford = True\n",
    "for i in range(2 + 2 * chp_qb_count, len(lines)):\n",
    "    if lines[i] != \"(1,0) (0,0) (0,0) (1,0)\\n\":\n",
    "        is_clifford = False\n",
    "        break\n",
    "\n",
    "if is_clifford:\n",
    "    qsim = QrackSimulator.in_from_file(\"qrack_circuit.chp\")\n",
    "\n",
    "    %time\n",
    "    print(qsim.measure_shots(list(range(width)), 1024))\n",
    "\n",
    "    # if (width + max_magic) <= 6:\n",
    "    #     print(\"Validating...\")\n",
    "    #     qsim.run_qiskit_circuit(orig_circ.inverse())\n",
    "    #     results = dict(collections.Counter(qsim.measure_shots(list(range(width)), 1024)))\n",
    "    #     if results == { 0: 1024 }:\n",
    "    #         print(\"Passed!\")\n",
    "    #     else:\n",
    "    #         print(\"Failed: \", results)"
   ]
  }
 ],
 "metadata": {
  "kernelspec": {
   "display_name": "Python 3 (ipykernel)",
   "language": "python",
   "name": "python3"
  },
  "language_info": {
   "codemirror_mode": {
    "name": "ipython",
    "version": 3
   },
   "file_extension": ".py",
   "mimetype": "text/x-python",
   "name": "python",
   "nbconvert_exporter": "python",
   "pygments_lexer": "ipython3",
   "version": "3.10.6"
  }
 },
 "nbformat": 4,
 "nbformat_minor": 5
}
