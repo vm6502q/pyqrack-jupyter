{
 "cells": [
  {
   "cell_type": "markdown",
   "id": "composed-midwest",
   "metadata": {},
   "source": [
    "# Clifford+RZ"
   ]
  },
  {
   "cell_type": "markdown",
   "id": "social-scott",
   "metadata": {},
   "source": [
    "You need the `pyqrack` package to run this notebook. [`vm6502q/pyqrack`](https://github.com/vm6502q/pyqrack) is a pure Python wrapper on the [`vm6502q/qrack`](https://github.com/vm6502q/qrack) quantum computer simulation framework core library. The preferred method of installation is from source code, at those GitHub repositories, but a package with default build precompiled binaries is available on [pypi](https://pypi.org/project/pyqrack/0.2.0/)."
   ]
  },
  {
   "cell_type": "code",
   "execution_count": 1,
   "id": "26fb4200",
   "metadata": {},
   "outputs": [],
   "source": [
    "# For example, if your Jupyter installation uses pip:\n",
    "# import sys\n",
    "# !{sys.executable} -m pip install --platform=manylinux2014_x86_64 --only-binary=:all: pyqrack"
   ]
  },
  {
   "cell_type": "code",
   "execution_count": 2,
   "id": "9eda67a6",
   "metadata": {},
   "outputs": [],
   "source": [
    "import collections\n",
    "import copy\n",
    "import math\n",
    "import os\n",
    "import random\n",
    "\n",
    "import numpy as np\n",
    "\n",
    "import tensorcircuit as tc\n",
    "import tensorcircuit.compiler.simple_compiler as tcsc\n",
    "\n",
    "from qiskit import QuantumCircuit\n",
    "from qiskit.compiler import transpile\n",
    "\n",
    "from pyqrack import QrackSimulator\n",
    "\n",
    "# If we disable OpenCL and set the max CPU qubits to max integer, we bypass qubit widths limits.\n",
    "os.environ[\"QRACK_MAX_CPU_QB\"]=\"-1\""
   ]
  },
  {
   "cell_type": "code",
   "execution_count": 3,
   "id": "e342bcef",
   "metadata": {},
   "outputs": [],
   "source": [
    "width = 4\n",
    "max_magic = 4"
   ]
  },
  {
   "cell_type": "markdown",
   "id": "embedded-athletics",
   "metadata": {},
   "source": [
    "[`QrackSimulator`](https://github.com/vm6502q/pyqrack/blob/main/pyqrack/qrack_simulator.py) is the \"workhorse\" of the `pyqrack` package. It instantiates simulated \"registers\" of qubits that we can act basic quantum gates between, to form arbitrary universal quantum circuits."
   ]
  },
  {
   "cell_type": "markdown",
   "id": "db71c6b9",
   "metadata": {},
   "source": [
    "`QrackCircuit` is an optional class for optimizing compilation. With it, one can define a circuit in advance, which is optimized upon definition. Then, one can save the optimized result to a file and later load it into a new or existing `QrackCircuit` instance. Ultimately, the circuit is executed by calling `run()` on a `QrackCircuit`, with a parameter of `QrackSimulator` of appropriate size. (The necessary width of the `QrackSimulator` can be determined with `QrackCircuit.get_qubit_count()`.)"
   ]
  },
  {
   "cell_type": "code",
   "execution_count": 4,
   "id": "statutory-lewis",
   "metadata": {},
   "outputs": [],
   "source": [
    "def rand_1qb(sim, q):\n",
    "    # th = random.uniform(0, 4 * math.pi)\n",
    "    ph = random.uniform(0, 4 * math.pi)\n",
    "    # lm = random.uniform(0, 4 * math.pi)\n",
    "    # sim.u(th, ph, lm, q)\n",
    "    sim.u(0, ph, 0, q)\n",
    "\n",
    "def random_circuit(width, circ):\n",
    "    t_count = 0\n",
    "    single_bit_gates = circ.h, circ.x, circ.y\n",
    "    two_bit_gates = circ.cx, circ.cy, circ.cz, circ.swap, circ.iswap\n",
    "\n",
    "    for n in range(3 * width):\n",
    "        # Single bit gates\n",
    "        for j in range(width):\n",
    "            random.choice(single_bit_gates)(j)\n",
    "            if (t_count < max_magic) and ((width * width * random.random() / max_magic) < 1):\n",
    "                rand_1qb(circ, j)\n",
    "                t_count += 1\n",
    "\n",
    "        # Multi bit gates\n",
    "        bit_set = [i for i in range(width)]\n",
    "        while len(bit_set) > 1:\n",
    "            b1 = random.choice(bit_set)\n",
    "            bit_set.remove(b1)\n",
    "            b2 = random.choice(bit_set)\n",
    "            bit_set.remove(b2)\n",
    "            random.choice(two_bit_gates)(b1, b2)\n",
    "\n",
    "    return circ"
   ]
  },
  {
   "cell_type": "markdown",
   "id": "da252c09",
   "metadata": {},
   "source": [
    "If we have Qiskit and numpy installed, we can convert to a Qiskit circuit. The gate count and qubit width might be higher, but the circuit is entirely Clifford group, except for a single terminal layer of non-Clifford gates, (followed by either post selection or a rudimentary error-correction routine)."
   ]
  },
  {
   "cell_type": "code",
   "execution_count": 5,
   "id": "126a1144",
   "metadata": {},
   "outputs": [],
   "source": [
    "orig_circ = random_circuit(width, QuantumCircuit(width))\n",
    "qsim = QrackSimulator(width, isSchmidtDecomposeMulti=False, isSchmidtDecompose=False, isOpenCL=False)\n",
    "qsim.run_qiskit_circuit(orig_circ, 0)\n",
    "qsim.out_to_file(\"qrack_circuit.chp\")\n",
    "qsim.reset_all()\n",
    "qsim = None"
   ]
  },
  {
   "cell_type": "code",
   "execution_count": 6,
   "id": "912f3203",
   "metadata": {},
   "outputs": [
    {
     "name": "stdout",
     "output_type": "stream",
     "text": [
      "     ┌───┐                       ┌───┐   ┌───┐   ┌───┐          ┌───┐┌───┐»\n",
      "q_0: ┤ S ├──────X─────────────■──┤ S ├───┤ H ├───┤ S ├──■───────┤ X ├┤ Y ├»\n",
      "     ├───┤      │             │  ├───┤   └───┘   └───┘┌─┴─┐┌───┐└─┬─┘└───┘»\n",
      "q_1: ┤ H ├──────┼────────■────┼──┤ H ├────────────────┤ X ├┤ H ├──┼───────»\n",
      "     └───┘      │        │    │  └───┘                └───┘└───┘  │  ┌───┐»\n",
      "q_2: ───────────┼────────┼────┼───────────────────────────────────■──┤ H ├»\n",
      "     ┌───┐┌───┐ │      ┌─┴─┐┌─┴─┐┌───┐┌─────────┐                    └───┘»\n",
      "q_3: ┤ S ├┤ H ├─X───■──┤ X ├┤ X ├┤ X ├┤ Unitary ├─────────────────────────»\n",
      "     └───┘└───┘     │  └───┘└───┘└───┘└─────────┘                         »\n",
      "q_4: ───────────────┼─────────────────────────────────────────────────────»\n",
      "                  ┌─┴─┐                                                   »\n",
      "q_5: ─────────────┤ X ├───────────────────────────────────────────────────»\n",
      "                  └───┘                                                   »\n",
      "«     ┌─────────┐                                     \n",
      "«q_0: ┤ Unitary ├─────────────────────────────────────\n",
      "«     └─────────┘               ┌─────────┐           \n",
      "«q_1: ─────■───────■─────────■──┤ Unitary ├───────────\n",
      "«        ┌─┴─┐     │  ┌───┐  │  └──┬───┬──┘┌─────────┐\n",
      "«q_2: ───┤ X ├─────┼──┤ H ├──┼─────┤ X ├───┤ Unitary ├\n",
      "«        └───┘     │  └───┘  │     └───┘   └─────────┘\n",
      "«q_3: ─────────────┼─────────┼────────────────────────\n",
      "«                ┌─┴─┐┌───┐  │  ┌─────────┐           \n",
      "«q_4: ───────────┤ X ├┤ X ├──┼──┤ Unitary ├───────────\n",
      "«                └───┘└───┘┌─┴─┐├─────────┤           \n",
      "«q_5: ─────────────────────┤ X ├┤ Unitary ├───────────\n",
      "«                          └───┘└─────────┘           \n",
      "(Near-Clifford) gate count:  30\n",
      "(Near-Clifford) depth of critical path:  16\n"
     ]
    }
   ],
   "source": [
    "circ = QrackSimulator.file_to_qiskit_circuit(\"qrack_circuit.chp\")\n",
    "\n",
    "if width <= 8:\n",
    "    print(circ)\n",
    "print(\"(Near-Clifford) gate count: \", sum(dict(circ.count_ops()).values()))\n",
    "print(\"(Near-Clifford) depth of critical path: \", circ.depth())"
   ]
  },
  {
   "cell_type": "markdown",
   "id": "11e3caad",
   "metadata": {},
   "source": [
    "We can further optimize by post-selecting with tensor network software."
   ]
  },
  {
   "cell_type": "code",
   "execution_count": 7,
   "id": "6c4a3601",
   "metadata": {},
   "outputs": [],
   "source": [
    "tc.set_backend(\"tensorflow\")\n",
    "tc.set_contractor(\"auto\")\n",
    "tc.set_dtype(\"complex64\")\n",
    "\n",
    "net = tc.Circuit.from_qiskit(circ)\n",
    "for b in range(width, circ.width()):\n",
    "    net.post_select(b, keep=0)\n",
    "net = tcsc.simple_compile(net)[0]"
   ]
  },
  {
   "cell_type": "markdown",
   "id": "91f38d5f",
   "metadata": {},
   "source": [
    "We can sample with `tensorcircuit` at this point, or we can try another round of optimization."
   ]
  },
  {
   "cell_type": "code",
   "execution_count": 8,
   "id": "227c64e9",
   "metadata": {},
   "outputs": [],
   "source": [
    "# %%time\n",
    "# print(net.sample(allow_state=True, batch=1024, format=\"count_dict_bin\"))"
   ]
  },
  {
   "cell_type": "markdown",
   "id": "13fe34f6",
   "metadata": {},
   "source": [
    "We can convert back to a Qiskit circuit."
   ]
  },
  {
   "cell_type": "code",
   "execution_count": 9,
   "id": "caf4c8e6",
   "metadata": {},
   "outputs": [
    {
     "name": "stderr",
     "output_type": "stream",
     "text": [
      "omit non unitary gate in tensorcircuit when transforming to qiskit: any\n",
      "omit non unitary gate in tensorcircuit when transforming to qiskit: any\n"
     ]
    },
    {
     "name": "stdout",
     "output_type": "stream",
     "text": [
      "     ┌───┐                       ┌───┐┌───┐┌───┐          ┌───┐┌───┐          »\n",
      "q_0: ┤ S ├──────X─────────────■──┤ S ├┤ H ├┤ S ├──■───────┤ X ├┤ Y ├──────────»\n",
      "     ├───┤      │             │  ├───┤└───┘└───┘┌─┴─┐┌───┐└─┬─┘└───┘          »\n",
      "q_1: ┤ H ├──────┼────────■────┼──┤ H ├──────────┤ X ├┤ H ├──┼─────────■────■──»\n",
      "     └───┘      │        │    │  └───┘          └───┘└───┘  │  ┌───┐┌─┴─┐  │  »\n",
      "q_2: ───────────┼────────┼────┼─────────────────────────────■──┤ H ├┤ X ├──┼──»\n",
      "     ┌───┐┌───┐ │      ┌─┴─┐┌─┴─┐┌───┐                         └───┘└───┘  │  »\n",
      "q_3: ┤ S ├┤ H ├─X───■──┤ X ├┤ X ├┤ X ├─────────────────────────────────────┼──»\n",
      "     └───┘└───┘     │  └───┘└───┘└───┘                                   ┌─┴─┐»\n",
      "q_4: ───────────────┼────────────────────────────────────────────────────┤ X ├»\n",
      "                  ┌─┴─┐                                                  └───┘»\n",
      "q_5: ─────────────┤ X ├───────────────────────────────────────────────────────»\n",
      "                  └───┘                                                       »\n",
      "«                      \n",
      "«q_0: ─────────────────\n",
      "«                      \n",
      "«q_1: ───────■─────────\n",
      "«     ┌───┐  │   ┌───┐ \n",
      "«q_2: ┤ H ├──┼───┤ X ├─\n",
      "«     └───┘  │   └───┘ \n",
      "«q_3: ───────┼─────────\n",
      "«     ┌───┐  │  ┌─────┐\n",
      "«q_4: ┤ X ├──┼──┤ any ├\n",
      "«     └───┘┌─┴─┐├─────┤\n",
      "«q_5: ─────┤ X ├┤ any ├\n",
      "«          └───┘└─────┘\n",
      "(Near-Clifford) gate count:  26\n",
      "(Near-Clifford) depth of critical path:  16\n"
     ]
    }
   ],
   "source": [
    "circ = net.to_qiskit()\n",
    "if width <= 8:\n",
    "    print(circ)\n",
    "print(\"(Near-Clifford) gate count: \", sum(dict(circ.count_ops()).values()))\n",
    "print(\"(Near-Clifford) depth of critical path: \", circ.depth())"
   ]
  },
  {
   "cell_type": "markdown",
   "id": "487abb03-dc6e-49f9-98de-8f1d01c961ee",
   "metadata": {},
   "source": [
    "Some phase gates tend to occur at the beginning of the circuit: these can safely be ignored. In fact, we can trace out the evolution of separable single-qubit states from the beginning of the circuit until they become entangled, for more gate elimination. Deterministic control qubits can be eliminated, as well."
   ]
  },
  {
   "cell_type": "code",
   "execution_count": 10,
   "id": "281054a4-73b7-46d6-bbaf-766fa4a74ec9",
   "metadata": {},
   "outputs": [
    {
     "name": "stdout",
     "output_type": "stream",
     "text": [
      "                       ┌───┐┌───┐┌───┐     ┌───┐                           \n",
      "q_0: ──────X────────■──┤ S ├┤ H ├┤ S ├──■──┤ Y ├───────────────────────────\n",
      "     ┌───┐ │        │  ├───┤└───┘└───┘┌─┴─┐├───┤                           \n",
      "q_1: ┤ H ├─┼───■────┼──┤ H ├──────────┤ X ├┤ H ├──■────■─────────■─────────\n",
      "     ├───┤ │   │    │  └───┘          └───┘└───┘┌─┴─┐  │  ┌───┐  │   ┌───┐ \n",
      "q_2: ┤ H ├─┼───┼────┼───────────────────────────┤ X ├──┼──┤ H ├──┼───┤ X ├─\n",
      "     ├───┤ │ ┌─┴─┐┌─┴─┐┌───┐                    └───┘  │  └───┘  │   └───┘ \n",
      "q_3: ┤ H ├─X─┤ X ├┤ X ├┤ X ├───────────────────────────┼─────────┼─────────\n",
      "     └───┘   └───┘└───┘└───┘                         ┌─┴─┐┌───┐  │  ┌─────┐\n",
      "q_4: ────────────────────────────────────────────────┤ X ├┤ X ├──┼──┤ any ├\n",
      "                                                     └───┘└───┘┌─┴─┐├─────┤\n",
      "q_5: ──────────────────────────────────────────────────────────┤ X ├┤ any ├\n",
      "                                                               └───┘└─────┘\n",
      "(Near-Clifford) gate count:  22\n",
      "(Near-Clifford) depth of critical path:  13\n"
     ]
    }
   ],
   "source": [
    "to_cut = []\n",
    "state = circ.width() * [False]\n",
    "basis = circ.width() * [False]\n",
    "has_depth = circ.width() * [False]\n",
    "for i in range(len(circ.data)):\n",
    "    op = circ.data[i].operation\n",
    "    qubits = circ.data[i].qubits\n",
    "    first_qubit = circ.find_bit(qubits[0])[0]\n",
    "    if has_depth[first_qubit]:\n",
    "        continue\n",
    "    if len(qubits) == 1:\n",
    "        if op.name == \"h\":\n",
    "            basis[first_qubit] = not basis[first_qubit]\n",
    "        elif ((not basis[first_qubit]) and ((op.name == \"z\") or (op.name == \"s\") or (op.name == \"sdg\"))) or (basis[first_qubit] and (op.name == \"x\")):\n",
    "            to_cut.append(i)\n",
    "        elif ((not basis[first_qubit]) and ((op.name == \"x\") or (op.name == \"y\"))) or (basis[first_qubit] and ((op.name == \"y\") or (op.name == \"z\"))):\n",
    "            state[first_qubit] = not state[first_qubit]\n",
    "        else:\n",
    "            has_depth[first_qubit] = True\n",
    "    elif op.name == \"swap\":\n",
    "        second_qubit = circ.find_bit(qubits[1])[0]\n",
    "        has_depth[first_qubit], has_depth[second_qubit] = has_depth[second_qubit], has_depth[first_qubit]\n",
    "        state[first_qubit], state[second_qubit] = state[second_qubit], state[first_qubit]\n",
    "        basis[first_qubit], basis[second_qubit] = basis[second_qubit], basis[first_qubit]\n",
    "        if (not has_depth[first_qubit]) and (not has_depth[second_qubit]) and (state[first_qubit] == state[second_qubit]) and (basis[first_qubit] == basis[second_qubit]):\n",
    "            to_cut.append(i)\n",
    "    elif not basis[first_qubit] and op.name == \"cx\":\n",
    "        if state[first_qubit]:\n",
    "            circ.data[i].operation.name = \"x\"\n",
    "            del circ.data[i].qubits[0]\n",
    "            i -= 1\n",
    "        else:\n",
    "            to_cut.append(i)\n",
    "    else:\n",
    "        qc = circ.find_bit(qubits[0])[0]\n",
    "        qt = circ.find_bit(qubits[1])[0]\n",
    "        has_depth[qc] = True\n",
    "        has_depth[qt] = True\n",
    "\n",
    "to_cut.reverse()\n",
    "for i in to_cut:\n",
    "    del circ.data[i]\n",
    "    \n",
    "if width <= 8:\n",
    "    print(circ)\n",
    "print(\"(Near-Clifford) gate count: \", sum(dict(circ.count_ops()).values()))\n",
    "print(\"(Near-Clifford) depth of critical path: \", circ.depth())"
   ]
  },
  {
   "cell_type": "markdown",
   "id": "83004f30-70c3-438e-b3ac-8ec77aa592a7",
   "metadata": {},
   "source": [
    "If any ancilla qubit is nothing but an injection gadget, we can re-inject it."
   ]
  },
  {
   "cell_type": "code",
   "execution_count": 11,
   "id": "757c03c8-9dd7-41dc-87f9-a951eaee16f3",
   "metadata": {},
   "outputs": [
    {
     "name": "stdout",
     "output_type": "stream",
     "text": [
      "                                       ┌───┐┌───┐┌───┐     ┌───┐               \n",
      "q_0: ────────X──────────────────────■──┤ S ├┤ H ├┤ S ├──■──┤ Y ├───────────────\n",
      "      ┌───┐  │                      │  ├───┤└───┘└───┘┌─┴─┐├───┤     ┌───┐┌───┐\n",
      "q_1: ─┤ H ├──┼─────────────────■────┼──┤ H ├──────────┤ X ├┤ H ├──■──┤ X ├┤ X ├\n",
      "      ├───┤  │                 │    │  └───┘          └───┘└───┘┌─┴─┐├───┤├───┤\n",
      "q_2: ─┤ H ├──┼─────────────────┼────┼───────────────────────────┤ X ├┤ H ├┤ X ├\n",
      "      ├───┤  │ ┌─────┐┌─────┐┌─┴─┐┌─┴─┐                         └───┘└───┘└───┘\n",
      "q_3: ─┤ H ├──X─┤ any ├┤ any ├┤ X ├┤ X ├────────────────────────────────────────\n",
      "      └───┘    └─────┘└─────┘└───┘└───┘                                        \n",
      "q_4: ──────────────────────────────────────────────────────────────────────────\n",
      "     ┌─────┐                                                                   \n",
      "q_5: ┤ any ├───────────────────────────────────────────────────────────────────\n",
      "     └─────┘                                                                   \n",
      "(Near-Clifford) gate count:  21\n",
      "(Near-Clifford) depth of critical path:  14\n"
     ]
    }
   ],
   "source": [
    "sqrt1_2 = 1 / math.sqrt(2)\n",
    "passable_gates = [\"unitary\", \"x\", \"y\", \"z\", \"s\", \"sdg\"]\n",
    "\n",
    "unitary_stub = \"\"\n",
    "for inst in circ.data:\n",
    "    if inst.operation.name != \"unitary\":\n",
    "        continue\n",
    "    unitary_stub = inst\n",
    "    break\n",
    "\n",
    "if unitary_stub != \"\":\n",
    "    for i in range(width, circ.width()):\n",
    "        non_clifford = np.array([[sqrt1_2, sqrt1_2], [sqrt1_2, -sqrt1_2]])\n",
    "        to_cut = []\n",
    "        for j in reversed(range(len(circ.data))):\n",
    "            op = circ.data[j].operation\n",
    "            qubits = circ.data[j].qubits\n",
    "\n",
    "            id = circ.find_bit(qubits[0])[0]\n",
    "            if (len(qubits) < 2) and (id == i):\n",
    "                to_cut.append(j)\n",
    "                if op.name == \"unitary\":\n",
    "                    non_clifford = np.matmul(non_clifford, op.params[0])\n",
    "                elif op.name == \"h\":\n",
    "                    non_clifford = np.matmul(non_clifford, np.array([[sqrt1_2, sqrt1_2], [sqrt1_2, -sqrt1_2]]))\n",
    "                elif op.name == \"x\":\n",
    "                    non_clifford = np.matmul(non_clifford, np.array([[0, 1], [1, 0]]))\n",
    "                elif op.name == \"y\":\n",
    "                    non_clifford = np.matmul(non_clifford, np.array([[0, -1j], [1j, 0]]))\n",
    "                elif op.name == \"z\":\n",
    "                    non_clifford = np.matmul(non_clifford, np.array([[1, 0], [0, -1]]))\n",
    "                elif op.name == \"s\":\n",
    "                    non_clifford = np.matmul(non_clifford, np.array([[1, 0], [0, 1j]]))\n",
    "                elif op.name == \"sdg\":\n",
    "                    non_clifford = np.matmul(non_clifford, np.array([[1, 0], [0, -1j]]))\n",
    "                else: \n",
    "                    print(\"Something went wrong!\")\n",
    "\n",
    "                continue\n",
    "\n",
    "            if len(qubits) < 2:\n",
    "                continue\n",
    "\n",
    "            if (id == i) or not (op.name == \"cx\"):\n",
    "                non_clifford = np.matmul(np.array([[sqrt1_2, sqrt1_2], [sqrt1_2, -sqrt1_2]]), non_clifford)\n",
    "                unitary_stub.operation.params = [np.asarray(non_clifford)]\n",
    "                unitary_stub.qubits = (qubits[0],)\n",
    "                circ.data.insert(j + 1,copy.deepcopy(unitary_stub))\n",
    "                break\n",
    "\n",
    "            if (circ.find_bit(qubits[1])[0] == i) and (op.name == \"cx\"):\n",
    "                circ.data[j].operation.name = \"unitary\"\n",
    "                circ.data[j].operation.params.append(non_clifford)\n",
    "                circ.data[j].qubits = (qubits[0],)\n",
    "        \n",
    "        for i in to_cut:\n",
    "            del circ.data[i]\n",
    "\n",
    "if width <= 8:\n",
    "    print(circ)\n",
    "print(\"(Near-Clifford) gate count: \", sum(dict(circ.count_ops()).values()))\n",
    "print(\"(Near-Clifford) depth of critical path: \", circ.depth())"
   ]
  },
  {
   "cell_type": "markdown",
   "id": "fb2961d7-4c0e-45f3-b521-62a0d97be030",
   "metadata": {},
   "source": [
    "`QrackSimulator` can run a Qiskit circuit. (After the file is saved and loaded, separable ancillae qubits will be removed.)"
   ]
  },
  {
   "cell_type": "code",
   "execution_count": 12,
   "id": "636dc5f8",
   "metadata": {},
   "outputs": [],
   "source": [
    "# basis_gates=[\"rz\", \"h\", \"x\", \"y\", \"z\", \"sx\", \"sy\", \"s\", \"sdg\", \"cx\", \"cy\", \"cz\", \"swap\", \"iswap\"]\n",
    "# circ = transpile(circ, basis_gates=basis_gates, optimization_level=3)\n",
    "\n",
    "os.rename(\"qrack_circuit.chp\", \"qrack_circuit_original.chp\")\n",
    "\n",
    "qsim = QrackSimulator(circ.width(), isSchmidtDecomposeMulti=False, isSchmidtDecompose=False, isOpenCL=False)\n",
    "qsim.run_qiskit_circuit(circ, 0)\n",
    "\n",
    "qsim.out_to_file(\"qrack_circuit.chp\")\n",
    "\n",
    "lines = []\n",
    "with open(\"qrack_circuit.chp\",\"r\",encoding=\"utf-8\") as file:\n",
    "    lines = file.readlines()\n",
    "lines[0] = str(width) + \"\\n\"\n",
    "with open(\"qrack_circuit.chp\", \"w\", encoding=\"utf-8\") as file:\n",
    "    file.writelines(lines)"
   ]
  },
  {
   "cell_type": "markdown",
   "id": "5809bdbc",
   "metadata": {},
   "source": [
    "We can also sample with Qrack, as opposed to tensor circuits."
   ]
  },
  {
   "cell_type": "code",
   "execution_count": 13,
   "id": "6980c2a3",
   "metadata": {},
   "outputs": [
    {
     "name": "stdout",
     "output_type": "stream",
     "text": [
      "Device #0, Loaded binary from: /home/iamu/.qrack/qrack_ocl_dev_Intel(R)_UHD_Graphics_[0x9bc4].ir\n",
      "Device #1, Loaded binary from: /home/iamu/.qrack/qrack_ocl_dev_NVIDIA_GeForce_RTX_3080_Laptop_GPU.ir\n",
      "CPU times: user 2 µs, sys: 1 µs, total: 3 µs\n",
      "Wall time: 6.91 µs\n",
      "[4, 6, 7, 14, 12, 14, 5, 7, 6, 14, 12, 5, 7, 14, 5, 14, 14, 4, 5, 7, 6, 4, 14, 6, 6, 6, 12, 15, 5, 15, 14, 7, 6, 13, 6, 4, 5, 7, 14, 4, 5, 5, 7, 14, 5, 13, 14, 5, 7, 14, 14, 13, 12, 12, 15, 14, 13, 12, 4, 13, 13, 6, 4, 4, 4, 5, 5, 12, 14, 4, 7, 13, 12, 12, 14, 5, 5, 7, 15, 13, 5, 15, 14, 6, 12, 4, 4, 5, 4, 4, 6, 6, 7, 7, 15, 13, 6, 13, 7, 13, 12, 15, 12, 14, 4, 13, 12, 15, 13, 15, 6, 13, 7, 6, 13, 5, 6, 6, 14, 7, 12, 6, 6, 14, 12, 13, 5, 7, 13, 15, 15, 13, 7, 15, 12, 6, 14, 5, 7, 4, 4, 14, 6, 15, 15, 6, 6, 7, 4, 5, 6, 14, 12, 15, 13, 7, 15, 4, 15, 13, 5, 6, 6, 15, 5, 13, 12, 4, 14, 15, 7, 14, 15, 13, 4, 7, 13, 12, 14, 12, 15, 7, 13, 4, 4, 5, 5, 13, 7, 4, 14, 12, 12, 14, 5, 13, 6, 13, 5, 15, 13, 15, 14, 6, 7, 5, 15, 13, 5, 14, 5, 15, 12, 4, 5, 5, 4, 14, 12, 5, 4, 15, 5, 15, 12, 14, 7, 13, 15, 15, 4, 7, 4, 6, 14, 4, 15, 6, 7, 6, 14, 5, 6, 12, 15, 13, 15, 4, 7, 6, 4, 15, 5, 6, 7, 13, 6, 4, 12, 13, 13, 12, 15, 14, 14, 14, 7, 7, 7, 14, 14, 15, 14, 14, 13, 6, 4, 6, 4, 4, 13, 4, 5, 4, 7, 4, 15, 12, 7, 12, 15, 14, 6, 14, 5, 7, 13, 7, 13, 7, 7, 4, 12, 6, 13, 13, 13, 12, 7, 7, 6, 12, 7, 12, 5, 6, 7, 13, 7, 5, 14, 15, 13, 7, 15, 4, 7, 6, 5, 14, 6, 5, 13, 15, 6, 6, 5, 5, 15, 15, 15, 6, 4, 6, 7, 6, 15, 6, 14, 6, 14, 14, 4, 5, 5, 14, 15, 7, 6, 5, 4, 5, 7, 13, 13, 15, 4, 13, 13, 5, 14, 13, 4, 7, 4, 7, 14, 15, 14, 15, 7, 12, 12, 15, 12, 13, 4, 14, 4, 4, 13, 12, 4, 4, 6, 5, 7, 7, 5, 14, 12, 5, 6, 4, 4, 12, 6, 13, 5, 5, 12, 4, 4, 13, 12, 7, 6, 13, 14, 5, 14, 7, 4, 14, 7, 6, 13, 12, 5, 7, 12, 15, 14, 12, 13, 13, 15, 14, 15, 15, 6, 5, 12, 5, 12, 4, 12, 14, 14, 13, 4, 5, 4, 6, 14, 6, 14, 12, 4, 5, 6, 12, 4, 15, 15, 14, 7, 7, 13, 14, 7, 15, 4, 13, 7, 7, 13, 13, 15, 6, 13, 13, 7, 4, 14, 6, 12, 7, 7, 6, 5, 13, 13, 14, 4, 7, 13, 14, 6, 5, 13, 12, 14, 15, 5, 4, 7, 13, 6, 6, 4, 5, 12, 12, 15, 5, 7, 4, 6, 5, 15, 5, 12, 5, 4, 14, 12, 13, 5, 14, 13, 4, 14, 15, 6, 13, 5, 5, 5, 13, 4, 12, 4, 4, 7, 5, 5, 4, 5, 6, 7, 7, 15, 7, 5, 6, 6, 13, 6, 6, 12, 13, 13, 14, 13, 4, 4, 4, 4, 5, 4, 14, 14, 13, 7, 4, 13, 15, 6, 12, 4, 6, 14, 12, 4, 14, 12, 4, 6, 12, 6, 15, 6, 5, 6, 15, 15, 5, 4, 15, 7, 14, 7, 14, 6, 14, 12, 12, 6, 6, 14, 15, 15, 13, 4, 6, 4, 5, 6, 14, 4, 5, 14, 14, 13, 15, 6, 6, 15, 15, 15, 12, 14, 7, 15, 12, 6, 13, 6, 13, 7, 13, 15, 13, 15, 4, 13, 6, 6, 7, 6, 12, 15, 13, 14, 6, 6, 15, 7, 15, 12, 4, 14, 14, 4, 14, 15, 5, 15, 7, 15, 12, 12, 15, 5, 15, 14, 12, 5, 6, 12, 13, 15, 15, 12, 14, 13, 4, 12, 15, 6, 6, 5, 6, 13, 14, 6, 14, 13, 5, 15, 15, 5, 15, 5, 7, 5, 4, 12, 12, 15, 4, 14, 5, 13, 4, 13, 14, 14, 14, 4, 5, 13, 7, 13, 5, 6, 13, 4, 15, 13, 7, 12, 14, 5, 7, 14, 12, 14, 12, 5, 13, 5, 7, 7, 13, 5, 6, 4, 6, 14, 15, 14, 14, 6, 6, 12, 5, 15, 13, 15, 4, 7, 6, 5, 12, 4, 6, 12, 15, 15, 13, 4, 12, 14, 6, 4, 7, 13, 6, 7, 5, 7, 5, 5, 12, 6, 5, 15, 5, 6, 15, 13, 4, 6, 5, 14, 5, 5, 12, 7, 15, 6, 4, 12, 4, 14, 12, 7, 14, 14, 14, 15, 14, 13, 4, 14, 5, 6, 13, 6, 14, 13, 5, 5, 6, 14, 6, 12, 13, 4, 12, 14, 15, 15, 4, 7, 15, 14, 12, 6, 5, 13, 14, 14, 12, 12, 7, 7, 5, 13, 5, 4, 5, 5, 6, 7, 7, 15, 4, 5, 13, 15, 6, 4, 12, 4, 12, 12, 14, 15, 15, 14, 7, 4, 15, 15, 6, 15, 15, 14, 5, 15, 13, 15, 6, 4, 12, 5, 6, 6, 4, 4, 15, 14, 5, 12, 5, 14, 14, 12, 13, 5, 4, 6, 13, 4, 6, 13, 7, 7, 14, 6, 5, 13, 6, 15, 14, 12, 15, 5, 14, 7, 15, 7, 5, 13, 5, 13, 6, 6, 15, 7, 13, 12, 7, 14, 12, 6, 6, 12, 13, 15, 7, 13, 12, 14, 15, 7, 5, 5, 12, 6, 13, 5, 5, 5, 13, 13, 5, 15, 12, 7, 5, 13, 12, 5, 12, 15, 12, 15, 6, 4, 12, 12, 6, 7, 12, 6, 15, 4, 5, 12, 14, 12, 4, 15, 13, 6, 13, 5, 4, 7, 6, 15, 7, 4, 7, 14, 5, 6, 7, 14, 12, 6, 13, 14, 13, 14, 4, 15, 15, 4, 12, 6, 13, 5, 15, 14, 14, 4, 4, 13, 4]\n"
     ]
    }
   ],
   "source": [
    "lines = []\n",
    "with open(\"qrack_circuit.chp\",\"r\",encoding=\"utf-8\") as file:\n",
    "    lines = file.readlines()\n",
    "chp_qb_count = int(lines[1])\n",
    "is_clifford = True\n",
    "for i in range(2 + 2 * chp_qb_count, len(lines)):\n",
    "    if lines[i] != \"(1,0) (0,0) (0,0) (1,0)\\n\":\n",
    "        is_clifford = False\n",
    "        break\n",
    "\n",
    "if is_clifford:\n",
    "    qsim = QrackSimulator.in_from_file(\"qrack_circuit.chp\")\n",
    "\n",
    "    %time\n",
    "    print(qsim.measure_shots(list(range(width)), 1024))\n",
    "\n",
    "    # if (width + max_magic) <= 6:\n",
    "    #     print(\"Validating...\")\n",
    "    #     qsim.run_qiskit_circuit(orig_circ.inverse())\n",
    "    #     results = dict(collections.Counter(qsim.measure_shots(list(range(width)), 1024)))\n",
    "    #     if results == { 0: 1024 }:\n",
    "    #         print(\"Passed!\")\n",
    "    #     else:\n",
    "    #         print(\"Failed: \", results)"
   ]
  }
 ],
 "metadata": {
  "kernelspec": {
   "display_name": "Python 3 (ipykernel)",
   "language": "python",
   "name": "python3"
  },
  "language_info": {
   "codemirror_mode": {
    "name": "ipython",
    "version": 3
   },
   "file_extension": ".py",
   "mimetype": "text/x-python",
   "name": "python",
   "nbconvert_exporter": "python",
   "pygments_lexer": "ipython3",
   "version": "3.10.6"
  }
 },
 "nbformat": 4,
 "nbformat_minor": 5
}
