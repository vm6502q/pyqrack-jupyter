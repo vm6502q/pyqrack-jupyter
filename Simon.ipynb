{
 "cells": [
  {
   "cell_type": "markdown",
   "id": "e7d7598e",
   "metadata": {},
   "source": [
    "# Simon's algorithm"
   ]
  },
  {
   "cell_type": "markdown",
   "id": "65b231d8",
   "metadata": {},
   "source": [
    "Simon's algorithm is closely related in principle to the Bernstein-Vazirani algorithm and the Deutsch-Josza algorithm, (which are also explained in other notebooks in this repository).\n",
    "\n",
    "We are given an \"oracle\" and promised that its output are either **one-to-one** or **two-to-one**, i.e., it either has **exactly** as many possible outputs as possible inputs or **exactly half** as many possible outputs as possible inputs. In effect, all two-to-one functions can be thought of as being based on a \"**hidden string**\" encoded into the oracle, whereas one-to-one functions are the only case where the hidden string is \"**0**.\" Our problem is therefore to determine the \"hidden string\" encoded into the oracle.\n",
    "\n",
    "A classical computer, on average, needs to check about half the possible inputs to answer the question of what the hidden string is; a quantum computer needs **exponentially fewer** queries of the oracle to determine the same answer."
   ]
  },
  {
   "cell_type": "code",
   "execution_count": 1,
   "id": "3d79b76a",
   "metadata": {},
   "outputs": [],
   "source": [
    "from collections import Counter\n",
    "from pyqrack import QrackSimulator\n",
    "\n",
    "hidden_bits = 37\n",
    "input_size = 8\n",
    "num_qubits = input_size * 2\n",
    "oracle_qubits = [*range(input_size)]"
   ]
  },
  {
   "cell_type": "markdown",
   "id": "bf5a17be",
   "metadata": {},
   "source": [
    "You may change the `hidden_bits` above to be any value that can fit within the oracle register width. Your `hidden_bits` corresponds to the oracle below:"
   ]
  },
  {
   "cell_type": "code",
   "execution_count": 2,
   "id": "97371211",
   "metadata": {},
   "outputs": [],
   "source": [
    "def oracle(sim):\n",
    "    # The first portion of this oracle is effectively a one-to-one oracle,\n",
    "    # in itself, (though not the only possible one-to-one oracle).\n",
    "    for i in oracle_qubits:\n",
    "        sim.mcx([i], i + input_size)\n",
    "\n",
    "    # The second portion of this oracle makes it two-to-one,\n",
    "    # (unless \"hidden_bits\" is 0):\n",
    "    for i in oracle_qubits:\n",
    "        if ((hidden_bits >> i) & 1) > 0:\n",
    "            sim.mcx([i], i + input_size)"
   ]
  },
  {
   "cell_type": "markdown",
   "id": "7170e46d",
   "metadata": {},
   "source": [
    "All of the following statements of equality are true:"
   ]
  },
  {
   "cell_type": "code",
   "execution_count": 3,
   "id": "ddd17291",
   "metadata": {},
   "outputs": [
    {
     "name": "stdout",
     "output_type": "stream",
     "text": [
      "Device #0, Loaded binary from: /home/iamu/.qrack/qrack_ocl_dev_Intel(R)_UHD_Graphics_[0x9bc4].ir\n",
      "Device #1, Loaded binary from: /home/iamu/.qrack/qrack_ocl_dev_NVIDIA_GeForce_RTX_3080_Laptop_GPU.ir\n",
      "hidden_string . 0 = 0\n",
      "hidden_string . 2 = 0\n",
      "hidden_string . 8 = 0\n",
      "hidden_string . 10 = 0\n",
      "hidden_string . 16 = 0\n",
      "hidden_string . 18 = 0\n",
      "hidden_string . 24 = 0\n",
      "hidden_string . 26 = 0\n",
      "hidden_string . 64 = 0\n",
      "hidden_string . 66 = 0\n",
      "hidden_string . 72 = 0\n",
      "hidden_string . 74 = 0\n",
      "hidden_string . 80 = 0\n",
      "hidden_string . 82 = 0\n",
      "hidden_string . 88 = 0\n",
      "hidden_string . 90 = 0\n",
      "hidden_string . 128 = 0\n",
      "hidden_string . 130 = 0\n",
      "hidden_string . 136 = 0\n",
      "hidden_string . 138 = 0\n",
      "hidden_string . 144 = 0\n",
      "hidden_string . 146 = 0\n",
      "hidden_string . 152 = 0\n",
      "hidden_string . 154 = 0\n",
      "hidden_string . 192 = 0\n",
      "hidden_string . 194 = 0\n",
      "hidden_string . 200 = 0\n",
      "hidden_string . 202 = 0\n",
      "hidden_string . 208 = 0\n",
      "hidden_string . 210 = 0\n",
      "hidden_string . 216 = 0\n",
      "hidden_string . 218 = 0\n"
     ]
    }
   ],
   "source": [
    "# Prepare the initial register state:\n",
    "sim = QrackSimulator(num_qubits)\n",
    "for i in oracle_qubits:\n",
    "    sim.h(i)\n",
    "\n",
    "# Make exactly one query to the oracle:\n",
    "oracle(sim)\n",
    "\n",
    "# Finish the unitary portion of the algorithm, with the result from the oracle...\n",
    "# (It is often presented that measurement of the second register needs to occur before this step;\n",
    "# this is actually wholly theoretically unnecessary in the ideal, due to locality of quantum information.)\n",
    "for i in oracle_qubits:\n",
    "    sim.h(i)\n",
    "\n",
    "# This measurement result is always the \"hidden_bits\" parameter of the oracle\n",
    "results = Counter(sim.measure_shots(oracle_qubits, 10000))\n",
    "\n",
    "for key in results.keys():\n",
    "    print(\"hidden_string .\", key, \"= 0\")"
   ]
  },
  {
   "cell_type": "markdown",
   "id": "83e56fd9",
   "metadata": {},
   "source": [
    "...The ultimate point of the algorithm is that, by solving the above system of equations, we can determine the value of `hidden_string`, with a probabilistic likelihood that converges exponentially faster than a \"classical\" algorithm, in the number of measurement \"shots.\" (In a real hardware quantum computer, the number of \"shots\" would correspond to exactly the number of queries of the oracle)."
   ]
  }
 ],
 "metadata": {
  "kernelspec": {
   "display_name": "Python 3 (ipykernel)",
   "language": "python",
   "name": "python3"
  },
  "language_info": {
   "codemirror_mode": {
    "name": "ipython",
    "version": 3
   },
   "file_extension": ".py",
   "mimetype": "text/x-python",
   "name": "python",
   "nbconvert_exporter": "python",
   "pygments_lexer": "ipython3",
   "version": "3.10.6"
  }
 },
 "nbformat": 4,
 "nbformat_minor": 5
}
