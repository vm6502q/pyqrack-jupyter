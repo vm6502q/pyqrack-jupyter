{
 "cells": [
  {
   "cell_type": "markdown",
   "id": "composed-midwest",
   "metadata": {},
   "source": [
    "# Qrack BQ"
   ]
  },
  {
   "cell_type": "markdown",
   "id": "social-scott",
   "metadata": {},
   "source": [
    "You need the `pyqrack` package to run this notebook. [`vm6502q/pyqrack`](https://github.com/vm6502q/pyqrack) is a pure Python wrapper on the [`vm6502q/qrack`](https://github.com/vm6502q/qrack) quantum computer simulation framework core library. The preferred method of installation is from source code, at those GitHub repositories, but a package with default build precompiled binaries is available on [pypi](https://pypi.org/project/pyqrack/0.2.0/)."
   ]
  },
  {
   "cell_type": "code",
   "execution_count": 1,
   "id": "e342bcef",
   "metadata": {},
   "outputs": [],
   "source": [
    "# How wide of an example circuit should we generate? (In qubits)\n",
    "width = 6"
   ]
  },
  {
   "cell_type": "code",
   "execution_count": 2,
   "id": "cubic-thousand",
   "metadata": {},
   "outputs": [],
   "source": [
    "import random\n",
    "# import sys\n",
    "import time\n",
    "\n",
    "# For example, if your Jupyter installation uses pip:\n",
    "# sys.executable} -m pip install pyqrack\n",
    "\n",
    "# import os\n",
    "\n",
    "# If simulating with Qrack, change these according to your OpenCL devices and system specifications.\n",
    "# (To use just `QrackCircuit`, we don't need to consider these.)\n",
    "# os.environ['QRACK_OCL_DEFAULT_DEVICE']='0'\n",
    "# os.environ['QRACK_QUNITMULTI_DEVICES']='0'\n",
    "# os.environ['QRACK_QPAGER_DEVICES']='0'\n",
    "# os.environ['QRACK_QPAGER_DEVICES_HOST_POINTER']='0'\n",
    "# os.environ['QRACK_MAX_PAGE_QB']='27'\n",
    "# os.environ['QRACK_MAX_ALLOC_MB']='15872'.\n",
    "# os.environ['QRACK_MAX_PAGING_QB']='30'\n",
    "# os.environ['QRACK_MAX_CPU_QB']='32'\n",
    "# os.environ['QRACK_QTENSORNETWORK_THRESHOLD_QB']='30'"
   ]
  },
  {
   "cell_type": "markdown",
   "id": "71d78dd5-5e4b-4a40-973f-0700820fc616",
   "metadata": {},
   "source": [
    "All this next cell does is provide a function for generating random circuits, for our example that follows."
   ]
  },
  {
   "cell_type": "code",
   "execution_count": 3,
   "id": "statutory-lewis",
   "metadata": {},
   "outputs": [],
   "source": [
    "def random_circuit(width, sim):\n",
    "    single_bit_gates = sim.h, sim.x, sim.y, sim.z, sim.s, sim.t \n",
    "    two_bit_gates = sim.cx, sim.cz\n",
    "    all_bits = list(range(0, width))\n",
    "    \n",
    "    for i in range(width):\n",
    "        # Single bit gates\n",
    "        for j in range(width):\n",
    "            gate = random.choice(single_bit_gates)\n",
    "            gate(j)\n",
    "            \n",
    "        # Fully-connected couplers:\n",
    "        ###########################\n",
    "        unused_bits = random.sample(all_bits, width)\n",
    "        while len(unused_bits) > 1:\n",
    "            b1 = unused_bits.pop()\n",
    "            b2 = unused_bits.pop()\n",
    "            gate = random.choice(two_bit_gates)\n",
    "            gate(b1, b2)\n",
    "\n",
    "    sim.measure_all()"
   ]
  },
  {
   "cell_type": "markdown",
   "id": "196f72cf-0055-48bf-a30e-8eb30fa89c50",
   "metadata": {},
   "source": [
    "[`QrackSimulator`](https://github.com/vm6502q/pyqrack/blob/main/pyqrack/qrack_simulator.py) is the \"workhorse\" of the `pyqrack` package. It instantiates simulated \"registers\" of qubits that we can act basic quantum gates between, to form arbitrary universal quantum circuits."
   ]
  },
  {
   "cell_type": "code",
   "execution_count": 4,
   "id": "e57e248b",
   "metadata": {
    "scrolled": true
   },
   "outputs": [
    {
     "name": "stdout",
     "output_type": "stream",
     "text": [
      "Device #0, Loaded binary from: /home/iamu/.qrack/qrack_ocl_dev_NVIDIA_GeForce_RTX_3080_Laptop_GPU.ir\n",
      "Time:  0.0960279279970564\n"
     ]
    }
   ],
   "source": [
    "from pyqrack import QrackSimulator\n",
    "from qiskit import QuantumCircuit\n",
    "\n",
    "start = time.perf_counter()\n",
    "qsim = QrackSimulator(width)\n",
    "qcirc = QuantumCircuit(width)\n",
    "random_circuit(width, qcirc)\n",
    "qsim.run_qiskit_circuit(qcirc)\n",
    "end = time.perf_counter()\n",
    "print(\"Time: \", end - start)"
   ]
  },
  {
   "cell_type": "markdown",
   "id": "1f209c8a-ed97-49aa-9701-515963507a4d",
   "metadata": {},
   "source": [
    "**(Happy Qracking! You rock!)**"
   ]
  }
 ],
 "metadata": {
  "kernelspec": {
   "display_name": "Python 3 (ipykernel)",
   "language": "python",
   "name": "python3"
  },
  "language_info": {
   "codemirror_mode": {
    "name": "ipython",
    "version": 3
   },
   "file_extension": ".py",
   "mimetype": "text/x-python",
   "name": "python",
   "nbconvert_exporter": "python",
   "pygments_lexer": "ipython3",
   "version": "3.10.12"
  }
 },
 "nbformat": 4,
 "nbformat_minor": 5
}
