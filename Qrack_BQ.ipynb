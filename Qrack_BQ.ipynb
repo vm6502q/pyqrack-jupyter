{
 "cells": [
  {
   "cell_type": "markdown",
   "id": "composed-midwest",
   "metadata": {},
   "source": [
    "# QrackCircuit and Bluequbit"
   ]
  },
  {
   "cell_type": "code",
   "execution_count": 1,
   "id": "008eddf0-3e00-4c05-8f87-485827e716b7",
   "metadata": {},
   "outputs": [],
   "source": [
    "import random\n",
    "import time\n",
    "\n",
    "# How wide of an example circuit should we generate? (In qubits)\n",
    "width = 32"
   ]
  },
  {
   "cell_type": "markdown",
   "id": "71d78dd5-5e4b-4a40-973f-0700820fc616",
   "metadata": {},
   "source": [
    "All this next cell does is provide a function for generating random circuits, for our example that follows."
   ]
  },
  {
   "cell_type": "code",
   "execution_count": 2,
   "id": "statutory-lewis",
   "metadata": {},
   "outputs": [],
   "source": [
    "def random_circuit(width, sim):\n",
    "    single_bit_gates = sim.h, sim.x, sim.y, sim.z, sim.s, sim.t \n",
    "    two_bit_gates = sim.cx, sim.cz\n",
    "    all_bits = list(range(0, width))\n",
    "    gate_count = 0\n",
    "    \n",
    "    for i in range(width):\n",
    "        # Single bit gates\n",
    "        for j in range(width):\n",
    "            gate = random.choice(single_bit_gates)\n",
    "            gate(j)\n",
    "            \n",
    "        # Fully-connected couplers:\n",
    "        ###########################\n",
    "        unused_bits = random.sample(all_bits, width)\n",
    "        while len(unused_bits) > 1:\n",
    "            b1 = unused_bits.pop()\n",
    "            b2 = unused_bits.pop()\n",
    "            gate = random.choice(two_bit_gates)\n",
    "            gate(b1, b2)"
   ]
  },
  {
   "cell_type": "markdown",
   "id": "6b7b5497-1cdd-49e0-9dbe-23a282b6f592",
   "metadata": {},
   "source": [
    "The circuit starts in Qiskit representation. This is converted to a `QrackCircuit`, and the gates are \"locally simplified\" in the conversion process. The `QrackCircuit` is then converted back an (optimized) Qiskit representation, which can be directly run by `bluequbit`. (Theoretically, Qiskit Aer and PyQrack have no trouble running the \"intermediate representation\" in the middle step, but `qsimcirq` underlies `bluequbit` and does not handle \"uniformly controlled gates.\")"
   ]
  },
  {
   "cell_type": "code",
   "execution_count": 3,
   "id": "84f4a48a-7591-488d-8a15-738a0a7d7810",
   "metadata": {},
   "outputs": [],
   "source": [
    "from qiskit import QuantumCircuit\n",
    "\n",
    "qcirc = QuantumCircuit(width)\n",
    "random_circuit(width, qcirc)\n",
    "qcirc.measure_all()"
   ]
  },
  {
   "cell_type": "code",
   "execution_count": null,
   "id": "e57e248b",
   "metadata": {
    "scrolled": true
   },
   "outputs": [
    {
     "name": "stdout",
     "output_type": "stream",
     "text": [
      "Device #0, Loaded binary from: /home/iamu/.qrack/qrack_ocl_dev_NVIDIA_GeForce_RTX_2070_Super.ir\n"
     ]
    }
   ],
   "source": [
    "# import bluequbit\n",
    "from qiskit import execute\n",
    "from qiskit.providers.qrack import QasmSimulator\n",
    "\n",
    "start = time.perf_counter()\n",
    "\n",
    "# bq = bluequbit.init(\"YOUR_TOKEN_HERE\")\n",
    "# result = bq.run(qcirc, device='cpu', shots=1024)\n",
    "# print(result.get_counts())\n",
    "# shots = 0\n",
    "# for key, value, in result.get_counts().items():\n",
    "#     shots += value\n",
    "# print(shots)\n",
    "\n",
    "sim_backend = QasmSimulator(shots=1, is_reactively_separated=False)\n",
    "job = execute([qcirc], sim_backend, timeout=600)\n",
    "print(job.result())\n",
    "\n",
    "end = time.perf_counter()\n",
    "print(\"Time: \", end - start)"
   ]
  },
  {
   "cell_type": "markdown",
   "id": "1f209c8a-ed97-49aa-9701-515963507a4d",
   "metadata": {},
   "source": [
    "**(Happy Qracking! You rock!)**"
   ]
  }
 ],
 "metadata": {
  "kernelspec": {
   "display_name": "Python 3 (ipykernel)",
   "language": "python",
   "name": "python3"
  },
  "language_info": {
   "codemirror_mode": {
    "name": "ipython",
    "version": 3
   },
   "file_extension": ".py",
   "mimetype": "text/x-python",
   "name": "python",
   "nbconvert_exporter": "python",
   "pygments_lexer": "ipython3",
   "version": "3.8.10"
  }
 },
 "nbformat": 4,
 "nbformat_minor": 5
}
