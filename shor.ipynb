{
 "cells": [
  {
   "cell_type": "markdown",
   "id": "disciplinary-arrow",
   "metadata": {},
   "source": [
    "# Shor's algorithm for integer factoring"
   ]
  },
  {
   "cell_type": "markdown",
   "id": "infrared-advertising",
   "metadata": {},
   "source": [
    "This example implementation of Shor's algorithm is [adapted from ProjectQ](https://github.com/ProjectQ-Framework/ProjectQ/blob/develop/examples/shor.py)."
   ]
  },
  {
   "cell_type": "markdown",
   "id": "posted-single",
   "metadata": {},
   "source": [
    "This self-standing notebook, as a complete work or in any form, (whether dependent on vm6502q/qrack), is licensed under the GNU Lesser General Public License V3."
   ]
  },
  {
   "cell_type": "code",
   "execution_count": 1,
   "id": "happy-armenia",
   "metadata": {},
   "outputs": [],
   "source": [
    "##############################################################################################\n",
    "# (C) Daniel Strano and the Qrack contributors 2017-2022. All rights reserved.\n",
    "#\n",
    "# \"A quantum-inspired Monte Carlo integer factoring algorithm\"\n",
    "#\n",
    "# This example demonstrates a (Shor's-like) \"quantum-inspired\" algorithm for integer factoring.\n",
    "# This approach is similar to Shor's algorithm, except with a uniformly random output from the\n",
    "# quantum period-finding subroutine. Therefore, we don't need quantum computer simulation for\n",
    "# this algorithm at all!\n",
    "#\n",
    "# (This file was heavily adapted from\n",
    "# https://github.com/ProjectQ-Framework/ProjectQ/blob/develop/examples/shor.py,\n",
    "# with thanks to ProjectQ!)\n",
    "#\n",
    "# Licensed under the GNU Lesser General Public License V3.\n",
    "# See https://www.gnu.org/licenses/lgpl-3.0.en.html for details."
   ]
  },
  {
   "cell_type": "code",
   "execution_count": 2,
   "id": "wooden-moderator",
   "metadata": {},
   "outputs": [],
   "source": [
    "import math\n",
    "import random\n",
    "from fractions import Fraction\n",
    "\n",
    "try:\n",
    "    from math import gcd\n",
    "except ImportError:\n",
    "    from fractions import gcd\n",
    "\n",
    "from pyqrack import QrackSimulator, Pauli\n",
    "\n",
    "import os\n",
    "os.environ[\"QRACK_QUNIT_SEPARABILITY_THRESHOLD\"] = \"0.001\"\n",
    "os.environ[\"QRACK_MAX_ALLOC_MB\"] = \"22528,14336\"\n",
    "os.environ[\"QRACK_MAX_PAGING_QB\"] = \"30\"\n",
    "os.environ[\"QRACK_MAX_PAGE_QB\"] = \"27\"\n",
    "os.environ[\"QRACK_MAX_CPU_QB\"] = \"-1\"\n",
    "os.environ[\"QRACK_QUNITMULTI_DEVICES\"] = \"1\""
   ]
  },
  {
   "cell_type": "markdown",
   "id": "dynamic-thesis",
   "metadata": {},
   "source": [
    "`toFactor` is the number we are factoring. (You may change it.) "
   ]
  },
  {
   "cell_type": "code",
   "execution_count": 3,
   "id": "herbal-gender",
   "metadata": {},
   "outputs": [],
   "source": [
    "toFactor=2**14-1"
   ]
  },
  {
   "cell_type": "markdown",
   "id": "statutory-semiconductor",
   "metadata": {},
   "source": [
    "The entire algorithm is implemented below. For the first variant, to factor an integer of `n` qubits or less, we have a footprint of `2n`, but PyQrack's `pown()` is limited in qubit width to single GPU \"pages,\" (usually 2 qubits less than maximum for the GPU,) and the operation is \"fully entangling\" of the internal representation. "
   ]
  },
  {
   "cell_type": "code",
   "execution_count": 4,
   "id": "small-marijuana",
   "metadata": {},
   "outputs": [
    {
     "name": "stdout",
     "output_type": "stream",
     "text": [
      "Chose non-relative prime, (without need for quantum computing):\n",
      "Factor: 3\n",
      "CPU times: user 34 µs, sys: 52 µs, total: 86 µs\n",
      "Wall time: 76.1 µs\n"
     ]
    }
   ],
   "source": [
    "%%time\n",
    "base = random.randrange(2, toFactor)\n",
    "if not gcd(base, toFactor) == 1:\n",
    "    print(\"Chose non-relative prime, (without need for quantum computing):\")\n",
    "    print(\"Factor: {}\".format(gcd(base, toFactor)))\n",
    "else:\n",
    "    qubitCount = math.ceil(math.log2(toFactor))\n",
    "    sim = QrackSimulator(2 * qubitCount)\n",
    "\n",
    "    qi = [i for i in range(qubitCount)]\n",
    "    qo = [(i + qubitCount) for i in range(qubitCount)]\n",
    "\n",
    "    # run the quantum subroutine\n",
    "    for i in qi:\n",
    "        sim.h(i)\n",
    "    sim.pown(base, toFactor, qi, qo)\n",
    "    sim.iqft(qi)\n",
    "    \n",
    "    b = [Pauli.PauliZ] * qubitCount\n",
    "    y = sim.measure_pauli(b, qi)\n",
    "    r = Fraction(y).limit_denominator(toFactor - 1).denominator\n",
    "\n",
    "    # try to determine the factors\n",
    "    if r % 2 != 0:\n",
    "        r *= 2\n",
    "    apowrhalf = pow(base, r >> 1, toFactor)\n",
    "    f1 = gcd(apowrhalf + 1, toFactor)\n",
    "    f2 = gcd(apowrhalf - 1, toFactor)\n",
    "    fmul = f1 * f2\n",
    "    if (not fmul == toFactor) and f1 * f2 > 1 and (toFactor // fmul) * fmul == toFactor:\n",
    "        f1, f2 = f1 * f2, toFactor // (f1 * f2)\n",
    "    if f1 * f2 == toFactor and f1 > 1 and f2 > 1:\n",
    "        print(\"Factors found : {} * {} = {}\".format(f1, f2, toFactor))\n",
    "    else:\n",
    "        print(\"Failed: Found {} and {}\".format(f1, f2))"
   ]
  },
  {
   "cell_type": "markdown",
   "id": "fitting-venue",
   "metadata": {},
   "source": [
    "The second implementation requires `2n+2` qubits in footprint to factor a number of `n` qubits or less. However, these methods do not resort to \"fully entangled representation,\" and they are not limited to single GPU \"pages.\""
   ]
  },
  {
   "cell_type": "code",
   "execution_count": 5,
   "id": "precious-cookbook",
   "metadata": {},
   "outputs": [],
   "source": [
    "toFactor=15"
   ]
  },
  {
   "cell_type": "code",
   "execution_count": 6,
   "id": "robust-isolation",
   "metadata": {},
   "outputs": [],
   "source": [
    "def cmul_native(sim, i, a, maxN, qo, qa):\n",
    "    sim.mcmuln(a, [i], maxN, qo, qa)\n",
    "    for o in range(len(qa)):\n",
    "        sim.cswap([i], qa[o], qo[o])\n",
    "    sim.mcdivn(a, [i], maxN, qo, qa)\n",
    "    for a in qa:\n",
    "        sim.m(a)\n",
    "\n",
    "def phase_root_n(sim, n, q):\n",
    "    sim.mtrx([1, 0, 0, -1**(1.0 / (1<<(n - 1)))], q)"
   ]
  },
  {
   "cell_type": "code",
   "execution_count": 7,
   "id": "sharing-performance",
   "metadata": {},
   "outputs": [
    {
     "name": "stdout",
     "output_type": "stream",
     "text": [
      "std::bad_alloc\n"
     ]
    },
    {
     "ename": "RuntimeError",
     "evalue": "QrackSimulator C++ library raised exception.",
     "output_type": "error",
     "traceback": [
      "\u001b[0;31m---------------------------------------------------------------------------\u001b[0m",
      "\u001b[0;31mRuntimeError\u001b[0m                              Traceback (most recent call last)",
      "File \u001b[0;32m<timed exec>:24\u001b[0m, in \u001b[0;36m<module>\u001b[0;34m\u001b[0m\n",
      "Input \u001b[0;32mIn [6]\u001b[0m, in \u001b[0;36mcmul_native\u001b[0;34m(sim, i, a, maxN, qo, qa)\u001b[0m\n\u001b[1;32m      1\u001b[0m \u001b[38;5;28;01mdef\u001b[39;00m \u001b[38;5;21mcmul_native\u001b[39m(sim, i, a, maxN, qo, qa):\n\u001b[0;32m----> 2\u001b[0m     \u001b[43msim\u001b[49m\u001b[38;5;241;43m.\u001b[39;49m\u001b[43mmcmuln\u001b[49m\u001b[43m(\u001b[49m\u001b[43ma\u001b[49m\u001b[43m,\u001b[49m\u001b[43m \u001b[49m\u001b[43m[\u001b[49m\u001b[43mi\u001b[49m\u001b[43m]\u001b[49m\u001b[43m,\u001b[49m\u001b[43m \u001b[49m\u001b[43mmaxN\u001b[49m\u001b[43m,\u001b[49m\u001b[43m \u001b[49m\u001b[43mqo\u001b[49m\u001b[43m,\u001b[49m\u001b[43m \u001b[49m\u001b[43mqa\u001b[49m\u001b[43m)\u001b[49m\n\u001b[1;32m      3\u001b[0m     \u001b[38;5;28;01mfor\u001b[39;00m o \u001b[38;5;129;01min\u001b[39;00m \u001b[38;5;28mrange\u001b[39m(\u001b[38;5;28mlen\u001b[39m(qa)):\n\u001b[1;32m      4\u001b[0m         sim\u001b[38;5;241m.\u001b[39mcswap([i], qa[o], qo[o])\n",
      "File \u001b[0;32m~/.local/lib/python3.10/site-packages/pyqrack/qrack_simulator.py:1531\u001b[0m, in \u001b[0;36mQrackSimulator.mcmuln\u001b[0;34m(self, a, c, m, q, o)\u001b[0m\n\u001b[1;32m   1519\u001b[0m Qrack\u001b[38;5;241m.\u001b[39mqrack_lib\u001b[38;5;241m.\u001b[39mMCMULN(\n\u001b[1;32m   1520\u001b[0m     \u001b[38;5;28mself\u001b[39m\u001b[38;5;241m.\u001b[39msid,\n\u001b[1;32m   1521\u001b[0m     \u001b[38;5;28mlen\u001b[39m(aParts),\n\u001b[0;32m   (...)\u001b[0m\n\u001b[1;32m   1528\u001b[0m     \u001b[38;5;28mself\u001b[39m\u001b[38;5;241m.\u001b[39m_ulonglong_byref(o),\n\u001b[1;32m   1529\u001b[0m )\n\u001b[1;32m   1530\u001b[0m \u001b[38;5;28;01mif\u001b[39;00m \u001b[38;5;28mself\u001b[39m\u001b[38;5;241m.\u001b[39m_get_error() \u001b[38;5;241m!=\u001b[39m \u001b[38;5;241m0\u001b[39m:\n\u001b[0;32m-> 1531\u001b[0m     \u001b[38;5;28;01mraise\u001b[39;00m \u001b[38;5;167;01mRuntimeError\u001b[39;00m(\u001b[38;5;124m\"\u001b[39m\u001b[38;5;124mQrackSimulator C++ library raised exception.\u001b[39m\u001b[38;5;124m\"\u001b[39m)\n",
      "\u001b[0;31mRuntimeError\u001b[0m: QrackSimulator C++ library raised exception."
     ]
    }
   ],
   "source": [
    "%%time\n",
    "# Based on https://arxiv.org/abs/quant-ph/0205095\n",
    "base = random.randrange(2, toFactor)\n",
    "factor = gcd(base, toFactor)\n",
    "if not factor == 1:\n",
    "    print(\"Chose non-relative prime, (without need for quantum computing):\")\n",
    "    print(\"Factors found : {} * {} = {}\".format(factor, toFactor // factor, toFactor))\n",
    "else:\n",
    "    qubitCount = math.ceil(math.log2(toFactor))\n",
    "    maxN = 1<<qubitCount\n",
    "    sim = QrackSimulator(2 * qubitCount + 2, isCpuGpuHybrid=False, isOpenCL=False)\n",
    "\n",
    "    qo = [i for i in range(qubitCount)]\n",
    "    qa = [(i + qubitCount) for i in range(qubitCount)]\n",
    "    qi = 2 * qubitCount\n",
    "    qm = 2 * qubitCount + 1\n",
    "\n",
    "    m_results = []\n",
    "\n",
    "    # Run the quantum subroutine.\n",
    "    # First, set the multiplication output register to identity, 1.\n",
    "    sim.x(qo[0])\n",
    "    for i in range(qubitCount):\n",
    "        sim.h(qi)\n",
    "        cmul_native(sim, qi, 1 << i, toFactor, qo, qa)\n",
    "\n",
    "        # We use the single control qubit \"trick\" referenced in Beauregard:\n",
    "        for j in range(len(m_results)):\n",
    "            if m_results[j]:\n",
    "                phase_root_n(sim, j + 2, qi)\n",
    "\n",
    "        m_results.append(sim.m(qi))\n",
    "        if m_results[-1]:\n",
    "            sim.x(qi)\n",
    "\n",
    "    y = 0\n",
    "    for i in range(len(m_results)):\n",
    "        if m_results[i]:\n",
    "            y |= 1<<i\n",
    "    r = Fraction(y).limit_denominator(toFactor - 1).denominator\n",
    "\n",
    "    # try to determine the factors\n",
    "    if r % 2 != 0:\n",
    "        r *= 2\n",
    "    apowrhalf = pow(base, r >> 1, toFactor)\n",
    "    f1 = gcd(apowrhalf + 1, toFactor)\n",
    "    f2 = gcd(apowrhalf - 1, toFactor)\n",
    "    fmul = f1 * f2\n",
    "    if (not fmul == toFactor) and f1 * f2 > 1 and (toFactor // fmul) * fmul == toFactor:\n",
    "        f1, f2 = f1 * f2, toFactor // (f1 * f2)\n",
    "    if f1 * f2 == toFactor and f1 > 1 and f2 > 1:\n",
    "        print(\"Factors found : {} * {} = {}\".format(f1, f2, toFactor))\n",
    "    else:\n",
    "        print(\"Failed: Found {} and {}\".format(f1, f2))"
   ]
  },
  {
   "cell_type": "markdown",
   "id": "surrounded-pocket",
   "metadata": {},
   "source": [
    "Finally, compare all of the above to a \"quantum-inspired\" Monte Carlo method:"
   ]
  },
  {
   "cell_type": "code",
   "execution_count": 8,
   "id": "going-screw",
   "metadata": {},
   "outputs": [
    {
     "name": "stdout",
     "output_type": "stream",
     "text": [
      "303200036445623038476984737418490699247\n"
     ]
    }
   ],
   "source": [
    "toFactor=17858368935429986533*16978036322460078659\n",
    "print(toFactor)"
   ]
  },
  {
   "cell_type": "code",
   "execution_count": null,
   "id": "twenty-measurement",
   "metadata": {},
   "outputs": [],
   "source": [
    "%%time\n",
    "while True:\n",
    "    base = random.randrange(2, toFactor)\n",
    "    factor = gcd(base, toFactor)\n",
    "    if not factor == 1:\n",
    "        f1, f2 = factor, toFactor // factor\n",
    "        print(\"Chose non-relative prime.\")\n",
    "        print(\"Factors found : {} * {} = {}\".format(f1, f2, toFactor))\n",
    "        break\n",
    "    else:\n",
    "        numerator = random.randrange(1, toFactor - 1)\n",
    "        r = Fraction(numerator).limit_denominator(toFactor - 1).denominator\n",
    "\n",
    "        # try to determine the factors\n",
    "        if r % 2 != 0:\n",
    "            r *= 2\n",
    "        apowrhalf = pow(base, r >> 1, toFactor)\n",
    "        f1 = gcd(apowrhalf + 1, toFactor)\n",
    "        f2 = gcd(apowrhalf - 1, toFactor)\n",
    "        fmul = f1 * f2\n",
    "        if (not fmul == toFactor) and f1 * f2 > 1 and (toFactor // fmul) * fmul == toFactor:\n",
    "            f1, f2 = f1 * f2, toFactor // (f1 * f2)\n",
    "        if f1 * f2 == toFactor and f1 > 1 and f2 > 1:\n",
    "            print(\"Factors found : {} * {} = {}\".format(f1, f2, toFactor))\n",
    "            break\n",
    "        # else:\n",
    "        #     print(\"Failed: Found {} and {}\".format(f1, f2))"
   ]
  },
  {
   "cell_type": "code",
   "execution_count": null,
   "id": "interpreted-broadcasting",
   "metadata": {},
   "outputs": [],
   "source": []
  }
 ],
 "metadata": {
  "kernelspec": {
   "display_name": "Python 3 (ipykernel)",
   "language": "python",
   "name": "python3"
  },
  "language_info": {
   "codemirror_mode": {
    "name": "ipython",
    "version": 3
   },
   "file_extension": ".py",
   "mimetype": "text/x-python",
   "name": "python",
   "nbconvert_exporter": "python",
   "pygments_lexer": "ipython3",
   "version": "3.10.6"
  }
 },
 "nbformat": 4,
 "nbformat_minor": 5
}
