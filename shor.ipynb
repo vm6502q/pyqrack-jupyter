{
 "cells": [
  {
   "cell_type": "markdown",
   "id": "disciplinary-arrow",
   "metadata": {},
   "source": [
    "# Shor's algorithm for integer factoring"
   ]
  },
  {
   "cell_type": "markdown",
   "id": "infrared-advertising",
   "metadata": {},
   "source": [
    "This example implementation of Shor's algorithm is [adapted from ProjectQ](https://github.com/ProjectQ-Framework/ProjectQ/blob/develop/examples/shor.py)."
   ]
  },
  {
   "cell_type": "code",
   "execution_count": 1,
   "id": "wooden-moderator",
   "metadata": {},
   "outputs": [],
   "source": [
    "import math\n",
    "import random\n",
    "from fractions import Fraction\n",
    "\n",
    "try:\n",
    "    from math import gcd\n",
    "except ImportError:\n",
    "    from fractions import gcd\n",
    "\n",
    "from pyqrack import QrackSimulator, Pauli\n",
    "\n",
    "import os\n",
    "os.environ['QRACK_QUNIT_SEPARABILITY_THRESHOLD']='0.001'"
   ]
  },
  {
   "cell_type": "markdown",
   "id": "dynamic-thesis",
   "metadata": {},
   "source": [
    "`toFactor` is the number we are factoring. (You may change it.) "
   ]
  },
  {
   "cell_type": "code",
   "execution_count": 2,
   "id": "herbal-gender",
   "metadata": {},
   "outputs": [],
   "source": [
    "toFactor=2**14-1"
   ]
  },
  {
   "cell_type": "markdown",
   "id": "statutory-semiconductor",
   "metadata": {},
   "source": [
    "The entire algorithm is implemented below. For the first variant, to factor an integer of `n` qubits or less, we have a footprint of `2n`, but PyQrack's `pown()` is limited in qubit width to single GPU \"pages,\" (usually 2 qubits less than maximum for the GPU,) and the operation is \"fully entangling\" of the internal representation. "
   ]
  },
  {
   "cell_type": "code",
   "execution_count": 3,
   "id": "small-marijuana",
   "metadata": {},
   "outputs": [
    {
     "name": "stdout",
     "output_type": "stream",
     "text": [
      "Device #0, Loaded binary from: /home/iamu/.qrack/qrack_ocl_dev_Intel(R)_Gen9_HD_Graphics_NEO.ir\n",
      "Device #1, Loaded binary from: /home/iamu/.qrack/qrack_ocl_dev_NVIDIA_GeForce_RTX_3080_Laptop_GPU.ir\n",
      "Factors found : 3 * 5461 = 16383\n",
      "CPU times: user 8.91 s, sys: 89.3 ms, total: 9 s\n",
      "Wall time: 11 s\n"
     ]
    }
   ],
   "source": [
    "%%time\n",
    "base = int(random.random() * toFactor)\n",
    "if not gcd(base, toFactor) == 1:\n",
    "    print(\"Chose non-relative prime, (without need for quantum computing):\")\n",
    "    print(\"Factor: {}\".format(gcd(base, toFactor)))\n",
    "else:\n",
    "    qubitCount = math.ceil(math.log2(toFactor))\n",
    "    sim = QrackSimulator(2 * qubitCount)\n",
    "\n",
    "    qi = [i for i in range(qubitCount)]\n",
    "    qo = [(i + qubitCount) for i in range(qubitCount)]\n",
    "\n",
    "    # run the quantum subroutine\n",
    "    for i in qi:\n",
    "        sim.h(i)\n",
    "    sim.pown(base, toFactor, qi, qo)\n",
    "    sim.iqft(qi)\n",
    "    \n",
    "    b = [Pauli.PauliZ] * qubitCount\n",
    "    y = sim.measure_pauli(b, qi)\n",
    "    r = Fraction(y).limit_denominator(toFactor - 1).denominator\n",
    "\n",
    "    # try to determine the factors\n",
    "    if r % 2 != 0:\n",
    "        r *= 2\n",
    "    apowrhalf = pow(base, r >> 1, toFactor)\n",
    "    f1 = gcd(apowrhalf + 1, toFactor)\n",
    "    f2 = gcd(apowrhalf - 1, toFactor)\n",
    "    fmul = f1 * f2\n",
    "    if (not fmul == toFactor) and f1 * f2 > 1 and (toFactor // fmul) * fmul == toFactor:\n",
    "        f1, f2 = f1 * f2, toFactor // (f1 * f2)\n",
    "    if f1 * f2 == toFactor and f1 > 1 and f2 > 1:\n",
    "        print(\"Factors found : {} * {} = {}\".format(f1, f2, toFactor))\n",
    "    else:\n",
    "        print(\"Failed: Found {} and {}\".format(f1, f2))"
   ]
  },
  {
   "cell_type": "markdown",
   "id": "fitting-venue",
   "metadata": {},
   "source": [
    "The second implementation requires `2n+2` qubits in footprint to factor a number of `n` qubits or less. However, these methods do not resort to \"fully entangled representation,\" and they are not limited to single GPU \"pages.\""
   ]
  },
  {
   "cell_type": "code",
   "execution_count": 4,
   "id": "precious-cookbook",
   "metadata": {},
   "outputs": [],
   "source": [
    "toFactor=15"
   ]
  },
  {
   "cell_type": "code",
   "execution_count": 5,
   "id": "robust-isolation",
   "metadata": {},
   "outputs": [],
   "source": [
    "def cmul_native(sim, i, a, maxN, qo, qa):\n",
    "    sim.mcmuln(a, [i], maxN, qo, qa)\n",
    "    for o in range(len(qa)):\n",
    "        sim.cswap([i], qa[o], qo[o])\n",
    "    sim.mcdivn(a, [i], maxN, qo, qa)\n",
    "\n",
    "def phase_root_n(sim, n, q):\n",
    "    sim.mtrx([1, 0, 0, -1**(1.0 / (1<<(n - 1)))], q)"
   ]
  },
  {
   "cell_type": "code",
   "execution_count": 6,
   "id": "sharing-performance",
   "metadata": {},
   "outputs": [
    {
     "name": "stdout",
     "output_type": "stream",
     "text": [
      "Chose non-relative prime, (without need for quantum computing):\n",
      "Factors found : 3 * 5 = 15\n",
      "CPU times: user 76 µs, sys: 1 µs, total: 77 µs\n",
      "Wall time: 57.9 µs\n"
     ]
    }
   ],
   "source": [
    "%%time\n",
    "# Based on https://arxiv.org/abs/quant-ph/0205095\n",
    "base = random.randrange(2, toFactor)\n",
    "factor = gcd(base, toFactor)\n",
    "if not factor == 1:\n",
    "    print(\"Chose non-relative prime, (without need for quantum computing):\")\n",
    "    print(\"Factors found : {} * {} = {}\".format(factor, toFactor // factor, toFactor))\n",
    "else:\n",
    "    qubitCount = math.ceil(math.log2(toFactor))\n",
    "    maxN = 1<<qubitCount\n",
    "    sim = QrackSimulator(2 * qubitCount + 2)\n",
    "\n",
    "    qo = [i for i in range(qubitCount)]\n",
    "    qa = [(i + qubitCount) for i in range(qubitCount)]\n",
    "    qi = 2 * qubitCount\n",
    "    qm = 2 * qubitCount + 1\n",
    "\n",
    "    m_results = []\n",
    "\n",
    "    # Run the quantum subroutine.\n",
    "    # First, set the multiplication output register to identity, 1.\n",
    "    sim.x(qo[0])\n",
    "    for i in range(qubitCount):\n",
    "        sim.h(qi)\n",
    "        cmul_native(sim, qi, 1 << i, toFactor, qo, qa)\n",
    "\n",
    "        # We use the single control qubit \"trick\" referenced in Beauregard:\n",
    "        for j in range(len(m_results)):\n",
    "            if m_results[j]:\n",
    "                phase_root_n(sim, j + 2, qi)\n",
    "\n",
    "        m_results.append(sim.m(qi))\n",
    "        if m_results[-1]:\n",
    "            sim.x(qi)\n",
    "\n",
    "    y = 0\n",
    "    for i in range(len(m_results)):\n",
    "        if m_results[i]:\n",
    "            y |= 1<<i\n",
    "    r = Fraction(y).limit_denominator(toFactor - 1).denominator\n",
    "\n",
    "    # try to determine the factors\n",
    "    if r % 2 != 0:\n",
    "        r *= 2\n",
    "    apowrhalf = pow(base, r >> 1, toFactor)\n",
    "    f1 = gcd(apowrhalf + 1, toFactor)\n",
    "    f2 = gcd(apowrhalf - 1, toFactor)\n",
    "    fmul = f1 * f2\n",
    "    if (not fmul == toFactor) and f1 * f2 > 1 and (toFactor // fmul) * fmul == toFactor:\n",
    "        f1, f2 = f1 * f2, toFactor // (f1 * f2)\n",
    "    if f1 * f2 == toFactor and f1 > 1 and f2 > 1:\n",
    "        print(\"Factors found : {} * {} = {}\".format(f1, f2, toFactor))\n",
    "    else:\n",
    "        print(\"Failed: Found {} and {}\".format(f1, f2))"
   ]
  },
  {
   "cell_type": "markdown",
   "id": "surrounded-pocket",
   "metadata": {},
   "source": [
    "Finally, we can't apply exact Shor's integer factoring algorithm to many simulated qubits, but Qrack is capable of a high-qubit-width approximation with a tunable footprint, (always in `2n+2` qubits, but with variable quantities of entanglement and superposition)."
   ]
  },
  {
   "cell_type": "markdown",
   "id": "technological-duplicate",
   "metadata": {},
   "source": [
    "Two approximations make this classically efficient to simulate:\n",
    "1. `hCount` limits entanglement and superposition, by limiting the maximum number of Hadamard gates applied. After `hCount` is exhausted, the algorithm completes in a \"semi-classical\" probabilistic manner.\n",
    "2. Modular controlled multiplication is actually only pseudo-modular, here, which further reduces entanglement. Almost without loss of generality, we always \"collapse\" the last semi-classical qubit into |0> state, which self-consistently avoids the requirement of \"fully-modular\" controlled multiplication, but it truncates possible factorization outputs, by forcing the highest bit to be |0>. (However, up to the partially excluded limit of perfect squares, there is commonly at least one factor from any pair of factorss in our search space.) "
   ]
  },
  {
   "cell_type": "code",
   "execution_count": 7,
   "id": "going-screw",
   "metadata": {},
   "outputs": [],
   "source": [
    "toFactor=2**60-1\n",
    "hCount = 2"
   ]
  },
  {
   "cell_type": "code",
   "execution_count": 8,
   "id": "divided-college",
   "metadata": {},
   "outputs": [],
   "source": [
    "def cmul(sim, i, a, maxN, qo, qa):\n",
    "    for o in range(len(qo)):\n",
    "        partMul = (a * (1 << o)) % maxN\n",
    "        if partMul == 0:\n",
    "            continue\n",
    "        sim.mcadd(partMul, [qo[o]], qa)\n",
    "\n",
    "def cdiv(sim, i, a, maxN, qo, qa):\n",
    "    for o in range(len(qo)):\n",
    "        partMul = (a * (1 << o)) % maxN\n",
    "        if partMul == 0:\n",
    "            continue\n",
    "        sim.mcsub(partMul, [qo[o]], qa)\n",
    "\n",
    "def cmul_in_place(sim, i, a, maxN, qo, qa):\n",
    "    cmul(sim, i, a, maxN, qo, qa)\n",
    "    for o in range(len(qa)):\n",
    "        sim.cswap([i], qa[o], qo[o])\n",
    "    cdiv(sim, i, a, maxN, qo, qa)\n",
    "\n",
    "def phase_root_n(sim, n, q):\n",
    "    sim.mtrx([1, 0, 0, -1**(1.0 / (1<<(n - 1)))], q)"
   ]
  },
  {
   "cell_type": "code",
   "execution_count": 10,
   "id": "twenty-measurement",
   "metadata": {},
   "outputs": [
    {
     "name": "stdout",
     "output_type": "stream",
     "text": [
      "Factors found : 315 * 3660068268593165 = 1152921504606846975\n",
      "CPU times: user 36.7 s, sys: 2.79 s, total: 39.5 s\n",
      "Wall time: 2.79 s\n"
     ]
    }
   ],
   "source": [
    "%%time\n",
    "# Based on https://arxiv.org/abs/quant-ph/0205095\n",
    "while True:\n",
    "    base = random.randrange(2, toFactor)\n",
    "    factor = gcd(base, toFactor)\n",
    "    if not factor == 1:\n",
    "        print(\"Chose non-relative prime, (without need for quantum computing):\")\n",
    "        print(\"Factors found : {} * {} = {}\".format(factor, toFactor // factor, toFactor))\n",
    "        break\n",
    "    else:\n",
    "        qubitCount = math.ceil(math.log2(toFactor))\n",
    "        maxN = 1<<qubitCount\n",
    "        sim = QrackSimulator(2 * qubitCount + 2, isPaged=False, isOpenCL=False)\n",
    "\n",
    "        qo = [i for i in range(qubitCount)]\n",
    "        qa = [(i + qubitCount) for i in range(qubitCount)]\n",
    "        qi = 2 * qubitCount\n",
    "        qm = 2 * qubitCount + 1\n",
    "\n",
    "        m_results = []\n",
    "\n",
    "        # Run the quantum subroutine.\n",
    "        # First, set the multiplication output register to identity, 1.\n",
    "        sim.x(qo[0])\n",
    "        for i in range(qubitCount):\n",
    "            if i < hCount:\n",
    "                sim.h(qi)\n",
    "                # This is a pseudo-modular operation. However, it's efficient to simulate!\n",
    "                cmul_in_place(sim, qi, 1 << i, toFactor, qo, qa)\n",
    "            elif i < (qubitCount - 1) and random.getrandbits(1) > 0:\n",
    "                # Approximate with a semi-classical controlled-multipication.\n",
    "                for o in range(len(qo)):\n",
    "                    partMul = ((1 << i) * (1 << o)) % maxN\n",
    "                    if partMul == 0:\n",
    "                        continue\n",
    "                    sim.add(partMul, qo)\n",
    "\n",
    "            # We use the single control qubit \"trick\" referenced in Beauregard:\n",
    "            for j in range(len(m_results)):\n",
    "                if m_results[j]:\n",
    "                    phase_root_n(sim, j + 2, qi)\n",
    "\n",
    "            if i == (qubitCount - 1):\n",
    "                m_results.append(sim.force_m(qi, False))\n",
    "            else:\n",
    "                m_results.append(sim.m(qi))\n",
    "            if m_results[-1]:\n",
    "                sim.x(qi)\n",
    "\n",
    "        y = 0\n",
    "        for i in range(len(m_results)):\n",
    "            if m_results[i]:\n",
    "                y |= 1<<i\n",
    "        r = Fraction(y).limit_denominator(toFactor - 1).denominator\n",
    "\n",
    "        # try to determine the factors\n",
    "        if r % 2 != 0:\n",
    "            r *= 2\n",
    "        apowrhalf = pow(base, r >> 1, toFactor)\n",
    "        f1 = gcd(apowrhalf + 1, toFactor)\n",
    "        f2 = gcd(apowrhalf - 1, toFactor)\n",
    "        fmul = f1 * f2\n",
    "        if (not fmul == toFactor) and f1 * f2 > 1 and (toFactor // fmul) * fmul == toFactor:\n",
    "            f1, f2 = f1 * f2, toFactor // (f1 * f2)\n",
    "        if f1 * f2 == toFactor and f1 > 1 and f2 > 1:\n",
    "            print(\"Factors found : {} * {} = {}\".format(f1, f2, toFactor))\n",
    "            break\n",
    "        else:\n",
    "            print(\"Failed: Found {} and {}\".format(f1, f2))"
   ]
  }
 ],
 "metadata": {
  "kernelspec": {
   "display_name": "Python 3 (ipykernel)",
   "language": "python",
   "name": "python3"
  },
  "language_info": {
   "codemirror_mode": {
    "name": "ipython",
    "version": 3
   },
   "file_extension": ".py",
   "mimetype": "text/x-python",
   "name": "python",
   "nbconvert_exporter": "python",
   "pygments_lexer": "ipython3",
   "version": "3.8.10"
  }
 },
 "nbformat": 4,
 "nbformat_minor": 5
}
