{
 "cells": [
  {
   "cell_type": "markdown",
   "id": "composed-midwest",
   "metadata": {},
   "source": [
    "# Clifford+RZ and Hardware Compilation"
   ]
  },
  {
   "cell_type": "markdown",
   "id": "social-scott",
   "metadata": {},
   "source": [
    "You need the `pyqrack` package to run this notebook. [`vm6502q/pyqrack`](https://github.com/vm6502q/pyqrack) is a pure Python wrapper on the [`vm6502q/qrack`](https://github.com/vm6502q/qrack) quantum computer simulation framework core library. The preferred method of installation is from source code, at those GitHub repositories, but a package with default build precompiled binaries is available on [pypi](https://pypi.org/project/pyqrack/0.2.0/)."
   ]
  },
  {
   "cell_type": "code",
   "execution_count": 1,
   "id": "26fb4200",
   "metadata": {},
   "outputs": [],
   "source": [
    "# For example, if your Jupyter installation uses pip:\n",
    "# import sys\n",
    "# !{sys.executable} -m pip install --platform=manylinux2014_x86_64 --only-binary=:all: pyqrack"
   ]
  },
  {
   "cell_type": "markdown",
   "id": "ab3203b9-baea-4b07-a2ca-cd43a59b6571",
   "metadata": {},
   "source": [
    "[`QrackSimulator`](https://github.com/vm6502q/pyqrack/blob/main/pyqrack/qrack_simulator.py) is the \"workhorse\" of the `pyqrack` package. It instantiates simulated \"registers\" of qubits that we can act basic quantum gates between, to form arbitrary universal quantum circuits."
   ]
  },
  {
   "cell_type": "markdown",
   "id": "0cd34c0e-cabb-44d5-98a9-49b4b2a85165",
   "metadata": {},
   "source": [
    "[`QrackCircuit`](https://github.com/vm6502q/pyqrack/blob/main/pyqrack/qrack_circuit.py) is an optional class for optimizing compilation. With it, one can define a circuit in advance, which is optimized upon definition. Then, one can save the optimized result to a file and later load it into a new or existing `QrackCircuit` instance. Ultimately, the circuit is executed by calling `run()` on a `QrackCircuit`, with a parameter of `QrackSimulator` of appropriate size. (The necessary width of the `QrackSimulator` can be determined with `QrackCircuit.get_qubit_count()`.)"
   ]
  },
  {
   "cell_type": "code",
   "execution_count": 2,
   "id": "9eda67a6",
   "metadata": {},
   "outputs": [
    {
     "name": "stderr",
     "output_type": "stream",
     "text": [
      "2023-12-02 09:58:18.273773: I tensorflow/tsl/cuda/cudart_stub.cc:28] Could not find cuda drivers on your machine, GPU will not be used.\n",
      "2023-12-02 09:58:18.301822: I tensorflow/tsl/cuda/cudart_stub.cc:28] Could not find cuda drivers on your machine, GPU will not be used.\n",
      "2023-12-02 09:58:18.302359: I tensorflow/core/platform/cpu_feature_guard.cc:182] This TensorFlow binary is optimized to use available CPU instructions in performance-critical operations.\n",
      "To enable the following instructions: AVX2 FMA, in other operations, rebuild TensorFlow with the appropriate compiler flags.\n",
      "2023-12-02 09:58:18.762902: W tensorflow/compiler/tf2tensorrt/utils/py_utils.cc:38] TF-TRT Warning: Could not find TensorRT\n"
     ]
    }
   ],
   "source": [
    "import collections\n",
    "import copy\n",
    "import math\n",
    "import os\n",
    "import random\n",
    "\n",
    "import numpy as np\n",
    "\n",
    "import tensorcircuit as tc\n",
    "import tensorcircuit.compiler.simple_compiler as tcsc\n",
    "\n",
    "from qiskit import QuantumCircuit\n",
    "from qiskit.compiler import transpile\n",
    "\n",
    "from pyqrack import QrackSimulator, QrackCircuit\n",
    "\n",
    "# If we disable OpenCL and set the max CPU qubits to max integer, we bypass qubit widths limits.\n",
    "os.environ[\"QRACK_MAX_PAGE_QB\"]=\"26\"\n",
    "os.environ[\"QRACK_MAX_ALLOC_MB\"]=\"15872\"\n",
    "os.environ[\"QRACK_MAX_PAGING_QB\"]=\"29\"\n",
    "os.environ[\"QRACK_MAX_CPU_QB\"]=\"-1\""
   ]
  },
  {
   "cell_type": "code",
   "execution_count": 3,
   "id": "e342bcef",
   "metadata": {},
   "outputs": [],
   "source": [
    "width = 4"
   ]
  },
  {
   "cell_type": "markdown",
   "id": "4f741757-ad35-4b5f-8c23-4c890f6f9b74",
   "metadata": {},
   "source": [
    "We're going to try to optimize the compilation of a quantum volume circuit for minimum gate count and depth of critical path."
   ]
  },
  {
   "cell_type": "code",
   "execution_count": 4,
   "id": "statutory-lewis",
   "metadata": {},
   "outputs": [],
   "source": [
    "def rand_1qb(circ, q):\n",
    "    th = random.uniform(0, 4 * math.pi)\n",
    "    ph = random.uniform(0, 4 * math.pi)\n",
    "    lm = random.uniform(0, 4 * math.pi)\n",
    "    circ.u(th, ph, lm, q)\n",
    "\n",
    "\n",
    "def random_circuit(width, circ):\n",
    "    for n in range(width):\n",
    "        # Single bit gates\n",
    "        for j in range(width):\n",
    "            rand_1qb(circ, j)\n",
    "\n",
    "        # Multi bit gates\n",
    "        bit_set = [i for i in range(width)]\n",
    "        while len(bit_set) > 1:\n",
    "            b1 = random.choice(bit_set)\n",
    "            bit_set.remove(b1)\n",
    "            b2 = random.choice(bit_set)\n",
    "            bit_set.remove(b2)\n",
    "            circ.cx(b1, b2)\n",
    "\n",
    "    return circ"
   ]
  },
  {
   "cell_type": "code",
   "execution_count": 5,
   "id": "f33b9202-1b7b-4e2c-81e0-572c854a5126",
   "metadata": {},
   "outputs": [
    {
     "name": "stdout",
     "output_type": "stream",
     "text": [
      "Raw gate count:  24\n",
      "Raw depth of critical path:  8\n",
      "Raw qubit width:  4\n"
     ]
    }
   ],
   "source": [
    "orig_circ = random_circuit(width, QuantumCircuit(width))\n",
    "\n",
    "print(\"Raw gate count: \", sum(dict(orig_circ.count_ops()).values()))\n",
    "print(\"Raw depth of critical path: \", orig_circ.depth())\n",
    "print(\"Raw qubit width: \", orig_circ.width())"
   ]
  },
  {
   "cell_type": "markdown",
   "id": "a37f0b63-5690-46ab-bcb3-cbc7040c97ee",
   "metadata": {},
   "source": [
    "If we have Qiskit and numpy installed, we can transpile to a near-Clifford Qiskit circuit."
   ]
  },
  {
   "cell_type": "code",
   "execution_count": 6,
   "id": "126a1144",
   "metadata": {},
   "outputs": [
    {
     "name": "stdout",
     "output_type": "stream",
     "text": [
      "Raw (near-Clifford) gate count:  96\n",
      "Raw (near-Clifford) depth of critical path:  28\n",
      "Raw (near-Clifford) qubit width:  4\n"
     ]
    }
   ],
   "source": [
    "basis_gates=[\"rz\", \"x\", \"y\", \"z\", \"sx\", \"sy\", \"s\", \"sdg\", \"cx\", \"cy\", \"cz\", \"swap\", \"iswap\", \"iswap_dg\"]\n",
    "circ = transpile(orig_circ, basis_gates=basis_gates, optimization_level=3)\n",
    "\n",
    "print(\"Raw (near-Clifford) gate count: \", sum(dict(circ.count_ops()).values()))\n",
    "print(\"Raw (near-Clifford) depth of critical path: \", circ.depth())\n",
    "print(\"Raw (near-Clifford) qubit width: \", circ.width())"
   ]
  },
  {
   "cell_type": "markdown",
   "id": "2e03c66e-a318-4086-85d8-78b59ed006a1",
   "metadata": {},
   "source": [
    "From there, we can simulate with Qrack's near-Clifford-optimized simulation layer, everything except for measurement sampling. We write the resulting \"intermediate representation\" into a file on disk."
   ]
  },
  {
   "cell_type": "code",
   "execution_count": 7,
   "id": "5261cc14-d3f6-489a-bb01-2947c787acee",
   "metadata": {},
   "outputs": [],
   "source": [
    "if width == circ.width():\n",
    "    qsim = QrackSimulator(width, isTensorNetwork=False, isSchmidtDecomposeMulti=False, isSchmidtDecompose=False, isOpenCL=False)\n",
    "    qsim.run_qiskit_circuit(circ, 0)\n",
    "    qsim.out_to_file(\"qrack_circuit.chp\")\n",
    "    qsim.reset_all()\n",
    "    qsim = None\n",
    "else:\n",
    "    print(\"Circuit not in fully-reduced form!\")"
   ]
  },
  {
   "cell_type": "markdown",
   "id": "c268e727-069a-4658-8d8a-357ca395de92",
   "metadata": {},
   "source": [
    "Then, we read this into a new Qiskit circuit, which is still near-Clifford. The gate count and qubit width might be higher, but the circuit is entirely Clifford group, except for a single terminal layer of non-Clifford gates, (followed by either post selection or a rudimentary error-correction routine).\n",
    "\n",
    "In using the `QrackSimulator.file_to_optimized_qiskit_circuit(filename)` method, we further remove the ancilla qubits, \"injecting\" their \"magic states,\" bringing the circuit back into a general form, with Clifford and `U` gates."
   ]
  },
  {
   "cell_type": "code",
   "execution_count": 8,
   "id": "912f3203",
   "metadata": {},
   "outputs": [
    {
     "name": "stdout",
     "output_type": "stream",
     "text": [
      "(Near-Clifford) gate count:  43\n",
      "(Near-Clifford) depth of critical path:  22\n",
      "(Near-Clifford) qubit width:  40\n"
     ]
    }
   ],
   "source": [
    "circ = QrackSimulator.file_to_optimized_qiskit_circuit(\"qrack_circuit.chp\")\n",
    "\n",
    "if circ.width() <= 16:\n",
    "    print(circ)\n",
    "print(\"(Near-Clifford) gate count: \", sum(dict(circ.count_ops()).values()))\n",
    "print(\"(Near-Clifford) depth of critical path: \", circ.depth())\n",
    "print(\"(Near-Clifford) qubit width: \", circ.width())"
   ]
  },
  {
   "cell_type": "markdown",
   "id": "8e2d83be-5007-40f6-8e89-3ee8a501a42c",
   "metadata": {},
   "source": [
    "If only terminal gates on wires are non-Clifford, then it's possible to efficiently simulate and sample the measurement distribution of this circuit."
   ]
  },
  {
   "cell_type": "code",
   "execution_count": 9,
   "id": "d50713b4-6dae-49f1-950d-6840618aecf6",
   "metadata": {},
   "outputs": [],
   "source": [
    "def is_clifford_param(param):\n",
    "    return np.isclose(param, 0) or np.isclose(param, math.pi / 2) or np.isclose(param, math.pi) or np.isclose(param, 3 * math.pi / 2) or np.isclose(param, -math.pi / 2) or np.isclose(param, -math.pi) or np.isclose(param, -3 * math.pi / 2)\n",
    "\n",
    "efficient_circ = circ\n",
    "is_classically_efficient = circ.width() == width\n",
    "if is_classically_efficient:\n",
    "    basis_gates = [\"u\", \"cx\", \"cy\", \"cz\", \"swap\", \"iswap\", \"iswap_dg\"]\n",
    "    efficient_circ = transpile(efficient_circ, basis_gates=basis_gates, optimization_level=3)\n",
    "    is_blocked = circ.width() * [False]\n",
    "    for i in range(circ.width()):\n",
    "        for j in range(len(circ.data)):\n",
    "            op = circ.data[j].operation\n",
    "            qubits = circ.data[j].qubits\n",
    "            q1 = circ.find_bit(qubits[0])[0]\n",
    "            if (len(qubits) < 2) and (q1 == i):\n",
    "                was_blocked = is_blocked[i]\n",
    "                if was_blocked and len(op.params) == 0:\n",
    "                    is_classically_efficient = False\n",
    "                    break\n",
    "                for param in op.params:\n",
    "                    if not is_clifford_param(param):\n",
    "                        is_blocked[i] = True\n",
    "                        if was_blocked:\n",
    "                            is_classically_efficient = False\n",
    "                            break\n",
    "\n",
    "            if len(qubits) < 2:\n",
    "                continue\n",
    "\n",
    "            q2 = circ.find_bit(qubits[1])[0]\n",
    "            if (q2 == i) and is_blocked[i]:\n",
    "                is_classically_efficient = False\n",
    "                break\n",
    "\n",
    "        if not is_classically_efficient:\n",
    "            break\n",
    "\n",
    "if is_classically_efficient:\n",
    "    print(\"Intermediate representation has only terminal non-Clifford gates; efficient classical simulation should be possible (with \\\"efficient_circ\\\" variable).\")"
   ]
  },
  {
   "cell_type": "markdown",
   "id": "81a91858-dafa-4b57-8c7f-222a23db691a",
   "metadata": {},
   "source": [
    "`QrackCircuit` might reduce the gate count and depth further, but it's probably an unrealistic gate set for most gate-based quantum hardware. However, if we're using conventional Qrack simulation, rather than near-Clifford, this format is advantageous for native Qrack."
   ]
  },
  {
   "cell_type": "code",
   "execution_count": 10,
   "id": "0a06b022-3683-4f7d-a0ea-d86415ae8489",
   "metadata": {},
   "outputs": [
    {
     "name": "stdout",
     "output_type": "stream",
     "text": [
      "QrackCircuit gate count:  40\n",
      "QrackCircuit depth of critical path:  31\n",
      "QrackCircuit qubit width:  27\n"
     ]
    }
   ],
   "source": [
    "qcircuit = QrackCircuit.in_from_qiskit_circuit(circ)\n",
    "qcircuit.out_to_file(\"qrack_circuit.qc\")\n",
    "qrack_circ = QrackCircuit.file_to_qiskit_circuit(\"qrack_circuit.qc\")\n",
    "\n",
    "if qrack_circ.width() <= 16:\n",
    "    print(qrack_circ)\n",
    "print(\"QrackCircuit gate count: \", sum(dict(qrack_circ.count_ops()).values()))\n",
    "print(\"QrackCircuit depth of critical path: \", qrack_circ.depth())\n",
    "print(\"QrackCircuit qubit width: \", qrack_circ.width())"
   ]
  },
  {
   "cell_type": "markdown",
   "id": "56f7feef-c238-4453-a2b2-edca2158c1fd",
   "metadata": {},
   "source": [
    "We might further optimize with tensor network software."
   ]
  },
  {
   "cell_type": "code",
   "execution_count": 11,
   "id": "6b7ee675-01fe-4756-975d-cb84eaeae369",
   "metadata": {},
   "outputs": [
    {
     "name": "stderr",
     "output_type": "stream",
     "text": [
      "2023-12-02 09:58:22.909182: I tensorflow/compiler/xla/stream_executor/cuda/cuda_gpu_executor.cc:995] successful NUMA node read from SysFS had negative value (-1), but there must be at least one NUMA node, so returning NUMA node zero. See more at https://github.com/torvalds/linux/blob/v6.0/Documentation/ABI/testing/sysfs-bus-pci#L344-L355\n",
      "2023-12-02 09:58:22.929496: W tensorflow/core/common_runtime/gpu/gpu_device.cc:1960] Cannot dlopen some GPU libraries. Please make sure the missing libraries mentioned above are installed properly if you would like to use GPU. Follow the guide at https://www.tensorflow.org/install/gpu for how to download and setup the required libraries for your platform.\n",
      "Skipping registering GPU devices...\n"
     ]
    }
   ],
   "source": [
    "tc.set_backend(\"tensorflow\")\n",
    "tc.set_contractor(\"auto\")\n",
    "tc.set_dtype(\"complex64\")\n",
    "\n",
    "net = tc.Circuit.from_qiskit(circ)\n",
    "net = tcsc.simple_compile(net)[0]\n",
    "# net.draw()"
   ]
  },
  {
   "cell_type": "markdown",
   "id": "f325bda8-4173-484f-b9c4-f79bbaeec929",
   "metadata": {},
   "source": [
    "We can sample with tensorcircuit at this point, or we can try another round of optimization."
   ]
  },
  {
   "cell_type": "code",
   "execution_count": 12,
   "id": "bad380fa-9c2a-45b6-a256-aff02c86365a",
   "metadata": {},
   "outputs": [],
   "source": [
    "# %%time\n",
    "# print(net.sample(allow_state=True, batch=256, format=\"count_dict_bin\"))"
   ]
  },
  {
   "cell_type": "code",
   "execution_count": 13,
   "id": "9de73167-14d1-41b3-ae39-a67ee953a4e2",
   "metadata": {},
   "outputs": [],
   "source": [
    "circ = net.to_qiskit()\n",
    "basis_gates=[\"rz\", \"x\", \"y\", \"z\", \"sx\", \"sy\", \"s\", \"sdg\", \"cx\", \"cy\", \"cz\", \"swap\", \"iswap\", \"iswap_dg\"]\n",
    "circ = transpile(circ, basis_gates=basis_gates, optimization_level=3)"
   ]
  },
  {
   "cell_type": "code",
   "execution_count": 14,
   "id": "91ffa001-d6f1-46e6-b348-0d81968acee0",
   "metadata": {},
   "outputs": [
    {
     "name": "stdout",
     "output_type": "stream",
     "text": [
      "Device #0, Loaded binary from: /home/iamu/.qrack/qrack_ocl_dev_NVIDIA_GeForce_RTX_2070_Super.ir\n",
      "Hellinger fidelity:  1.0\n"
     ]
    }
   ],
   "source": [
    "def cross_entropy(measurement_list, qiskit_circuit):\n",
    "    perm_count = 1 << qiskit_circuit.width()\n",
    "    ideal_shots = perm_count << 12\n",
    "\n",
    "    sim = QrackSimulator(qubitCount = qiskit_circuit.width(), isStabilizerHybrid=False)\n",
    "    sim.run_qiskit_circuit(qiskit_circuit, 0)\n",
    "    ideal_result = sim.measure_shots(list(range(qiskit_circuit.width())), ideal_shots)\n",
    "    ideal_result = dict(collections.Counter(ideal_result))\n",
    "    for key, value in ideal_result.items():\n",
    "        ideal_result[key] = value / ideal_shots\n",
    "        \n",
    "    ideal_probs_sv = []\n",
    "    for i in range(perm_count):\n",
    "        ideal_probs_sv.append(ideal_result[i] if i in ideal_result else 0)\n",
    "    \n",
    "    ideal_probs = []\n",
    "    for bit_string in measurement_list:\n",
    "        ideal_probs.append(ideal_probs_sv[bit_string])\n",
    "                               \n",
    "    return (perm_count * np.mean(ideal_probs)) - 1\n",
    "\n",
    "\n",
    "def hellinger_fidelity(measurement_list, qiskit_circuit):\n",
    "    perm_count = 1 << qiskit_circuit.width()\n",
    "    ideal_shots = perm_count << 12\n",
    "\n",
    "    t_histogram = collections.Counter(measurement_list)\n",
    "    shot_count = sum(t_histogram.values())\n",
    "    t_histogram = dict(t_histogram)\n",
    "        \n",
    "    histogram = {}\n",
    "    for key, value in t_histogram.items():\n",
    "        histogram[key] = value / shot_count\n",
    "\n",
    "    sim = QrackSimulator(qubitCount = qiskit_circuit.width(), isStabilizerHybrid=False)\n",
    "    sim.run_qiskit_circuit(qiskit_circuit, 0)\n",
    "    ideal_result = sim.measure_shots(list(range(qiskit_circuit.width())), ideal_shots)\n",
    "    ideal_result = dict(collections.Counter(ideal_result))\n",
    "    for key, value in ideal_result.items():\n",
    "        ideal_result[key] = value / ideal_shots\n",
    "        \n",
    "    ideal_probs_sv = []\n",
    "    for i in range(perm_count):\n",
    "        ideal_probs_sv.append(ideal_result[i] if i in ideal_result else 0)\n",
    "\n",
    "    fidelity = 0\n",
    "    for qubit_permutation in histogram.keys():\n",
    "        ideal_prob = ideal_result[qubit_permutation] if qubit_permutation in ideal_result else 0\n",
    "        normalized_frequency = histogram[qubit_permutation]\n",
    "        fidelity += math.sqrt(ideal_prob * ideal_prob)\n",
    "    fidelity *= fidelity\n",
    "                               \n",
    "    return fidelity\n",
    "\n",
    "\n",
    "if width <= 16:\n",
    "    # The circuit has 0 ancillae, so we can generate samples with conventional simulation.\n",
    "    qsim = QrackSimulator(qcircuit.get_qubit_count())\n",
    "    qcircuit.run(qsim)\n",
    "    for i in range(width, qcircuit.get_qubit_count()):\n",
    "        qsim.force_m(i, False)\n",
    "    shots = 1 << (width + 12)\n",
    "    samples = qsim.measure_shots(list(range(width)), shots)\n",
    "    # print(\"XEB fidelity: \", cross_entropy(samples, orig_circ))\n",
    "    print(\"Hellinger fidelity: \", hellinger_fidelity(samples, orig_circ))"
   ]
  },
  {
   "cell_type": "code",
   "execution_count": 15,
   "id": "8d526236-dce3-4ce0-9824-2904bb5eb112",
   "metadata": {},
   "outputs": [],
   "source": [
    "# if is_classically_efficient:\n",
    "# The circuit has 0 ancillae and only a terminal layer of non-Clifford gates, so we can generate samples with \"hybrid stabilizer\" simulation.\n",
    "# qsim = QrackSimulator(qubitCount = efficient_circ.width(), isSchmidtDecomposeMulti = False, isSchmidtDecompose = False, isOpenCL=False)\n",
    "# qsim.run_qiskit_circuit(efficient_circ, 0)\n",
    "# print(qsim.measure_shots(list(range(width)), 1024))"
   ]
  }
 ],
 "metadata": {
  "kernelspec": {
   "display_name": "Python 3 (ipykernel)",
   "language": "python",
   "name": "python3"
  },
  "language_info": {
   "codemirror_mode": {
    "name": "ipython",
    "version": 3
   },
   "file_extension": ".py",
   "mimetype": "text/x-python",
   "name": "python",
   "nbconvert_exporter": "python",
   "pygments_lexer": "ipython3",
   "version": "3.8.10"
  }
 },
 "nbformat": 4,
 "nbformat_minor": 5
}
