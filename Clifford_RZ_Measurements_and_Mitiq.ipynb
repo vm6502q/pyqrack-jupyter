{
 "cells": [
  {
   "cell_type": "markdown",
   "id": "composed-midwest",
   "metadata": {},
   "source": [
    "# Qrack Clifford+RZ (Measurements)and Mitiq"
   ]
  },
  {
   "cell_type": "markdown",
   "id": "social-scott",
   "metadata": {},
   "source": [
    "You need the `pyqrack` package to run this notebook. [`vm6502q/pyqrack`](https://github.com/vm6502q/pyqrack) is a pure Python wrapper on the [`vm6502q/qrack`](https://github.com/vm6502q/qrack) quantum computer simulation framework core library. The preferred method of installation is from source code, at those GitHub repositories, but a package with default build precompiled binaries is available on [pypi](https://pypi.org/project/pyqrack/0.2.0/)."
   ]
  },
  {
   "cell_type": "markdown",
   "id": "8a647098-dd6d-4ee0-806f-abc2f5cd37ab",
   "metadata": {},
   "source": [
    "You also need the `mitiq` package. `unitaryfund/mitiq` is a Python package for error mitigation. It relies intermediate representations of circuits like Qiskit's `QuantumCircuit` or Cirq's `Circuit`. In the example below, we use Qiskit's `QuantumCircuit`."
   ]
  },
  {
   "cell_type": "code",
   "execution_count": 1,
   "id": "e342bcef",
   "metadata": {},
   "outputs": [],
   "source": [
    "width = 36\n",
    "depth = 36\n",
    "shots = 1024"
   ]
  },
  {
   "cell_type": "code",
   "execution_count": 2,
   "id": "cubic-thousand",
   "metadata": {},
   "outputs": [],
   "source": [
    "# For example, if your Jupyter installation uses pip:\n",
    "# import sys\n",
    "# !{sys.executable} -m pip install pyqrack\n",
    "\n",
    "import os\n",
    "import collections\n",
    "import math\n",
    "import numpy as np\n",
    "import random\n",
    "\n",
    "from pyqrack import QrackSimulator, Pauli\n",
    "from mitiq import zne\n",
    "from qiskit.circuit.quantumcircuit import QuantumCircuit\n",
    "from qiskit.compiler import transpile\n",
    "from mitiq.zne.scaling.folding import fold_global\n",
    "from mitiq.zne.inference import RichardsonFactory\n",
    "\n",
    "# Change these according to your OpenCL devices and system specifications:\n",
    "os.environ['QRACK_MAX_PAGE_QB']='27'\n",
    "os.environ['QRACK_MAX_ALLOC_MB']='15872'\n",
    "os.environ['QRACK_MAX_PAGING_QB']='30'\n",
    "os.environ['QRACK_MAX_CPU_QB']='-1'\n",
    "# os.environ['QRACK_QUNITMULTI_DEVICES']='1'\n",
    "# os.environ['QRACK_QPAGER_DEVICES']='1'\n",
    "os.environ['QRACK_NONCLIFFORD_ROUNDING_THRESHOLD']='1'"
   ]
  },
  {
   "cell_type": "code",
   "execution_count": 3,
   "id": "59c4e106-4dcb-4c60-938f-a93da5f4a487",
   "metadata": {},
   "outputs": [],
   "source": [
    "def cx(circ, q1, q2):\n",
    "    circ.cx(q1, q2)\n",
    "\n",
    "def cy(circ, q1, q2):\n",
    "    circ.cy(q1, q2)\n",
    "\n",
    "def cz(circ, q1, q2):\n",
    "    circ.cz(q1, q2)\n",
    "\n",
    "def acx(circ, q1, q2):\n",
    "    circ.x(q1)\n",
    "    circ.cx(q1, q2)\n",
    "    circ.x(q1)\n",
    "\n",
    "def acy(circ, q1, q2):\n",
    "    circ.x(q1)\n",
    "    circ.cy(q1, q2)\n",
    "\n",
    "def acz(circ, q1, q2):\n",
    "    circ.x(q1)\n",
    "    circ.cz(q1, q2)\n",
    "    circ.x(q1)\n",
    "\n",
    "def swap(circ, q1, q2):\n",
    "    circ.swap(q1, q2)\n",
    "\n",
    "def nswap(circ, q1, q2):\n",
    "    circ.cz(q1, q2)\n",
    "    circ.swap(q1, q2)\n",
    "    circ.cz(q1, q2)\n",
    "\n",
    "def pswap(circ, q1, q2):\n",
    "    circ.cz(q1, q2)\n",
    "    circ.swap(q1, q2)   \n",
    "\n",
    "def mswap(circ, q1, q2):\n",
    "    circ.swap(q1, q2)\n",
    "    circ.cz(q1, q2)\n",
    "\n",
    "def iswap(circ, q1, q2):\n",
    "    circ.swap(q1, q2)\n",
    "    circ.cz(q1, q2)\n",
    "    circ.s(q1)\n",
    "    circ.s(q2)\n",
    "\n",
    "def iiswap(circ, q1, q2):\n",
    "    circ.sdg(q2)\n",
    "    circ.sdg(q1)\n",
    "    circ.cz(q1, q2)\n",
    "    circ.swap(q1, q2)\n",
    "\n",
    "def random_circuit(width, depth):\n",
    "    circuit = QuantumCircuit(width)\n",
    "    \n",
    "    # Nearest-neighbor couplers:\n",
    "    gateSequence = [ 0, 3, 2, 1, 2, 1, 0, 3 ]\n",
    "    row_len = math.ceil(math.sqrt(width))\n",
    "    two_bit_gates = swap, pswap, mswap, nswap, iswap, iiswap, cx, cy, cz, acx, acy, acz\n",
    "\n",
    "    for i in range(depth):\n",
    "        # One unit of \"magic\" per layer:\n",
    "        magic_bit = random.randrange(width)\n",
    "        magic_axis = random.randrange(3)\n",
    "        # Single bit gates\n",
    "        for j in range(width):\n",
    "            for p in range(3):\n",
    "                # We're trying to cover 3 Pauli axes\n",
    "                # with Euler angle axes x-z-x. \n",
    "                circuit.h(j)\n",
    "\n",
    "                # We can trace out a quarter rotations around the Bloch sphere with stabilizer.\n",
    "                rnd = random.randint(0, 3)\n",
    "                if rnd & 1:\n",
    "                    circuit.s(j)\n",
    "                if rnd & 2:\n",
    "                    circuit.z(j)\n",
    "\n",
    "                # For each circuit layer, there is one unit of \"magic.\"\n",
    "                if (j == magic_bit) and (p == magic_axis):\n",
    "                    angle = random.uniform(0, math.pi / 2)\n",
    "                    circuit.rz(angle, j)\n",
    "\n",
    "        # Fully-connected couplers:\n",
    "        ###########################\n",
    "        unused_bits = [list(range(width))]\n",
    "        random.shuffle(unused_bits)\n",
    "        while len(unused_bits) > 1:\n",
    "            b1 = unused_bits.pop()\n",
    "            b2 = unused_bits.pop()\n",
    "            g = random.choice(two_bit_gates)\n",
    "            g(circuit, b1, b2)\n",
    "    \n",
    "    return circuit"
   ]
  },
  {
   "cell_type": "markdown",
   "id": "8c935d73-868e-4fc1-b75d-aff5f90ca566",
   "metadata": {},
   "source": [
    "Run this next cell several times to produce a noisy value, (optionally tuning the width, depth, and magic settings above,) and run the last cell to mitigate with Mitiq."
   ]
  },
  {
   "cell_type": "code",
   "execution_count": 4,
   "id": "ab200420-d7da-4977-89b1-021e707d4faf",
   "metadata": {},
   "outputs": [],
   "source": [
    "def logit(x):\n",
    "    # Theoretically, these limit points are \"infinite,\"\n",
    "    # but precision caps out between 36 and 37:\n",
    "    if x > (1 - 5e-17):\n",
    "        return 37\n",
    "    # For the negative limit, the precisions caps out\n",
    "    # between -37 and -38\n",
    "    elif x < 1e-17:\n",
    "        return -38\n",
    "    return max(-38, min(37, np.log(x / (1 - x))))\n",
    "\n",
    "def expit(x):\n",
    "    # Theoretically, these limit points are \"infinite,\"\n",
    "    # but precision caps out between 36 and 37:\n",
    "    if x >= 37:\n",
    "        return 1.0\n",
    "    # For the negative limit, the precisions caps out\n",
    "    # between -37 and -38\n",
    "    elif x <= -38:\n",
    "        return 0.0\n",
    "    return 1 / (1 + np.exp(-x))\n",
    "\n",
    "def execute(circuit):\n",
    "    \"\"\"Returns the mirror circuit expectation value for unsigned integer overall bit string.\"\"\"\n",
    "\n",
    "    qsim = QrackSimulator(circ.width(), isSchmidtDecompose=False)\n",
    "    qsim.run_qiskit_circuit(circ, 0)\n",
    "\n",
    "    qubits = list(range(width))\n",
    "\n",
    "    # This is the average integer bit string produced, as a fraction of maximum:\n",
    "    p = sum(qsim.measure_shots(qubits, shots)) / (shots * (1 << circ.width()))\n",
    "\n",
    "    # So as not to exceed floor at 0.0 and ceiling at 1.0, (assuming 0 < p < 1,)\n",
    "    # we mitigate its logit function value (https://en.wikipedia.org/wiki/Logit)\n",
    "    return logit(p)"
   ]
  },
  {
   "cell_type": "code",
   "execution_count": 5,
   "id": "5925d72b-2848-467b-a70e-289f6ca02905",
   "metadata": {},
   "outputs": [
    {
     "name": "stdout",
     "output_type": "stream",
     "text": [
      "Raw gate count:  7825\n"
     ]
    }
   ],
   "source": [
    "circ = random_circuit(width, depth)\n",
    "print(\"Raw gate count: \", sum(dict(circ.count_ops()).values()))\n",
    "\n",
    "# basis_gates=[\"rz\", \"x\", \"y\", \"z\", \"sx\", \"sy\", \"s\", \"sdg\", \"cx\", \"cy\", \"cz\", \"swap\"]\n",
    "# circ = transpile(circ, basis_gates=basis_gates, optimization_level=3)\n",
    "# print(\"Optimized gate count: \", sum(dict(circ.count_ops()).values()))"
   ]
  },
  {
   "cell_type": "code",
   "execution_count": 6,
   "id": "d4f1c7cb-6417-4f59-a69e-bacb03b833d3",
   "metadata": {},
   "outputs": [
    {
     "name": "stdout",
     "output_type": "stream",
     "text": [
      "Device #0, Loaded binary from: /home/iamu/.qrack/qrack_ocl_dev_NVIDIA_GeForce_RTX_3080_Laptop_GPU.ir\n",
      "Raw value:  2878544491.6650386\n",
      "CPU times: user 1.58 s, sys: 2.67 s, total: 4.25 s\n",
      "Wall time: 4.33 s\n"
     ]
    }
   ],
   "source": [
    "%%time\n",
    "\n",
    "qsim = QrackSimulator(width)\n",
    "raw_value = expit(execute(circ)) * (1 << width)\n",
    "\n",
    "print(\"Raw value: \", raw_value)"
   ]
  },
  {
   "cell_type": "code",
   "execution_count": 7,
   "id": "b0504807-3e1b-4e43-ba10-9f6ac4e14026",
   "metadata": {},
   "outputs": [
    {
     "name": "stdout",
     "output_type": "stream",
     "text": [
      "Raw value:  2878544491.6650386\n",
      "Value with ZNE:  3525523741.1571164\n",
      "Width/depth/magic:  36 / 36 / 36\n",
      "CPU times: user 29.4 s, sys: 13.6 s, total: 43 s\n",
      "Wall time: 43.3 s\n"
     ]
    }
   ],
   "source": [
    "%%time\n",
    "\n",
    "scale_count = 5\n",
    "max_scale = 5\n",
    "factory = RichardsonFactory(scale_factors=[(1 + (max_scale - 1) * x / scale_count) for x in range(0, scale_count)])\n",
    "mitigated_value = expit(zne.execute_with_zne(circ, execute, factory = factory, scale_noise = fold_global)) * (1 << width)\n",
    "\n",
    "print(\"Raw value: \", raw_value)\n",
    "print(\"Value with ZNE: \", mitigated_value)\n",
    "print(\"Width/depth/magic: \", width, \"/\", depth, \"/\", depth)"
   ]
  }
 ],
 "metadata": {
  "kernelspec": {
   "display_name": "Python 3 (ipykernel)",
   "language": "python",
   "name": "python3"
  },
  "language_info": {
   "codemirror_mode": {
    "name": "ipython",
    "version": 3
   },
   "file_extension": ".py",
   "mimetype": "text/x-python",
   "name": "python",
   "nbconvert_exporter": "python",
   "pygments_lexer": "ipython3",
   "version": "3.10.12"
  }
 },
 "nbformat": 4,
 "nbformat_minor": 5
}
