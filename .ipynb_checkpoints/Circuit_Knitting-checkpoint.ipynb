{
 "cells": [
  {
   "cell_type": "markdown",
   "id": "5f57c8a3",
   "metadata": {},
   "source": [
    "# Circuit Knitting"
   ]
  },
  {
   "cell_type": "markdown",
   "id": "48d34546-e54a-442f-85c5-e9a28d7c38d1",
   "metadata": {},
   "source": [
    "## Getting Started"
   ]
  },
  {
   "cell_type": "markdown",
   "id": "7b171b3b-012c-4dad-870a-e8be44c24128",
   "metadata": {},
   "source": [
    "You need [`pyqrack`](https://pypi.org/project/pyqrack/) to run this notebook."
   ]
  },
  {
   "cell_type": "code",
   "execution_count": 1,
   "id": "b921e879-46df-4382-a1c7-804b6f2d0854",
   "metadata": {},
   "outputs": [],
   "source": [
    "# For example, if your Jupyter installation uses pip:\n",
    "# import sys\n",
    "# !{sys.executable} -m pip install pyqrack"
   ]
  },
  {
   "cell_type": "markdown",
   "id": "1e55837c-018f-4cb2-a9cb-86f356d7a2d8",
   "metadata": {},
   "source": [
    "In the Python package itself, there should be an executable called `qrack_cl_precompile`. This \"pre-compiles\" the OpenCL \"just-in-time\" (\"JIT\") device program, for your system's accelerators. You might want to find and run this utility first, to avoid the need to \"recompile\" the OpenCL device program every time you first load Qrack into your environment."
   ]
  },
  {
   "cell_type": "markdown",
   "id": "f0b34caa-b73e-4059-a27b-ad3e828a623d",
   "metadata": {},
   "source": [
    "## Configuration"
   ]
  },
  {
   "cell_type": "code",
   "execution_count": 2,
   "id": "2d402c44-7e90-42ab-9b0d-b626e2294dcc",
   "metadata": {},
   "outputs": [],
   "source": [
    "# Qubit width\n",
    "width = 16"
   ]
  },
  {
   "cell_type": "code",
   "execution_count": 3,
   "id": "1f21a89b",
   "metadata": {},
   "outputs": [],
   "source": [
    "import math\n",
    "import os\n",
    "import random\n",
    "import time\n",
    "\n",
    "# For more specific details about all available Qrack environment variables,\n",
    "# See the C++ repository README: https://github.com/unitaryfund/qrack\n",
    "\n",
    "# \"NVIDIA GPU + Intel accelerator\" settings are shown for purposes of\n",
    "# explaining how heterogenous environments could be managed for Qrack,\n",
    "# but you will likely see performance degradation compared to just NVIDIA,\n",
    "# if you are using an Intel HD, (only for a common example).\n",
    "\n",
    "# \"Device ID\" is the sequential index number output for each accelerator,\n",
    "# in the \"banner\" whenever Qrack is loaded with GPU build options.\n",
    "# This is the \"device ID\" for your primary or main (single) accelerator.\n",
    "os.environ['QRACK_OCL_DEFAULT_DEVICE']='0'\n",
    "\n",
    "# (NVIDIA GPU + Intel accelerator:)\n",
    "# os.environ['QRACK_OCL_DEFAULT_DEVICE']='1'\n",
    "\n",
    "# If you have multiple accelerators, \"QUnitMulti\" will attempt to distribute\n",
    "# completely separable subsystems, when they arise, to multiple separate devices.\n",
    "# Use this variable to input a comma-separated list of devices for \"QUnitMulti.\"\n",
    "os.environ['QRACK_QUNITMULTI_DEVICES']='0'\n",
    "\n",
    "# (NVIDIA GPU + Intel accelerator:)\n",
    "# os.environ['QRACK_QUNITMULTI_DEVICES']='1,0'\n",
    "# os.environ['QRACK_QUNITMULTI_DEVICES']='1'\n",
    "\n",
    "# If you have multiple accelerators, \"QPager\" can distribute (entangled) simulations\n",
    "# across multiple equal-sized \"pages\" of state vector amplitudes.\n",
    "# Use this variable to input a comma-separated list of device-to-\"page\" mappings.\n",
    "os.environ['QRACK_QPAGER_DEVICES']='0'\n",
    "\n",
    "# (NVIDIA GPU + Intel accelerator:)\n",
    "# os.environ['QRACK_QPAGER_DEVICES']='4.1,12.0'\n",
    "# os.environ['QRACK_QPAGER_DEVICES']='1'\n",
    "\n",
    "# Some accelerators, like Intel integrated graphics, actually use general system RAM.\n",
    "# In this case, OpenCL can be told to allocate on general \"host\" instead of \"device\" RAM.\n",
    "# For each entry above in 'QRACK_QPAGER_DEVICES', below, \"1\" means \"host,\" \"0\" means \"device.\"\n",
    "os.environ['QRACK_QPAGER_DEVICES_HOST_POINTER']='0'\n",
    "\n",
    "# (NVIDIA GPU + Intel accelerator:)\n",
    "# os.environ['QRACK_QPAGER_DEVICES']='4.0,12.1'\n",
    "\n",
    "# This is the maximum qubit count you want to fit in a GPU \"maximum allocation segment.\"\n",
    "# (Your GPU probably has 4 such segments. You might want this 1 less than theoretical max,\n",
    "# so that \"memory fragmentation\" doesn't prevent using more than 1 segment in total.)\n",
    "os.environ['QRACK_MAX_PAGE_QB']='26'\n",
    "\n",
    "# This is an overall allocation limit for your GPU(s), in megabytes.\n",
    "# If you have multiple GPUs, you can list separate limits in device ID order,\n",
    "# separated by a comma.\n",
    "os.environ['QRACK_MAX_ALLOC_MB']='7900'\n",
    "\n",
    "# (NVIDIA GPU + Intel accelerator:)\n",
    "# os.environ['QRACK_MAX_ALLOC_MB']='23552,15872'\n",
    "\n",
    "# This is the maximum total number of fully-entangled qubits you expect to achieve using QPager.\n",
    "os.environ['QRACK_MAX_PAGING_QB']='29'\n",
    "\n",
    "# This is the maximum total number of fully-entangled qubits you expect to fit in general RAM.\n",
    "os.environ['QRACK_MAX_CPU_QB']='31'\n",
    "\n",
    "# Above this threshold, \"QTensorNetwork\" restricts simulations to \"past light cone.\"\n",
    "# At or below the threshold, much more work can be reused.\n",
    "os.environ['QRACK_QTENSORNETWORK_THRESHOLD_QB']='29'\n",
    "\n",
    "# These below are approximation options. (By default, Qrack simulates in the \"ideal.\")\n",
    "\n",
    "# This is a number between \"0\" (\"ideal\") and \"1\" (\"destroy all entanglement\") for \"SDRP,\"\n",
    "# \"Schmidt decomposition rounding parameter\". (https://arxiv.org/abs/2304.14969)\n",
    "# os.environ['QRACK_QUNIT_SEPARABILITY_THRESHOLD']='0.2'\n",
    "\n",
    "# This is a number between \"0\" (\"ideal\") and \"1\" (\"combine all binary decision tree branches\")\n",
    "# that sets the allowable \"epsilon\" between \"QBdt\" branches to consider them equal.\n",
    "# os.environ['QRACK_QBDT_SEPARABILITY_THRESHOLD']='0.0001'"
   ]
  },
  {
   "cell_type": "markdown",
   "id": "fb4ef620",
   "metadata": {},
   "source": [
    "## Run the Benchmark"
   ]
  },
  {
   "cell_type": "code",
   "execution_count": 4,
   "id": "9e742f47",
   "metadata": {},
   "outputs": [
    {
     "name": "stderr",
     "output_type": "stream",
     "text": [
      "2023-12-03 10:02:52.025220: I tensorflow/tsl/cuda/cudart_stub.cc:28] Could not find cuda drivers on your machine, GPU will not be used.\n",
      "2023-12-03 10:02:52.054172: I tensorflow/tsl/cuda/cudart_stub.cc:28] Could not find cuda drivers on your machine, GPU will not be used.\n",
      "2023-12-03 10:02:52.054603: I tensorflow/core/platform/cpu_feature_guard.cc:182] This TensorFlow binary is optimized to use available CPU instructions in performance-critical operations.\n",
      "To enable the following instructions: AVX2 FMA, in other operations, rebuild TensorFlow with the appropriate compiler flags.\n",
      "2023-12-03 10:02:52.595900: W tensorflow/compiler/tf2tensorrt/utils/py_utils.cc:38] TF-TRT Warning: Could not find TensorRT\n"
     ]
    }
   ],
   "source": [
    "import numpy as np\n",
    "from qiskit import QuantumCircuit\n",
    "from qiskit import execute, Aer\n",
    "from qiskit.providers.qrack import QasmSimulator, Sampler\n",
    "from qiskit.quantum_info import PauliList\n",
    "from circuit_knitting.cutting import partition_problem\n",
    "from circuit_knitting.cutting import generate_cutting_experiments\n",
    "from circuit_knitting.cutting import reconstruct_expectation_values\n",
    "\n",
    "from qiskit.circuit.library import EfficientSU2\n",
    "\n",
    "width = 4\n",
    "subset_a = width >> 1\n",
    "subset_b = width - (width >> 1)\n",
    "\n",
    "circ = EfficientSU2(width, entanglement=\"linear\", reps=2).decompose()\n",
    "circ.assign_parameters([0.4] * len(circ.parameters), inplace=True)\n",
    "\n",
    "circ.draw()\n",
    "\n",
    "observables = PauliList([\"Z\" * width])\n",
    "partitioned_problem = partition_problem(\n",
    "    circuit=circ, partition_labels=((\"A\" * subset_a) + (\"B\" * subset_b)), observables=observables\n",
    ")\n",
    "subcircuits = partitioned_problem.subcircuits\n",
    "subobservables = partitioned_problem.subobservables\n",
    "bases = partitioned_problem.bases\n",
    "subexperiments, coefficients = generate_cutting_experiments(\n",
    "    circuits=subcircuits, observables=subobservables, num_samples=np.inf\n",
    ")"
   ]
  },
  {
   "cell_type": "code",
   "execution_count": 5,
   "id": "d68d5929-824d-4dbf-82cc-dfd66514dc15",
   "metadata": {},
   "outputs": [
    {
     "name": "stdout",
     "output_type": "stream",
     "text": [
      "Device #0, Loaded binary from: /home/iamu/.qrack/qrack_ocl_dev_NVIDIA_GeForce_RTX_2070_Super.ir\n",
      "Reconstructed expectation values: [0.41007423]\n"
     ]
    }
   ],
   "source": [
    "# Set up a Qiskit Aer Sampler primitive for each circuit partition\n",
    "samplers = {\n",
    "    label: Sampler(run_options={\"shots\": 2**12}) for label in subexperiments.keys()\n",
    "}\n",
    "\n",
    "# Retrieve results from each partition's subexperiments\n",
    "results = {\n",
    "    label: sampler.run(subexperiments[label]).result()\n",
    "    for label, sampler in samplers.items()\n",
    "}\n",
    "\n",
    "reconstructed_expvals = reconstruct_expectation_values(\n",
    "    results,\n",
    "    coefficients,\n",
    "    subobservables,\n",
    ")\n",
    "\n",
    "print(f\"Reconstructed expectation values: {[np.round(reconstructed_expvals[i], 8) for i in range(len(reconstructed_expvals))]}\")"
   ]
  }
 ],
 "metadata": {
  "kernelspec": {
   "display_name": "Python 3 (ipykernel)",
   "language": "python",
   "name": "python3"
  },
  "language_info": {
   "codemirror_mode": {
    "name": "ipython",
    "version": 3
   },
   "file_extension": ".py",
   "mimetype": "text/x-python",
   "name": "python",
   "nbconvert_exporter": "python",
   "pygments_lexer": "ipython3",
   "version": "3.8.10"
  }
 },
 "nbformat": 4,
 "nbformat_minor": 5
}
