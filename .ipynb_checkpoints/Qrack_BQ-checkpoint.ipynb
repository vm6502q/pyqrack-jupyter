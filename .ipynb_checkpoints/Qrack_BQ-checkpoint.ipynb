{
 "cells": [
  {
   "cell_type": "markdown",
   "id": "composed-midwest",
   "metadata": {},
   "source": [
    "# BlueQubit"
   ]
  },
  {
   "cell_type": "code",
   "execution_count": 1,
   "id": "e342bcef",
   "metadata": {},
   "outputs": [],
   "source": [
    "# How wide of an example circuit should we generate? (In qubits)\n",
    "width = 6"
   ]
  },
  {
   "cell_type": "code",
   "execution_count": 2,
   "id": "cubic-thousand",
   "metadata": {},
   "outputs": [],
   "source": [
    "import random\n",
    "# import sys\n",
    "import time\n",
    "\n",
    "# For example, if your Jupyter installation uses pip:\n",
    "# sys.executable} -m pip install pyqrack\n",
    "\n",
    "# import os\n",
    "\n",
    "# If simulating with Qrack, change these according to your OpenCL devices and system specifications.\n",
    "# (To use just `QrackCircuit`, we don't need to consider these.)\n",
    "# os.environ['QRACK_OCL_DEFAULT_DEVICE']='0'\n",
    "# os.environ['QRACK_QUNITMULTI_DEVICES']='0'\n",
    "# os.environ['QRACK_QPAGER_DEVICES']='0'\n",
    "# os.environ['QRACK_QPAGER_DEVICES_HOST_POINTER']='0'\n",
    "# os.environ['QRACK_MAX_PAGE_QB']='27'\n",
    "# os.environ['QRACK_MAX_ALLOC_MB']='15872'.\n",
    "# os.environ['QRACK_MAX_PAGING_QB']='30'\n",
    "# os.environ['QRACK_MAX_CPU_QB']='32'\n",
    "# os.environ['QRACK_QTENSORNETWORK_THRESHOLD_QB']='30'"
   ]
  },
  {
   "cell_type": "markdown",
   "id": "71d78dd5-5e4b-4a40-973f-0700820fc616",
   "metadata": {},
   "source": [
    "All this next cell does is provide a function for generating random circuits, for our example that follows."
   ]
  },
  {
   "cell_type": "code",
   "execution_count": 3,
   "id": "statutory-lewis",
   "metadata": {},
   "outputs": [],
   "source": [
    "def random_circuit(width, sim):\n",
    "    single_bit_gates = sim.h, sim.x, sim.y, sim.z, sim.s, sim.t \n",
    "    two_bit_gates = sim.cx, sim.cz\n",
    "    all_bits = list(range(0, width))\n",
    "    \n",
    "    for i in range(width):\n",
    "        # Single bit gates\n",
    "        for j in range(width):\n",
    "            gate = random.choice(single_bit_gates)\n",
    "            gate(j)\n",
    "            \n",
    "        # Fully-connected couplers:\n",
    "        ###########################\n",
    "        unused_bits = random.sample(all_bits, width)\n",
    "        while len(unused_bits) > 1:\n",
    "            b1 = unused_bits.pop()\n",
    "            b2 = unused_bits.pop()\n",
    "            gate = random.choice(two_bit_gates)\n",
    "            gate(b1, b2)\n",
    "\n",
    "    sim.measure_all()"
   ]
  },
  {
   "cell_type": "code",
   "execution_count": 4,
   "id": "e57e248b",
   "metadata": {
    "scrolled": true
   },
   "outputs": [
    {
     "name": "stderr",
     "output_type": "stream",
     "text": [
      "BQ-PYTHON-SDK - WARNING - Development version 0.5.0b1 of BlueQubit Python SDK is being used\n",
      "BQ-PYTHON-SDK - INFO - Submitted: Job ID: lFjuWNAzhdv6c9bK, device: cpu, run status: COMPLETED, created on: 2023-09-28 00:36:39 UTC, cost: $0.00, run time: 5 ms, queue time: 22 ms, num qubits: 6\n"
     ]
    },
    {
     "name": "stdout",
     "output_type": "stream",
     "text": [
      "{'010000': 1.7484421009998765e-17, '010001': 1.7484421009998765e-17, '010010': 0.0625, '010011': 0.0625, '010100': 1.5511874836106837e-17, '010101': 1.5511874836106837e-17, '010110': 0.0625, '010111': 0.0625, '011000': 0.0625, '011001': 0.0625, '011010': 1.134784990726158e-18, '011011': 1.134784990726158e-18, '011100': 0.0625, '011101': 0.0625, '011110': 9.305229748162682e-19, '011111': 9.305229748162682e-19, '110000': 0.0625, '110001': 0.0625, '110010': 1.7484421009998765e-17, '110011': 1.7484421009998765e-17, '110100': 0.0625, '110101': 0.0625, '110110': 1.5511874836106837e-17, '110111': 1.5511874836106837e-17, '111000': 1.134784990726158e-18, '111001': 1.134784990726158e-18, '111010': 0.0625, '111011': 0.0625, '111100': 9.305229748162682e-19, '111101': 9.305229748162682e-19, '111110': 0.0625, '111111': 0.0625}\n",
      "Time:  1.9102855829987675\n"
     ]
    }
   ],
   "source": [
    "import bluequbit\n",
    "from qiskit import QuantumCircuit\n",
    "\n",
    "qcirc = QuantumCircuit(width)\n",
    "random_circuit(width, qcirc)\n",
    "start = time.perf_counter()\n",
    "bq = bluequbit.init(\"YOUR_TOKEN_HERE\")\n",
    "result = bq.run(qcirc, device='cpu')\n",
    "print(result.get_counts())\n",
    "end = time.perf_counter()\n",
    "print(\"Time: \", end - start)"
   ]
  },
  {
   "cell_type": "markdown",
   "id": "1f209c8a-ed97-49aa-9701-515963507a4d",
   "metadata": {},
   "source": [
    "**(Happy Qracking! You rock!)**"
   ]
  }
 ],
 "metadata": {
  "kernelspec": {
   "display_name": "Python 3 (ipykernel)",
   "language": "python",
   "name": "python3"
  },
  "language_info": {
   "codemirror_mode": {
    "name": "ipython",
    "version": 3
   },
   "file_extension": ".py",
   "mimetype": "text/x-python",
   "name": "python",
   "nbconvert_exporter": "python",
   "pygments_lexer": "ipython3",
   "version": "3.10.12"
  }
 },
 "nbformat": 4,
 "nbformat_minor": 5
}
