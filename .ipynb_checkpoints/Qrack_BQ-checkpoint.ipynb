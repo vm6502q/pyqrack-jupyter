{
 "cells": [
  {
   "cell_type": "markdown",
   "id": "composed-midwest",
   "metadata": {},
   "source": [
    "#QrackCircuit and Bluequbit"
   ]
  },
  {
   "cell_type": "code",
   "execution_count": null,
   "id": "008eddf0-3e00-4c05-8f87-485827e716b7",
   "metadata": {},
   "outputs": [],
   "source": [
    "import random\n",
    "import time\n",
    "\n",
    "# How wide of an example circuit should we generate? (In qubits)\n",
    "width = 32"
   ]
  },
  {
   "cell_type": "markdown",
   "id": "71d78dd5-5e4b-4a40-973f-0700820fc616",
   "metadata": {},
   "source": [
    "All this next cell does is provide a function for generating random circuits, for our example that follows."
   ]
  },
  {
   "cell_type": "code",
   "execution_count": 2,
   "id": "statutory-lewis",
   "metadata": {},
   "outputs": [],
   "source": [
    "def random_circuit(width, sim):\n",
    "    single_bit_gates = sim.h, sim.x, sim.y, sim.z, sim.s, sim.t \n",
    "    two_bit_gates = sim.cx, sim.cz\n",
    "    all_bits = list(range(0, width))\n",
    "    gate_count = 0\n",
    "    \n",
    "    for i in range(width):\n",
    "        # Single bit gates\n",
    "        for j in range(width):\n",
    "            gate = random.choice(single_bit_gates)\n",
    "            gate(j)\n",
    "            \n",
    "        # Fully-connected couplers:\n",
    "        ###########################\n",
    "        unused_bits = random.sample(all_bits, width)\n",
    "        while len(unused_bits) > 1:\n",
    "            b1 = unused_bits.pop()\n",
    "            b2 = unused_bits.pop()\n",
    "            gate = random.choice(two_bit_gates)\n",
    "            gate(b1, b2)"
   ]
  },
  {
   "cell_type": "markdown",
   "id": "6b7b5497-1cdd-49e0-9dbe-23a282b6f592",
   "metadata": {},
   "source": [
    "The circuit starts in Qiskit representation. This is converted to a `QrackCircuit`, and the gates are \"locally simplified\" in the conversion process. The `QrackCircuit` is then converted back an (optimized) Qiskit representation, which can be directly run by `bluequbit`."
   ]
  },
  {
   "cell_type": "code",
   "execution_count": 3,
   "id": "84f4a48a-7591-488d-8a15-738a0a7d7810",
   "metadata": {},
   "outputs": [
    {
     "name": "stdout",
     "output_type": "stream",
     "text": [
      "Gate count before optimization:  54\n",
      "Gate count after optimization:  40\n"
     ]
    }
   ],
   "source": [
    "from pyqrack import QrackCircuit\n",
    "from qiskit import QuantumCircuit\n",
    "from qiskit.compiler.transpiler import transpile\n",
    "\n",
    "qcirc = QuantumCircuit(width)\n",
    "random_circuit(width, qcirc)\n",
    "print(\"Gate count before optimization: \", sum(qcirc.count_ops().values()))\n",
    "\n",
    "qcirc = QrackCircuit.in_from_qiskit_circuit(qcirc)\n",
    "qcirc.out_to_file(\"bq_circuit.qc\")\n",
    "qcirc = QrackCircuit.file_to_qiskit_circuit(\"bq_circuit.qc\")\n",
    "basis_gates = [\"u\", \"cx\", \"rz\"]\n",
    "qcirc = transpile(qcirc, basis_gates=basis_gates, optimization_level=3)\n",
    "\n",
    "print(\"Gate count after optimization: \", sum(qcirc.count_ops().values()))\n",
    "\n",
    "qcirc.measure_all()"
   ]
  },
  {
   "cell_type": "code",
   "execution_count": 4,
   "id": "e57e248b",
   "metadata": {
    "scrolled": true
   },
   "outputs": [
    {
     "name": "stderr",
     "output_type": "stream",
     "text": [
      "BQ-PYTHON-SDK - WARNING - Development version 0.5.0b1 of BlueQubit Python SDK is being used\n",
      "BQ-PYTHON-SDK - INFO - Submitted: Job ID: HW9QNAOVgYZ3ii1y, device: cpu, run status: COMPLETED, created on: 2023-09-29 13:20:52 UTC, cost: $0.00, run time: 10 ms, queue time: 27 ms, num qubits: 6\n"
     ]
    },
    {
     "name": "stdout",
     "output_type": "stream",
     "text": [
      "{'100000': 61, '100001': 63, '100010': 72, '100011': 52, '100100': 60, '100101': 71, '100110': 64, '100111': 53, '101000': 65, '101001': 56, '101010': 69, '101011': 65, '101100': 67, '101101': 69, '101110': 74, '101111': 63}\n",
      "1024\n",
      "Time:  1.8330010110003059\n"
     ]
    }
   ],
   "source": [
    "import bluequbit\n",
    "\n",
    "start = time.perf_counter()\n",
    "bq = bluequbit.init(\"YSjyeDGynQtDTfwSu1BHfyygQCkcmPJB\")\n",
    "result = bq.run(qcirc, device='cpu', shots=1024)\n",
    "print(result.get_counts())\n",
    "shots = 0\n",
    "for key, value, in result.get_counts().items():\n",
    "    shots += value\n",
    "print(shots)\n",
    "end = time.perf_counter()\n",
    "print(\"Time: \", end - start)"
   ]
  },
  {
   "cell_type": "markdown",
   "id": "1f209c8a-ed97-49aa-9701-515963507a4d",
   "metadata": {},
   "source": [
    "**(Happy Qracking! You rock!)**"
   ]
  }
 ],
 "metadata": {
  "kernelspec": {
   "display_name": "Python 3 (ipykernel)",
   "language": "python",
   "name": "python3"
  },
  "language_info": {
   "codemirror_mode": {
    "name": "ipython",
    "version": 3
   },
   "file_extension": ".py",
   "mimetype": "text/x-python",
   "name": "python",
   "nbconvert_exporter": "python",
   "pygments_lexer": "ipython3",
   "version": "3.10.12"
  }
 },
 "nbformat": 4,
 "nbformat_minor": 5
}
