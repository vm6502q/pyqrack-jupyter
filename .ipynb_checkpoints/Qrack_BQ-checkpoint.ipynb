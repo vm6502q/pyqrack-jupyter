{
 "cells": [
  {
   "cell_type": "markdown",
   "id": "composed-midwest",
   "metadata": {},
   "source": [
    "# Bluequbit"
   ]
  },
  {
   "cell_type": "code",
   "execution_count": 1,
   "id": "cubic-thousand",
   "metadata": {},
   "outputs": [],
   "source": [
    "import random\n",
    "import time\n",
    "\n",
    "# How wide of an example circuit should we generate? (In qubits)\n",
    "width = 6"
   ]
  },
  {
   "cell_type": "markdown",
   "id": "71d78dd5-5e4b-4a40-973f-0700820fc616",
   "metadata": {},
   "source": [
    "All this next cell does is provide a function for generating random circuits, for our example that follows."
   ]
  },
  {
   "cell_type": "code",
   "execution_count": 2,
   "id": "statutory-lewis",
   "metadata": {},
   "outputs": [],
   "source": [
    "def random_circuit(width, sim):\n",
    "    single_bit_gates = sim.h, sim.x, sim.y, sim.z, sim.s, sim.t \n",
    "    two_bit_gates = sim.cx, sim.cz\n",
    "    all_bits = list(range(0, width))\n",
    "    \n",
    "    for i in range(width):\n",
    "        # Single bit gates\n",
    "        for j in range(width):\n",
    "            gate = random.choice(single_bit_gates)\n",
    "            gate(j)\n",
    "            \n",
    "        # Fully-connected couplers:\n",
    "        ###########################\n",
    "        unused_bits = random.sample(all_bits, width)\n",
    "        while len(unused_bits) > 1:\n",
    "            b1 = unused_bits.pop()\n",
    "            b2 = unused_bits.pop()\n",
    "            gate = random.choice(two_bit_gates)\n",
    "            gate(b1, b2)\n",
    "\n",
    "    sim.measure_all()"
   ]
  },
  {
   "cell_type": "code",
   "execution_count": 3,
   "id": "e57e248b",
   "metadata": {
    "scrolled": true
   },
   "outputs": [
    {
     "name": "stderr",
     "output_type": "stream",
     "text": [
      "BQ-PYTHON-SDK - WARNING - Development version 0.5.0b1 of BlueQubit Python SDK is being used\n",
      "BQ-PYTHON-SDK - INFO - Submitted: Job ID: aqnNm3V2AJE09OKd, device: cpu, run status: COMPLETED, created on: 2023-09-28 00:56:11 UTC, cost: $0.00, run time: 5 ms, queue time: 22 ms, num qubits: 6\n"
     ]
    },
    {
     "name": "stdout",
     "output_type": "stream",
     "text": [
      "{'000100': 9.524219611481502e-18, '000110': 0.0366116501390934, '001100': 9.524219611481502e-18, '001110': 0.0366116501390934, '010100': 9.524217957120277e-18, '010110': 0.2133883535861969, '011100': 9.524217957120277e-18, '011110': 0.2133883535861969, '100101': 9.524219611481502e-18, '100111': 0.0366116538643837, '101101': 9.524219611481502e-18, '101111': 0.0366116538643837, '110101': 9.524219611481502e-18, '110111': 0.2133883535861969, '111101': 9.524219611481502e-18, '111111': 0.2133883535861969}\n",
      "Time:  2.248305637993326\n"
     ]
    }
   ],
   "source": [
    "import bluequbit\n",
    "from qiskit import QuantumCircuit\n",
    "\n",
    "qcirc = QuantumCircuit(width)\n",
    "random_circuit(width, qcirc)\n",
    "start = time.perf_counter()\n",
    "bq = bluequbit.init(\"YOUR_TOKEN_HERE\")\n",
    "result = bq.run(qcirc, device='cpu')\n",
    "print(result.get_counts())\n",
    "end = time.perf_counter()\n",
    "print(\"Time: \", end - start)"
   ]
  },
  {
   "cell_type": "markdown",
   "id": "1f209c8a-ed97-49aa-9701-515963507a4d",
   "metadata": {},
   "source": [
    "**(Happy Qracking! You rock!)**"
   ]
  }
 ],
 "metadata": {
  "kernelspec": {
   "display_name": "Python 3 (ipykernel)",
   "language": "python",
   "name": "python3"
  },
  "language_info": {
   "codemirror_mode": {
    "name": "ipython",
    "version": 3
   },
   "file_extension": ".py",
   "mimetype": "text/x-python",
   "name": "python",
   "nbconvert_exporter": "python",
   "pygments_lexer": "ipython3",
   "version": "3.10.12"
  }
 },
 "nbformat": 4,
 "nbformat_minor": 5
}
