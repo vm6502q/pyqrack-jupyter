{
 "cells": [
  {
   "cell_type": "markdown",
   "id": "composed-midwest",
   "metadata": {},
   "source": [
    "# Compiling RCS to Clifford+RZ (With Qrack)"
   ]
  },
  {
   "cell_type": "markdown",
   "id": "social-scott",
   "metadata": {},
   "source": [
    "You need the `pyqrack` package to run this notebook. [`vm6502q/pyqrack`](https://github.com/vm6502q/pyqrack) is a pure Python wrapper on the [`vm6502q/qrack`](https://github.com/vm6502q/qrack) quantum computer simulation framework core library. The preferred method of installation is from source code, at those GitHub repositories, but a package with default build precompiled binaries is available on [pypi](https://pypi.org/project/pyqrack/0.2.0/)."
   ]
  },
  {
   "cell_type": "code",
   "execution_count": 1,
   "id": "e342bcef",
   "metadata": {},
   "outputs": [],
   "source": [
    "width = 36\n",
    "max_magic = 8\n",
    "shots = 1024"
   ]
  },
  {
   "cell_type": "code",
   "execution_count": 2,
   "id": "cubic-thousand",
   "metadata": {},
   "outputs": [],
   "source": [
    "# For example, if your Jupyter installation uses pip:\n",
    "# import sys\n",
    "# !{sys.executable} -m pip install pyqrack\n",
    "\n",
    "import os\n",
    "import collections\n",
    "import math\n",
    "import random\n",
    "from pyqrack import QrackSimulator, Pauli\n",
    "\n",
    "# Change these according to your OpenCL devices and system specifications:\n",
    "# os.environ['QRACK_MAX_PAGE_QB']='27'\n",
    "# os.environ['QRACK_QUNITMULTI_DEVICES']='1'\n",
    "# os.environ['QRACK_QPAGER_DEVICES']='1'\n",
    "# os.environ['QRACK_MAX_ALLOC_MB']='147456,15872'\n",
    "# os.environ['QRACK_MAX_PAGING_QB']='30'\n",
    "# os.environ['QRACK_MAX_CPU_QB']='-1'"
   ]
  },
  {
   "cell_type": "markdown",
   "id": "embedded-athletics",
   "metadata": {},
   "source": [
    "[`QrackSimulator`](https://github.com/vm6502q/pyqrack/blob/main/pyqrack/qrack_simulator.py) is the \"workhorse\" of the `pyqrack` package. It instantiates simulated \"registers\" of qubits that we can act basic quantum gates between, to form arbitrary universal quantum circuits."
   ]
  },
  {
   "cell_type": "markdown",
   "id": "db71c6b9",
   "metadata": {},
   "source": [
    "`QrackCircuit` is an optional class for optimizing compilation. With it, one can define a circuit in advance, which is optimized upon definition. Then, one can save the optimized result to a file and later load it into a new or existing `QrackCircuit` instance. Ultimately, the circuit is executed by calling `run()` on a `QrackCircuit`, with a parameter of `QrackSimulator` of appropriate size. (The necessary width of the `QrackSimulator` can be determined with `QrackCircuit.get_qubit_count()`.)"
   ]
  },
  {
   "cell_type": "code",
   "execution_count": 3,
   "id": "statutory-lewis",
   "metadata": {},
   "outputs": [],
   "source": [
    "sqrt1_2 = 1 / math.sqrt(2)\n",
    "\n",
    "def x_to_y(q):\n",
    "    return lambda circ: circ.s(q)\n",
    "\n",
    "def x_to_z(q):\n",
    "    return lambda circ: circ.h(q)\n",
    "\n",
    "def _y_to_z(circ, q):\n",
    "    circ.s(q)\n",
    "    circ.h(q)\n",
    "\n",
    "def y_to_z(q):\n",
    "    return lambda circ: _y_to_z(circ, q)    \n",
    "\n",
    "def y_to_x(q):\n",
    "    return lambda circ: circ.adjs(q)\n",
    "\n",
    "def z_to_x(q):\n",
    "    return lambda circ: circ.h(q)\n",
    "\n",
    "def _z_to_y(circ, q):\n",
    "    circ.h(q)\n",
    "    circ.s(q)\n",
    "\n",
    "def z_to_y(q):\n",
    "    return lambda circ: _z_to_y(circ, q)\n",
    "\n",
    "def cx(q1, q2):\n",
    "    return lambda circ: circ.mcx([q1], q2)\n",
    "\n",
    "def cy(q1, q2):\n",
    "    return lambda circ: circ.mcy([q1], q2)\n",
    "\n",
    "def cz(q1, q2):\n",
    "    return lambda circ: circ.mcz([q1], q2)\n",
    "\n",
    "def acx(q1, q2):\n",
    "    return lambda circ: circ.macx([q1], q2)\n",
    "\n",
    "def acy(q1, q2):\n",
    "    return lambda circ: circ.macy([q1], q2)\n",
    "\n",
    "def acz(q1, q2):\n",
    "    return lambda circ: circ.macz([q1], q2)\n",
    "\n",
    "def swap(q1, q2):\n",
    "    return lambda circ: circ.swap(q1, q2)\n",
    "\n",
    "def _nswap(circ, q1, q2):\n",
    "    circ.macz([q1], q2)\n",
    "    circ.swap(q1, q2)\n",
    "    circ.macz([q1], q2)\n",
    "\n",
    "def nswap(q1, q2):\n",
    "    return lambda circ: _nswap(circ, q1, q2)\n",
    "\n",
    "def _pswap(circ, q1, q2):\n",
    "    circ.macz([q1], q2)\n",
    "    circ.swap(q1, q2)\n",
    "\n",
    "def pswap(q1, q2):\n",
    "    return lambda circ: _pswap(circ, q1, q2)    \n",
    "\n",
    "def _mswap(circ, q1, q2):\n",
    "    circ.swap(q1, q2)\n",
    "    circ.macz([q1], q2)\n",
    "\n",
    "def mswap(q1, q2):\n",
    "    return lambda circ: _mswap(circ, q1, q2)    \n",
    "\n",
    "def iswap(q1, q2):\n",
    "    return lambda circ: circ.iswap(q1, q2)\n",
    "\n",
    "def iiswap(q1, q2):\n",
    "    return lambda circ: circ.adjiswap(q1, q2)\n",
    "\n",
    "def random_circuit(width):\n",
    "    t_count = 0\n",
    "    \n",
    "    single_bit_gates = { 0: (z_to_x, z_to_y), 1: (x_to_y, x_to_z), 2: (y_to_z, y_to_x) }\n",
    "    single_bit_mirrors = { 0: (x_to_z, y_to_z), 1: (y_to_x, z_to_x), 2: (z_to_y, x_to_y) } \n",
    "    two_bit_gates = swap, pswap, mswap, nswap, iswap, iiswap, cx, cy, cz, acx, acy, acz\n",
    "    two_bit_mirrors = swap, mswap, pswap, nswap, iiswap, iswap, cx, cy, cz, acx, acy, acz\n",
    "    \n",
    "    # Nearest-neighbor couplers:\n",
    "    gateSequence = [ 0, 3, 2, 1, 2, 1, 0, 3 ]\n",
    "    row_len = math.ceil(math.sqrt(width))\n",
    "\n",
    "    # Don't repeat bases:\n",
    "    bases = [0] * width\n",
    "    directions = [0] * width\n",
    "\n",
    "    circuit = []\n",
    "    mirror = []\n",
    "    \n",
    "    for i in range(3 * width):\n",
    "        # Single bit gates\n",
    "        single_qubit_layer = []\n",
    "        single_qubit_mirror = []\n",
    "        for j in range(width):\n",
    "            # Reset basis, every third layer\n",
    "            if i % 3 == 0:\n",
    "                bases[j] = random.randint(0, 2)\n",
    "                directions[j] = random.randint(0, 1)\n",
    "            \n",
    "            # Sequential basis switch\n",
    "            gate = single_bit_gates[bases[j]][directions[j]]\n",
    "            single_qubit_layer.append(gate(j))\n",
    "            gate = single_bit_mirrors[bases[j]][directions[j]]\n",
    "            single_qubit_mirror.append(gate(j))\n",
    "\n",
    "            # Cycle through all 3 Pauli axes, every 3 layers\n",
    "            if directions[j]:\n",
    "                bases[j] -= 1\n",
    "                if bases[j] < 0:\n",
    "                    bases[j] += 3\n",
    "            else:\n",
    "                bases[j] += 1\n",
    "                if bases[j] > 2:\n",
    "                    bases[j] -= 3\n",
    "\n",
    "            # Rotate around local Z axis\n",
    "            rnd = random.randint(0, 3)\n",
    "            if rnd == 0:\n",
    "                single_qubit_layer.append(lambda circ: circ.s(j))\n",
    "                single_qubit_mirror.append(lambda circ: circ.adjs(j))\n",
    "            elif rnd == 1:\n",
    "                single_qubit_layer.append(lambda circ: circ.z(j))\n",
    "                single_qubit_mirror.append(lambda circ: circ.z(j))\n",
    "            elif rnd == 2:\n",
    "                single_qubit_layer.append(lambda circ: circ.adjs(j))\n",
    "                single_qubit_mirror.append(lambda circ: circ.s(j))\n",
    "            \n",
    "            if (t_count < max_magic) and (width * width * random.random() / max_magic) < 1:\n",
    "                angle = random.uniform(0, 2 * math.pi)\n",
    "                single_qubit_layer.append(lambda circ: circ.r(Pauli.PauliZ, angle, j))\n",
    "                single_qubit_mirror.append(lambda circ: circ.r(Pauli.PauliZ, -angle, j))\n",
    "                t_count += 1\n",
    "\n",
    "        circuit.append(single_qubit_layer)\n",
    "        mirror.append(single_qubit_mirror)\n",
    "\n",
    "        two_qubit_layer = []\n",
    "        two_qubit_mirror = []\n",
    "\n",
    "        # Nearest-neighbor couplers:\n",
    "        ############################\n",
    "        gate = gateSequence.pop(0)\n",
    "        gateSequence.append(gate)\n",
    "        for row in range(1, row_len, 2):\n",
    "            for col in range(row_len):\n",
    "                temp_row = row\n",
    "                temp_col = col\n",
    "                temp_row = temp_row + (1 if (gate & 2) else -1);\n",
    "                temp_col = temp_col + (1 if (gate & 1) else 0)\n",
    "\n",
    "                if (temp_row < 0) or (temp_col < 0) or (temp_row >= row_len) or (temp_col >= row_len):\n",
    "                    continue\n",
    "\n",
    "                b1 = row * row_len + col\n",
    "                b2 = temp_row * row_len + temp_col\n",
    "\n",
    "                if (b1 >= width) or (b2 >= width):\n",
    "                    continue\n",
    "\n",
    "                rnd = random.randint(0, len(two_bit_gates) - 1)\n",
    "                g = two_bit_gates[rnd]\n",
    "                two_qubit_layer.append(g(b1, b2))\n",
    "                g = two_bit_mirrors[rnd]\n",
    "                two_qubit_mirror.append(g(b1, b2))\n",
    "\n",
    "        circuit.append(two_qubit_layer)\n",
    "\n",
    "    mirror.reverse()\n",
    "    for i in range(len(mirror)):\n",
    "        mirror[i].reverse()\n",
    "    circuit = circuit + mirror\n",
    "    \n",
    "    return circuit"
   ]
  },
  {
   "cell_type": "code",
   "execution_count": 4,
   "id": "e57e248b",
   "metadata": {},
   "outputs": [
    {
     "name": "stdout",
     "output_type": "stream",
     "text": [
      "Device #0, Loaded binary from: /home/iamu/.qrack/qrack_ocl_dev_NVIDIA_GeForce_RTX_3080_Laptop_GPU.ir\n"
     ]
    },
    {
     "data": {
      "text/plain": [
       "0"
      ]
     },
     "execution_count": 4,
     "metadata": {},
     "output_type": "execute_result"
    }
   ],
   "source": [
    "circ = random_circuit(width)\n",
    "\n",
    "qsim = QrackSimulator()\n",
    "qsim.set_weak_sampling(True)\n",
    "\n",
    "for layer in circ:\n",
    "    for gate in layer:\n",
    "        gate(qsim)\n",
    "\n",
    "qsim.m_all()"
   ]
  },
  {
   "cell_type": "code",
   "execution_count": 5,
   "id": "ab200420-d7da-4977-89b1-021e707d4faf",
   "metadata": {},
   "outputs": [
    {
     "name": "stdout",
     "output_type": "stream",
     "text": [
      "Potentially noisy value:  0.0\n"
     ]
    }
   ],
   "source": [
    "qubits = list(range(width))\n",
    "\n",
    "def execute(circuit, qsim):\n",
    "    \"\"\"Returns the expectation value for unsigned integer overall bit string.\"\"\"\n",
    "\n",
    "    for layer in circ:\n",
    "        for gate in layer:\n",
    "            gate(qsim)\n",
    "\n",
    "    return sum(qsim.measure_shots(qubits, shots)) / shots\n",
    "\n",
    "noisy_value = execute(circ, qsim)\n",
    "print(\"Potentially noisy value: \", noisy_value)"
   ]
  },
  {
   "cell_type": "code",
   "execution_count": 6,
   "id": "b0504807-3e1b-4e43-ba10-9f6ac4e14026",
   "metadata": {},
   "outputs": [
    {
     "name": "stdout",
     "output_type": "stream",
     "text": [
      "No mitigation required. (Ideal value.)\n"
     ]
    }
   ],
   "source": [
    "if noisy_value > 1e-6:\n",
    "    print(\"Error with ZNE: \", zne.execute_with_zne(circuit, execute))\n",
    "else:\n",
    "    print(\"No mitigation required. (Ideal value.)\")"
   ]
  }
 ],
 "metadata": {
  "kernelspec": {
   "display_name": "Python 3 (ipykernel)",
   "language": "python",
   "name": "python3"
  },
  "language_info": {
   "codemirror_mode": {
    "name": "ipython",
    "version": 3
   },
   "file_extension": ".py",
   "mimetype": "text/x-python",
   "name": "python",
   "nbconvert_exporter": "python",
   "pygments_lexer": "ipython3",
   "version": "3.10.6"
  }
 },
 "nbformat": 4,
 "nbformat_minor": 5
}
