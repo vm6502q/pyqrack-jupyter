{
 "cells": [
  {
   "cell_type": "markdown",
   "id": "opened-school",
   "metadata": {},
   "source": [
    "# Grover's search algorithm"
   ]
  },
  {
   "cell_type": "markdown",
   "id": "cooked-referral",
   "metadata": {},
   "source": [
    "Grover's search algorithm gives an averge O(sqrt) order improvement over classical methods, to invert a black-box function. It is often said that Grover's search algorithm can be used to search an \"unstructured database,\" like a lookup table. However, this requires a way to read a lookup table into quantum form that the algorithm can operate on, which is not a given, in the noisy-intermediate-scale-quantum (\"NISQ\") era. At least, we can imagine a unitary way to do this, if any hardware associated with any unitary operation is attainable.\n",
    "\n",
    "We search a lookup table with Grover's algorithm. Our lookup table is 1 \"page\" of _classical data_. To read  the lookup table into quantum registers, we assume the availability of quantum \"indexed addressing\" variants of \"load,\" \"add-with-carry,\" and \"subtract-with-carry\" operations. An \"index register\" of qubits points to an offset into the classical value page, to load a value within the page into a \"value register.\" The qubit-based index register can represent an index in **superposition**, and we can load values in superposition of the index pointer offset. This hypothetical operation is at least unitary, and reversible. This might be hypothetically attainable with a superconducting classical RAM cache."
   ]
  },
  {
   "cell_type": "markdown",
   "id": "stable-spread",
   "metadata": {},
   "source": [
    "First, we define useful constants, representing the lengths of the index and value registers, the index of a carry bit for addition and subtraction, and the value we're looking for in the lookup table."
   ]
  },
  {
   "cell_type": "code",
   "execution_count": 1,
   "id": "controversial-parallel",
   "metadata": {},
   "outputs": [],
   "source": [
    "# Number of qubits in index register\n",
    "indexLength = 8\n",
    "# Number of qubits in value register\n",
    "valueLength = 8\n",
    "# Carry flag qubit index\n",
    "carryIndex = indexLength + valueLength\n",
    "# Value we're searching for\n",
    "TARGET_VALUE = 100"
   ]
  },
  {
   "cell_type": "markdown",
   "id": "raised-prospect",
   "metadata": {},
   "source": [
    "**We don't know the key associated with the target value.** This is what we're searching for. However, in this example, we initialize our lookup table with knowledge of this value. We can hand the initialized lookup table to a subroutine to perform Grover's search, afterward, with the point being that we don't need to tell the subroutine the value of this key."
   ]
  },
  {
   "cell_type": "code",
   "execution_count": 2,
   "id": "surgical-sound",
   "metadata": {},
   "outputs": [],
   "source": [
    "# (We don't \"know\" this, for purpose of the problem.)\n",
    "TARGET_KEY = 230"
   ]
  },
  {
   "cell_type": "markdown",
   "id": "hispanic-funds",
   "metadata": {},
   "source": [
    "We initialize a set of quantum registers that are large enough for the search algorithm."
   ]
  },
  {
   "cell_type": "code",
   "execution_count": 3,
   "id": "corporate-divorce",
   "metadata": {},
   "outputs": [
    {
     "name": "stdout",
     "output_type": "stream",
     "text": [
      "Device #0, Loaded binary from: /home/iamu/.qrack/qrack_ocl_dev_Intel(R)_Gen9_HD_Graphics_NEO.ir\n",
      "Device #1, Loaded binary from: /home/iamu/.qrack/qrack_ocl_dev_NVIDIA_GeForce_RTX_3080_Laptop_GPU.ir\n"
     ]
    }
   ],
   "source": [
    "from pyqrack import QrackSimulator\n",
    "sim = QrackSimulator(indexLength + valueLength + 1)"
   ]
  },
  {
   "cell_type": "markdown",
   "id": "boolean-appearance",
   "metadata": {},
   "source": [
    "We initialize the lookup table to search, but this might be handed pre-initialized to our Grover's algorithm subroutine, without knowledge of its contents."
   ]
  },
  {
   "cell_type": "code",
   "execution_count": 4,
   "id": "built-triumph",
   "metadata": {},
   "outputs": [],
   "source": [
    "toLoad = [1] * (1 << indexLength)\n",
    "toLoad[TARGET_KEY] = TARGET_VALUE"
   ]
  },
  {
   "cell_type": "markdown",
   "id": "subject-helmet",
   "metadata": {},
   "source": [
    "We define the qubit indices of index and value registers."
   ]
  },
  {
   "cell_type": "code",
   "execution_count": 5,
   "id": "proper-submission",
   "metadata": {},
   "outputs": [],
   "source": [
    "indexQubits = [i for i in range(indexLength)]\n",
    "valueQubits = [(v + indexLength) for v in range(valueLength)]"
   ]
  },
  {
   "cell_type": "markdown",
   "id": "soviet-manchester",
   "metadata": {},
   "source": [
    "We start the **index register** in **maximal superposition**, pointing with equal probability to every element in the lookup table page."
   ]
  },
  {
   "cell_type": "code",
   "execution_count": 6,
   "id": "sealed-leather",
   "metadata": {},
   "outputs": [],
   "source": [
    "for i in indexQubits:\n",
    "    sim.h(i)"
   ]
  },
  {
   "cell_type": "markdown",
   "id": "billion-preserve",
   "metadata": {},
   "source": [
    "This is the \"magic\" operation we don't necessarily have in NISQ hardware, yet: we load from a classical page of data with a superposed quantum offset index pointer register."
   ]
  },
  {
   "cell_type": "code",
   "execution_count": 7,
   "id": "efficient-louisville",
   "metadata": {},
   "outputs": [],
   "source": [
    "sim.lda(indexQubits, valueQubits, toLoad)"
   ]
  },
  {
   "cell_type": "markdown",
   "id": "olive-chuck",
   "metadata": {},
   "source": [
    "This is a closed form expression for the ideal number of iterations for Grover's search, if there is exactly one match to our search target in the lookup table. For a page of 256 values, (pointed to by the index register permutation capacity of 256,) this happens to be 12 iterations."
   ]
  },
  {
   "cell_type": "code",
   "execution_count": 8,
   "id": "handed-mambo",
   "metadata": {},
   "outputs": [],
   "source": [
    "import math\n",
    "optIter = math.floor(math.pi / (4 * math.asin(1 / math.sqrt(1 << indexLength))))"
   ]
  },
  {
   "cell_type": "markdown",
   "id": "aggregate-tiffany",
   "metadata": {},
   "source": [
    "This method is commonly called our \"oracle.\" All it does is \"tag\" a specific value with a phase factor of \"pi\"."
   ]
  },
  {
   "cell_type": "code",
   "execution_count": 9,
   "id": "behind-dragon",
   "metadata": {},
   "outputs": [],
   "source": [
    "def oracle(valueQubits, TARGET_VALUE, sim):\n",
    "    sim.sub(TARGET_VALUE, valueQubits)\n",
    "    sim.macmtrx(valueQubits[1:], [-1, 0, 0, 1], valueQubits[0])\n",
    "    sim.add(TARGET_VALUE, valueQubits)"
   ]
  },
  {
   "cell_type": "markdown",
   "id": "mysterious-empire",
   "metadata": {},
   "source": [
    "This is our Grover's search iteration loop. (Grover's search is a form of \"amplitude amplification\" algorithm.)"
   ]
  },
  {
   "cell_type": "code",
   "execution_count": 10,
   "id": "worth-nelson",
   "metadata": {},
   "outputs": [],
   "source": [
    "for i in range(optIter):\n",
    "    # Tag the search target VALUE with a full phase reversal.\n",
    "    oracle(valueQubits, TARGET_VALUE, sim)\n",
    "\n",
    "    # Invert the original initialization fully, to map back to a |0> permutation state, except for our phase effects.\n",
    "    sim.x(carryIndex)\n",
    "    sim.sbc(carryIndex, indexQubits, valueQubits, toLoad)\n",
    "    sim.x(carryIndex)\n",
    "    for j in indexQubits:\n",
    "        sim.h(j)\n",
    "\n",
    "    # Perform a full phase reversal on the |0> permutation state.\n",
    "    sim.macmtrx(indexQubits[1:], [-1, 0, 0, 1], indexQubits[0])\n",
    "\n",
    "    # Re-initialize as if preparing for the first iteration of Grover's algorithm.\n",
    "    for j in indexQubits:\n",
    "        sim.h(j)\n",
    "    # We could \"reverse sign of global phase,\" here, but that cannot be measured.\n",
    "    sim.adc(carryIndex, indexQubits, valueQubits, toLoad)"
   ]
  },
  {
   "cell_type": "markdown",
   "id": "atlantic-sewing",
   "metadata": {},
   "source": [
    "Grover's search has a probabilistic chance of success or failure, but the chance of success is high enough, in this case, that we should match 10 out of 10 attempts, (almost every time)."
   ]
  },
  {
   "cell_type": "code",
   "execution_count": 11,
   "id": "otherwise-scale",
   "metadata": {},
   "outputs": [
    {
     "name": "stdout",
     "output_type": "stream",
     "text": [
      "[100, 100, 100, 100, 100, 100, 100, 100, 100, 100]\n",
      "[230, 230, 230, 230, 230, 230, 230, 230, 230, 230]\n"
     ]
    }
   ],
   "source": [
    "print(sim.measure_shots(valueQubits, 10))\n",
    "print(sim.measure_shots(indexQubits, 10))"
   ]
  },
  {
   "cell_type": "markdown",
   "id": "controlled-identification",
   "metadata": {},
   "source": [
    "Our target **value** in the lookup table was **100**, and it corresponds to a lookup table **key** of **230**."
   ]
  },
  {
   "cell_type": "markdown",
   "id": "514e157d",
   "metadata": {},
   "source": [
    "Note that Qrack will typically **not** beat a naive search's performance for simulating Grover's search. While Grover's search has reduced complexity order for quantum gate count, the simulation of each gate operation comes at an exponentially scaling cost in qubit count. However, the fastest way Qrack might achieve the aim of Grover's search is with \"post-selection,\" by forcing the selection of the correct key/value pair in simulated quantum measurement."
   ]
  },
  {
   "cell_type": "code",
   "execution_count": 12,
   "id": "c384d77e",
   "metadata": {},
   "outputs": [
    {
     "name": "stdout",
     "output_type": "stream",
     "text": [
      "[100, 100, 100, 100, 100, 100, 100, 100, 100, 100]\n",
      "[230, 230, 230, 230, 230, 230, 230, 230, 230, 230]\n"
     ]
    }
   ],
   "source": [
    "sim = QrackSimulator(indexLength + valueLength)\n",
    "for i in indexQubits:\n",
    "    sim.h(i)\n",
    "sim.lda(indexQubits, valueQubits, toLoad)\n",
    "for i in range(len(valueQubits)):\n",
    "    sim.force_m(valueQubits[i], (TARGET_VALUE >> i) & 1)\n",
    "\n",
    "print(sim.measure_shots(valueQubits, 10))\n",
    "print(sim.measure_shots(indexQubits, 10))"
   ]
  }
 ],
 "metadata": {
  "kernelspec": {
   "display_name": "Python 3 (ipykernel)",
   "language": "python",
   "name": "python3"
  },
  "language_info": {
   "codemirror_mode": {
    "name": "ipython",
    "version": 3
   },
   "file_extension": ".py",
   "mimetype": "text/x-python",
   "name": "python",
   "nbconvert_exporter": "python",
   "pygments_lexer": "ipython3",
   "version": "3.8.10"
  }
 },
 "nbformat": 4,
 "nbformat_minor": 5
}
