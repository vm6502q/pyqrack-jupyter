{
 "cells": [
  {
   "cell_type": "markdown",
   "id": "5f57c8a3",
   "metadata": {},
   "source": [
    "# RCS Benchmark"
   ]
  },
  {
   "cell_type": "markdown",
   "id": "48d34546-e54a-442f-85c5-e9a28d7c38d1",
   "metadata": {},
   "source": [
    "## Getting Started"
   ]
  },
  {
   "cell_type": "markdown",
   "id": "7b171b3b-012c-4dad-870a-e8be44c24128",
   "metadata": {},
   "source": [
    "You need [`pyqrack`](https://pypi.org/project/pyqrack/) to run this notebook."
   ]
  },
  {
   "cell_type": "code",
   "execution_count": 1,
   "id": "b921e879-46df-4382-a1c7-804b6f2d0854",
   "metadata": {},
   "outputs": [],
   "source": [
    "# For example, if your Jupyter installation uses pip:\n",
    "# import sys\n",
    "# !{sys.executable} -m pip install pyqrack"
   ]
  },
  {
   "cell_type": "markdown",
   "id": "1e55837c-018f-4cb2-a9cb-86f356d7a2d8",
   "metadata": {},
   "source": [
    "In the Python package itself, there should be an executable called `qrack_cl_precompile`. This \"pre-compiles\" the OpenCL \"just-in-time\" (\"JIT\") device program, for your system's accelerators. You might want to find and run this utility first, to avoid the need to \"recompile\" the OpenCL device program every time you first load Qrack into your environment."
   ]
  },
  {
   "cell_type": "markdown",
   "id": "f0b34caa-b73e-4059-a27b-ad3e828a623d",
   "metadata": {},
   "source": [
    "## Configuration"
   ]
  },
  {
   "cell_type": "code",
   "execution_count": 2,
   "id": "90b257ae",
   "metadata": {},
   "outputs": [],
   "source": [
    "# Lowest qubit width\n",
    "low = 8\n",
    "# Highest qubit width\n",
    "high = 30\n",
    "# Samples to average per qubit width\n",
    "samples = 1"
   ]
  },
  {
   "cell_type": "code",
   "execution_count": 3,
   "id": "1f21a89b",
   "metadata": {},
   "outputs": [],
   "source": [
    "import math\n",
    "import os\n",
    "import random\n",
    "import time\n",
    "\n",
    "from pyqrack import QrackSimulator\n",
    "\n",
    "# For more specific details about all available Qrack environment variables,\n",
    "# See the C++ repository README: https://github.com/unitaryfund/qrack\n",
    "\n",
    "# \"Device ID\" is the sequential index number output for each accelerator,\n",
    "# in the \"banner\" whenever Qrack is loaded with GPU build options.\n",
    "# This is the \"device ID\" for your primary or main (single) accelerator.\n",
    "os.environ['QRACK_OCL_DEFAULT_DEVICE']='0'\n",
    "# If you have multiple accelerators, \"QUnitMulti\" will attempt to distribute\n",
    "# completely separable subsystems, when they arise, to multiple separate devices.\n",
    "# Use this variable to input a comma-separated list of devices for \"QUnitMulti.\"\n",
    "os.environ['QRACK_QUNITMULTI_DEVICES']='0'\n",
    "# If you have multiple accelerators, \"QPager\" can distribute (entangled) simulations\n",
    "# across multiple equal-sized \"pages\" of state vector amplitudes.\n",
    "# Use this variable to input a comma-separated list of device-to-\"page\" mappings.\n",
    "os.environ['QRACK_QPAGER_DEVICES']='0'\n",
    "# Some accelerators, like Intel integrated graphics, actually use general system RAM.\n",
    "# In this case, OpenCL can be told to allocate on general \"host\" instead of \"device\" RAM.\n",
    "# For each entry above in 'QRACK_QPAGER_DEVICES', below, \"1\" means \"host,\" \"0\" means \"device.\"\n",
    "os.environ['QRACK_QPAGER_DEVICES_HOST_POINTER']='0'\n",
    "# This is the maximum qubit count you want to fit in a GPU \"maximum allocation segment.\"\n",
    "# (Your GPU probably has 4 such segments. You might want this 1 less than theoretical max,\n",
    "# so that \"memory fragmentation\" doesn't prevent using more than 1 segment in total.)\n",
    "os.environ['QRACK_MAX_PAGE_QB']='27'\n",
    "# This is an overall allocation limit for your GPU(s), in megabytes.\n",
    "# If you have multiple GPUs, you can list separate limits in device ID order,\n",
    "# separated by a comma.\n",
    "os.environ['QRACK_MAX_ALLOC_MB']='15872'\n",
    "# This is the maximum total number of fully-entangled qubits you expect to achieve using QPager.\n",
    "os.environ['QRACK_MAX_PAGING_QB']='30'\n",
    "# This is the maximum total number of fully-entangled qubits you expect to fit in general RAM.\n",
    "os.environ['QRACK_MAX_CPU_QB']='32'\n",
    "# Above this threshold, \"QTensorNetwork\" restricts simulations to \"past light cone.\"\n",
    "# At or below the threshold, much more work can be reused.\n",
    "os.environ['QRACK_QTENSORNETWORK_THRESHOLD_QB']='30'\n",
    "\n",
    "# These below are approximation options. (By default, Qrack simulates in the \"ideal.\")\n",
    "\n",
    "# This is a number between \"0\" (\"ideal\") and \"1\" (\"destroy all entanglement\") for \"SDRP,\"\n",
    "# \"Schmidt decomposition rounding parameter\". (https://arxiv.org/abs/2304.14969)\n",
    "# os.environ['QRACK_QUNIT_SEPARABILITY_THRESHOLD']='0.5'\n",
    "\n",
    "# This is a number between \"0\" (\"ideal\") and \"1\" (\"combine all binary decision tree branches\")\n",
    "# that sets the allowable \"epsilon\" between \"QBdt\" branches to consider them equal.\n",
    "# os.environ['QRACK_QBDT_SEPARABILITY_THRESHOLD']='0.1'"
   ]
  },
  {
   "cell_type": "markdown",
   "id": "fb4ef620",
   "metadata": {},
   "source": [
    "## Run the Benchmark"
   ]
  },
  {
   "cell_type": "code",
   "execution_count": 4,
   "id": "9e742f47",
   "metadata": {},
   "outputs": [
    {
     "name": "stdout",
     "output_type": "stream",
     "text": [
      "Device #0, Loaded binary from: /home/iamu/.qrack/qrack_ocl_dev_NVIDIA_GeForce_RTX_3080_Laptop_GPU.ir\n",
      "8 :  0.0022640150018560234  seconds\n",
      "9 :  0.002903131000493886  seconds\n",
      "10 :  0.005554991999815684  seconds\n",
      "11 :  0.010838218997378135  seconds\n",
      "12 :  0.015403936999064172  seconds\n",
      "13 :  0.015599008998833597  seconds\n",
      "14 :  0.020373406001453986  seconds\n",
      "15 :  0.022344403001625324  seconds\n",
      "16 :  0.02848233400072786  seconds\n",
      "17 :  0.030573533000278985  seconds\n",
      "18 :  0.03707701699750032  seconds\n",
      "19 :  0.048108163002325455  seconds\n",
      "20 :  0.1083746929980407  seconds\n",
      "21 :  0.19467467199865496  seconds\n",
      "22 :  0.392614845000935  seconds\n",
      "23 :  0.7771308490009687  seconds\n",
      "24 :  1.793198688999837  seconds\n",
      "25 :  3.506745815000613  seconds\n",
      "26 :  8.034087990999979  seconds\n",
      "27 :  16.61181154500082  seconds\n",
      "28 :  36.80077453099875  seconds\n",
      "29 :  80.55902092900214  seconds\n",
      "30 :  181.86164758299856  seconds\n"
     ]
    }
   ],
   "source": [
    "def bench_qrack(n):\n",
    "    # This is basically a \"quantum volume\" (random) circuit.\n",
    "    start = time.perf_counter()\n",
    "\n",
    "    sim = QrackSimulator(n)\n",
    "\n",
    "    lcv_range = range(n)\n",
    "    all_bits = list(lcv_range)\n",
    "\n",
    "    single_count = 0\n",
    "    double_count = 0\n",
    "    for _ in lcv_range:\n",
    "        # Single-qubit gates\n",
    "        for i in lcv_range:\n",
    "            sim.u(i, random.uniform(0, 2 * math.pi), random.uniform(0, 2 * math.pi), random.uniform(0, 2 * math.pi))\n",
    "\n",
    "        # 2-qubit couplers\n",
    "        unused_bits = all_bits.copy()\n",
    "        random.shuffle(unused_bits)\n",
    "        while len(unused_bits) > 1:\n",
    "            sim.mcx([unused_bits.pop()], unused_bits.pop())\n",
    "\n",
    "    # Terminal measurement\n",
    "    # print(sim.m_all())\n",
    "    sim.m_all()\n",
    "\n",
    "    return time.perf_counter() - start\n",
    "\n",
    "# Make sure the OpenCL environment is initialized before timing.\n",
    "# (You probably also want to precompile OpenCL kernels with the `qrack_cl_compile` utility, in general.)\n",
    "bench_qrack(1)\n",
    "\n",
    "qrack_results = {}\n",
    "for n in range(low, high + 1):\n",
    "    width_results = []\n",
    "        \n",
    "    # Run the benchmarks\n",
    "    for i in range(samples):\n",
    "        width_results.append(bench_qrack(n))\n",
    "\n",
    "    qrack_results[n] = sum(width_results) / samples\n",
    "    print(n, \": \", qrack_results[n], \" seconds\")"
   ]
  }
 ],
 "metadata": {
  "kernelspec": {
   "display_name": "Python 3 (ipykernel)",
   "language": "python",
   "name": "python3"
  },
  "language_info": {
   "codemirror_mode": {
    "name": "ipython",
    "version": 3
   },
   "file_extension": ".py",
   "mimetype": "text/x-python",
   "name": "python",
   "nbconvert_exporter": "python",
   "pygments_lexer": "ipython3",
   "version": "3.10.12"
  }
 },
 "nbformat": 4,
 "nbformat_minor": 5
}
