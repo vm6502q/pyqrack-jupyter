{
 "cells": [
  {
   "cell_type": "markdown",
   "id": "5f57c8a3",
   "metadata": {},
   "source": [
    "# RCS Benchmark"
   ]
  },
  {
   "cell_type": "code",
   "execution_count": 1,
   "id": "90b257ae",
   "metadata": {},
   "outputs": [],
   "source": [
    "# Lowest qubit width\n",
    "low = 8\n",
    "# Highest qubit width\n",
    "high = 30\n",
    "# Samples to average per qubit width\n",
    "samples = 1"
   ]
  },
  {
   "cell_type": "code",
   "execution_count": 2,
   "id": "1f21a89b",
   "metadata": {},
   "outputs": [],
   "source": [
    "import math\n",
    "import os\n",
    "import random\n",
    "import time\n",
    "\n",
    "from pyqrack import QrackSimulator\n",
    "\n",
    "# This is the maximum qubit count you want to fit in a GPU \"maximum allocation segment.\"\n",
    "# (Your GPU probably has 4 such segments. You might want this 1 less than theoretical max,\n",
    "# so that \"memory fragmentation\" doesn't prevent using more than 1 segment in total.)\n",
    "os.environ['QRACK_MAX_PAGE_QB']='27'\n",
    "# This is an overall allocation limit for your GPU(s), in megabytes.\n",
    "# If you have multiple GPUs, you can list separate limits in device ID order,\n",
    "# separated by a comma.\n",
    "os.environ['QRACK_MAX_ALLOC_MB']='15872'\n",
    "# This is the maximum total number of fully-entangled qubits you expect to achieve using QPager.\n",
    "os.environ['QRACK_MAX_PAGING_QB']='30'\n",
    "# This is the maximum total number of fully-entangled qubits you expect to fit in general RAM.\n",
    "os.environ['QRACK_MAX_CPU_QB']='32'\n",
    "# Above this threshold, \"QTensorNetwork\" restricts simulations to \"past light cone.\"\n",
    "# At or below the threshold, much more work can be reused.\n",
    "os.environ['QRACK_QTENSORNETWORK_THRESHOLD_QB']='30'"
   ]
  },
  {
   "cell_type": "markdown",
   "id": "fb4ef620",
   "metadata": {},
   "source": [
    "## PyQrack"
   ]
  },
  {
   "cell_type": "code",
   "execution_count": 3,
   "id": "9e742f47",
   "metadata": {},
   "outputs": [
    {
     "name": "stdout",
     "output_type": "stream",
     "text": [
      "Device #0, Loaded binary from: /home/iamu/.qrack/qrack_ocl_dev_NVIDIA_GeForce_RTX_3080_Laptop_GPU.ir\n",
      "8 :  0.0023531320002803113  seconds\n",
      "9 :  0.0032005989996832795  seconds\n",
      "10 :  0.005233775000306196  seconds\n",
      "11 :  0.0112397550001333  seconds\n",
      "12 :  0.01594833600029233  seconds\n",
      "13 :  0.016706120000890223  seconds\n",
      "14 :  0.020815935000428  seconds\n",
      "15 :  0.023386397999274777  seconds\n",
      "16 :  0.027435580001110793  seconds\n",
      "17 :  0.0302177980011038  seconds\n",
      "18 :  0.038212395998925786  seconds\n",
      "19 :  0.05120375900150975  seconds\n",
      "20 :  0.11235168899838754  seconds\n",
      "21 :  0.18833843799984606  seconds\n",
      "22 :  0.40136326200081385  seconds\n",
      "23 :  0.7781868559995928  seconds\n",
      "24 :  1.7914650590009842  seconds\n",
      "25 :  3.6986852419995557  seconds\n",
      "26 :  7.785492257000442  seconds\n",
      "27 :  16.371238868001456  seconds\n",
      "28 :  38.1144417029991  seconds\n",
      "29 :  79.25250359200072  seconds\n",
      "30 :  183.64159018899954  seconds\n"
     ]
    }
   ],
   "source": [
    "def bench_qrack(n):\n",
    "    # This is basically a \"quantum volume\" (random) circuit.\n",
    "    start = time.perf_counter()\n",
    "\n",
    "    sim = QrackSimulator(n)\n",
    "\n",
    "    lcv_range = range(n)\n",
    "    all_bits = list(lcv_range)\n",
    "\n",
    "    single_count = 0\n",
    "    double_count = 0\n",
    "    for _ in lcv_range:\n",
    "        # Single-qubit gates\n",
    "        for i in lcv_range:\n",
    "            sim.u(i, random.uniform(0, 2 * math.pi), random.uniform(0, 2 * math.pi), random.uniform(0, 2 * math.pi))\n",
    "\n",
    "        # 2-qubit couplers\n",
    "        unused_bits = all_bits.copy()\n",
    "        random.shuffle(unused_bits)\n",
    "        while len(unused_bits) > 1:\n",
    "            sim.mcx([unused_bits.pop()], unused_bits.pop())\n",
    "\n",
    "    # Terminal measurement\n",
    "    # print(sim.m_all())\n",
    "    sim.m_all()\n",
    "\n",
    "    return time.perf_counter() - start\n",
    "\n",
    "# Make sure the OpenCL environment is initialized before timing.\n",
    "# (You probably also want to precompile OpenCL kernels with the `qrack_cl_compile` utility, in general.)\n",
    "bench_qrack(1)\n",
    "\n",
    "qrack_results = {}\n",
    "for n in range(low, high + 1):\n",
    "    width_results = []\n",
    "        \n",
    "    # Run the benchmarks\n",
    "    for i in range(samples):\n",
    "        width_results.append(bench_qrack(n))\n",
    "\n",
    "    qrack_results[n] = sum(width_results) / samples\n",
    "    print(n, \": \", qrack_results[n], \" seconds\")"
   ]
  }
 ],
 "metadata": {
  "kernelspec": {
   "display_name": "Python 3 (ipykernel)",
   "language": "python",
   "name": "python3"
  },
  "language_info": {
   "codemirror_mode": {
    "name": "ipython",
    "version": 3
   },
   "file_extension": ".py",
   "mimetype": "text/x-python",
   "name": "python",
   "nbconvert_exporter": "python",
   "pygments_lexer": "ipython3",
   "version": "3.10.12"
  }
 },
 "nbformat": 4,
 "nbformat_minor": 5
}
