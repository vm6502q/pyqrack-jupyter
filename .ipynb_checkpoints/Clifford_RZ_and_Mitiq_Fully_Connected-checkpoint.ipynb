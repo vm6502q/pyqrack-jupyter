{
 "cells": [
  {
   "cell_type": "markdown",
   "id": "composed-midwest",
   "metadata": {},
   "source": [
    "# Compiling RCS to Clifford+RZ (With Qrack)"
   ]
  },
  {
   "cell_type": "markdown",
   "id": "social-scott",
   "metadata": {},
   "source": [
    "You need the `pyqrack` package to run this notebook. [`vm6502q/pyqrack`](https://github.com/vm6502q/pyqrack) is a pure Python wrapper on the [`vm6502q/qrack`](https://github.com/vm6502q/qrack) quantum computer simulation framework core library. The preferred method of installation is from source code, at those GitHub repositories, but a package with default build precompiled binaries is available on [pypi](https://pypi.org/project/pyqrack/0.2.0/)."
   ]
  },
  {
   "cell_type": "code",
   "execution_count": 1,
   "id": "e342bcef",
   "metadata": {},
   "outputs": [],
   "source": [
    "width = 36\n",
    "depth = 6\n",
    "max_magic = 6\n",
    "shots = 128"
   ]
  },
  {
   "cell_type": "code",
   "execution_count": 2,
   "id": "cubic-thousand",
   "metadata": {},
   "outputs": [],
   "source": [
    "# For example, if your Jupyter installation uses pip:\n",
    "# import sys\n",
    "# !{sys.executable} -m pip install pyqrack\n",
    "\n",
    "import os\n",
    "import collections\n",
    "import math\n",
    "import random\n",
    "\n",
    "from pyqrack import QrackSimulator, Pauli\n",
    "from mitiq import zne\n",
    "from qiskit.circuit.quantumcircuit import QuantumCircuit\n",
    "\n",
    "# Change these according to your OpenCL devices and system specifications:\n",
    "os.environ['QRACK_MAX_PAGE_QB']='27'\n",
    "os.environ['QRACK_MAX_ALLOC_MB']='15872'\n",
    "os.environ['QRACK_MAX_PAGING_QB']='30'\n",
    "os.environ['QRACK_MAX_CPU_QB']='30'\n",
    "# os.environ['QRACK_QUNITMULTI_DEVICES']='1'\n",
    "# os.environ['QRACK_QPAGER_DEVICES']='1'"
   ]
  },
  {
   "cell_type": "code",
   "execution_count": 3,
   "id": "59c4e106-4dcb-4c60-938f-a93da5f4a487",
   "metadata": {},
   "outputs": [],
   "source": [
    "def cx(circ, q1, q2):\n",
    "    circ.cx(q1, q2)\n",
    "\n",
    "def cy(circ, q1, q2):\n",
    "    circ.cy(q1, q2)\n",
    "\n",
    "def cz(circ, q1, q2):\n",
    "    circ.cz(q1, q2)\n",
    "\n",
    "def acx(circ, q1, q2):\n",
    "    circ.x(q1)\n",
    "    circ.cx(q1, q2)\n",
    "    circ.x(q1)\n",
    "\n",
    "def acy(circ, q1, q2):\n",
    "    circ.x(q1)\n",
    "    circ.cy(q1, q2)\n",
    "\n",
    "def acz(circ, q1, q2):\n",
    "    circ.x(q1)\n",
    "    circ.cz(q1, q2)\n",
    "    circ.x(q1)\n",
    "\n",
    "def swap(circ, q1, q2):\n",
    "    circ.swap(q1, q2)\n",
    "\n",
    "def nswap(circ, q1, q2):\n",
    "    circ.x(q1)\n",
    "    circ.cz(q1, q2)\n",
    "    circ.x(q1)\n",
    "    circ.swap(q1, q2)\n",
    "    circ.x(q1)\n",
    "    circ.cz(q1, q2)\n",
    "    circ.x(q1)\n",
    "\n",
    "def pswap(circ, q1, q2):\n",
    "    circ.x(q1)\n",
    "    circ.cz(q1, q2)\n",
    "    circ.x(q1)\n",
    "    circ.swap(q1, q2)   \n",
    "\n",
    "def mswap(circ, q1, q2):\n",
    "    circ.swap(q1, q2)\n",
    "    circ.x(q1)\n",
    "    circ.cz(q1, q2)\n",
    "    circ.x(q1)\n",
    "\n",
    "def iswap(circ, q1, q2):\n",
    "    circ.iswap(q1, q2)\n",
    "\n",
    "def iiswap(circ, q1, q2):\n",
    "    circ.iswap(q1, q2)\n",
    "    circ.iswap(q1, q2)\n",
    "    circ.iswap(q1, q2)\n",
    "\n",
    "def rand_t(circ, t_count, max_magic, width):\n",
    "    if (t_count < max_magic) and (3 * width * width * random.random() / max_magic) < 1:\n",
    "        angle = random.uniform(0, 2 * math.pi)\n",
    "        circuit.rz(angle, j)\n",
    "        t_count += 1\n",
    "\n",
    "    return t_count\n",
    "\n",
    "def random_circuit(width, depth, max_magic):\n",
    "    t_count = 0\n",
    " \n",
    "    two_bit_gates = swap, pswap, mswap, nswap, iswap, iiswap, cx, cy, cz, acx, acy, acz\n",
    "    \n",
    "    # Nearest-neighbor couplers:\n",
    "    gateSequence = [ 0, 3, 2, 1, 2, 1, 0, 3 ]\n",
    "    row_len = math.ceil(math.sqrt(width))\n",
    "\n",
    "    circuit = QuantumCircuit(width, width)\n",
    "    \n",
    "    for i in range(depth):\n",
    "        # Single bit gates\n",
    "        single_qubit_layer = []\n",
    "        single_qubit_mirror = []\n",
    "        for j in range(width):\n",
    "            for _ in range(3):\n",
    "                # We're trying to cover 3 Pauli axes\n",
    "                # with Euler angle axes x-z-x. \n",
    "                circuit.h(j)\n",
    "\n",
    "                # We can trace out a quarter rotations around the Bloch sphere with stabilizer.\n",
    "                rnd = random.randint(0, 3)\n",
    "                if rnd & 1:\n",
    "                    circuit.s(j)\n",
    "                if rnd & 2:\n",
    "                    circuit.z(j)\n",
    "\n",
    "                # For each axis, there is a chance of \"magic.\"\n",
    "                if (t_count < max_magic) and (3 * width * width * random.random() / max_magic) < 1:\n",
    "                    angle = random.uniform(0, math.pi / 2)\n",
    "                    circuit.rz(angle, j)\n",
    "                    t_count += 1\n",
    "\n",
    "        # Nearest-neighbor couplers:\n",
    "        ############################\n",
    "        gate = gateSequence.pop(0)\n",
    "        gateSequence.append(gate)\n",
    "        for row in range(1, row_len, 2):\n",
    "            for col in range(row_len):\n",
    "                temp_row = row\n",
    "                temp_col = col\n",
    "                temp_row = temp_row + (1 if (gate & 2) else -1);\n",
    "                temp_col = temp_col + (1 if (gate & 1) else 0)\n",
    "\n",
    "                if (temp_row < 0) or (temp_col < 0) or (temp_row >= row_len) or (temp_col >= row_len):\n",
    "                    continue\n",
    "\n",
    "                b1 = row * row_len + col\n",
    "                b2 = temp_row * row_len + temp_col\n",
    "\n",
    "                if (b1 >= width) or (b2 >= width):\n",
    "                    continue\n",
    "\n",
    "                g = random.choice(two_bit_gates)\n",
    "                g(circuit, b1, b2)\n",
    "    \n",
    "    return circuit"
   ]
  },
  {
   "cell_type": "markdown",
   "id": "8c935d73-868e-4fc1-b75d-aff5f90ca566",
   "metadata": {},
   "source": [
    "Run these next two cells several times to produce a noisy value, (optionally tuning the width, depth, and magic settings above,) and run the third cell to mitigate with Mitiq."
   ]
  },
  {
   "cell_type": "code",
   "execution_count": 7,
   "id": "e57e248b",
   "metadata": {},
   "outputs": [],
   "source": [
    "circ = random_circuit(width, depth, max_magic)"
   ]
  },
  {
   "cell_type": "code",
   "execution_count": null,
   "id": "ab200420-d7da-4977-89b1-021e707d4faf",
   "metadata": {},
   "outputs": [],
   "source": [
    "qubits = list(range(width))\n",
    "\n",
    "def execute(circuit, qsim):\n",
    "    \"\"\"Returns the mirror circuit expectation value for unsigned integer overall bit string.\"\"\"\n",
    "\n",
    "    circ = circuit.compose(circuit.inverse())\n",
    "\n",
    "    qsim.reset_all()\n",
    "    qsim.run_qiskit_circuit(circ, 0)\n",
    "\n",
    "    return sum(qsim.measure_shots(qubits, shots)) / shots\n",
    "\n",
    "qsim = QrackSimulator(width)\n",
    "qsim.set_weak_sampling(True)\n",
    "\n",
    "noisy_value = execute(circ, qsim)\n",
    "print(\"Potentially noisy value: \", noisy_value)"
   ]
  },
  {
   "cell_type": "code",
   "execution_count": 6,
   "id": "b0504807-3e1b-4e43-ba10-9f6ac4e14026",
   "metadata": {},
   "outputs": [
    {
     "name": "stdout",
     "output_type": "stream",
     "text": [
      "No mitigation required. (Ideal value.)\n"
     ]
    }
   ],
   "source": [
    "if noisy_value > 1e-6:\n",
    "    print(\"Error with ZNE: \", zne.execute_with_zne(circ, execute))\n",
    "else:\n",
    "    print(\"No mitigation required. (Ideal value.)\")"
   ]
  }
 ],
 "metadata": {
  "kernelspec": {
   "display_name": "Python 3 (ipykernel)",
   "language": "python",
   "name": "python3"
  },
  "language_info": {
   "codemirror_mode": {
    "name": "ipython",
    "version": 3
   },
   "file_extension": ".py",
   "mimetype": "text/x-python",
   "name": "python",
   "nbconvert_exporter": "python",
   "pygments_lexer": "ipython3",
   "version": "3.10.6"
  }
 },
 "nbformat": 4,
 "nbformat_minor": 5
}
