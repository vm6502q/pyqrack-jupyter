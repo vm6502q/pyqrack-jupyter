{
 "cells": [
  {
   "cell_type": "markdown",
   "id": "disciplinary-arrow",
   "metadata": {},
   "source": [
    "# Shor's algorithm for integer factoring"
   ]
  },
  {
   "cell_type": "markdown",
   "id": "infrared-advertising",
   "metadata": {},
   "source": [
    "This example implementation of Shor's algorithm is [adapted from ProjectQ](https://github.com/ProjectQ-Framework/ProjectQ/blob/develop/examples/shor.py)."
   ]
  },
  {
   "cell_type": "code",
   "execution_count": 1,
   "id": "wooden-moderator",
   "metadata": {},
   "outputs": [],
   "source": [
    "import math\n",
    "import random\n",
    "from fractions import Fraction\n",
    "\n",
    "try:\n",
    "    from math import gcd\n",
    "except ImportError:\n",
    "    from fractions import gcd\n",
    "\n",
    "from pyqrack import QrackSimulator, Pauli\n",
    "\n",
    "import os\n",
    "os.environ[\"QRACK_QUNIT_SEPARABILITY_THRESHOLD\"] = \"0.001\""
   ]
  },
  {
   "cell_type": "markdown",
   "id": "dynamic-thesis",
   "metadata": {},
   "source": [
    "`toFactor` is the number we are factoring. (You may change it.) "
   ]
  },
  {
   "cell_type": "code",
   "execution_count": 2,
   "id": "herbal-gender",
   "metadata": {},
   "outputs": [],
   "source": [
    "toFactor=1073741823"
   ]
  },
  {
   "cell_type": "markdown",
   "id": "statutory-semiconductor",
   "metadata": {},
   "source": [
    "The entire algorithm is implemented below. For the first variant, to factor an integer of `n` qubits or less, we have a footprint of `2n`, but PyQrack's `pown()` is limited in qubit width to single GPU \"pages,\" (usually 2 qubits less than maximum for the GPU,) and the operation is \"fully entangling\" of the internal representation. "
   ]
  },
  {
   "cell_type": "code",
   "execution_count": null,
   "id": "small-marijuana",
   "metadata": {},
   "outputs": [],
   "source": [
    "%%time\n",
    "base = int(random.random() * toFactor)\n",
    "if not gcd(base, toFactor) == 1:\n",
    "    print(\"Chose non-relative prime, (without need for quantum computing):\")\n",
    "    print(\"Factor: {}\".format(gcd(base, toFactor)))\n",
    "else:\n",
    "    qubitCount = math.ceil(math.log2(toFactor))\n",
    "    sim = QrackSimulator(2 * qubitCount)\n",
    "\n",
    "    qi = [i for i in range(qubitCount)]\n",
    "    qo = [(i + qubitCount) for i in range(qubitCount)]\n",
    "\n",
    "    # run the quantum subroutine\n",
    "    for i in qi:\n",
    "        sim.h(i)\n",
    "    sim.pown(base, toFactor, qi, qo)\n",
    "    sim.iqft(qi)\n",
    "    \n",
    "    b = [Pauli.PauliZ] * qubitCount\n",
    "    y = sim.measure_pauli(b, qi)\n",
    "    r = Fraction(y).limit_denominator(toFactor - 1).denominator\n",
    "\n",
    "    # try to determine the factors\n",
    "    if r % 2 != 0:\n",
    "        r *= 2\n",
    "    apowrhalf = pow(base, r >> 1, toFactor)\n",
    "    f1 = gcd(apowrhalf + 1, toFactor)\n",
    "    f2 = gcd(apowrhalf - 1, toFactor)\n",
    "    if (not f1 * f2 == toFactor) and f1 * f2 > 1 and int(1.0 * toFactor / (f1 * f2)) * f1 * f2 == toFactor:\n",
    "        f1, f2 = f1 * f2, int(toFactor / (f1 * f2))\n",
    "    if f1 * f2 == toFactor and f1 > 1 and f2 > 1:\n",
    "        print(\"Factors found : {} * {} = {}\".format(f1, f2, toFactor))\n",
    "    else:\n",
    "        print(\"Failed: Found {} and {}\".format(f1, f2))"
   ]
  },
  {
   "cell_type": "markdown",
   "id": "julian-commander",
   "metadata": {},
   "source": [
    "The second implementation requires `3n+1` qubits in footprint to factor a number of `n` qubits or less. However, these methods do not resort to \"fully entangled representation,\" and they are not limited to single GPU \"pages.\""
   ]
  },
  {
   "cell_type": "markdown",
   "id": "respiratory-green",
   "metadata": {},
   "source": [
    "`check_mod()` will effectively act a Pauli X gate on `qm`, if and only if the permutation in the register `qi` is greater than or equal to `toFactor`."
   ]
  },
  {
   "cell_type": "code",
   "execution_count": 3,
   "id": "asian-paradise",
   "metadata": {},
   "outputs": [],
   "source": [
    "def check_mod(sim, toFactor, maxN, qo, qm):\n",
    "    diff = maxN - toFactor\n",
    "    sim.add(diff, [*qo, qm])\n",
    "    sim.sub(diff, qo)"
   ]
  },
  {
   "cell_type": "code",
   "execution_count": 8,
   "id": "twenty-measurement",
   "metadata": {},
   "outputs": [
    {
     "name": "stdout",
     "output_type": "stream",
     "text": [
      "Factors found : 651 * 1649373 = 1073741823\n",
      "CPU times: user 37.7 ms, sys: 12.5 ms, total: 50.2 ms\n",
      "Wall time: 45.7 ms\n"
     ]
    }
   ],
   "source": [
    "%%time\n",
    "# Based on https://arxiv.org/abs/quant-ph/0205095\n",
    "base = int(random.random() * toFactor)\n",
    "if not gcd(base, toFactor) == 1:\n",
    "    print(\"Chose non-relative prime, (without need for quantum computing):\")\n",
    "    print(\"Factor: {}\".format(gcd(base, toFactor)))\n",
    "else:\n",
    "    qubitCount = math.ceil(math.log2(toFactor))\n",
    "    maxN = 1<<qubitCount\n",
    "    # sim = QrackSimulator(3 * qubitCount + 1)\n",
    "    # Without qm as auxiliary qubit:\n",
    "    sim = QrackSimulator(3 * qubitCount)\n",
    "\n",
    "    qi = [i for i in range(qubitCount)]\n",
    "    qo = [(i + qubitCount) for i in range(qubitCount)]\n",
    "    qa = [(i + 2 * qubitCount) for i in range(qubitCount)]\n",
    "    qm = 3 * qubitCount\n",
    "\n",
    "    # run the quantum subroutine\n",
    "    for i in qi:\n",
    "        sim.h(i)\n",
    "        # These mul/div operations only work for modulo by powers of 2.\n",
    "        sim.mcmuln(1<<i, [i], maxN, qo, qa)\n",
    "        for o in range(len(qa)):\n",
    "            sim.cswap([i], qa[o], qo[o])\n",
    "        sim.mcdivn(1<<i, [i], maxN, qo, qa)\n",
    "        \n",
    "        # This is quasi-successful, even on modulo 2**qubitCount (AKA 1<<qubitCount).\n",
    "        # Finishing what's below is what's required for strictly literal Shor's factoring algorithm.\n",
    "        \n",
    "        # We're implementing the modulo by toFactor, below.\n",
    "        # First, set the qm qubit, if we have any permutation greater than toFactor.\n",
    "        # check_mod(sim, toFactor, maxN, qo, qm)\n",
    "        \n",
    "        # Now, qm is set, iff permutation is greater than or equal to toFactor.\n",
    "        # If qm is set, subtracting toFactor will achieve modulo toFactor.\n",
    "        # sim.mcsub(toFactor, [qm], qo)\n",
    "        \n",
    "        # We still have the modulo test qubit set, qm, though.\n",
    "        # NOTE: This probably doesn't work, yet,\n",
    "        # because we anticipate a difference between (a*n)mod(toFactor)\n",
    "        # vs multiplication by (a*n)mod(toFactor) on output register, in progress.\n",
    "        # Put the original result back in the auxiliary register.\n",
    "        # sim.mcmuln(1<<i, [i], maxN, qi, qa)\n",
    "        # Reset the qm qubit, if we have any permutation greater than or equal to toFactor.\n",
    "        # check_mod(sim, toFactor, maxN, qa, qm)\n",
    "        # Reset the auxiliary register\n",
    "        # sim.mcdivn(1<<i, [i], maxN, qi, qa)\n",
    "        \n",
    "    sim.iqft(qi)\n",
    "    \n",
    "    b = [Pauli.PauliZ] * qubitCount\n",
    "    y = sim.measure_pauli(b, qi)\n",
    "    r = Fraction(y).limit_denominator(toFactor - 1).denominator\n",
    "\n",
    "    # try to determine the factors\n",
    "    if r % 2 != 0:\n",
    "        r *= 2\n",
    "    apowrhalf = pow(base, r >> 1, toFactor)\n",
    "    f1 = gcd(apowrhalf + 1, toFactor)\n",
    "    f2 = gcd(apowrhalf - 1, toFactor)\n",
    "    if (not f1 * f2 == toFactor) and f1 * f2 > 1 and int(1.0 * toFactor / (f1 * f2)) * f1 * f2 == toFactor:\n",
    "        f1, f2 = f1 * f2, int(toFactor / (f1 * f2))\n",
    "    if f1 * f2 == toFactor and f1 > 1 and f2 > 1:\n",
    "        print(\"Factors found : {} * {} = {}\".format(f1, f2, toFactor))\n",
    "    else:\n",
    "        print(\"Failed: Found {} and {}\".format(f1, f2))"
   ]
  },
  {
   "cell_type": "code",
   "execution_count": null,
   "id": "unnecessary-yeast",
   "metadata": {},
   "outputs": [],
   "source": []
  }
 ],
 "metadata": {
  "kernelspec": {
   "display_name": "Python 3 (ipykernel)",
   "language": "python",
   "name": "python3"
  },
  "language_info": {
   "codemirror_mode": {
    "name": "ipython",
    "version": 3
   },
   "file_extension": ".py",
   "mimetype": "text/x-python",
   "name": "python",
   "nbconvert_exporter": "python",
   "pygments_lexer": "ipython3",
   "version": "3.8.10"
  }
 },
 "nbformat": 4,
 "nbformat_minor": 5
}
