{
 "cells": [
  {
   "cell_type": "markdown",
   "id": "disciplinary-arrow",
   "metadata": {},
   "source": [
    "# Shor's algorithm for integer factoring"
   ]
  },
  {
   "cell_type": "markdown",
   "id": "infrared-advertising",
   "metadata": {},
   "source": [
    "This example implementation of Shor's algorithm is [adapted from ProjectQ](https://github.com/ProjectQ-Framework/ProjectQ/blob/develop/examples/shor.py)."
   ]
  },
  {
   "cell_type": "code",
   "execution_count": 1,
   "id": "wooden-moderator",
   "metadata": {},
   "outputs": [],
   "source": [
    "import math\n",
    "import random\n",
    "from fractions import Fraction\n",
    "\n",
    "try:\n",
    "    from math import gcd\n",
    "except ImportError:\n",
    "    from fractions import gcd\n",
    "\n",
    "from pyqrack import QrackSimulator, Pauli\n",
    "\n",
    "import os\n",
    "os.environ[\"QRACK_QUNIT_SEPARABILITY_THRESHOLD\"] = \"0.001\""
   ]
  },
  {
   "cell_type": "markdown",
   "id": "dynamic-thesis",
   "metadata": {},
   "source": [
    "`toFactor` is the number we are factoring. (You may change it.) "
   ]
  },
  {
   "cell_type": "code",
   "execution_count": 2,
   "id": "herbal-gender",
   "metadata": {},
   "outputs": [],
   "source": [
    "toFactor=2**60-1"
   ]
  },
  {
   "cell_type": "markdown",
   "id": "statutory-semiconductor",
   "metadata": {},
   "source": [
    "The entire algorithm is implemented below. For the first variant, to factor an integer of `n` qubits or less, we have a footprint of `2n`, but PyQrack's `pown()` is limited in qubit width to single GPU \"pages,\" (usually 2 qubits less than maximum for the GPU,) and the operation is \"fully entangling\" of the internal representation. "
   ]
  },
  {
   "cell_type": "code",
   "execution_count": null,
   "id": "small-marijuana",
   "metadata": {},
   "outputs": [],
   "source": [
    "%%time\n",
    "base = int(random.random() * toFactor)\n",
    "if not gcd(base, toFactor) == 1:\n",
    "    print(\"Chose non-relative prime, (without need for quantum computing):\")\n",
    "    print(\"Factor: {}\".format(gcd(base, toFactor)))\n",
    "else:\n",
    "    qubitCount = math.ceil(math.log2(toFactor))\n",
    "    sim = QrackSimulator(2 * qubitCount)\n",
    "\n",
    "    qi = [i for i in range(qubitCount)]\n",
    "    qo = [(i + qubitCount) for i in range(qubitCount)]\n",
    "\n",
    "    # run the quantum subroutine\n",
    "    for i in qi:\n",
    "        sim.h(i)\n",
    "    sim.pown(base, toFactor, qi, qo)\n",
    "    sim.iqft(qi)\n",
    "    \n",
    "    b = [Pauli.PauliZ] * qubitCount\n",
    "    y = sim.measure_pauli(b, qi)\n",
    "    r = Fraction(y).limit_denominator(toFactor - 1).denominator\n",
    "\n",
    "    # try to determine the factors\n",
    "    if r % 2 != 0:\n",
    "        r *= 2\n",
    "    apowrhalf = pow(base, r >> 1, toFactor)\n",
    "    f1 = gcd(apowrhalf + 1, toFactor)\n",
    "    f2 = gcd(apowrhalf - 1, toFactor)\n",
    "    if (not f1 * f2 == toFactor) and f1 * f2 > 1 and int(1.0 * toFactor / (f1 * f2)) * f1 * f2 == toFactor:\n",
    "        f1, f2 = f1 * f2, int(toFactor / (f1 * f2))\n",
    "    if f1 * f2 == toFactor and f1 > 1 and f2 > 1:\n",
    "        print(\"Factors found : {} * {} = {}\".format(f1, f2, toFactor))\n",
    "    else:\n",
    "        print(\"Failed: Found {} and {}\".format(f1, f2))"
   ]
  },
  {
   "cell_type": "markdown",
   "id": "fitting-venue",
   "metadata": {},
   "source": [
    "The second implementation requires `2n+2` qubits in footprint to factor a number of `n` qubits or less. However, these methods do not resort to \"fully entangled representation,\" and they are not limited to single GPU \"pages.\""
   ]
  },
  {
   "cell_type": "code",
   "execution_count": 3,
   "id": "divided-college",
   "metadata": {},
   "outputs": [],
   "source": [
    "def MUL(sim, i, a, maxN, qo, qa):\n",
    "    sim.mcmuln(a, [i], maxN, qo, qa)\n",
    "    for o in range(len(qa)):\n",
    "        sim.cswap([i], qa[o], qo[o])\n",
    "    sim.mcdivn(a, [i], maxN, qo, qa)\n",
    "\n",
    "def DIV(sim, i, a, maxN, qo, qa):\n",
    "    sim.mcdivn(a, [i], maxN, qo, qa)\n",
    "    for o in range(len(qa)):\n",
    "        sim.cswap([i], qa[o], qo[o])\n",
    "    sim.mcmuln(a, [i], maxN, qo, qa)\n",
    "\n",
    "def phase_root_n(sim, n, q):\n",
    "    sim.mtrx([1, 0, 0, -1**(1.0 / (1<<(n - 1)))], q)"
   ]
  },
  {
   "cell_type": "code",
   "execution_count": 7,
   "id": "twenty-measurement",
   "metadata": {},
   "outputs": [
    {
     "name": "stdout",
     "output_type": "stream",
     "text": [
      "Factors found : 5775 * 199640087377809 = 1152921504606846975\n",
      "CPU times: user 38.8 ms, sys: 0 ns, total: 38.8 ms\n",
      "Wall time: 38.5 ms\n"
     ]
    }
   ],
   "source": [
    "%%time\n",
    "# Based on https://arxiv.org/abs/quant-ph/0205095\n",
    "base = int(random.random() * toFactor)\n",
    "if not gcd(base, toFactor) == 1:\n",
    "    print(\"Chose non-relative prime, (without need for quantum computing):\")\n",
    "    print(\"Factor: {}\".format(gcd(base, toFactor)))\n",
    "else:\n",
    "    qubitCount = math.ceil(math.log2(toFactor))\n",
    "    maxN = 1<<qubitCount\n",
    "    sim = QrackSimulator(3 * qubitCount + 1)\n",
    "\n",
    "    qo = [i for i in range(qubitCount)]\n",
    "    qa = [(i + qubitCount) for i in range(qubitCount)]\n",
    "    qi = 2 * qubitCount\n",
    "    qm = 2 * qubitCount + 1\n",
    "    \n",
    "    m_results = []\n",
    "\n",
    "    # run the quantum subroutine\n",
    "    for i in range(qubitCount):\n",
    "        sim.h(qi)\n",
    "\n",
    "        # These mul/div operations only work for modulo by powers of 2.\n",
    "        MUL(sim, qi, i, maxN, qo, qa)\n",
    "        \n",
    "        # The above is quasi-successful on its own, even on modulo 2**qubitCount (AKA 1<<qubitCount).\n",
    "        # Finishing what's below is what's required for strictly literal Shor's factoring algorithm.\n",
    "        \n",
    "        # We're implementing the modulo by toFactor, below.\n",
    "        sim.sub(maxN, qo)\n",
    "        sim.mcx([qo[-1]], qm)\n",
    "        sim.mcadd(maxN,[qm], qo)\n",
    "        DIV(sim, qi, 1<<i, maxN, qo, qa)\n",
    "        sim.x(qo[-1])\n",
    "        sim.mcx([qo[-1]], qm)\n",
    "        sim.x(qo[-1])\n",
    "        MUL(sim, qi, 1<<i, maxN, qo, qa)\n",
    "        \n",
    "        # We use the single control qubit \"trick\" referenced in Beauregard:\n",
    "        for j in range(len(m_results)):\n",
    "            if m_results[j]:\n",
    "                phase_root_n(sim, j + 2, qi)\n",
    "        \n",
    "        m_results.append(sim.m(qi))\n",
    "        if m_results[-1] == 1:\n",
    "            sim.x(qi)\n",
    "        \n",
    "        sim.h(qi)\n",
    "\n",
    "    y = 0\n",
    "    for r in m_results:\n",
    "        y |= 1<<r\n",
    "    r = Fraction(y).limit_denominator(toFactor - 1).denominator\n",
    "\n",
    "    # try to determine the factors\n",
    "    if r % 2 != 0:\n",
    "        r *= 2\n",
    "    apowrhalf = pow(base, r >> 1, toFactor)\n",
    "    f1 = gcd(apowrhalf + 1, toFactor)\n",
    "    f2 = gcd(apowrhalf - 1, toFactor)\n",
    "    if (not f1 * f2 == toFactor) and f1 * f2 > 1 and int(1.0 * toFactor / (f1 * f2)) * f1 * f2 == toFactor:\n",
    "        f1, f2 = f1 * f2, int(toFactor / (f1 * f2))\n",
    "    if f1 * f2 == toFactor and f1 > 1 and f2 > 1:\n",
    "        print(\"Factors found : {} * {} = {}\".format(f1, f2, toFactor))\n",
    "    else:\n",
    "        print(\"Failed: Found {} and {}\".format(f1, f2))"
   ]
  },
  {
   "cell_type": "code",
   "execution_count": null,
   "id": "directed-washington",
   "metadata": {},
   "outputs": [],
   "source": []
  }
 ],
 "metadata": {
  "kernelspec": {
   "display_name": "Python 3 (ipykernel)",
   "language": "python",
   "name": "python3"
  },
  "language_info": {
   "codemirror_mode": {
    "name": "ipython",
    "version": 3
   },
   "file_extension": ".py",
   "mimetype": "text/x-python",
   "name": "python",
   "nbconvert_exporter": "python",
   "pygments_lexer": "ipython3",
   "version": "3.8.10"
  }
 },
 "nbformat": 4,
 "nbformat_minor": 5
}
