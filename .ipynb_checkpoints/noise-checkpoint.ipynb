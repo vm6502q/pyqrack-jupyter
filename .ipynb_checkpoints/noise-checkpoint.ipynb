{
 "cells": [
  {
   "cell_type": "markdown",
   "id": "tracked-cricket",
   "metadata": {},
   "source": [
    "# Noise (in PyQrack)"
   ]
  },
  {
   "cell_type": "markdown",
   "id": "medium-express",
   "metadata": {},
   "source": [
    "Qrack and PyQrack were designed for maximum performance on exact simulation of quantum circuits, hence no noise models are internally supported, yet. Further, PyQrack only supports \"pure\" quantum states, and not density matrix representation, for example. However, there are ways in which we can externally and stochastically apply common types of noise to a PyQrack simulation."
   ]
  },
  {
   "cell_type": "markdown",
   "id": "peaceful-vaccine",
   "metadata": {},
   "source": [
    "When using external stochastic noise gadgets, direct queries of exact quantum state and measurement sampling after a unitary preamble are **not** supported. The methods can still be called, but the pure state returned **cannot** be equivalent to a density matrix with noise, (i.e.: with partially mixed states, in effect,) and sampling operations will sample the happenstance probabilistic noise instead of the full stochastic profile of this noise. To simulate distributions with noise, we must run the circuits top-to-bottom for each sample, with probabilistic noise injection gadgets."
   ]
  },
  {
   "cell_type": "markdown",
   "id": "8c0ce32a",
   "metadata": {},
   "source": [
    "An obvious and simple type of noise injection gadget is for a probabilistic Pauli operator bit flip error."
   ]
  },
  {
   "cell_type": "code",
   "execution_count": 1,
   "id": "cd1d934e",
   "metadata": {},
   "outputs": [],
   "source": [
    "import random"
   ]
  },
  {
   "cell_type": "code",
   "execution_count": 2,
   "id": "163c55a1",
   "metadata": {},
   "outputs": [],
   "source": [
    "def inject_pauli_bit_flip_noise(simulator, qubit, probability):\n",
    "    if (not probability >= 1.) and ((probability <= 0.) or (random.uniform(0., 1.) >= probability)):\n",
    "        # We avoid the bit flip error\n",
    "        return\n",
    "\n",
    "    # We apply a bit flip error\n",
    "    axis = random.randint(0, 2)\n",
    "    if axis == 0:\n",
    "        simulator.x(qubit)\n",
    "    elif axis == 1:\n",
    "        simulator.y(qubit)\n",
    "    else:\n",
    "        simulator.z(qubit)"
   ]
  },
  {
   "cell_type": "code",
   "execution_count": 3,
   "id": "individual-generator",
   "metadata": {},
   "outputs": [
    {
     "name": "stdout",
     "output_type": "stream",
     "text": [
      "Device #0, Loaded binary from: /home/iamu/.qrack/qrack_ocl_dev_Intel(R)_UHD_Graphics_[0x9bc4].ir\n",
      "Device #1, Loaded binary from: /home/iamu/.qrack/qrack_ocl_dev_NVIDIA_GeForce_RTX_3080_Laptop_GPU.ir\n",
      "Counter({0: 81, 1: 19})\n"
     ]
    }
   ],
   "source": [
    "from collections import Counter\n",
    "from pyqrack import QrackSimulator\n",
    "\n",
    "qsim = QrackSimulator(1)\n",
    "\n",
    "results = []\n",
    "for _ in range(0, 100):\n",
    "    qsim.reset_all()\n",
    "    inject_pauli_bit_flip_noise(qsim, 0, 0.2)\n",
    "    results.append(qsim.m(0))\n",
    "\n",
    "print(Counter(results))"
   ]
  },
  {
   "cell_type": "markdown",
   "id": "653051f3",
   "metadata": {},
   "source": [
    "Depolarizing noise (as on a single qubit noise channel) partially replaces a qubit's pure quantum state with a maximally mixed state, according to a tunable noise severity parameter."
   ]
  },
  {
   "cell_type": "markdown",
   "id": "ce651062",
   "metadata": {},
   "source": [
    "(**Warning**: This hypothetical approach to recreating stochastic depolarizing noise has not been vetted. This is purely Dan's first guess, as lead developer of Qrack. It does effectively fully depolarize for a `lam` parameter value of `1.`, though.)"
   ]
  },
  {
   "cell_type": "code",
   "execution_count": 74,
   "id": "b06b060e",
   "metadata": {},
   "outputs": [],
   "source": [
    "import math\n",
    "from pyqrack import Pauli\n",
    "\n",
    "def inject_depolarizing_1qb_noise(simulator, qubit, lam):\n",
    "    if (lam <= 0.):\n",
    "        return\n",
    "\n",
    "    # Random azimuth around Z axis of measurement\n",
    "    # (which effectively randomizes depolarization orientation in X-Y plane)\n",
    "    angleZ = random.uniform(0., 4. * math.pi)\n",
    "    # Total depolarization magnitude angle\n",
    "    lamAngle = math.asinh(2 * lam)\n",
    "\n",
    "    # Azimuth\n",
    "    simulator.r(Pauli.PauliZ, angleZ, qubit)\n",
    "    # Depolarization magnitude\n",
    "    simulator.r(Pauli.PauliY, lamAngle, qubit)\n",
    "\n",
    "    # Allocate an ancilla\n",
    "    ancilla = simulator.num_qubits()\n",
    "    simulator.allocate_qubit(ancilla)\n",
    "    # Partially entangle with the ancilla\n",
    "    simulator.mcx([qubit], ancilla)\n",
    "    # Partially collapse the original state\n",
    "    simulator.m(ancilla)\n",
    "    # The ancilla is fully separable, after measurement.\n",
    "    simulator.release(ancilla)\n",
    "    \n",
    "    # Uncompute\n",
    "    simulator.r(Pauli.PauliY, -lamAngle, qubit)\n",
    "    simulator.r(Pauli.PauliZ, -angleZ, qubit)"
   ]
  },
  {
   "cell_type": "code",
   "execution_count": 75,
   "id": "56b29a73",
   "metadata": {},
   "outputs": [
    {
     "name": "stdout",
     "output_type": "stream",
     "text": [
      "Counter({0: 73, 1: 27})\n"
     ]
    }
   ],
   "source": [
    "qsim = QrackSimulator(2)\n",
    "\n",
    "results = []\n",
    "for _ in range(100):\n",
    "    qsim.reset_all()\n",
    "    # qsim.h(0)\n",
    "    # qsim.mcx([0], 1)\n",
    "    inject_depolarizing_1qb_noise(qsim, 0, 0.5)\n",
    "    results.append(qsim.m_all())\n",
    "\n",
    "print(Counter(results))"
   ]
  },
  {
   "cell_type": "markdown",
   "id": "9eea36e9",
   "metadata": {},
   "source": [
    "Are simulated Sycamore circuits faster with noise?"
   ]
  },
  {
   "cell_type": "code",
   "execution_count": 6,
   "id": "530104fc",
   "metadata": {},
   "outputs": [],
   "source": [
    "import time\n",
    "\n",
    "def sqrtx(circ, t):\n",
    "    circ.u(t, -3 * math.pi / 2, -math.pi / 2, math.pi / 2)\n",
    "\n",
    "def sqrty(circ, t):\n",
    "    circ.u(t, -3 * math.pi / 2, 0, 0)\n",
    "\n",
    "def sqrtw(circ, t):\n",
    "    circ.mtrx([(1-1j)/2, 1/math.sqrt(2)+0j, 1j/math.sqrt(2), (1-1j)/2], t)\n",
    "\n",
    "def bench(sim, depth, noise):\n",
    "    sim.reset_all()\n",
    "    gateSequence = [ 0, 3, 2, 1, 2, 1, 0, 3 ]\n",
    "    single_bit_gates = sqrtx, sqrty, sqrtw\n",
    "\n",
    "    start = time.time()\n",
    "\n",
    "    num_qubits = sim.num_qubits()\n",
    "\n",
    "    colLen = math.floor(math.sqrt(num_qubits))\n",
    "    while ((math.floor(num_qubits / colLen) * colLen) != num_qubits):\n",
    "        colLen = colLen - 1\n",
    "    rowLen = num_qubits // colLen;\n",
    "\n",
    "    lastSingleBitGates = []\n",
    "\n",
    "    for i in range(depth):\n",
    "        # Single bit gates\n",
    "        singleBitGates = []\n",
    "        for j in range(num_qubits):\n",
    "            gate = random.choice(single_bit_gates)\n",
    "            if len(lastSingleBitGates) > 0:\n",
    "                while gate == lastSingleBitGates[j]:\n",
    "                    gate = random.choice(single_bit_gates)\n",
    "            gate(sim, j)\n",
    "            if noise > 0:\n",
    "                inject_depolarizing_1qb_noise(sim, j, noise)\n",
    "            singleBitGates.append(gate)\n",
    "\n",
    "        lastSingleBitGates = singleBitGates\n",
    "\n",
    "        gate = gateSequence[0]\n",
    "        gateSequence.pop(0)\n",
    "        gateSequence.append(gate)\n",
    "\n",
    "        for row in range(1, rowLen, 2):\n",
    "            for col in range(0, colLen):\n",
    "                tempRow = row;\n",
    "                tempCol = col;\n",
    "\n",
    "                tempRow = tempRow + (1 if (gate & 2) else -1)\n",
    "                if colLen != 1:\n",
    "                    tempCol = tempCol + (1 if (gate & 1) else 0)\n",
    "\n",
    "                if (tempRow < 0) or (tempCol < 0) or (tempRow >= rowLen) or (tempCol >= colLen):\n",
    "                    continue;\n",
    "\n",
    "                b1 = row * colLen + col;\n",
    "                b2 = tempRow * colLen + tempCol;\n",
    "\n",
    "                # Two bit gates\n",
    "                sim.mcmtrx([b1], [1, 0, 0, pow(-1, math.pi / 6)], b2)\n",
    "                sim.iswap(b1, b2)\n",
    "                if noise > 0:\n",
    "                    inject_depolarizing_1qb_noise(sim, b1, noise)\n",
    "                    inject_depolarizing_1qb_noise(sim, b2, noise)\n",
    "\n",
    "    qubits = [i for i in range(num_qubits)]\n",
    "    sim.m_all()\n",
    "\n",
    "    return time.time() - start"
   ]
  },
  {
   "cell_type": "code",
   "execution_count": 7,
   "id": "37caba25",
   "metadata": {},
   "outputs": [
    {
     "name": "stdout",
     "output_type": "stream",
     "text": [
      "Exact simulation, average seconds: 0.007538075447082519\n",
      "Noisy simulation, average seconds: 0.048882167339324954\n"
     ]
    }
   ],
   "source": [
    "import os\n",
    "\n",
    "qsim = QrackSimulator(10)\n",
    "\n",
    "# The separability threshold introduces a kind of non-physical noise,\n",
    "# but it's opportune for simulation  performance, due to increased Schmidt decomposition.\n",
    "os.environ.pop('QRACK_QUNIT_SEPARABILITY_THRESHOLD', None)\n",
    "times = []\n",
    "for _ in range(100):\n",
    "    times.append(bench(qsim, 10, 0))\n",
    "print(\"Exact simulation, average seconds: \" + str(sum(times) / len(times)))\n",
    "\n",
    "os.environ[\"QRACK_QUNIT_SEPARABILITY_THRESHOLD\"] = \"0.01\"\n",
    "times = []\n",
    "for _ in range(100):\n",
    "    times.append(bench(qsim, 10, 0.2))\n",
    "print(\"Noisy simulation, average seconds: \" + str(sum(times) / len(times)))"
   ]
  },
  {
   "cell_type": "markdown",
   "id": "7f8be386",
   "metadata": {},
   "source": [
    "We incur the overhead of simulating the noise channels themselves, to start. However, if we can increase Schmidt decomposition by reducing entanglement with noise, we might lower our memory footprint."
   ]
  }
 ],
 "metadata": {
  "kernelspec": {
   "display_name": "Python 3 (ipykernel)",
   "language": "python",
   "name": "python3"
  },
  "language_info": {
   "codemirror_mode": {
    "name": "ipython",
    "version": 3
   },
   "file_extension": ".py",
   "mimetype": "text/x-python",
   "name": "python",
   "nbconvert_exporter": "python",
   "pygments_lexer": "ipython3",
   "version": "3.10.4"
  }
 },
 "nbformat": 4,
 "nbformat_minor": 5
}
