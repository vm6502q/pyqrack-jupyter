{
 "cells": [
  {
   "cell_type": "markdown",
   "id": "composed-midwest",
   "metadata": {},
   "source": [
    "# QrackCircuit"
   ]
  },
  {
   "cell_type": "markdown",
   "id": "social-scott",
   "metadata": {},
   "source": [
    "You need the `pyqrack` package to run this notebook. [`vm6502q/pyqrack`](https://github.com/vm6502q/pyqrack) is a pure Python wrapper on the [`vm6502q/qrack`](https://github.com/vm6502q/qrack) quantum computer simulation framework core library. The preferred method of installation is from source code, at those GitHub repositories, but a package with default build precompiled binaries is available on [pypi](https://pypi.org/project/pyqrack/0.2.0/)."
   ]
  },
  {
   "cell_type": "code",
   "execution_count": 1,
   "id": "cubic-thousand",
   "metadata": {},
   "outputs": [],
   "source": [
    "# For example, if your Jupyter installation uses pip:\n",
    "# import sys\n",
    "# !{sys.executable} -m pip install pyqrack"
   ]
  },
  {
   "cell_type": "markdown",
   "id": "embedded-athletics",
   "metadata": {},
   "source": [
    "[`QrackSimulator`](https://github.com/vm6502q/pyqrack/blob/main/pyqrack/qrack_simulator.py) is the \"workhorse\" of the `pyqrack` package. It instantiates simulated \"registers\" of qubits that we can act basic quantum gates between, to form arbitrary universal quantum circuits."
   ]
  },
  {
   "cell_type": "markdown",
   "id": "db71c6b9",
   "metadata": {},
   "source": [
    "`QrackCircuit` is an optional class for optimizing compilation. With it, one can define a circuit in advance, which is optimized upon definition. Then, one can save the optimized result to a file and later load it into a new or existing `QrackCircuit` instance. Ultimately, the circuit is executed by calling `run()` on a `QrackCircuit`, with a parameter of `QrackSimulator` of appropriate size. (The necessary width of the `QrackSimulator` can be determined with `QrackCircuit.get_qubit_count()`.)"
   ]
  },
  {
   "cell_type": "code",
   "execution_count": 2,
   "id": "statutory-lewis",
   "metadata": {},
   "outputs": [],
   "source": [
    "import math\n",
    "import random\n",
    "\n",
    "sqrt1_2 = 1 / math.sqrt(2)\n",
    "\n",
    "def x_to_y(circ, q):\n",
    "    circ.mtrx([1, 0, 0, 1j], q)\n",
    "    return 1\n",
    "\n",
    "def x_to_z(circ, q):\n",
    "    circ.mtrx([sqrt1_2, sqrt1_2, sqrt1_2, -sqrt1_2], q)\n",
    "    return 1\n",
    "\n",
    "def y_to_z(circ, q):\n",
    "    circ.mtrx([1, 0, 0, -1j], q)\n",
    "    circ.mtrx([sqrt1_2, sqrt1_2, sqrt1_2, -sqrt1_2], q)\n",
    "    return 2\n",
    "\n",
    "def y_to_x(circ, q):\n",
    "    circ.mtrx([1, 0, 0, -1j], q)\n",
    "    return 1\n",
    "\n",
    "def z_to_x(circ, q):\n",
    "    circ.mtrx([sqrt1_2, sqrt1_2, sqrt1_2, -sqrt1_2], q)\n",
    "    return 1\n",
    "\n",
    "def z_to_y(circ, q):\n",
    "    circ.mtrx([sqrt1_2, sqrt1_2, sqrt1_2, -sqrt1_2], q)\n",
    "    circ.mtrx([1, 0, 0, 1j], q)\n",
    "    return 2\n",
    "\n",
    "def cx(circ, q1, q2):\n",
    "    circ.ucmtrx([q1], [0, 1, 1, 0], q2, 1)\n",
    "    return 1\n",
    "\n",
    "def cy(circ, q1, q2):\n",
    "    circ.ucmtrx([q1], [0, -1j, 1j, 0], q2, 1)\n",
    "    return 1\n",
    "\n",
    "def cz(circ, q1, q2):\n",
    "    circ.ucmtrx([q1], [1, 0, 0, -1], q2, 1)\n",
    "    return 1\n",
    "\n",
    "def acx(circ, q1, q2):\n",
    "    circ.ucmtrx([q1], [0, 1, 1, 0], q2, 0)\n",
    "    return 1\n",
    "\n",
    "def acy(circ, q1, q2):\n",
    "    circ.ucmtrx([q1], [0, -1j, 1j, 0], q2, 0)\n",
    "    return 1\n",
    "\n",
    "def acz(circ, q1, q2):\n",
    "    circ.ucmtrx([q1], [1, 0, 0, -1], q2, 0)\n",
    "    return 1\n",
    "\n",
    "def swap(circ, q1, q2):\n",
    "    circ.swap(q1, q2)\n",
    "    return 1\n",
    "\n",
    "def ident(circ, q1, q2):\n",
    "    return 0\n",
    "\n",
    "def random_circuit(depth, circ):\n",
    "    gate_count = 0\n",
    "    num_qubits = depth\n",
    "    single_bit_gates = x_to_y, x_to_z, y_to_z, y_to_x, z_to_x, z_to_y\n",
    "    # two_bit_gates = ident, ident, cx, cz, cy, acx, acz, acy\n",
    "    two_bit_gates = swap, ident, cx, cz, cy, acx, acz, acy\n",
    "    gateSequence = [ 0, 3, 2, 1, 2, 1, 0, 3 ]\n",
    "    colLen = math.floor(math.sqrt(num_qubits))\n",
    "    while ((math.floor(num_qubits / colLen) * colLen) != num_qubits):\n",
    "        colLen = colLen - 1\n",
    "    rowLen = num_qubits // colLen;\n",
    "\n",
    "    for i in range(depth):\n",
    "        # Single bit gates\n",
    "        for j in range(num_qubits):\n",
    "            # Random basis switch\n",
    "            gate = random.choice(single_bit_gates)\n",
    "            gate_count += gate(circ, j)\n",
    "            rnd = random.uniform(0, 4 * math.pi)\n",
    "            circ.mtrx([1, 0, 0, math.cos(rnd) + math.sin(rnd) * 1j], j)\n",
    "            ++gate_count\n",
    "\n",
    "        gate = gateSequence[0]\n",
    "        gateSequence.pop(0)\n",
    "        gateSequence.append(gate)\n",
    "\n",
    "        for row in range(1, rowLen, 2):\n",
    "            for col in range(0, colLen):\n",
    "                tempRow = row;\n",
    "                tempCol = col;\n",
    "\n",
    "                tempRow = tempRow + (1 if (gate & 2) else -1)\n",
    "                if colLen != 1:\n",
    "                    tempCol = tempCol + (1 if (gate & 1) else 0)\n",
    "\n",
    "                if (tempRow < 0) or (tempCol < 0) or (tempRow >= rowLen) or (tempCol >= colLen):\n",
    "                    continue;\n",
    "\n",
    "                b1 = row * colLen + col;\n",
    "                b2 = tempRow * colLen + tempCol;\n",
    "\n",
    "                # Two bit gates\n",
    "                g = random.choice(two_bit_gates)\n",
    "                gate_count += g(circ, b1, b2)\n",
    "\n",
    "    print(\"Gate count (before optimization): \" + str(gate_count))\n",
    "\n",
    "    return circ"
   ]
  },
  {
   "cell_type": "code",
   "execution_count": 3,
   "id": "e57e248b",
   "metadata": {},
   "outputs": [
    {
     "name": "stdout",
     "output_type": "stream",
     "text": [
      "Gate count (before optimization): 58\n",
      "Gate count (after optimization): 17\n"
     ]
    }
   ],
   "source": [
    "from pyqrack import QrackSimulator, QrackCircuit\n",
    "\n",
    "qcircuit = QrackCircuit()\n",
    "random_circuit(6, qcircuit)\n",
    "qcircuit.out_to_file('qrack_circuit.qc')\n",
    "\n",
    "data = ''\n",
    "with open('qrack_circuit.qc', 'r') as file:\n",
    "    data = file.read().split()\n",
    "    \n",
    "print(\"Gate count (after optimization): \" + str(data[1]))"
   ]
  },
  {
   "cell_type": "code",
   "execution_count": 4,
   "id": "0d3b0d97",
   "metadata": {},
   "outputs": [
    {
     "name": "stdout",
     "output_type": "stream",
     "text": [
      "Device #0, Loaded binary from: /home/iamu/.qrack/qrack_ocl_dev_Intel(R)_UHD_Graphics_[0x9bc4].ir\n",
      "Device #1, Loaded binary from: /home/iamu/.qrack/qrack_ocl_dev_NVIDIA_GeForce_RTX_3080_Laptop_GPU.ir\n",
      "6\n",
      "Execution seconds: 0.10768073600047501\n"
     ]
    }
   ],
   "source": [
    "import time\n",
    "\n",
    "start = time.perf_counter()\n",
    "qcircuit = QrackCircuit()\n",
    "qcircuit.in_from_file('qrack_circuit.qc')\n",
    "qsim = QrackSimulator()\n",
    "qcircuit.run(qsim)\n",
    "print(qsim._qubitCount)\n",
    "qsim.m_all()\n",
    "print(\"Execution seconds: \" + str(time.perf_counter() - start))\n"
   ]
  },
  {
   "cell_type": "markdown",
   "id": "361cc6fa",
   "metadata": {},
   "source": [
    "If we have Qiskit and numpy installed, we can convert to a Qiskit circuit."
   ]
  },
  {
   "cell_type": "code",
   "execution_count": 5,
   "id": "545889fc",
   "metadata": {},
   "outputs": [
    {
     "name": "stdout",
     "output_type": "stream",
     "text": [
      "     ┌─────────────┐                                               »\n",
      "q_0: ┤ Multiplexer ├───────────────────────────────────────────────»\n",
      "     └─────────────┘                ┌──────────────┐               »\n",
      "q_1: ───────────────────────────────┤0             ├───────────────»\n",
      "     ┌─────────────┐┌──────────────┐│              │┌─────────────┐»\n",
      "q_2: ┤ Multiplexer ├┤1             ├┤  Multiplexer ├┤ Multiplexer ├»\n",
      "     ├─────────────┤│              ││              │├─────────────┤»\n",
      "q_3: ┤ Multiplexer ├┤  Multiplexer ├┤1             ├┤ Multiplexer ├»\n",
      "     ├─────────────┤│              │└──────────────┘└─────────────┘»\n",
      "q_4: ┤ Multiplexer ├┤0             ├───────────────────────────────»\n",
      "     ├─────────────┤└──────────────┘                               »\n",
      "q_5: ┤ Multiplexer ├───────────────────────────────────────────────»\n",
      "     └─────────────┘                                               »\n",
      "c: 6/══════════════════════════════════════════════════════════════»\n",
      "                                                                   »\n",
      "«                                                                    »\n",
      "«q_0: ───────────────────────────────────────────────────────────────»\n",
      "«                     ┌──────────────┐               ┌──────────────┐»\n",
      "«q_1: ────────────────┤0             ├───────────────┤0             ├»\n",
      "«     ┌──────────────┐│  Multiplexer │┌─────────────┐│  Multiplexer │»\n",
      "«q_2: ┤1             ├┤1             ├┤ Multiplexer ├┤1             ├»\n",
      "«     │              │├──────────────┤├─────────────┤├──────────────┤»\n",
      "«q_3: ┤  Multiplexer ├┤1             ├┤ Multiplexer ├┤1             ├»\n",
      "«     │              ││              │└─────────────┘│              │»\n",
      "«q_4: ┤0             ├┤  Multiplexer ├───────────────┤  Multiplexer ├»\n",
      "«     └──────────────┘│              │               │              │»\n",
      "«q_5: ────────────────┤0             ├───────────────┤0             ├»\n",
      "«                     └──────────────┘               └──────────────┘»\n",
      "«c: 6/═══════════════════════════════════════════════════════════════»\n",
      "«                                                                    »\n",
      "«                    \n",
      "«q_0: ───────────────\n",
      "«                    \n",
      "«q_1: ───────────────\n",
      "«                    \n",
      "«q_2: ───────────────\n",
      "«     ┌─────────────┐\n",
      "«q_3: ┤ Multiplexer ├\n",
      "«     └─────────────┘\n",
      "«q_4: ───────────────\n",
      "«                    \n",
      "«q_5: ───────────────\n",
      "«                    \n",
      "«c: 6/═══════════════\n",
      "«                    \n"
     ]
    }
   ],
   "source": [
    "circ = QrackCircuit.file_to_qiskit_circuit('qrack_circuit.qc')\n",
    "print(circ)"
   ]
  },
  {
   "cell_type": "code",
   "execution_count": 6,
   "id": "28f127dc",
   "metadata": {},
   "outputs": [
    {
     "name": "stdout",
     "output_type": "stream",
     "text": [
      "global phase: 2.2743\n",
      "     ┌────────────────────────────┐                                      »\n",
      "q_0: ┤ U3(1.3159,0.39976,-2.4608) ├──────────────────────────────────────»\n",
      "     └────┬──────────────────┬────┘     ┌───────────────────────────────┐»\n",
      "q_1: ─────┤ U3(π/2,π/2,-π/2) ├───────■──┤ U3(2.8206,4.0432e-07,0.79519) ├»\n",
      "     ┌────┴──────────────────┴────┐  │  └───────────────────────────────┘»\n",
      "q_2: ┤ U3(0.72156,1.1722,-1.2179) ├──┼──────────────────■────────────────»\n",
      "     └──┬─────────────────────┬───┘┌─┴─┐                │                »\n",
      "q_3: ───┤ U3(2.7035,π/2,-π/2) ├────┤ X ├────────────────┼────────────────»\n",
      "     ┌──┴─────────────────────┴──┐ └───┘              ┌─┴─┐              »\n",
      "q_4: ┤ U3(1.7752,1.1546,-2.9929) ├────────────────────┤ X ├──────────────»\n",
      "     ├───────────────────────────┤                    └───┘              »\n",
      "q_5: ┤ U3(0.44892,2.7941,1.4845) ├───────────────────────────────────────»\n",
      "     └───────────────────────────┘                                       »\n",
      "c: 6/════════════════════════════════════════════════════════════════════»\n",
      "                                                                         »\n",
      "«                                                             »\n",
      "«q_0: ────────────────────────────────────────────────────────»\n",
      "«                                                             »\n",
      "«q_1: ────────────────────────────────────────────────────────»\n",
      "«          ┌───────────────────┐          ┌──────────────────┐»\n",
      "«q_2: ─────┤ U3(1.7919,-π,π/2) ├───────■──┤ U3(2.015,π/2,-π) ├»\n",
      "«     ┌────┴───────────────────┴────┐  │  └──────────────────┘»\n",
      "«q_3: ┤ U3(1.8666,0.29403,-0.76641) ├──┼───────────■──────────»\n",
      "«     └┬────────────────────────────┤┌─┴─┐         │          »\n",
      "«q_4: ─┤ U3(1.0508,-0.53767,2.4468) ├┤ X ├─────────┼──────────»\n",
      "«      └────────────────────────────┘└───┘       ┌─┴─┐        »\n",
      "«q_5: ───────────────────────────────────────────┤ X ├────────»\n",
      "«                                                └───┘        »\n",
      "«c: 6/════════════════════════════════════════════════════════»\n",
      "«                                                             »\n",
      "«                                                                 »\n",
      "«q_0: ────────────────────────────────────────────────────────────»\n",
      "«                                       ┌───────────────────┐     »\n",
      "«q_1: ──────────────■───────────────────┤ U3(2.4004,-π,π/2) ├─────»\n",
      "«                 ┌─┴─┐             ┌───┴───────────────────┴────┐»\n",
      "«q_2: ────────────┤ X ├─────────────┤ U3(1.0508,-0.53767,2.4468) ├»\n",
      "«         ┌───────┴───┴───────┐     └────────────────────────────┘»\n",
      "«q_3: ────┤ U3(2.0769,-π,π/2) ├───────────────────■───────────────»\n",
      "«     ┌───┴───────────────────┴───┐               │               »\n",
      "«q_4: ┤ U3(2.2058,2.2516,-2.1735) ├───────────────┼───────────────»\n",
      "«     ├───────────────────────────┴┐            ┌─┴─┐             »\n",
      "«q_5: ┤ U3(1.0508,-0.53767,2.4468) ├────────────┤ X ├─────────────»\n",
      "«     └────────────────────────────┘            └───┘             »\n",
      "«c: 6/════════════════════════════════════════════════════════════»\n",
      "«                                                                 »\n",
      "«                                                          \n",
      "«q_0: ─────────────────────────────────────────────────────\n",
      "«                                     ┌─────────────────┐  \n",
      "«q_1: ───────────────■────────────────┤ U3(π/2,-π,-π/2) ├──\n",
      "«                  ┌─┴─┐             ┌┴─────────────────┴─┐\n",
      "«q_2: ─────────────┤ X ├─────────────┤ U3(π/2,-0.20341,0) ├\n",
      "«         ┌────────┴───┴─────────┐   └────────────────────┘\n",
      "«q_3: ────┤ U3(0.4358,-2.9691,0) ├─────────────────────────\n",
      "«         └──────────────────────┘                         \n",
      "«q_4: ─────────────────────────────────────────────────────\n",
      "«     ┌─────────────────────────────┐                      \n",
      "«q_5: ┤ U3(2.0088,0.85783,-0.55105) ├──────────────────────\n",
      "«     └─────────────────────────────┘                      \n",
      "«c: 6/═════════════════════════════════════════════════════\n",
      "«                                                          \n"
     ]
    }
   ],
   "source": [
    "from qiskit.compiler.transpiler import transpile\n",
    "\n",
    "basis_gates = [\"u3\", \"cx\"]\n",
    "circ = transpile(circ, basis_gates=basis_gates, optimization_level=3)\n",
    "print(circ)"
   ]
  },
  {
   "cell_type": "markdown",
   "id": "df70ba4d",
   "metadata": {},
   "source": [
    "If the basis gates can be converted, a Qiskit `QuantumCircuit` can also be read into a `QrackCircuit`."
   ]
  },
  {
   "cell_type": "code",
   "execution_count": 7,
   "id": "080e8cad",
   "metadata": {},
   "outputs": [],
   "source": [
    "qcircuit = QrackCircuit()\n",
    "qcircuit.in_from_qiskit_circuit(circ)\n",
    "qcircuit.out_to_file('qiskit.qc')"
   ]
  }
 ],
 "metadata": {
  "kernelspec": {
   "display_name": "Python 3 (ipykernel)",
   "language": "python",
   "name": "python3"
  },
  "language_info": {
   "codemirror_mode": {
    "name": "ipython",
    "version": 3
   },
   "file_extension": ".py",
   "mimetype": "text/x-python",
   "name": "python",
   "nbconvert_exporter": "python",
   "pygments_lexer": "ipython3",
   "version": "3.10.6"
  }
 },
 "nbformat": 4,
 "nbformat_minor": 5
}
