{
 "cells": [
  {
   "cell_type": "markdown",
   "id": "tracked-cricket",
   "metadata": {},
   "source": [
    "# Noise (in PyQrack)"
   ]
  },
  {
   "cell_type": "markdown",
   "id": "medium-express",
   "metadata": {},
   "source": [
    "Qrack and PyQrack were designed for maximum performance on exact simulation of quantum circuits, hence no noise models are internally supported, yet. Further, PyQrack only supports \"pure\" quantum states, and not density matrix representation, for example. However, there are ways in which we can externally and stochastically apply common types of noise to a PyQrack simulation."
   ]
  },
  {
   "cell_type": "markdown",
   "id": "peaceful-vaccine",
   "metadata": {},
   "source": [
    "When using external stochastic noise gadgets, direct queries of exact quantum state and measurement sampling after a unitary preamble are **not** supported. The methods can still be called, but the pure state returned **cannot** be equivalent to a density matrix with noise, (i.e.: with partially mixed states, in effect,) and sampling operations will sample the happenstance probabilistic noise instead of the full stochastic profile of this noise. To simulate distributions with noise, we must run the circuits top-to-bottom for each sample, with probabilistic noise injection gadgets."
   ]
  },
  {
   "cell_type": "markdown",
   "id": "48109b4d",
   "metadata": {},
   "source": [
    "An obvious and simple type of noise injection gadget is for a probabilistic Pauli operator bit flip error."
   ]
  },
  {
   "cell_type": "code",
   "execution_count": 1,
   "id": "caeb7889",
   "metadata": {},
   "outputs": [],
   "source": [
    "import random"
   ]
  },
  {
   "cell_type": "code",
   "execution_count": 2,
   "id": "625d869c",
   "metadata": {},
   "outputs": [],
   "source": [
    "def pauli_bit_flip_noise_gadget(simulator, qubit, probability):\n",
    "    if (not probability >= 1.) and ((probability <= 0.) or (random.uniform(0., 1.) >= probability)):\n",
    "        # We avoid the bit flip error\n",
    "        return\n",
    "\n",
    "    # We apply a bit flip error\n",
    "    axis = random.randint(0, 2)\n",
    "    if axis == 0:\n",
    "        simulator.x(qubit)\n",
    "    elif axis == 1:\n",
    "        simulator.y(qubit)\n",
    "    else:\n",
    "        simulator.z(qubit)"
   ]
  },
  {
   "cell_type": "code",
   "execution_count": 3,
   "id": "individual-generator",
   "metadata": {},
   "outputs": [
    {
     "name": "stdout",
     "output_type": "stream",
     "text": [
      "Device #0, Loaded binary from: /home/iamu/.qrack/qrack_ocl_dev_Intel(R)_UHD_Graphics_[0x9bc4].ir\n",
      "Device #1, Loaded binary from: /home/iamu/.qrack/qrack_ocl_dev_NVIDIA_GeForce_RTX_3080_Laptop_GPU.ir\n",
      "Counter({0: 91, 1: 9})\n"
     ]
    }
   ],
   "source": [
    "from collections import Counter\n",
    "from pyqrack import QrackSimulator\n",
    "\n",
    "qsim = QrackSimulator(1)\n",
    "\n",
    "results = []\n",
    "for i in range(0, 100):\n",
    "    qsim.reset_all()\n",
    "    pauli_bit_flip_noise_gadget(qsim, 0, 0.2)\n",
    "    results.append(qsim.m(0))\n",
    "\n",
    "print(Counter(results))"
   ]
  },
  {
   "cell_type": "markdown",
   "id": "9136e523",
   "metadata": {},
   "source": [
    "Depolarizing noise (as on a single qubit noise channel) partially replaces a qubit's pure quantum state with a maximally mixed state, according to a tunable noise severity parameter."
   ]
  },
  {
   "cell_type": "markdown",
   "id": "b62fd1f5",
   "metadata": {},
   "source": [
    "(**Warning**: This hypothetical approach to recreating stochastic depolarizing noise has not been vetted. This is purely Dan's first guess, as lead developer of Qrack. It does effectively fully depolarize for a `lam` parameter value of `1.`, though.)"
   ]
  },
  {
   "cell_type": "code",
   "execution_count": 4,
   "id": "422e5adc",
   "metadata": {},
   "outputs": [],
   "source": [
    "import math\n",
    "from pyqrack import Pauli\n",
    "\n",
    "def depolarizing_1qb_noise_gadget(simulator, num_qubits, qubit, lam):\n",
    "    if (lam <= 0.):\n",
    "        return\n",
    "\n",
    "    angle = math.asin(lam)\n",
    "    simulator.allocate_qubit(num_qubits)\n",
    "    simulator.r(Pauli.PauliY, angle, qubit)\n",
    "    simulator.mcx([qubit], num_qubits)\n",
    "    simulator.m(num_qubits)\n",
    "    simulator.r(Pauli.PauliY, -angle, qubit)\n",
    "    simulator.release(num_qubits)"
   ]
  },
  {
   "cell_type": "code",
   "execution_count": 5,
   "id": "06fc7e6a",
   "metadata": {},
   "outputs": [
    {
     "name": "stdout",
     "output_type": "stream",
     "text": [
      "Counter({0: 98, 1: 2})\n"
     ]
    }
   ],
   "source": [
    "qsim = QrackSimulator(1)\n",
    "\n",
    "results = []\n",
    "for i in range(0, 100):\n",
    "    qsim.reset_all()\n",
    "    depolarizing_1qb_noise_gadget(qsim, 1, 0, 0.2)\n",
    "    results.append(qsim.m(0))\n",
    "\n",
    "print(Counter(results))"
   ]
  }
 ],
 "metadata": {
  "kernelspec": {
   "display_name": "Python 3 (ipykernel)",
   "language": "python",
   "name": "python3"
  },
  "language_info": {
   "codemirror_mode": {
    "name": "ipython",
    "version": 3
   },
   "file_extension": ".py",
   "mimetype": "text/x-python",
   "name": "python",
   "nbconvert_exporter": "python",
   "pygments_lexer": "ipython3",
   "version": "3.10.4"
  }
 },
 "nbformat": 4,
 "nbformat_minor": 5
}
