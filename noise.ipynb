{
 "cells": [
  {
   "cell_type": "markdown",
   "id": "tracked-cricket",
   "metadata": {},
   "source": [
    "# Noise (in PyQrack)"
   ]
  },
  {
   "cell_type": "markdown",
   "id": "medium-express",
   "metadata": {},
   "source": [
    "Qrack and PyQrack were designed for maximum performance on exact simulation of quantum circuits, hence no noise models are internally supported, yet. Further, PyQrack only supports \"pure\" quantum states, and not density matrix representation, for example. However, there are ways in which we can externally and stochastically apply common types of noise to a PyQrack simulation."
   ]
  },
  {
   "cell_type": "markdown",
   "id": "peaceful-vaccine",
   "metadata": {},
   "source": [
    "When using external stochastic noise gadgets, direct queries of exact quantum state and measurement sampling after a unitary preamble are **not** supported. The methods can still be called, but the pure state returned **cannot** be equivalent to a density matrix with noise, (i.e.: with partially mixed states, in effect,) and sampling operations will sample the happenstance probabilistic noise instead of the full stochastic profile of this noise. To simulate distributions with noise, we must run the circuits top-to-bottom for each sample, with probabilistic noise injection gadgets."
   ]
  },
  {
   "cell_type": "markdown",
   "id": "4ae726c5",
   "metadata": {},
   "source": [
    "An obvious and simple type of noise injection gadget is for a probabilistic Pauli operator bit flip error."
   ]
  },
  {
   "cell_type": "code",
   "execution_count": 1,
   "id": "4d7dfe0f",
   "metadata": {},
   "outputs": [],
   "source": [
    "import random"
   ]
  },
  {
   "cell_type": "code",
   "execution_count": 2,
   "id": "4ef7ff7d",
   "metadata": {},
   "outputs": [],
   "source": [
    "def pauli_bit_flip_noise_gadget(simulator, qubit, probability):\n",
    "    if (not probability >= 1.) and ((probability <= 0.) or (random.uniform(0., 1.) >= probability)):\n",
    "        # We avoid the bit flip error\n",
    "        return\n",
    "\n",
    "    # We apply a bit flip error\n",
    "    axis = random.randint(0, 2)\n",
    "    if axis == 0:\n",
    "        simulator.x(qubit)\n",
    "    elif axis == 1:\n",
    "        simulator.y(qubit)\n",
    "    else:\n",
    "        simulator.z(qubit)"
   ]
  },
  {
   "cell_type": "code",
   "execution_count": 3,
   "id": "individual-generator",
   "metadata": {},
   "outputs": [
    {
     "name": "stdout",
     "output_type": "stream",
     "text": [
      "Device #0, Loaded binary from: /home/iamu/.qrack/qrack_ocl_dev_Intel(R)_UHD_Graphics_[0x9bc4].ir\n",
      "Device #1, Loaded binary from: /home/iamu/.qrack/qrack_ocl_dev_NVIDIA_GeForce_RTX_3080_Laptop_GPU.ir\n",
      "Counter({0: 90, 1: 10})\n"
     ]
    }
   ],
   "source": [
    "from collections import Counter\n",
    "from pyqrack import QrackSimulator\n",
    "\n",
    "qsim = QrackSimulator(1)\n",
    "\n",
    "results = []\n",
    "for i in range(0, 100):\n",
    "    qsim.reset_all()\n",
    "    pauli_bit_flip_noise_gadget(qsim, 0, 0.2)\n",
    "    results.append(qsim.m(0))\n",
    "\n",
    "print(Counter(results))"
   ]
  },
  {
   "cell_type": "markdown",
   "id": "ce35f600",
   "metadata": {},
   "source": [
    "Depolarizing noise (as on a single qubit noise channel) partially replaces a qubit's pure quantum state with a maximally mixed state, according to a tunable noise severity parameter."
   ]
  },
  {
   "cell_type": "markdown",
   "id": "d5d63c57",
   "metadata": {},
   "source": [
    "(**Warning**: This hypothetical approach to recreating stochastic depolarizing noise has not been vetted. This is purely Dan's first guess, as lead developer of Qrack. It does effectively fully depolarize for a `lam` parameter value of `1.`, though.)"
   ]
  },
  {
   "cell_type": "code",
   "execution_count": 4,
   "id": "c5ff85a8",
   "metadata": {},
   "outputs": [],
   "source": [
    "import math\n",
    "from pyqrack import Pauli\n",
    "\n",
    "def depolarizing_1qb_noise_gadget(simulator, num_qubits, qubit, lam):\n",
    "    if (lam <= 0.):\n",
    "        return\n",
    "\n",
    "    # Random azimuth around Z axis of measurement\n",
    "    # (which effectively randomizes depolarization orientation in X-Y plane)\n",
    "    angleZ = random.uniform(0., 4. * math.pi)\n",
    "    # Total depolarization magnitude angle\n",
    "    lamAngle = math.asin(lam)\n",
    "\n",
    "    # Azimuth\n",
    "    simulator.r(Pauli.PauliZ, angleZ, qubit)\n",
    "    # Depolarization magnitude\n",
    "    simulator.r(Pauli.PauliY, lamAngle, qubit)\n",
    "\n",
    "    # Allocate an ancilla\n",
    "    simulator.allocate_qubit(num_qubits)\n",
    "    # Partially entangle with the ancilla\n",
    "    simulator.mcx([qubit], num_qubits)\n",
    "    # Partially collapse the original state\n",
    "    simulator.m(num_qubits)\n",
    "    # The ancilla is fully separable, after measurement.\n",
    "    simulator.release(num_qubits)\n",
    "    \n",
    "    # Uncompute\n",
    "    simulator.r(Pauli.PauliY, -lamAngle, qubit)\n",
    "    simulator.r(Pauli.PauliZ, -angleZ, qubit)"
   ]
  },
  {
   "cell_type": "code",
   "execution_count": 5,
   "id": "8f72ff46",
   "metadata": {},
   "outputs": [
    {
     "name": "stdout",
     "output_type": "stream",
     "text": [
      "Counter({1: 91, 0: 9})\n"
     ]
    }
   ],
   "source": [
    "qsim = QrackSimulator(1)\n",
    "\n",
    "results = []\n",
    "# This fixes the same random angle for 100 trials.\n",
    "# Try varying these (fixed) angles and the depolarization parameter.\n",
    "angleX = random.uniform(0., 4. * math.pi)\n",
    "angleY = random.uniform(0., 4. * math.pi)\n",
    "angleZ = random.uniform(0., 4. * math.pi)\n",
    "for i in range(0, 100):\n",
    "    qsim.reset_all()\n",
    "    qsim.u(0, angleX, angleY, angleZ)\n",
    "    depolarizing_1qb_noise_gadget(qsim, 1, 0, 0.2)\n",
    "    results.append(qsim.m(0))\n",
    "\n",
    "print(Counter(results))"
   ]
  }
 ],
 "metadata": {
  "kernelspec": {
   "display_name": "Python 3 (ipykernel)",
   "language": "python",
   "name": "python3"
  },
  "language_info": {
   "codemirror_mode": {
    "name": "ipython",
    "version": 3
   },
   "file_extension": ".py",
   "mimetype": "text/x-python",
   "name": "python",
   "nbconvert_exporter": "python",
   "pygments_lexer": "ipython3",
   "version": "3.10.4"
  }
 },
 "nbformat": 4,
 "nbformat_minor": 5
}
