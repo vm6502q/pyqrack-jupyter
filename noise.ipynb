{
 "cells": [
  {
   "cell_type": "markdown",
   "id": "tracked-cricket",
   "metadata": {},
   "source": [
    "# Noise (in PyQrack)"
   ]
  },
  {
   "cell_type": "markdown",
   "id": "medium-express",
   "metadata": {},
   "source": [
    "Qrack and PyQrack were designed for maximum performance on exact simulation of quantum circuits, hence no noise models are internally supported, yet. Further, PyQrack only supports \"pure\" quantum states and not density matrix representation, for example. However, there are ways in which we can externally and stochastically apply common types of noise to a PyQrack simulation."
   ]
  },
  {
   "cell_type": "markdown",
   "id": "peaceful-vaccine",
   "metadata": {},
   "source": [
    "When using external stochastic noise, direct queries of exact quantum state and measurement sampling after a unitary preamble are **not** supported. The methods can still be called, but the pure state returned **cannot** be equivalent to a density matrix with noise, (i.e.: with partially mixed states, in effect,) and sampling operations will sample the happenstance probabilistic noise instead of the full stochastic profile of this noise. To simulate distributions with noise, we must run the circuits top-to-bottom for each sample, when we use probabilistic noise injection methods."
   ]
  },
  {
   "cell_type": "markdown",
   "id": "8c0ce32a",
   "metadata": {},
   "source": [
    "An obvious and simple type of noise injection gadget is for a probabilistic Pauli operator bit flip error."
   ]
  },
  {
   "cell_type": "code",
   "execution_count": 1,
   "id": "163c55a1",
   "metadata": {},
   "outputs": [],
   "source": [
    "import random\n",
    "\n",
    "def inject_pauli_bit_flip_noise(simulator, qubit, probability):\n",
    "    if (not probability >= 1.) and ((probability <= 0.) or (random.uniform(0., 1.) >= probability)):\n",
    "        # We avoid the bit flip error\n",
    "        return\n",
    "\n",
    "    # We apply a bit flip error\n",
    "    axis = random.randint(0, 2)\n",
    "    if axis == 0:\n",
    "        simulator.x(qubit)\n",
    "    elif axis == 1:\n",
    "        simulator.y(qubit)\n",
    "    else:\n",
    "        simulator.z(qubit)"
   ]
  },
  {
   "cell_type": "code",
   "execution_count": 2,
   "id": "individual-generator",
   "metadata": {},
   "outputs": [
    {
     "name": "stdout",
     "output_type": "stream",
     "text": [
      "Device #0, Loaded binary from: /home/iamu/.qrack/qrack_ocl_dev_Intel(R)_UHD_Graphics_[0x9bc4].ir\n",
      "Device #1, Loaded binary from: /home/iamu/.qrack/qrack_ocl_dev_NVIDIA_GeForce_RTX_3080_Laptop_GPU.ir\n",
      "Counter({0: 86, 1: 14})\n"
     ]
    }
   ],
   "source": [
    "from collections import Counter\n",
    "from pyqrack import QrackSimulator\n",
    "\n",
    "qsim = QrackSimulator(1)\n",
    "\n",
    "results = []\n",
    "for _ in range(0, 100):\n",
    "    qsim.reset_all()\n",
    "    inject_pauli_bit_flip_noise(qsim, 0, 0.2)\n",
    "    results.append(qsim.m(0))\n",
    "\n",
    "print(Counter(results))"
   ]
  },
  {
   "cell_type": "markdown",
   "id": "653051f3",
   "metadata": {},
   "source": [
    "Depolarizing noise (as on a single qubit noise channel) partially replaces a qubit's pure quantum state with a maximally mixed state, according to a tunable noise severity parameter."
   ]
  },
  {
   "cell_type": "markdown",
   "id": "ce651062",
   "metadata": {},
   "source": [
    "(**Warning**: This hypothetical approach to recreating stochastic depolarizing noise has not been vetted. This is purely Dan's first guess, as lead developer of Qrack. It does effectively fully depolarize for a `lam` parameter value of `1.`, though.)"
   ]
  },
  {
   "cell_type": "code",
   "execution_count": 3,
   "id": "b06b060e",
   "metadata": {},
   "outputs": [],
   "source": [
    "import math\n",
    "from pyqrack import Pauli\n",
    "\n",
    "def inject_depolarizing_1qb_noise(simulator, qubit, lam):\n",
    "    if (lam <= 0.):\n",
    "        return\n",
    "\n",
    "    # Random azimuth around Z axis of measurement,\n",
    "    # which effectively randomizes depolarization orientation in X-Y plane\n",
    "    angleZ = random.uniform(0., 4. * math.pi)\n",
    "    # Total depolarization magnitude angle,\n",
    "    # where use of hyperbolic trig. is based on empirical exploratory work\n",
    "    lamAngle = math.asinh(2 * lam)\n",
    "\n",
    "    # Azimuth\n",
    "    simulator.r(Pauli.PauliZ, angleZ, qubit)\n",
    "    # Depolarization magnitude\n",
    "    simulator.r(Pauli.PauliY, lamAngle, qubit)\n",
    "\n",
    "    # Allocate an ancilla\n",
    "    ancilla = simulator.num_qubits()\n",
    "    simulator.allocate_qubit(ancilla)\n",
    "    # Partially entangle with the ancilla\n",
    "    simulator.mcx([qubit], ancilla)\n",
    "    # Partially collapse the original state\n",
    "    simulator.m(ancilla)\n",
    "    # The ancilla is fully separable, after measurement.\n",
    "    simulator.release(ancilla)\n",
    "    \n",
    "    # Uncompute\n",
    "    simulator.r(Pauli.PauliY, -lamAngle, qubit)\n",
    "    simulator.r(Pauli.PauliZ, -angleZ, qubit)"
   ]
  },
  {
   "cell_type": "code",
   "execution_count": 4,
   "id": "56b29a73",
   "metadata": {
    "scrolled": true
   },
   "outputs": [
    {
     "name": "stdout",
     "output_type": "stream",
     "text": [
      "Counter({0: 53, 3: 38, 1: 6, 2: 3})\n"
     ]
    }
   ],
   "source": [
    "qsim = QrackSimulator(2)\n",
    "\n",
    "results = []\n",
    "for _ in range(100):\n",
    "    qsim.reset_all()\n",
    "    qsim.h(0)\n",
    "    qsim.mcx([0], 1)\n",
    "    inject_depolarizing_1qb_noise(qsim, 0, 0.2)\n",
    "    results.append(qsim.m_all())\n",
    "\n",
    "print(Counter(results))"
   ]
  },
  {
   "cell_type": "markdown",
   "id": "9eea36e9",
   "metadata": {},
   "source": [
    "Can random circuits be simulated more easily, with noise?"
   ]
  },
  {
   "cell_type": "code",
   "execution_count": 5,
   "id": "530104fc",
   "metadata": {},
   "outputs": [],
   "source": [
    "import time\n",
    "\n",
    "def cx(circ, q1, q2):\n",
    "    circ.mcx([q1], q2)\n",
    "\n",
    "def cy(circ, q1, q2):\n",
    "    circ.mcy([q1], q2)\n",
    "\n",
    "def cz(circ, q1, q2):\n",
    "    circ.mcz([q1], q2)\n",
    "\n",
    "def acx(circ, q1, q2):\n",
    "    circ.macx([q1], q2)\n",
    "\n",
    "def acy(circ, q1, q2):\n",
    "    circ.macy([q1], q2)\n",
    "\n",
    "def acz(circ, q1, q2):\n",
    "    circ.macz([q1], q2)\n",
    "\n",
    "def swap(circ, q1, q2):\n",
    "    circ.swap(q1, q2)\n",
    "\n",
    "def random_circuit(circ, depth, noise):\n",
    "    num_qubits = circ.num_qubits()\n",
    "    one_bit_gates = circ.x, circ.y, circ.z, circ.h, circ.s, circ.adjs, circ.t, circ.adjt\n",
    "    two_bit_gates = swap, cx, cz, cy, acx, acz, acy\n",
    "    gateSequence = [ 0, 3, 2, 1, 2, 1, 0, 3 ]\n",
    "    colLen = math.floor(math.sqrt(num_qubits))\n",
    "    while ((math.floor(num_qubits / colLen) * colLen) != num_qubits):\n",
    "        colLen = colLen - 1\n",
    "    rowLen = num_qubits // colLen;\n",
    "\n",
    "    start = time.time()\n",
    "\n",
    "    for i in range(depth):\n",
    "        # Single bit gates\n",
    "        for j in range(num_qubits):\n",
    "            g = random.choice(one_bit_gates)\n",
    "            g(j)\n",
    "            # Add noise channel for non-Clifford gates\n",
    "            if g == circ.t or g == circ.adjt:\n",
    "                inject_depolarizing_1qb_noise(circ, j, noise)\n",
    "\n",
    "        gate = gateSequence[0]\n",
    "        gateSequence.pop(0)\n",
    "        gateSequence.append(gate)\n",
    "\n",
    "        for row in range(1, rowLen, 2):\n",
    "            for col in range(0, colLen):\n",
    "                tempRow = row;\n",
    "                tempCol = col;\n",
    "\n",
    "                tempRow = tempRow + (1 if (gate & 2) else -1)\n",
    "                if colLen != 1:\n",
    "                    tempCol = tempCol + (1 if (gate & 1) else 0)\n",
    "\n",
    "                if (tempRow < 0) or (tempCol < 0) or (tempRow >= rowLen) or (tempCol >= colLen):\n",
    "                    continue;\n",
    "\n",
    "                b1 = row * colLen + col;\n",
    "                b2 = tempRow * colLen + tempCol;\n",
    "\n",
    "                # Two bit gates\n",
    "                g = random.choice(two_bit_gates)\n",
    "                g(circ, b1, b2)\n",
    "\n",
    "    circ.m_all()\n",
    "\n",
    "    return time.time() - start"
   ]
  },
  {
   "cell_type": "code",
   "execution_count": 6,
   "id": "37caba25",
   "metadata": {},
   "outputs": [
    {
     "name": "stdout",
     "output_type": "stream",
     "text": [
      "Noisy simulation, success fraction: 1.0\n",
      "Noisy simulation, average seconds: 0.011107149124145508\n"
     ]
    }
   ],
   "source": [
    "import os\n",
    "\n",
    "# For large simulations, setting the max paging qubit count correctly prevents execution from hanging.\n",
    "os.environ[\"QRACK_MAX_PAGING_QB\"] = \"30\"\n",
    "# The separability threshold introduces a kind of non-physical noise,\n",
    "# but it's opportune for simulation  performance, due to increased Schmidt decomposition.\n",
    "os.environ[\"QRACK_QUNIT_SEPARABILITY_THRESHOLD\"] = \"0.0005\"\n",
    "# os.environ.pop('QRACK_QUNIT_SEPARABILITY_THRESHOLD', None)\n",
    "\n",
    "qsim = QrackSimulator(40)\n",
    "\n",
    "trialCount = 100\n",
    "failureCount = 0\n",
    "times = []\n",
    "for _ in range(trialCount):\n",
    "    try:\n",
    "        # 40 qubits to depth 10, we typically can't do on a consumer laptop, without noise.\n",
    "        times.append(random_circuit(qsim, 10, 0.001))\n",
    "    except:\n",
    "        failureCount = failureCount + 1\n",
    "print(\"Noisy simulation, success fraction: \" + str((trialCount - failureCount) / trialCount))                \n",
    "print(\"Noisy simulation, average seconds: \" + str(sum(times) / len(times)))"
   ]
  },
  {
   "cell_type": "markdown",
   "id": "7f8be386",
   "metadata": {},
   "source": [
    "We incur the overhead of simulating the noise channels themselves, to start. However, if we can increase Schmidt decomposition by reducing entanglement with noise, we might lower our memory footprint."
   ]
  }
 ],
 "metadata": {
  "kernelspec": {
   "display_name": "Python 3 (ipykernel)",
   "language": "python",
   "name": "python3"
  },
  "language_info": {
   "codemirror_mode": {
    "name": "ipython",
    "version": 3
   },
   "file_extension": ".py",
   "mimetype": "text/x-python",
   "name": "python",
   "nbconvert_exporter": "python",
   "pygments_lexer": "ipython3",
   "version": "3.10.4"
  }
 },
 "nbformat": 4,
 "nbformat_minor": 5
}
