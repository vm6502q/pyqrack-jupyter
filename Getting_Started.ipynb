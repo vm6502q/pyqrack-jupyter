{
 "cells": [
  {
   "cell_type": "markdown",
   "id": "tracked-cricket",
   "metadata": {},
   "source": [
    "# Getting started (with PyQrack)"
   ]
  },
  {
   "cell_type": "markdown",
   "id": "medium-express",
   "metadata": {},
   "source": [
    "You need the `pyqrack` package to run the notebooks in this repository. [`vm6502q/pyqrack`](https://github.com/vm6502q/pyqrack) is a pure Python wrapper on the [`vm6502q/qrack`](https://github.com/vm6502q/qrack) quantum computer simulation framework core library. The preferred method of installation is from source code, at those GitHub repositories, but a package with default build precompiled binaries is available on [pypi](https://pypi.org/project/pyqrack/0.2.0/)."
   ]
  },
  {
   "cell_type": "code",
   "execution_count": 1,
   "id": "stable-monthly",
   "metadata": {},
   "outputs": [],
   "source": [
    "# For example, if your Jupyter installation uses pip:\n",
    "# import sys\n",
    "# !{sys.executable} -m pip install pyqrack"
   ]
  },
  {
   "cell_type": "markdown",
   "id": "peaceful-vaccine",
   "metadata": {},
   "source": [
    "When you instantiate a PyQrack QrackSimulator class instance with at least 1 qubit, (depending upon your Qrack build options, if using a custom build,) Qrack will immediately build your OpenCL device programs, for GPU acceleration, only the first time you use Qrack in that instance of the Jupyter kernel context."
   ]
  },
  {
   "cell_type": "code",
   "execution_count": 2,
   "id": "individual-generator",
   "metadata": {},
   "outputs": [
    {
     "name": "stdout",
     "output_type": "stream",
     "text": [
      "Device #0, Loaded binary from: /home/iamu/.qrack/qrack_ocl_dev_Intel(R)_UHD_Graphics_[0x9bc4].ir\n",
      "Device #1, Loaded binary from: /home/iamu/.qrack/qrack_ocl_dev_NVIDIA_GeForce_RTX_3080_Laptop_GPU.ir\n"
     ]
    }
   ],
   "source": [
    "from pyqrack import QrackSimulator\n",
    "qsim = QrackSimulator(1)\n",
    "qsim.set_sdrp(1)"
   ]
  },
  {
   "cell_type": "markdown",
   "id": "divine-guide",
   "metadata": {},
   "source": [
    "The OpenCL programs will be compiled \"just-in-time\" in the above step, if they are not already compiled. This potentially time-consuming compilation step can be avoided by **pre-compiling** the OpenCL kernels with the `qrack_cl_precompile` executable, specific to your platform, included in the PyQrack package installation directory for convenience. This stores \"intermediate representation\" files in a hidden local user directory, like `~/.qrack` on Unix-based systems or `.qrack` subdirectory under your Windows **user home directory.**"
   ]
  },
  {
   "cell_type": "markdown",
   "id": "generic-parcel",
   "metadata": {},
   "source": [
    "**Pre-compilation will _not_ work on all systems.** (For example, the author of this notebook has a Mac/Intel device for which `qrack_cl_precompile` generates an `*.ir` file which contains only a program symbol name, pointing to a transient OpenCL program in general RAM, which cannot be used as a pre-compiled intermediate representation.)"
   ]
  },
  {
   "cell_type": "markdown",
   "id": "approved-publication",
   "metadata": {},
   "source": [
    "**If pre-compilation does not work,** or if it breaks the run-time behavior, or if you do not wish to use pre-compilation for any reason, then **delete the pre-compiled `*.ir` files for any or all devices.**"
   ]
  },
  {
   "cell_type": "markdown",
   "id": "judicial-improvement",
   "metadata": {},
   "source": [
    "**All vm6502q/qrack library environment variable options are also available in PyQrack.** See the [Qrack README](https://github.com/vm6502q/qrack) for details as to what these environment variables are. One important option is the ability to select a different default OpenCL device index, with `QRACK_OCL_DEFAULT_DEVICE=n`, for device number `n`.\n",
    "\n",
    "If you intend to use any Qrack environment variables, then these environment variables need to be set in the context of your Jupyter environment, though that can be achieved via the Python interpreter."
   ]
  },
  {
   "cell_type": "markdown",
   "id": "smaller-moore",
   "metadata": {},
   "source": [
    "**Happy Qracking!**"
   ]
  }
 ],
 "metadata": {
  "kernelspec": {
   "display_name": "Python 3 (ipykernel)",
   "language": "python",
   "name": "python3"
  },
  "language_info": {
   "codemirror_mode": {
    "name": "ipython",
    "version": 3
   },
   "file_extension": ".py",
   "mimetype": "text/x-python",
   "name": "python",
   "nbconvert_exporter": "python",
   "pygments_lexer": "ipython3",
   "version": "3.10.6"
  }
 },
 "nbformat": 4,
 "nbformat_minor": 5
}
