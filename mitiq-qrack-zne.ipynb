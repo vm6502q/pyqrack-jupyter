{
 "cells": [
  {
   "cell_type": "markdown",
   "id": "surrounded-suite",
   "metadata": {},
   "source": [
    "# Using Mitiq with Qiskit quantum programs\n",
    "\n",
    "This notebook shows how to use Mitiq to mitigate errors in Qiskit quantum programs.\n",
    "\n",
    "**This has been adapted to mitigate error from a 16-bit floating point build of Qrack, as a \"noisy simulator\".**\n",
    "\n",
    "Truncation error (to improve execution time) of simulation motivates a use case for error mitigation.\n",
    "\n",
    "The main sections are:\n",
    "* **Section 1: Computing quantum expectation values without error mitigation**\n",
    "* **Section 2: Applying zero-noise extrapolation (ZNE)**\n",
    "* ~~**Section 3: Applying probabilistic error cancellation (PEC)**~~\n",
    "\n",
    "Useful links:\n",
    "* Qiskit repository: https://github.com/Qiskit/qiskit\n",
    "* Qiskit documentation: https://qiskit.org/documentation/\n",
    "* IBMQ portal: https://www.ibm.com/quantum-computing/\n",
    "\n",
    "\n",
    "* Mitiq repository: https://github.com/unitaryfund/mitiq\n",
    "* Mitiq documentation: https://mitiq.readthedocs.io/en/stable/\n",
    "* Mitiq white paper: https://mitiq.readthedocs.io/en/stable/\n",
    "* Unitary Fund:  https://unitary.fund"
   ]
  },
  {
   "cell_type": "markdown",
   "id": "precise-holder",
   "metadata": {},
   "source": [
    "This notebook requires the Python packages: `qiskit-qrack-provider`, `qiskit`, `cirq` and `mitiq`. If necessary, uncomment the next code cell to install them."
   ]
  },
  {
   "cell_type": "code",
   "execution_count": 1,
   "id": "1893c653",
   "metadata": {},
   "outputs": [],
   "source": [
    "# !pip install qiskit-qrack-provider --quiet\n",
    "# !pip install qiskit --quiet\n",
    "# !pip install cirq --quiet\n",
    "# !pip install mitiq --quiet"
   ]
  },
  {
   "cell_type": "code",
   "execution_count": 2,
   "id": "c43ff597",
   "metadata": {},
   "outputs": [],
   "source": [
    "import warnings\n",
    "\n",
    "warnings.filterwarnings(action='ignore') # Optional warning filter"
   ]
  },
  {
   "cell_type": "markdown",
   "id": "8fc8ad7a",
   "metadata": {},
   "source": [
    "## Section 1: Computing quantum expectation values without error mitigation"
   ]
  },
  {
   "cell_type": "markdown",
   "id": "1a96f2bc",
   "metadata": {},
   "source": [
    "### Define the circuit of interest"
   ]
  },
  {
   "cell_type": "markdown",
   "id": "twelve-interview",
   "metadata": {},
   "source": [
    "We first define an arbitrary circuit of interest. We randomly initialize the qubit width with single qubit gates and then run a QFT algorithm."
   ]
  },
  {
   "cell_type": "code",
   "execution_count": 3,
   "id": "0c6c7565",
   "metadata": {},
   "outputs": [
    {
     "name": "stdout",
     "output_type": "stream",
     "text": [
      "Randomized benchmarking circuit with 82 gates generated.\n"
     ]
    }
   ],
   "source": [
    "import math\n",
    "import random\n",
    "import cirq\n",
    "from mitiq.interface import convert_to_mitiq, convert_from_mitiq\n",
    "\n",
    "n_qubits = 4\n",
    "\n",
    "qubits = cirq.LineQubit.range(n_qubits)\n",
    "circuit = cirq.Circuit()\n",
    "for i in range(n_qubits):\n",
    "    # Initialize with uniformly random single qubit gates, across full width.\n",
    "    circuit.append(cirq.rx(random.uniform(0, 2 * math.pi)).on(qubits[i]))\n",
    "    circuit.append(cirq.ry(random.uniform(0, 2 * math.pi)).on(qubits[i]))\n",
    "    circuit.append(cirq.rz(random.uniform(0, 2 * math.pi)).on(qubits[i]))\n",
    "circuit.append(cirq.qft(*qubits, without_reverse=True))\n",
    "\n",
    "circuit = convert_from_mitiq(convert_to_mitiq(circuit)[0], \"qiskit\")\n",
    "\n",
    "print(f\"Randomized benchmarking circuit with {len(circuit)} gates generated.\")\n",
    "# print(circuit)"
   ]
  },
  {
   "cell_type": "markdown",
   "id": "heard-pixel",
   "metadata": {},
   "source": [
    "### Execute the circuit with an noiseless backend"
   ]
  },
  {
   "cell_type": "code",
   "execution_count": 4,
   "id": "adverse-extent",
   "metadata": {},
   "outputs": [
    {
     "data": {
      "text/plain": [
       "0.00435"
      ]
     },
     "execution_count": 4,
     "metadata": {},
     "output_type": "execute_result"
    }
   ],
   "source": [
    "import qiskit\n",
    "\n",
    "# Set the number of shots \n",
    "shots = 10 ** 6\n",
    "\n",
    "# Initialize ideal backend (classical noiseless simulator)\n",
    "ideal_backend = qiskit.Aer.get_backend('aer_simulator')\n",
    "\n",
    "# Append measurements\n",
    "circuit_to_run = circuit.copy()\n",
    "circuit_to_run.measure_all()\n",
    "\n",
    "# Run and get count\n",
    "job = ideal_backend.run(circuit_to_run, shots=shots)\n",
    "counts = job.result().get_counts()\n",
    "\n",
    "key = max(counts)\n",
    "\n",
    "# Expectation value\n",
    "ideal_value = (counts[key] if key in counts else 0) / shots\n",
    "ideal_value"
   ]
  },
  {
   "cell_type": "markdown",
   "id": "original-central",
   "metadata": {},
   "source": [
    "### Execute the circuit with an noisy backend (without error mitigation)"
   ]
  },
  {
   "cell_type": "code",
   "execution_count": 5,
   "id": "technical-allah",
   "metadata": {},
   "outputs": [
    {
     "name": "stdout",
     "output_type": "stream",
     "text": [
      "Executing circuit with 82 gates using 1000000 shots.\n",
      "Device #0, Loaded binary from: /home/iamu/.qrack/qrack_ocl_dev_Intel(R)_UHD_Graphics_[0x9bc4].ir\n",
      "Device #1, Loaded binary from: /home/iamu/.qrack/qrack_ocl_dev_NVIDIA_GeForce_RTX_3080_Laptop_GPU.ir\n"
     ]
    },
    {
     "data": {
      "text/plain": [
       "0.004412"
      ]
     },
     "execution_count": 5,
     "metadata": {},
     "output_type": "execute_result"
    }
   ],
   "source": [
    "import os\n",
    "os.environ[\"QRACK_QUNIT_SEPARABILITY_THRESHOLD\"] = \"0.01\"\n",
    "os.environ[\"QRACK_MAX_ALLOC_MB\"] = \"22528,14336\"\n",
    "os.environ[\"QRACK_MAX_PAGING_QB\"] = \"30\"\n",
    "os.environ[\"QRACK_MAX_PAGE_QB\"] = \"27\"\n",
    "os.environ[\"QRACK_MAX_CPU_QB\"] = \"-1\"\n",
    "os.environ[\"QRACK_QUNITMULTI_DEVICES\"] = \"1\"\n",
    "\n",
    "from qiskit.providers.qrack import Qrack\n",
    "\n",
    "# Select a noisy backend\n",
    "noisy_backend = Qrack.get_backend('qasm_simulator')\n",
    "\n",
    "# Append measurements\n",
    "circuit_to_run = circuit.copy()\n",
    "circuit_to_run.measure_all()\n",
    "\n",
    "# Run and get counts\n",
    "print(f\"Executing circuit with {len(circuit)} gates using {shots} shots.\")\n",
    "job = noisy_backend.run(circuit_to_run, shots=shots)\n",
    "counts = job.result().get_counts()\n",
    "\n",
    "# Compute expectation value of the observable\n",
    "noisy_value = (counts[key] if key in counts else 0) / shots\n",
    "noisy_value"
   ]
  },
  {
   "cell_type": "markdown",
   "id": "8dbc201e",
   "metadata": {},
   "source": [
    "## Section 2: Applying zero-noise extrapolation (ZNE)"
   ]
  },
  {
   "cell_type": "markdown",
   "id": "5d23b58e",
   "metadata": {},
   "source": [
    "### Define an executor function"
   ]
  },
  {
   "cell_type": "markdown",
   "id": "f7ce55e6",
   "metadata": {},
   "source": [
    "We rewrite the last code cell of the previous section as a function that we call `executor`.\n",
    "This function takes as input a Qiskit circuit and returns the final noisy expectation value.\n",
    "\n",
    "Hint: It is usually better, but not necessary, to set `optimization_level=0` to avoid automatic circuit optimizations."
   ]
  },
  {
   "cell_type": "code",
   "execution_count": 6,
   "id": "72273e28",
   "metadata": {},
   "outputs": [],
   "source": [
    "def executor(circuit, shots=shots):\n",
    "    \"\"\"Executes the input circuit and returns the noisy expectation value <A>, where A=|00>00|.\n",
    "    \"\"\"\n",
    "    # Select a noisy backend\n",
    "    # noisy_backend = qiskit.IBMQ.load_account().get_backend(\"ibmq_lima\")\n",
    "    # noisy_backend = FakeLima() # Simulator with noise model similar to \"ibmq_lima\"\n",
    "    noisy_backend =  Qrack.get_backend('qasm_simulator')\n",
    "\n",
    "    # Append measurements\n",
    "    circuit_to_run = circuit.copy()\n",
    "    circuit_to_run.measure_all()\n",
    "\n",
    "    # Run and get counts\n",
    "    print(f\"Executing circuit with {len(circuit)} gates using {shots} shots.\")\n",
    "    job = noisy_backend.run(circuit_to_run, shots=shots)\n",
    "    counts = job.result().get_counts()\n",
    "\n",
    "    # Compute expectation value of the observable\n",
    "    noisy_value = (counts[key] if key in counts else 0) / shots\n",
    "    return noisy_value  "
   ]
  },
  {
   "cell_type": "markdown",
   "id": "e4f78900",
   "metadata": {},
   "source": [
    "### Run zero-noise extrapolation with Mitiq"
   ]
  },
  {
   "cell_type": "code",
   "execution_count": 7,
   "id": "5042f5d9",
   "metadata": {},
   "outputs": [
    {
     "name": "stdout",
     "output_type": "stream",
     "text": [
      "Executing circuit with 82 gates using 1000000 shots.\n",
      "Executing circuit with 190 gates using 1000000 shots.\n",
      "Executing circuit with 292 gates using 1000000 shots.\n",
      "Estimation error without Mitiq   : 6.200000000000042e-05\n",
      "Estimation error with Mitiq (ZNE): 1.4000000000001858e-05\n"
     ]
    }
   ],
   "source": [
    "from mitiq import zne\n",
    "\n",
    "zne_value = zne.execute_with_zne(circuit, executor)\n",
    "\n",
    "unmitigated_error = abs(ideal_value - noisy_value)\n",
    "zne_error = abs(ideal_value - zne_value)\n",
    "print(f\"Estimation error without Mitiq   : {unmitigated_error}\")\n",
    "print(f\"Estimation error with Mitiq (ZNE): {zne_error}\")"
   ]
  },
  {
   "cell_type": "code",
   "execution_count": 8,
   "id": "412229f4",
   "metadata": {},
   "outputs": [
    {
     "name": "stdout",
     "output_type": "stream",
     "text": [
      "ZNE reduced the estimation error by 77.4%.\n"
     ]
    }
   ],
   "source": [
    "print(f\"ZNE reduced the estimation error by {(unmitigated_error - zne_error) / unmitigated_error :.1%}.\")"
   ]
  },
  {
   "cell_type": "markdown",
   "id": "4d2ea58c",
   "metadata": {},
   "source": [
    "Below we show how to select different options for zero-noise extrapolation."
   ]
  },
  {
   "cell_type": "markdown",
   "id": "23c14d22",
   "metadata": {},
   "source": [
    "### Select a noise scaling method"
   ]
  },
  {
   "cell_type": "code",
   "execution_count": 9,
   "id": "fea50ad8",
   "metadata": {},
   "outputs": [],
   "source": [
    "# Choise a unitary folding function\n",
    "noise_scaling_function = zne.scaling.fold_global"
   ]
  },
  {
   "cell_type": "markdown",
   "id": "ae8f2f67",
   "metadata": {},
   "source": [
    "Let's check the effect of the noise scaling function on the input circuit:"
   ]
  },
  {
   "cell_type": "code",
   "execution_count": 10,
   "id": "c6f22aa5",
   "metadata": {},
   "outputs": [
    {
     "name": "stdout",
     "output_type": "stream",
     "text": [
      "The input circuit has 82 gates\n",
      "The scaled circuit has 188 gates\n"
     ]
    }
   ],
   "source": [
    "noise_scaled_circuit = noise_scaling_function(circuit, scale_factor=2)\n",
    "\n",
    "print(f\"The input circuit has {len(circuit)} gates\")\n",
    "print(f\"The scaled circuit has {len(noise_scaled_circuit)} gates\")"
   ]
  },
  {
   "cell_type": "markdown",
   "id": "9807fe86",
   "metadata": {},
   "source": [
    "### Select an extrapolation model"
   ]
  },
  {
   "cell_type": "code",
   "execution_count": 11,
   "id": "2ff3b526",
   "metadata": {},
   "outputs": [],
   "source": [
    "factory = zne.inference.RichardsonFactory(scale_factors = [1, 2, 3])\n",
    "\n",
    "# Examples:\n",
    "\n",
    "# Richardson extrapolation\n",
    "# factory = zne.inference.RichardsonFactory(scale_factors = [1, 2, 3])\n",
    "\n",
    "# Exponential extrapolation\n",
    "# factory = zne.inference.ExpFactory(scale_factors = [1, 2, 3], asymptote=0.25)\n",
    "\n",
    "# Exponential adaptive extrapolation\n",
    "# factory = zne.inference.AdaExpFactory(steps=10, asymptote=0.25)"
   ]
  },
  {
   "cell_type": "markdown",
   "id": "4e64880a",
   "metadata": {},
   "source": [
    "### Apply ZNE with non-default options"
   ]
  },
  {
   "cell_type": "code",
   "execution_count": 12,
   "id": "a35eb598",
   "metadata": {},
   "outputs": [
    {
     "name": "stdout",
     "output_type": "stream",
     "text": [
      "Executing circuit with 82 gates using 1000000 shots.\n",
      "Executing circuit with 188 gates using 1000000 shots.\n",
      "Executing circuit with 292 gates using 1000000 shots.\n",
      "Estimation error without Mitiq   : 6.200000000000042e-05\n",
      "Estimation error with Mitiq (ZNE): 0.00020299999999999745\n"
     ]
    }
   ],
   "source": [
    "zne_value = zne.execute_with_zne(circuit, executor, scale_noise=noise_scaling_function, factory=factory)\n",
    "\n",
    "unmitigated_error = abs(ideal_value - noisy_value)\n",
    "zne_error = abs(ideal_value - zne_value)\n",
    "print(f\"Estimation error without Mitiq   : {unmitigated_error}\")\n",
    "print(f\"Estimation error with Mitiq (ZNE): {zne_error}\")"
   ]
  },
  {
   "cell_type": "code",
   "execution_count": 13,
   "id": "f539d7a1",
   "metadata": {},
   "outputs": [
    {
     "name": "stdout",
     "output_type": "stream",
     "text": [
      "ZNE reduced the estimation error by -227.4%.\n"
     ]
    }
   ],
   "source": [
    "print(f\"ZNE reduced the estimation error by {(unmitigated_error - zne_error) / unmitigated_error :.1%}.\")"
   ]
  },
  {
   "cell_type": "markdown",
   "id": "7212d423",
   "metadata": {},
   "source": [
    "### Analize and visualize ZNE data "
   ]
  },
  {
   "cell_type": "code",
   "execution_count": 14,
   "id": "0d375386",
   "metadata": {},
   "outputs": [
    {
     "data": {
      "image/png": "[encoded data removed]",
      "text/plain": [
       "<Figure size 504x360 with 1 Axes>"
      ]
     },
     "metadata": {
      "needs_background": "light"
     },
     "output_type": "display_data"
    }
   ],
   "source": [
    "_ = factory.plot_fit()"
   ]
  },
  {
   "cell_type": "code",
   "execution_count": 15,
   "id": "b47ba6ea",
   "metadata": {},
   "outputs": [
    {
     "data": {
      "text/plain": [
       "array([0.004559, 0.004486, 0.004334])"
      ]
     },
     "execution_count": 15,
     "metadata": {},
     "output_type": "execute_result"
    }
   ],
   "source": [
    "factory.get_expectation_values()"
   ]
  },
  {
   "cell_type": "code",
   "execution_count": 16,
   "id": "4b9ff3ed",
   "metadata": {},
   "outputs": [
    {
     "data": {
      "text/plain": [
       "array([1, 2, 3])"
      ]
     },
     "execution_count": 16,
     "metadata": {},
     "output_type": "execute_result"
    }
   ],
   "source": [
    "factory.get_scale_factors()"
   ]
  },
  {
   "cell_type": "code",
   "execution_count": 17,
   "id": "09b98717",
   "metadata": {},
   "outputs": [
    {
     "data": {
      "text/plain": [
       "0.004552999999999997"
      ]
     },
     "execution_count": 17,
     "metadata": {},
     "output_type": "execute_result"
    }
   ],
   "source": [
    "factory.get_zero_noise_limit()"
   ]
  }
 ],
 "metadata": {
  "jupytext": {
   "text_representation": {
    "extension": ".myst",
    "format_name": "myst",
    "format_version": 0.13,
    "jupytext_version": "1.11.1"
   }
  },
  "kernelspec": {
   "display_name": "Python 3 (ipykernel)",
   "language": "python",
   "name": "python3"
  },
  "language_info": {
   "codemirror_mode": {
    "name": "ipython",
    "version": 3
   },
   "file_extension": ".py",
   "mimetype": "text/x-python",
   "name": "python",
   "nbconvert_exporter": "python",
   "pygments_lexer": "ipython3",
   "version": "3.10.6"
  }
 },
 "nbformat": 4,
 "nbformat_minor": 5
}
