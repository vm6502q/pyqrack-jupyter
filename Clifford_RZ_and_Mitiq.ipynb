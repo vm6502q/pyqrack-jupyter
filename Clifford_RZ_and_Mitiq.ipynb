{
 "cells": [
  {
   "cell_type": "markdown",
   "id": "composed-midwest",
   "metadata": {},
   "source": [
    "# Mitiq and Qrack approximate Clifford+RZ simulation"
   ]
  },
  {
   "cell_type": "markdown",
   "id": "social-scott",
   "metadata": {},
   "source": [
    "You need the `pyqrack` package to run this notebook. [`vm6502q/pyqrack`](https://github.com/vm6502q/pyqrack) is a pure Python wrapper on the [`vm6502q/qrack`](https://github.com/vm6502q/qrack) quantum computer simulation framework core library. The preferred method of installation is from source code, at those GitHub repositories, but a package with default build precompiled binaries is available on [pypi](https://pypi.org/project/pyqrack/0.2.0/)."
   ]
  },
  {
   "cell_type": "markdown",
   "id": "8a647098-dd6d-4ee0-806f-abc2f5cd37ab",
   "metadata": {},
   "source": [
    "You also need the `mitiq` package. `unitaryfund/mitiq` is a Python package for error mitigation. It relies intermediate representations of circuits like Qiskit's `QuantumCircuit` or Cirq's `Circuit`. In the example below, we use Qiskit's `QuantumCircuit`."
   ]
  },
  {
   "cell_type": "code",
   "execution_count": 1,
   "id": "cubic-thousand",
   "metadata": {},
   "outputs": [],
   "source": [
    "# For example, if your Jupyter installation uses pip:\n",
    "# import sys\n",
    "# !{sys.executable} -m pip install pyqrack\n",
    "\n",
    "import os\n",
    "import math\n",
    "import numpy as np\n",
    "import random\n",
    "\n",
    "from pyqrack import QrackSimulator, Pauli\n",
    "from mitiq import zne\n",
    "from qiskit.circuit.quantumcircuit import QuantumCircuit\n",
    "from mitiq.zne.scaling.folding import fold_global\n",
    "from mitiq.zne.inference import RichardsonFactory\n",
    "\n",
    "# Change these according to your OpenCL devices and system specifications:\n",
    "os.environ['QRACK_MAX_PAGE_QB']='27'\n",
    "os.environ['QRACK_MAX_ALLOC_MB']='15872'\n",
    "os.environ['QRACK_MAX_PAGING_QB']='30'\n",
    "os.environ['QRACK_MAX_CPU_QB']='-1'\n",
    "# os.environ['QRACK_QUNITMULTI_DEVICES']='1'\n",
    "# os.environ['QRACK_QPAGER_DEVICES']='1'"
   ]
  },
  {
   "cell_type": "markdown",
   "id": "b21eafa6-a4bd-4166-b615-4b7863ce6e31",
   "metadata": {},
   "source": [
    "## Why mitigate Qrack simulation outputs?"
   ]
  },
  {
   "cell_type": "markdown",
   "id": "c695f42b-9d6a-4479-8917-fbeed01fb0f0",
   "metadata": {},
   "source": [
    "Unitary Fund's \"Qrack\" quantum computer simulator framework simulates in the \"ideal,\" by default, allowing users to simulate measuring \"physically observable\" expectation values with no systematic approximation techniques involved. However, we know that \"ideal\" quantum computer simulation can scale exponentially in classical computer resource usage. Sometimes, it's acceptable that our results are instead only _approximate_, so long as this allows us to reduce simulation resource footprint. To this end, Qrack offers several approximation techniques that sacrifice \"fidelity\" to recover a smaller peak simulation resource footprint, including \"Schmidt decomposition rounding parameter\" (\"SDRP\") and \"near-Clifford\" quantum circuit approximation techhniques. (We will focus on \"near-Clifford\" techniques that approximate large circuits with a \"reduced density matrix,\" in this example.) Depending on available system resources, these approximation techniques might lead to a maximum achievable fidelity that is signficantly less than 100%, while employing Mitiq in addition, to mitigate the reduced-fidelity results, can trade off additional execution time, without significant additional memory footprint, to return higher fidelity results from approximate Qrack simulation!"
   ]
  },
  {
   "cell_type": "markdown",
   "id": "3cd40498-fcbf-48c0-9ab0-203c76dd6a12",
   "metadata": {},
   "source": [
    "## The Qrack executor"
   ]
  },
  {
   "cell_type": "markdown",
   "id": "5dd34ca0-966a-4474-a6ac-9378a491e9ee",
   "metadata": {},
   "source": [
    "As with every Mitiq executor, we need a representation of our quantum circuit in a language or API that Mitiq knows how to interpret and is also compatible with our back-end execution target. Happily, Qrack provides \"plugins\" for both Qiskit and Cirq, circuits from either of which can be understood and used by both Mitiq and Qrack! (Click the links below to see the \"plugin\" repositories, and both are available for download via `pip`.)\n",
    "- [Qiskit Qrack Provider](https://github.com/vm6502q/qiskit-qrack-provider)\n",
    "- [Cirq Qrack Plugin](https://github.com/vm6502q/cirq-qrack)"
   ]
  },
  {
   "cell_type": "markdown",
   "id": "9ea70936-dc73-4463-ab9d-1faee5579e1b",
   "metadata": {},
   "source": [
    "**In fact, Qrack can \"natively\" run Qiskit circuits without reliance on any \"provider\" system at all!** This allows full, general use of the Qrack (and PyQrack) API, without any limitations imposed by the design of other frameworks for standardizing interchangeable back ends, while providing the full, familiar expressiveness and compatibility of alternative circuit definition APIs. Given the comparative difficulty of supporting an interface on non-default approximation techniques from Qrack in other frameworks designed for hardware (and different simulators), the easiest and most typical way to mitigate approximate Qrack simulation might be through Qrack's \"native\" parsing capabilities for Qiskit circuits."
   ]
  },
  {
   "cell_type": "markdown",
   "id": "6ac58828-72c6-49b8-bb18-9713258f6740",
   "metadata": {},
   "source": [
    "Our first task is then to create an executor for Mitiq that accepts a Qiskit circuit and then simulates it and outputs an expectation value with Qrack. In this case, we will directly mitigate the fidelity of a \"random circuit sampling\" (\"RCS\") \"mirror\" circuit, which returns to exactly its original starting initialization by the end of the circuit \"mirror\" in the case of ideal simulation. (This way, for this example, we can exactly know the \"ideal\" result of our circuit without resort to costly and time-consuming ideal simulation.)"
   ]
  },
  {
   "cell_type": "markdown",
   "id": "50f0486e-e65d-40fe-8908-4c67e3ac21e7",
   "metadata": {},
   "source": [
    "We could simply calculate and directly mitigate the fidelity (which can be exactly known in general from querying the end-result probability of a starting-state eigenstate). However, the developers of Qrack suggest in general that any \"regression\" or \"extrapolation\" on a _bounded_ expectation value interval be transformed to an _unbounded_ interval extrapolation through the use of \"[logit()](https://en.wikipedia.org/wiki/Logit)\" and \"[expit()](https://en.wikipedia.org/wiki/Logistic_function)\" functions. (This way, the assumptions of \"least squares regression\" can be self-consistently satisfied without \"heteroscedasticity\" due to \"ceiling\" and \"floor\" effects, which was a primary motiviation for the historical introduction of the \"logit()\" function in regression modeling, in the first place.)"
   ]
  },
  {
   "cell_type": "markdown",
   "id": "33d86841-634d-45c3-85aa-fec2a9366a12",
   "metadata": {},
   "source": [
    "These are just our \"`logit()`\" and \"`expit()`\" functions:"
   ]
  },
  {
   "cell_type": "code",
   "execution_count": 2,
   "id": "9c6bace7-61a5-49d3-9a38-c3c9bdd58529",
   "metadata": {},
   "outputs": [],
   "source": [
    "def logit(x):\n",
    "    # Theoretically, these limit points are \"infinite,\"\n",
    "    # but precision caps out between 36 and 37:\n",
    "    if x > (1 - 6e-17):\n",
    "        return 36\n",
    "    # For the negative limit, the precisions caps out\n",
    "    # between -37 and -38\n",
    "    elif x < 1e-17:\n",
    "        return -37\n",
    "    return max(-37, min(36, np.log(x / (1 - x))))\n",
    "\n",
    "def expit(x):\n",
    "    # Theoretically, these limit points are \"infinite,\"\n",
    "    # but precision caps out between 36 and 37:\n",
    "    if x >= 37:\n",
    "        return 1.0\n",
    "    # For the negative limit, the precisions caps out\n",
    "    # between -37 and -38\n",
    "    elif x <= -38:\n",
    "        return 0.0\n",
    "    return 1 / (1 + np.exp(-x))"
   ]
  },
  {
   "cell_type": "markdown",
   "id": "4df5df0a-ab19-42f7-8b64-03bc724e19d3",
   "metadata": {},
   "source": [
    "Putting it all together, a typical Qrack executor, for Mitiq, to calculate the (`logit()`) fidelity of a mirror circuit, can look like this:"
   ]
  },
  {
   "cell_type": "code",
   "execution_count": 3,
   "id": "ab200420-d7da-4977-89b1-021e707d4faf",
   "metadata": {},
   "outputs": [],
   "source": [
    "def execute(circuit):\n",
    "    \"\"\"Returns the mirror circuit expectation value for unsigned integer overall bit string.\"\"\"\n",
    "\n",
    "    circ = circuit.compose(circuit.inverse())\n",
    "\n",
    "    # This is a typical Qrack \"layer stack\" for near-Clifford techniques.\n",
    "    qsim = QrackSimulator(circ.width(), isTensorNetwork=False, isSchmidtDecompose=False, isOpenCL=False)\n",
    "\n",
    "    qsim.run_qiskit_circuit(circ, 0)\n",
    "\n",
    "    qubits = list(range(width))\n",
    "    perm = [False] * width\n",
    "\n",
    "    # This is fidelity of the mirror circuit.\n",
    "    # (We average \"optimistic\" and \"pessimistic\" cases of \"rounding\" optimizations.)\n",
    "    p = (qsim.prob_perm_rdm(qubits, perm, r=True) + qsim.prob_perm_rdm(qubits, perm, r=False)) / 2\n",
    "\n",
    "    # So as not to exceed floor at 0.0 and ceiling at 1.0, (assuming 0 < p < 1,)\n",
    "    # we mitigate its logit function value (https://en.wikipedia.org/wiki/Logit)\n",
    "    return logit(p)"
   ]
  },
  {
   "cell_type": "markdown",
   "id": "5cc44d62-901c-473f-a76e-98e585bd969b",
   "metadata": {},
   "source": [
    "## Applying to a mirror RCS case"
   ]
  },
  {
   "cell_type": "markdown",
   "id": "f032fe68-820e-4619-89d5-262e67f0fc39",
   "metadata": {},
   "source": [
    "Finally, if we follow an RCS protocol to generate a random circuit trial, we can form its overall mirror, then measure and mitigate the overall fidelity."
   ]
  },
  {
   "cell_type": "code",
   "execution_count": 4,
   "id": "e342bcef",
   "metadata": {},
   "outputs": [],
   "source": [
    "# Circuit parameters:\n",
    "\n",
    "# Logical qubit count:\n",
    "width = 36\n",
    "# Circuit layer depth (x2 for mirror):\n",
    "depth = 18\n",
    "# Number of non-Clifford phase gates (x2 for mirror)\n",
    "max_magic = 9"
   ]
  },
  {
   "cell_type": "code",
   "execution_count": 5,
   "id": "59c4e106-4dcb-4c60-938f-a93da5f4a487",
   "metadata": {},
   "outputs": [],
   "source": [
    "def cx(circ, q1, q2):\n",
    "    circ.cx(q1, q2)\n",
    "\n",
    "def cy(circ, q1, q2):\n",
    "    circ.cy(q1, q2)\n",
    "\n",
    "def cz(circ, q1, q2):\n",
    "    circ.cz(q1, q2)\n",
    "\n",
    "def acx(circ, q1, q2):\n",
    "    circ.x(q1)\n",
    "    circ.cx(q1, q2)\n",
    "    circ.x(q1)\n",
    "\n",
    "def acy(circ, q1, q2):\n",
    "    circ.x(q1)\n",
    "    circ.cy(q1, q2)\n",
    "\n",
    "def acz(circ, q1, q2):\n",
    "    circ.x(q1)\n",
    "    circ.cz(q1, q2)\n",
    "    circ.x(q1)\n",
    "\n",
    "def swap(circ, q1, q2):\n",
    "    circ.swap(q1, q2)\n",
    "\n",
    "def nswap(circ, q1, q2):\n",
    "    circ.cz(q1, q2)\n",
    "    circ.swap(q1, q2)\n",
    "    circ.cz(q1, q2)\n",
    "\n",
    "def pswap(circ, q1, q2):\n",
    "    circ.cz(q1, q2)\n",
    "    circ.swap(q1, q2)   \n",
    "\n",
    "def mswap(circ, q1, q2):\n",
    "    circ.swap(q1, q2)\n",
    "    circ.cz(q1, q2)\n",
    "\n",
    "def iswap(circ, q1, q2):\n",
    "    circ.swap(q1, q2)\n",
    "    circ.cz(q1, q2)\n",
    "    circ.s(q1)\n",
    "    circ.s(q2)\n",
    "\n",
    "def iiswap(circ, q1, q2):\n",
    "    circ.sdg(q2)\n",
    "    circ.sdg(q1)\n",
    "    circ.cz(q1, q2)\n",
    "    circ.swap(q1, q2)\n",
    "\n",
    "def random_circuit(width, depth, magic):\n",
    "    circuit = QuantumCircuit(width)\n",
    "\n",
    "    magic_fraction = 3 * width * depth / max_magic\n",
    "    \n",
    "    # Nearest-neighbor couplers:\n",
    "    gateSequence = [ 0, 3, 2, 1, 2, 1, 0, 3 ]\n",
    "    row_len = math.ceil(math.sqrt(width))\n",
    "    two_bit_gates = swap, pswap, mswap, nswap, iswap, iiswap, cx, cy, cz, acx, acy, acz\n",
    "\n",
    "    for i in range(depth):\n",
    "        # Single bit gates\n",
    "        for j in range(width):\n",
    "            for _ in range(3):\n",
    "                # We're trying to cover 3 Pauli axes\n",
    "                # with Euler angle axes x-z-x. \n",
    "                circuit.h(j)\n",
    "\n",
    "                # We can trace out a quarter rotations around the Bloch sphere with stabilizer.\n",
    "                rnd = random.randint(0, 3)\n",
    "                if rnd & 1:\n",
    "                    circuit.s(j)\n",
    "                if rnd & 2:\n",
    "                    circuit.z(j)\n",
    "\n",
    "                # For each axis, there is a chance of \"magic.\"\n",
    "                if (magic > 0) and ((magic_fraction * random.random()) < 1):\n",
    "                    angle = random.uniform(0, math.pi / 2)\n",
    "                    circuit.rz(angle, j)\n",
    "                    magic -= 1\n",
    "\n",
    "        # Nearest-neighbor couplers:\n",
    "        ############################\n",
    "        gate = gateSequence.pop(0)\n",
    "        gateSequence.append(gate)\n",
    "        for row in range(1, row_len, 2):\n",
    "            for col in range(row_len):\n",
    "                temp_row = row\n",
    "                temp_col = col\n",
    "                temp_row = temp_row + (1 if (gate & 2) else -1);\n",
    "                temp_col = temp_col + (1 if (gate & 1) else 0)\n",
    "\n",
    "                if (temp_row < 0) or (temp_col < 0) or (temp_row >= row_len) or (temp_col >= row_len):\n",
    "                    continue\n",
    "\n",
    "                b1 = row * row_len + col\n",
    "                b2 = temp_row * row_len + temp_col\n",
    "\n",
    "                if (b1 >= width) or (b2 >= width):\n",
    "                    continue\n",
    "\n",
    "                g = random.choice(two_bit_gates)\n",
    "                g(circuit, b1, b2)\n",
    "    \n",
    "    return circuit"
   ]
  },
  {
   "cell_type": "markdown",
   "id": "8c935d73-868e-4fc1-b75d-aff5f90ca566",
   "metadata": {},
   "source": [
    "Run this next cell several times to produce a noisy value, (optionally tuning the width, depth, and magic settings above,) and run the last cell to mitigate with Mitiq."
   ]
  },
  {
   "cell_type": "code",
   "execution_count": 6,
   "id": "5925d72b-2848-467b-a70e-289f6ca02905",
   "metadata": {},
   "outputs": [
    {
     "name": "stdout",
     "output_type": "stream",
     "text": [
      "Raw gate count:  4428\n",
      "Raw fidelity:  0.03320312500000001\n",
      "CPU times: user 970 ms, sys: 412 ms, total: 1.38 s\n",
      "Wall time: 1.4 s\n"
     ]
    }
   ],
   "source": [
    "%%time\n",
    "\n",
    "circ = random_circuit(width, depth, max_magic)\n",
    "print(\"Raw gate count: \", sum(dict(circ.count_ops()).values()))\n",
    "\n",
    "qsim = QrackSimulator(width, isTensorNetwork=False, isSchmidtDecompose=False, isOpenCL=False)\n",
    "raw_fidelity = expit(execute(circ))\n",
    "\n",
    "print(\"Raw fidelity: \", raw_fidelity)"
   ]
  },
  {
   "cell_type": "markdown",
   "id": "52308643-4b33-4500-a2f6-01b27df0be34",
   "metadata": {},
   "source": [
    "For Qrack near-Clifford approximation techniques, it is only non-Clifford gates that ultimately introduce error and reduce fidelity. However, this does not happen \"locally\" immediately upon application of the gate, but rather at the end of the circuit when an expectation value or measurements are requested as output. Hence, with zero-noise extrapolation, we opt to use the **global folding** technique of noise scaling, as local folding of non-Clifford gates will produce no overall effect on Qrack fidelity. (Overall, mitigation of Qrack can be \"hit-or-miss,\" but then it can be a \"hit.\")"
   ]
  },
  {
   "cell_type": "code",
   "execution_count": 7,
   "id": "b0504807-3e1b-4e43-ba10-9f6ac4e14026",
   "metadata": {},
   "outputs": [
    {
     "name": "stdout",
     "output_type": "stream",
     "text": [
      "Raw fidelity:  0.03320312500000001\n",
      "Fidelity with ZNE:  0.03320312500000291\n",
      "Width/depth/magic (before circuit mirror):  36 / 18 / 9\n",
      "CPU times: user 25.7 s, sys: 12.1 s, total: 37.7 s\n",
      "Wall time: 38 s\n"
     ]
    }
   ],
   "source": [
    "%%time\n",
    "\n",
    "scale_count = 5\n",
    "max_scale = 3\n",
    "factory = RichardsonFactory(scale_factors=[(1 + (max_scale - 1) * x / scale_count) for x in range(0, scale_count)])\n",
    "mitigated_fidelity = expit(zne.execute_with_zne(circ, execute, factory = factory, scale_noise = fold_global))\n",
    "\n",
    "print(\"Raw fidelity: \", raw_fidelity)\n",
    "print(\"Fidelity with ZNE: \", mitigated_fidelity)\n",
    "print(\"Width/depth/magic (before circuit mirror): \", width, \"/\", depth, \"/\", max_magic)"
   ]
  }
 ],
 "metadata": {
  "kernelspec": {
   "display_name": "Python 3 (ipykernel)",
   "language": "python",
   "name": "python3"
  },
  "language_info": {
   "codemirror_mode": {
    "name": "ipython",
    "version": 3
   },
   "file_extension": ".py",
   "mimetype": "text/x-python",
   "name": "python",
   "nbconvert_exporter": "python",
   "pygments_lexer": "ipython3",
   "version": "3.10.12"
  }
 },
 "nbformat": 4,
 "nbformat_minor": 5
}
