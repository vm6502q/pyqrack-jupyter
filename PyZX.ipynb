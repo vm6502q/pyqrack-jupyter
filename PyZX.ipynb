{
 "cells": [
  {
   "cell_type": "markdown",
   "id": "figured-prefix",
   "metadata": {},
   "source": [
    "# PyZX interoperability"
   ]
  },
  {
   "cell_type": "markdown",
   "id": "individual-allergy",
   "metadata": {},
   "source": [
    "We can use [PyZX](https://github.com/Quantomatic/pyzx.git) to load intermediate representations like QASM to simulate with PyQrack, as well as to optimize circuits with the ZX-calculus before simulating them."
   ]
  },
  {
   "cell_type": "code",
   "execution_count": 1,
   "id": "beautiful-cancer",
   "metadata": {},
   "outputs": [],
   "source": [
    "import sys; sys.path.insert(0,'..')\n",
    "import os\n",
    "from collections import Counter\n",
    "import pyzx as zx\n",
    "from pyqrack import QrackSimulator"
   ]
  },
  {
   "cell_type": "markdown",
   "id": "adult-donna",
   "metadata": {},
   "source": [
    "If the file has the expected extension and other format properties, we should be able to load any intermediate representation that PyZX knows with `pyzx.Circuit.load()`."
   ]
  },
  {
   "cell_type": "code",
   "execution_count": 2,
   "id": "motivated-traveler",
   "metadata": {},
   "outputs": [],
   "source": [
    "fname = os.path.join('qasm','pyzx_demo.qasm')\n",
    "circ = zx.Circuit.load(fname)"
   ]
  },
  {
   "cell_type": "markdown",
   "id": "valued-sperm",
   "metadata": {},
   "source": [
    "Before optimizing the circuit, we need to convert it to a graph representation."
   ]
  },
  {
   "cell_type": "code",
   "execution_count": 3,
   "id": "excellent-split",
   "metadata": {},
   "outputs": [
    {
     "data": {
      "text/plain": [
       "Graph(7 vertices, 6 edges)"
      ]
     },
     "execution_count": 3,
     "metadata": {},
     "output_type": "execute_result"
    }
   ],
   "source": [
    "g = circ.to_graph()\n",
    "g"
   ]
  },
  {
   "cell_type": "markdown",
   "id": "pleased-timeline",
   "metadata": {},
   "source": [
    "Then, we can optimize the graph."
   ]
  },
  {
   "cell_type": "code",
   "execution_count": 4,
   "id": "thrown-owner",
   "metadata": {},
   "outputs": [],
   "source": [
    "zx.simplify.full_reduce(g)\n",
    "circ = zx.extract_circuit(g)"
   ]
  },
  {
   "cell_type": "markdown",
   "id": "spectacular-support",
   "metadata": {},
   "source": [
    "Once the graph is loaded and optionally optimized, we can feed it directly to a QrackSimulator for immediate simulation"
   ]
  },
  {
   "cell_type": "code",
   "execution_count": 5,
   "id": "painful-lightning",
   "metadata": {
    "scrolled": false
   },
   "outputs": [
    {
     "name": "stdout",
     "output_type": "stream",
     "text": [
      "Device #0, Loaded binary from: /home/iamu/.qrack/qrack_ocl_dev_Intel(R)_Gen9_HD_Graphics_NEO.ir\n",
      "Device #1, Loaded binary from: /home/iamu/.qrack/qrack_ocl_dev_NVIDIA_GeForce_RTX_3080_Laptop_GPU.ir\n"
     ]
    },
    {
     "data": {
      "text/plain": [
       "Counter({3: 32, 0: 32})"
      ]
     },
     "execution_count": 5,
     "metadata": {},
     "output_type": "execute_result"
    }
   ],
   "source": [
    "sim = QrackSimulator(pyzxCircuit=circ)\n",
    "Counter(sim.measure_shots(range(circ.qubits), 64))"
   ]
  },
  {
   "cell_type": "markdown",
   "id": "considerable-concord",
   "metadata": {},
   "source": [
    "Optionally, to run unitary ZX-calculus graph subroutines as parts of a larger program, we can use `QrackSimulator.run_pyzx_gates()` instead of the special constructor."
   ]
  },
  {
   "cell_type": "code",
   "execution_count": 6,
   "id": "married-spyware",
   "metadata": {},
   "outputs": [
    {
     "data": {
      "text/plain": [
       "Counter({0: 27, 3: 37})"
      ]
     },
     "execution_count": 6,
     "metadata": {},
     "output_type": "execute_result"
    }
   ],
   "source": [
    "sim = QrackSimulator(qubitCount=circ.qubits)\n",
    "sim.run_pyzx_gates(circ.gates)\n",
    "Counter(sim.measure_shots(range(circ.qubits), 64))"
   ]
  }
 ],
 "metadata": {
  "kernelspec": {
   "display_name": "Python 3 (ipykernel)",
   "language": "python",
   "name": "python3"
  },
  "language_info": {
   "codemirror_mode": {
    "name": "ipython",
    "version": 3
   },
   "file_extension": ".py",
   "mimetype": "text/x-python",
   "name": "python",
   "nbconvert_exporter": "python",
   "pygments_lexer": "ipython3",
   "version": "3.10.6"
  }
 },
 "nbformat": 4,
 "nbformat_minor": 5
}
